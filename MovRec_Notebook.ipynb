{
 "cells": [
  {
   "attachments": {},
   "cell_type": "markdown",
   "metadata": {},
   "source": [
    "### Installing required modules"
   ]
  },
  {
   "cell_type": "code",
   "execution_count": 7,
   "metadata": {},
   "outputs": [],
   "source": [
    "import pandas as pd\n",
    "import warnings\n",
    "warnings.filterwarnings(\"ignore\")\n",
    "pd.set_option('display.max_colwidth', 0)\n",
    "#1111try\n"
   ]
  },
  {
   "cell_type": "code",
   "execution_count": 8,
   "metadata": {},
   "outputs": [],
   "source": [
    "# movies_df=pd.read_csv('movies_metadata.csv/movies_metadata.csv',low_memory=False)\n",
    "\n",
    "#directly reading csv files from S3 bucket\n",
    "movies_df=pd.read_csv('https://firsts3buckets3.s3.amazonaws.com/movies_metadata.csv/movies_metadata.csv',low_memory=False)"
   ]
  },
  {
   "cell_type": "code",
   "execution_count": 9,
   "metadata": {},
   "outputs": [
    {
     "data": {
      "text/plain": [
       "(45466, 24)"
      ]
     },
     "execution_count": 9,
     "metadata": {},
     "output_type": "execute_result"
    }
   ],
   "source": [
    "movies_df.shape"
   ]
  },
  {
   "cell_type": "code",
   "execution_count": 10,
   "metadata": {},
   "outputs": [
    {
     "name": "stdout",
     "output_type": "stream",
     "text": [
      "<class 'pandas.core.frame.DataFrame'>\n",
      "RangeIndex: 45466 entries, 0 to 45465\n",
      "Data columns (total 24 columns):\n",
      " #   Column                 Non-Null Count  Dtype  \n",
      "---  ------                 --------------  -----  \n",
      " 0   adult                  45466 non-null  object \n",
      " 1   belongs_to_collection  4494 non-null   object \n",
      " 2   budget                 45466 non-null  object \n",
      " 3   genres                 45466 non-null  object \n",
      " 4   homepage               7782 non-null   object \n",
      " 5   id                     45466 non-null  object \n",
      " 6   imdb_id                45449 non-null  object \n",
      " 7   original_language      45455 non-null  object \n",
      " 8   original_title         45466 non-null  object \n",
      " 9   overview               44512 non-null  object \n",
      " 10  popularity             45461 non-null  object \n",
      " 11  poster_path            45080 non-null  object \n",
      " 12  production_companies   45463 non-null  object \n",
      " 13  production_countries   45463 non-null  object \n",
      " 14  release_date           45379 non-null  object \n",
      " 15  revenue                45460 non-null  float64\n",
      " 16  runtime                45203 non-null  float64\n",
      " 17  spoken_languages       45460 non-null  object \n",
      " 18  status                 45379 non-null  object \n",
      " 19  tagline                20412 non-null  object \n",
      " 20  title                  45460 non-null  object \n",
      " 21  video                  45460 non-null  object \n",
      " 22  vote_average           45460 non-null  float64\n",
      " 23  vote_count             45460 non-null  float64\n",
      "dtypes: float64(4), object(20)\n",
      "memory usage: 8.3+ MB\n"
     ]
    }
   ],
   "source": [
    "movies_df.info()"
   ]
  },
  {
   "cell_type": "code",
   "execution_count": 11,
   "metadata": {},
   "outputs": [
    {
     "data": {
      "text/html": [
       "<div>\n",
       "<style scoped>\n",
       "    .dataframe tbody tr th:only-of-type {\n",
       "        vertical-align: middle;\n",
       "    }\n",
       "\n",
       "    .dataframe tbody tr th {\n",
       "        vertical-align: top;\n",
       "    }\n",
       "\n",
       "    .dataframe thead th {\n",
       "        text-align: right;\n",
       "    }\n",
       "</style>\n",
       "<table border=\"1\" class=\"dataframe\">\n",
       "  <thead>\n",
       "    <tr style=\"text-align: right;\">\n",
       "      <th></th>\n",
       "      <th>adult</th>\n",
       "      <th>belongs_to_collection</th>\n",
       "      <th>budget</th>\n",
       "      <th>genres</th>\n",
       "      <th>homepage</th>\n",
       "      <th>id</th>\n",
       "      <th>imdb_id</th>\n",
       "      <th>original_language</th>\n",
       "      <th>original_title</th>\n",
       "      <th>overview</th>\n",
       "      <th>...</th>\n",
       "      <th>release_date</th>\n",
       "      <th>revenue</th>\n",
       "      <th>runtime</th>\n",
       "      <th>spoken_languages</th>\n",
       "      <th>status</th>\n",
       "      <th>tagline</th>\n",
       "      <th>title</th>\n",
       "      <th>video</th>\n",
       "      <th>vote_average</th>\n",
       "      <th>vote_count</th>\n",
       "    </tr>\n",
       "  </thead>\n",
       "  <tbody>\n",
       "    <tr>\n",
       "      <th>0</th>\n",
       "      <td>False</td>\n",
       "      <td>{'id': 10194, 'name': 'Toy Story Collection', 'poster_path': '/7G9915LfUQ2lVfwMEEhDsn3kT4B.jpg', 'backdrop_path': '/9FBwqcd9IRruEDUrTdcaafOMKUq.jpg'}</td>\n",
       "      <td>30000000</td>\n",
       "      <td>[{'id': 16, 'name': 'Animation'}, {'id': 35, 'name': 'Comedy'}, {'id': 10751, 'name': 'Family'}]</td>\n",
       "      <td>http://toystory.disney.com/toy-story</td>\n",
       "      <td>862</td>\n",
       "      <td>tt0114709</td>\n",
       "      <td>en</td>\n",
       "      <td>Toy Story</td>\n",
       "      <td>Led by Woody, Andy's toys live happily in his room until Andy's birthday brings Buzz Lightyear onto the scene. Afraid of losing his place in Andy's heart, Woody plots against Buzz. But when circumstances separate Buzz and Woody from their owner, the duo eventually learns to put aside their differences.</td>\n",
       "      <td>...</td>\n",
       "      <td>1995-10-30</td>\n",
       "      <td>373554033.0</td>\n",
       "      <td>81.0</td>\n",
       "      <td>[{'iso_639_1': 'en', 'name': 'English'}]</td>\n",
       "      <td>Released</td>\n",
       "      <td>NaN</td>\n",
       "      <td>Toy Story</td>\n",
       "      <td>False</td>\n",
       "      <td>7.7</td>\n",
       "      <td>5415.0</td>\n",
       "    </tr>\n",
       "  </tbody>\n",
       "</table>\n",
       "<p>1 rows × 24 columns</p>\n",
       "</div>"
      ],
      "text/plain": [
       "   adult  \\\n",
       "0  False   \n",
       "\n",
       "                                                                                                                                   belongs_to_collection  \\\n",
       "0  {'id': 10194, 'name': 'Toy Story Collection', 'poster_path': '/7G9915LfUQ2lVfwMEEhDsn3kT4B.jpg', 'backdrop_path': '/9FBwqcd9IRruEDUrTdcaafOMKUq.jpg'}   \n",
       "\n",
       "     budget  \\\n",
       "0  30000000   \n",
       "\n",
       "                                                                                             genres  \\\n",
       "0  [{'id': 16, 'name': 'Animation'}, {'id': 35, 'name': 'Comedy'}, {'id': 10751, 'name': 'Family'}]   \n",
       "\n",
       "                               homepage   id    imdb_id original_language  \\\n",
       "0  http://toystory.disney.com/toy-story  862  tt0114709  en                 \n",
       "\n",
       "  original_title  \\\n",
       "0  Toy Story       \n",
       "\n",
       "                                                                                                                                                                                                                                                                                                          overview  \\\n",
       "0  Led by Woody, Andy's toys live happily in his room until Andy's birthday brings Buzz Lightyear onto the scene. Afraid of losing his place in Andy's heart, Woody plots against Buzz. But when circumstances separate Buzz and Woody from their owner, the duo eventually learns to put aside their differences.   \n",
       "\n",
       "   ... release_date      revenue runtime  \\\n",
       "0  ...  1995-10-30   373554033.0  81.0     \n",
       "\n",
       "                           spoken_languages    status  tagline      title  \\\n",
       "0  [{'iso_639_1': 'en', 'name': 'English'}]  Released  NaN      Toy Story   \n",
       "\n",
       "   video vote_average vote_count  \n",
       "0  False  7.7          5415.0     \n",
       "\n",
       "[1 rows x 24 columns]"
      ]
     },
     "execution_count": 11,
     "metadata": {},
     "output_type": "execute_result"
    }
   ],
   "source": [
    "movies_df.head(1)"
   ]
  },
  {
   "cell_type": "code",
   "execution_count": 12,
   "metadata": {},
   "outputs": [
    {
     "data": {
      "text/plain": [
       "Int64Index([19730, 29503, 35587], dtype='int64')"
      ]
     },
     "execution_count": 12,
     "metadata": {},
     "output_type": "execute_result"
    }
   ],
   "source": [
    "ind=movies_df[movies_df['id'].isin(['1997-08-20','2012-09-29','2014-01-01'])].index\n",
    "ind\n"
   ]
  },
  {
   "cell_type": "code",
   "execution_count": 13,
   "metadata": {},
   "outputs": [
    {
     "data": {
      "text/plain": [
       "(45466, 24)"
      ]
     },
     "execution_count": 13,
     "metadata": {},
     "output_type": "execute_result"
    }
   ],
   "source": [
    "movies_df.shape"
   ]
  },
  {
   "attachments": {},
   "cell_type": "markdown",
   "metadata": {},
   "source": [
    "dropping the unwnated movie id, as they are actual ids\n"
   ]
  },
  {
   "cell_type": "code",
   "execution_count": 14,
   "metadata": {},
   "outputs": [],
   "source": [
    "movies_df.drop(ind,inplace=True)\n",
    "# movies_df[movies_df['id']=='1997-08-20'].index"
   ]
  },
  {
   "cell_type": "code",
   "execution_count": 15,
   "metadata": {},
   "outputs": [],
   "source": [
    "movies_df=movies_df.astype({'id':'int64'})"
   ]
  },
  {
   "cell_type": "code",
   "execution_count": 16,
   "metadata": {},
   "outputs": [
    {
     "data": {
      "text/plain": [
       "(45463, 24)"
      ]
     },
     "execution_count": 16,
     "metadata": {},
     "output_type": "execute_result"
    }
   ],
   "source": [
    "movies_df.shape"
   ]
  },
  {
   "cell_type": "code",
   "execution_count": 17,
   "metadata": {},
   "outputs": [
    {
     "data": {
      "text/plain": [
       "adult                    0    \n",
       "belongs_to_collection    40972\n",
       "budget                   0    \n",
       "genres                   0    \n",
       "homepage                 37684\n",
       "id                       0    \n",
       "imdb_id                  17   \n",
       "original_language        11   \n",
       "original_title           0    \n",
       "overview                 954  \n",
       "popularity               3    \n",
       "poster_path              386  \n",
       "production_companies     3    \n",
       "production_countries     3    \n",
       "release_date             87   \n",
       "revenue                  3    \n",
       "runtime                  260  \n",
       "spoken_languages         3    \n",
       "status                   84   \n",
       "tagline                  25051\n",
       "title                    3    \n",
       "video                    3    \n",
       "vote_average             3    \n",
       "vote_count               3    \n",
       "dtype: int64"
      ]
     },
     "execution_count": 17,
     "metadata": {},
     "output_type": "execute_result"
    }
   ],
   "source": [
    "movies_df.isnull().sum()"
   ]
  },
  {
   "cell_type": "code",
   "execution_count": 18,
   "metadata": {},
   "outputs": [],
   "source": [
    "# movies_df[movies_df['overview'].isnull()]"
   ]
  },
  {
   "attachments": {},
   "cell_type": "markdown",
   "metadata": {},
   "source": [
    "removing missing overviews and title"
   ]
  },
  {
   "cell_type": "code",
   "execution_count": 19,
   "metadata": {},
   "outputs": [],
   "source": [
    "movies_df.dropna(subset=['overview','title'],inplace=True)"
   ]
  },
  {
   "cell_type": "code",
   "execution_count": 20,
   "metadata": {},
   "outputs": [
    {
     "data": {
      "text/plain": [
       "adult                    0    \n",
       "belongs_to_collection    40075\n",
       "budget                   0    \n",
       "genres                   0    \n",
       "homepage                 36745\n",
       "id                       0    \n",
       "imdb_id                  15   \n",
       "original_language        10   \n",
       "original_title           0    \n",
       "overview                 0    \n",
       "popularity               0    \n",
       "poster_path              343  \n",
       "production_companies     0    \n",
       "production_countries     0    \n",
       "release_date             71   \n",
       "revenue                  0    \n",
       "runtime                  0    \n",
       "spoken_languages         0    \n",
       "status                   65   \n",
       "tagline                  24102\n",
       "title                    0    \n",
       "video                    0    \n",
       "vote_average             0    \n",
       "vote_count               0    \n",
       "dtype: int64"
      ]
     },
     "execution_count": 20,
     "metadata": {},
     "output_type": "execute_result"
    }
   ],
   "source": [
    "movies_df.isnull().sum()"
   ]
  },
  {
   "cell_type": "code",
   "execution_count": 21,
   "metadata": {},
   "outputs": [
    {
     "data": {
      "text/plain": [
       "(44506, 24)"
      ]
     },
     "execution_count": 21,
     "metadata": {},
     "output_type": "execute_result"
    }
   ],
   "source": [
    "movies_df.shape"
   ]
  },
  {
   "cell_type": "code",
   "execution_count": 22,
   "metadata": {},
   "outputs": [],
   "source": [
    "# movies_df.duplicated().sum()"
   ]
  },
  {
   "attachments": {},
   "cell_type": "markdown",
   "metadata": {},
   "source": [
    "removing duplicate rows"
   ]
  },
  {
   "cell_type": "code",
   "execution_count": 23,
   "metadata": {},
   "outputs": [],
   "source": [
    "# movies_df[movies_df.duplicated()]"
   ]
  },
  {
   "cell_type": "code",
   "execution_count": 24,
   "metadata": {},
   "outputs": [],
   "source": [
    "movies_df.drop_duplicates(inplace=True)"
   ]
  },
  {
   "cell_type": "code",
   "execution_count": 25,
   "metadata": {},
   "outputs": [],
   "source": [
    "# movies_df.duplicated().sum()"
   ]
  },
  {
   "cell_type": "code",
   "execution_count": 26,
   "metadata": {},
   "outputs": [
    {
     "data": {
      "text/plain": [
       "adult                    object \n",
       "belongs_to_collection    object \n",
       "budget                   object \n",
       "genres                   object \n",
       "homepage                 object \n",
       "id                       int64  \n",
       "imdb_id                  object \n",
       "original_language        object \n",
       "original_title           object \n",
       "overview                 object \n",
       "popularity               object \n",
       "poster_path              object \n",
       "production_companies     object \n",
       "production_countries     object \n",
       "release_date             object \n",
       "revenue                  float64\n",
       "runtime                  float64\n",
       "spoken_languages         object \n",
       "status                   object \n",
       "tagline                  object \n",
       "title                    object \n",
       "video                    object \n",
       "vote_average             float64\n",
       "vote_count               float64\n",
       "dtype: object"
      ]
     },
     "execution_count": 26,
     "metadata": {},
     "output_type": "execute_result"
    }
   ],
   "source": [
    "movies_df.dtypes"
   ]
  },
  {
   "cell_type": "code",
   "execution_count": 27,
   "metadata": {},
   "outputs": [
    {
     "data": {
      "text/plain": [
       "(44489, 24)"
      ]
     },
     "execution_count": 27,
     "metadata": {},
     "output_type": "execute_result"
    }
   ],
   "source": [
    "movies_df.shape"
   ]
  },
  {
   "cell_type": "code",
   "execution_count": 28,
   "metadata": {},
   "outputs": [
    {
     "data": {
      "text/html": [
       "<div>\n",
       "<style scoped>\n",
       "    .dataframe tbody tr th:only-of-type {\n",
       "        vertical-align: middle;\n",
       "    }\n",
       "\n",
       "    .dataframe tbody tr th {\n",
       "        vertical-align: top;\n",
       "    }\n",
       "\n",
       "    .dataframe thead th {\n",
       "        text-align: right;\n",
       "    }\n",
       "</style>\n",
       "<table border=\"1\" class=\"dataframe\">\n",
       "  <thead>\n",
       "    <tr style=\"text-align: right;\">\n",
       "      <th></th>\n",
       "      <th>adult</th>\n",
       "      <th>belongs_to_collection</th>\n",
       "      <th>budget</th>\n",
       "      <th>genres</th>\n",
       "      <th>homepage</th>\n",
       "      <th>id</th>\n",
       "      <th>imdb_id</th>\n",
       "      <th>original_language</th>\n",
       "      <th>original_title</th>\n",
       "      <th>overview</th>\n",
       "      <th>...</th>\n",
       "      <th>release_date</th>\n",
       "      <th>revenue</th>\n",
       "      <th>runtime</th>\n",
       "      <th>spoken_languages</th>\n",
       "      <th>status</th>\n",
       "      <th>tagline</th>\n",
       "      <th>title</th>\n",
       "      <th>video</th>\n",
       "      <th>vote_average</th>\n",
       "      <th>vote_count</th>\n",
       "    </tr>\n",
       "  </thead>\n",
       "  <tbody>\n",
       "    <tr>\n",
       "      <th>0</th>\n",
       "      <td>False</td>\n",
       "      <td>{'id': 10194, 'name': 'Toy Story Collection', 'poster_path': '/7G9915LfUQ2lVfwMEEhDsn3kT4B.jpg', 'backdrop_path': '/9FBwqcd9IRruEDUrTdcaafOMKUq.jpg'}</td>\n",
       "      <td>30000000</td>\n",
       "      <td>[{'id': 16, 'name': 'Animation'}, {'id': 35, 'name': 'Comedy'}, {'id': 10751, 'name': 'Family'}]</td>\n",
       "      <td>http://toystory.disney.com/toy-story</td>\n",
       "      <td>862</td>\n",
       "      <td>tt0114709</td>\n",
       "      <td>en</td>\n",
       "      <td>Toy Story</td>\n",
       "      <td>Led by Woody, Andy's toys live happily in his room until Andy's birthday brings Buzz Lightyear onto the scene. Afraid of losing his place in Andy's heart, Woody plots against Buzz. But when circumstances separate Buzz and Woody from their owner, the duo eventually learns to put aside their differences.</td>\n",
       "      <td>...</td>\n",
       "      <td>1995-10-30</td>\n",
       "      <td>373554033.0</td>\n",
       "      <td>81.0</td>\n",
       "      <td>[{'iso_639_1': 'en', 'name': 'English'}]</td>\n",
       "      <td>Released</td>\n",
       "      <td>NaN</td>\n",
       "      <td>Toy Story</td>\n",
       "      <td>False</td>\n",
       "      <td>7.7</td>\n",
       "      <td>5415.0</td>\n",
       "    </tr>\n",
       "  </tbody>\n",
       "</table>\n",
       "<p>1 rows × 24 columns</p>\n",
       "</div>"
      ],
      "text/plain": [
       "   adult  \\\n",
       "0  False   \n",
       "\n",
       "                                                                                                                                   belongs_to_collection  \\\n",
       "0  {'id': 10194, 'name': 'Toy Story Collection', 'poster_path': '/7G9915LfUQ2lVfwMEEhDsn3kT4B.jpg', 'backdrop_path': '/9FBwqcd9IRruEDUrTdcaafOMKUq.jpg'}   \n",
       "\n",
       "     budget  \\\n",
       "0  30000000   \n",
       "\n",
       "                                                                                             genres  \\\n",
       "0  [{'id': 16, 'name': 'Animation'}, {'id': 35, 'name': 'Comedy'}, {'id': 10751, 'name': 'Family'}]   \n",
       "\n",
       "                               homepage   id    imdb_id original_language  \\\n",
       "0  http://toystory.disney.com/toy-story  862  tt0114709  en                 \n",
       "\n",
       "  original_title  \\\n",
       "0  Toy Story       \n",
       "\n",
       "                                                                                                                                                                                                                                                                                                          overview  \\\n",
       "0  Led by Woody, Andy's toys live happily in his room until Andy's birthday brings Buzz Lightyear onto the scene. Afraid of losing his place in Andy's heart, Woody plots against Buzz. But when circumstances separate Buzz and Woody from their owner, the duo eventually learns to put aside their differences.   \n",
       "\n",
       "   ... release_date      revenue runtime  \\\n",
       "0  ...  1995-10-30   373554033.0  81.0     \n",
       "\n",
       "                           spoken_languages    status  tagline      title  \\\n",
       "0  [{'iso_639_1': 'en', 'name': 'English'}]  Released  NaN      Toy Story   \n",
       "\n",
       "   video vote_average vote_count  \n",
       "0  False  7.7          5415.0     \n",
       "\n",
       "[1 rows x 24 columns]"
      ]
     },
     "execution_count": 28,
     "metadata": {},
     "output_type": "execute_result"
    }
   ],
   "source": [
    "movies_df.head(1)"
   ]
  },
  {
   "cell_type": "code",
   "execution_count": 29,
   "metadata": {},
   "outputs": [],
   "source": [
    "movies_df.drop_duplicates(subset=['overview'],inplace=True)"
   ]
  },
  {
   "cell_type": "code",
   "execution_count": 30,
   "metadata": {},
   "outputs": [],
   "source": [
    "# movies_df.duplicated(subset=['overview']).sum()"
   ]
  },
  {
   "cell_type": "code",
   "execution_count": 31,
   "metadata": {},
   "outputs": [
    {
     "data": {
      "text/html": [
       "<div>\n",
       "<style scoped>\n",
       "    .dataframe tbody tr th:only-of-type {\n",
       "        vertical-align: middle;\n",
       "    }\n",
       "\n",
       "    .dataframe tbody tr th {\n",
       "        vertical-align: top;\n",
       "    }\n",
       "\n",
       "    .dataframe thead th {\n",
       "        text-align: right;\n",
       "    }\n",
       "</style>\n",
       "<table border=\"1\" class=\"dataframe\">\n",
       "  <thead>\n",
       "    <tr style=\"text-align: right;\">\n",
       "      <th></th>\n",
       "      <th>adult</th>\n",
       "      <th>belongs_to_collection</th>\n",
       "      <th>budget</th>\n",
       "      <th>genres</th>\n",
       "      <th>homepage</th>\n",
       "      <th>id</th>\n",
       "      <th>imdb_id</th>\n",
       "      <th>original_language</th>\n",
       "      <th>original_title</th>\n",
       "      <th>overview</th>\n",
       "      <th>...</th>\n",
       "      <th>release_date</th>\n",
       "      <th>revenue</th>\n",
       "      <th>runtime</th>\n",
       "      <th>spoken_languages</th>\n",
       "      <th>status</th>\n",
       "      <th>tagline</th>\n",
       "      <th>title</th>\n",
       "      <th>video</th>\n",
       "      <th>vote_average</th>\n",
       "      <th>vote_count</th>\n",
       "    </tr>\n",
       "  </thead>\n",
       "  <tbody>\n",
       "    <tr>\n",
       "      <th>0</th>\n",
       "      <td>False</td>\n",
       "      <td>{'id': 10194, 'name': 'Toy Story Collection', 'poster_path': '/7G9915LfUQ2lVfwMEEhDsn3kT4B.jpg', 'backdrop_path': '/9FBwqcd9IRruEDUrTdcaafOMKUq.jpg'}</td>\n",
       "      <td>30000000</td>\n",
       "      <td>[{'id': 16, 'name': 'Animation'}, {'id': 35, 'name': 'Comedy'}, {'id': 10751, 'name': 'Family'}]</td>\n",
       "      <td>http://toystory.disney.com/toy-story</td>\n",
       "      <td>862</td>\n",
       "      <td>tt0114709</td>\n",
       "      <td>en</td>\n",
       "      <td>Toy Story</td>\n",
       "      <td>Led by Woody, Andy's toys live happily in his room until Andy's birthday brings Buzz Lightyear onto the scene. Afraid of losing his place in Andy's heart, Woody plots against Buzz. But when circumstances separate Buzz and Woody from their owner, the duo eventually learns to put aside their differences.</td>\n",
       "      <td>...</td>\n",
       "      <td>1995-10-30</td>\n",
       "      <td>373554033.0</td>\n",
       "      <td>81.0</td>\n",
       "      <td>[{'iso_639_1': 'en', 'name': 'English'}]</td>\n",
       "      <td>Released</td>\n",
       "      <td>NaN</td>\n",
       "      <td>Toy Story</td>\n",
       "      <td>False</td>\n",
       "      <td>7.7</td>\n",
       "      <td>5415.0</td>\n",
       "    </tr>\n",
       "    <tr>\n",
       "      <th>1</th>\n",
       "      <td>False</td>\n",
       "      <td>NaN</td>\n",
       "      <td>65000000</td>\n",
       "      <td>[{'id': 12, 'name': 'Adventure'}, {'id': 14, 'name': 'Fantasy'}, {'id': 10751, 'name': 'Family'}]</td>\n",
       "      <td>NaN</td>\n",
       "      <td>8844</td>\n",
       "      <td>tt0113497</td>\n",
       "      <td>en</td>\n",
       "      <td>Jumanji</td>\n",
       "      <td>When siblings Judy and Peter discover an enchanted board game that opens the door to a magical world, they unwittingly invite Alan -- an adult who's been trapped inside the game for 26 years -- into their living room. Alan's only hope for freedom is to finish the game, which proves risky as all three find themselves running from giant rhinoceroses, evil monkeys and other terrifying creatures.</td>\n",
       "      <td>...</td>\n",
       "      <td>1995-12-15</td>\n",
       "      <td>262797249.0</td>\n",
       "      <td>104.0</td>\n",
       "      <td>[{'iso_639_1': 'en', 'name': 'English'}, {'iso_639_1': 'fr', 'name': 'Français'}]</td>\n",
       "      <td>Released</td>\n",
       "      <td>Roll the dice and unleash the excitement!</td>\n",
       "      <td>Jumanji</td>\n",
       "      <td>False</td>\n",
       "      <td>6.9</td>\n",
       "      <td>2413.0</td>\n",
       "    </tr>\n",
       "    <tr>\n",
       "      <th>2</th>\n",
       "      <td>False</td>\n",
       "      <td>{'id': 119050, 'name': 'Grumpy Old Men Collection', 'poster_path': '/nLvUdqgPgm3F85NMCii9gVFUcet.jpg', 'backdrop_path': '/hypTnLot2z8wpFS7qwsQHW1uV8u.jpg'}</td>\n",
       "      <td>0</td>\n",
       "      <td>[{'id': 10749, 'name': 'Romance'}, {'id': 35, 'name': 'Comedy'}]</td>\n",
       "      <td>NaN</td>\n",
       "      <td>15602</td>\n",
       "      <td>tt0113228</td>\n",
       "      <td>en</td>\n",
       "      <td>Grumpier Old Men</td>\n",
       "      <td>A family wedding reignites the ancient feud between next-door neighbors and fishing buddies John and Max. Meanwhile, a sultry Italian divorcée opens a restaurant at the local bait shop, alarming the locals who worry she'll scare the fish away. But she's less interested in seafood than she is in cooking up a hot time with Max.</td>\n",
       "      <td>...</td>\n",
       "      <td>1995-12-22</td>\n",
       "      <td>0.0</td>\n",
       "      <td>101.0</td>\n",
       "      <td>[{'iso_639_1': 'en', 'name': 'English'}]</td>\n",
       "      <td>Released</td>\n",
       "      <td>Still Yelling. Still Fighting. Still Ready for Love.</td>\n",
       "      <td>Grumpier Old Men</td>\n",
       "      <td>False</td>\n",
       "      <td>6.5</td>\n",
       "      <td>92.0</td>\n",
       "    </tr>\n",
       "    <tr>\n",
       "      <th>3</th>\n",
       "      <td>False</td>\n",
       "      <td>NaN</td>\n",
       "      <td>16000000</td>\n",
       "      <td>[{'id': 35, 'name': 'Comedy'}, {'id': 18, 'name': 'Drama'}, {'id': 10749, 'name': 'Romance'}]</td>\n",
       "      <td>NaN</td>\n",
       "      <td>31357</td>\n",
       "      <td>tt0114885</td>\n",
       "      <td>en</td>\n",
       "      <td>Waiting to Exhale</td>\n",
       "      <td>Cheated on, mistreated and stepped on, the women are holding their breath, waiting for the elusive \"good man\" to break a string of less-than-stellar lovers. Friends and confidants Vannah, Bernie, Glo and Robin talk it all out, determined to find a better way to breathe.</td>\n",
       "      <td>...</td>\n",
       "      <td>1995-12-22</td>\n",
       "      <td>81452156.0</td>\n",
       "      <td>127.0</td>\n",
       "      <td>[{'iso_639_1': 'en', 'name': 'English'}]</td>\n",
       "      <td>Released</td>\n",
       "      <td>Friends are the people who let you be yourself... and never let you forget it.</td>\n",
       "      <td>Waiting to Exhale</td>\n",
       "      <td>False</td>\n",
       "      <td>6.1</td>\n",
       "      <td>34.0</td>\n",
       "    </tr>\n",
       "    <tr>\n",
       "      <th>4</th>\n",
       "      <td>False</td>\n",
       "      <td>{'id': 96871, 'name': 'Father of the Bride Collection', 'poster_path': '/nts4iOmNnq7GNicycMJ9pSAn204.jpg', 'backdrop_path': '/7qwE57OVZmMJChBpLEbJEmzUydk.jpg'}</td>\n",
       "      <td>0</td>\n",
       "      <td>[{'id': 35, 'name': 'Comedy'}]</td>\n",
       "      <td>NaN</td>\n",
       "      <td>11862</td>\n",
       "      <td>tt0113041</td>\n",
       "      <td>en</td>\n",
       "      <td>Father of the Bride Part II</td>\n",
       "      <td>Just when George Banks has recovered from his daughter's wedding, he receives the news that she's pregnant ... and that George's wife, Nina, is expecting too. He was planning on selling their home, but that's a plan that -- like George -- will have to change with the arrival of both a grandchild and a kid of his own.</td>\n",
       "      <td>...</td>\n",
       "      <td>1995-02-10</td>\n",
       "      <td>76578911.0</td>\n",
       "      <td>106.0</td>\n",
       "      <td>[{'iso_639_1': 'en', 'name': 'English'}]</td>\n",
       "      <td>Released</td>\n",
       "      <td>Just When His World Is Back To Normal... He's In For The Surprise Of His Life!</td>\n",
       "      <td>Father of the Bride Part II</td>\n",
       "      <td>False</td>\n",
       "      <td>5.7</td>\n",
       "      <td>173.0</td>\n",
       "    </tr>\n",
       "  </tbody>\n",
       "</table>\n",
       "<p>5 rows × 24 columns</p>\n",
       "</div>"
      ],
      "text/plain": [
       "   adult  \\\n",
       "0  False   \n",
       "1  False   \n",
       "2  False   \n",
       "3  False   \n",
       "4  False   \n",
       "\n",
       "                                                                                                                                             belongs_to_collection  \\\n",
       "0  {'id': 10194, 'name': 'Toy Story Collection', 'poster_path': '/7G9915LfUQ2lVfwMEEhDsn3kT4B.jpg', 'backdrop_path': '/9FBwqcd9IRruEDUrTdcaafOMKUq.jpg'}             \n",
       "1  NaN                                                                                                                                                               \n",
       "2  {'id': 119050, 'name': 'Grumpy Old Men Collection', 'poster_path': '/nLvUdqgPgm3F85NMCii9gVFUcet.jpg', 'backdrop_path': '/hypTnLot2z8wpFS7qwsQHW1uV8u.jpg'}       \n",
       "3  NaN                                                                                                                                                               \n",
       "4  {'id': 96871, 'name': 'Father of the Bride Collection', 'poster_path': '/nts4iOmNnq7GNicycMJ9pSAn204.jpg', 'backdrop_path': '/7qwE57OVZmMJChBpLEbJEmzUydk.jpg'}   \n",
       "\n",
       "     budget  \\\n",
       "0  30000000   \n",
       "1  65000000   \n",
       "2  0          \n",
       "3  16000000   \n",
       "4  0          \n",
       "\n",
       "                                                                                              genres  \\\n",
       "0  [{'id': 16, 'name': 'Animation'}, {'id': 35, 'name': 'Comedy'}, {'id': 10751, 'name': 'Family'}]    \n",
       "1  [{'id': 12, 'name': 'Adventure'}, {'id': 14, 'name': 'Fantasy'}, {'id': 10751, 'name': 'Family'}]   \n",
       "2  [{'id': 10749, 'name': 'Romance'}, {'id': 35, 'name': 'Comedy'}]                                    \n",
       "3  [{'id': 35, 'name': 'Comedy'}, {'id': 18, 'name': 'Drama'}, {'id': 10749, 'name': 'Romance'}]       \n",
       "4  [{'id': 35, 'name': 'Comedy'}]                                                                      \n",
       "\n",
       "                               homepage     id    imdb_id original_language  \\\n",
       "0  http://toystory.disney.com/toy-story  862    tt0114709  en                 \n",
       "1  NaN                                   8844   tt0113497  en                 \n",
       "2  NaN                                   15602  tt0113228  en                 \n",
       "3  NaN                                   31357  tt0114885  en                 \n",
       "4  NaN                                   11862  tt0113041  en                 \n",
       "\n",
       "                original_title  \\\n",
       "0  Toy Story                     \n",
       "1  Jumanji                       \n",
       "2  Grumpier Old Men              \n",
       "3  Waiting to Exhale             \n",
       "4  Father of the Bride Part II   \n",
       "\n",
       "                                                                                                                                                                                                                                                                                                                                                                                                      overview  \\\n",
       "0  Led by Woody, Andy's toys live happily in his room until Andy's birthday brings Buzz Lightyear onto the scene. Afraid of losing his place in Andy's heart, Woody plots against Buzz. But when circumstances separate Buzz and Woody from their owner, the duo eventually learns to put aside their differences.                                                                                               \n",
       "1  When siblings Judy and Peter discover an enchanted board game that opens the door to a magical world, they unwittingly invite Alan -- an adult who's been trapped inside the game for 26 years -- into their living room. Alan's only hope for freedom is to finish the game, which proves risky as all three find themselves running from giant rhinoceroses, evil monkeys and other terrifying creatures.   \n",
       "2  A family wedding reignites the ancient feud between next-door neighbors and fishing buddies John and Max. Meanwhile, a sultry Italian divorcée opens a restaurant at the local bait shop, alarming the locals who worry she'll scare the fish away. But she's less interested in seafood than she is in cooking up a hot time with Max.                                                                       \n",
       "3  Cheated on, mistreated and stepped on, the women are holding their breath, waiting for the elusive \"good man\" to break a string of less-than-stellar lovers. Friends and confidants Vannah, Bernie, Glo and Robin talk it all out, determined to find a better way to breathe.                                                                                                                                \n",
       "4  Just when George Banks has recovered from his daughter's wedding, he receives the news that she's pregnant ... and that George's wife, Nina, is expecting too. He was planning on selling their home, but that's a plan that -- like George -- will have to change with the arrival of both a grandchild and a kid of his own.                                                                                \n",
       "\n",
       "   ... release_date      revenue runtime  \\\n",
       "0  ...  1995-10-30   373554033.0  81.0     \n",
       "1  ...  1995-12-15   262797249.0  104.0    \n",
       "2  ...  1995-12-22   0.0          101.0    \n",
       "3  ...  1995-12-22   81452156.0   127.0    \n",
       "4  ...  1995-02-10   76578911.0   106.0    \n",
       "\n",
       "                                                                    spoken_languages  \\\n",
       "0  [{'iso_639_1': 'en', 'name': 'English'}]                                            \n",
       "1  [{'iso_639_1': 'en', 'name': 'English'}, {'iso_639_1': 'fr', 'name': 'Français'}]   \n",
       "2  [{'iso_639_1': 'en', 'name': 'English'}]                                            \n",
       "3  [{'iso_639_1': 'en', 'name': 'English'}]                                            \n",
       "4  [{'iso_639_1': 'en', 'name': 'English'}]                                            \n",
       "\n",
       "     status  \\\n",
       "0  Released   \n",
       "1  Released   \n",
       "2  Released   \n",
       "3  Released   \n",
       "4  Released   \n",
       "\n",
       "                                                                          tagline  \\\n",
       "0  NaN                                                                              \n",
       "1  Roll the dice and unleash the excitement!                                        \n",
       "2  Still Yelling. Still Fighting. Still Ready for Love.                             \n",
       "3  Friends are the people who let you be yourself... and never let you forget it.   \n",
       "4  Just When His World Is Back To Normal... He's In For The Surprise Of His Life!   \n",
       "\n",
       "                         title  video vote_average vote_count  \n",
       "0  Toy Story                    False  7.7          5415.0     \n",
       "1  Jumanji                      False  6.9          2413.0     \n",
       "2  Grumpier Old Men             False  6.5          92.0       \n",
       "3  Waiting to Exhale            False  6.1          34.0       \n",
       "4  Father of the Bride Part II  False  5.7          173.0      \n",
       "\n",
       "[5 rows x 24 columns]"
      ]
     },
     "execution_count": 31,
     "metadata": {},
     "output_type": "execute_result"
    }
   ],
   "source": [
    "movies_df.head()"
   ]
  },
  {
   "cell_type": "code",
   "execution_count": 32,
   "metadata": {},
   "outputs": [],
   "source": [
    "def year(date):\n",
    "    L=[]\n",
    "    date=str(date)\n",
    "    L.append(date[:4])\n",
    "    return L"
   ]
  },
  {
   "cell_type": "code",
   "execution_count": 33,
   "metadata": {},
   "outputs": [],
   "source": [
    "movies_df['year']=movies_df['release_date'].apply(year)\n"
   ]
  },
  {
   "cell_type": "code",
   "execution_count": 34,
   "metadata": {},
   "outputs": [
    {
     "data": {
      "text/plain": [
       "(44303, 25)"
      ]
     },
     "execution_count": 34,
     "metadata": {},
     "output_type": "execute_result"
    }
   ],
   "source": [
    "movies_df.shape"
   ]
  },
  {
   "cell_type": "code",
   "execution_count": 35,
   "metadata": {},
   "outputs": [
    {
     "data": {
      "text/plain": [
       "cast    object\n",
       "crew    object\n",
       "id      int64 \n",
       "dtype: object"
      ]
     },
     "execution_count": 35,
     "metadata": {},
     "output_type": "execute_result"
    }
   ],
   "source": [
    "# credits_df=pd.read_csv('credits.csv/credits.csv',low_memory=False)\n",
    "credits_df=pd.read_csv('https://firsts3buckets3.s3.amazonaws.com/credits.csv/credits.csv',low_memory=False)\n",
    "\n",
    "# credits_df=credits_df.astype({'id':'object'})\n",
    "credits_df.dtypes"
   ]
  },
  {
   "cell_type": "code",
   "execution_count": 36,
   "metadata": {},
   "outputs": [
    {
     "data": {
      "text/plain": [
       "(45476, 3)"
      ]
     },
     "execution_count": 36,
     "metadata": {},
     "output_type": "execute_result"
    }
   ],
   "source": [
    "credits_df.shape"
   ]
  },
  {
   "cell_type": "code",
   "execution_count": 37,
   "metadata": {},
   "outputs": [
    {
     "data": {
      "text/html": [
       "<div>\n",
       "<style scoped>\n",
       "    .dataframe tbody tr th:only-of-type {\n",
       "        vertical-align: middle;\n",
       "    }\n",
       "\n",
       "    .dataframe tbody tr th {\n",
       "        vertical-align: top;\n",
       "    }\n",
       "\n",
       "    .dataframe thead th {\n",
       "        text-align: right;\n",
       "    }\n",
       "</style>\n",
       "<table border=\"1\" class=\"dataframe\">\n",
       "  <thead>\n",
       "    <tr style=\"text-align: right;\">\n",
       "      <th></th>\n",
       "      <th>cast</th>\n",
       "      <th>crew</th>\n",
       "      <th>id</th>\n",
       "    </tr>\n",
       "  </thead>\n",
       "  <tbody>\n",
       "    <tr>\n",
       "      <th>0</th>\n",
       "      <td>[{'cast_id': 14, 'character': 'Woody (voice)', 'credit_id': '52fe4284c3a36847f8024f95', 'gender': 2, 'id': 31, 'name': 'Tom Hanks', 'order': 0, 'profile_path': '/pQFoyx7rp09CJTAb932F2g8Nlho.jpg'}, {'cast_id': 15, 'character': 'Buzz Lightyear (voice)', 'credit_id': '52fe4284c3a36847f8024f99', 'gender': 2, 'id': 12898, 'name': 'Tim Allen', 'order': 1, 'profile_path': '/uX2xVf6pMmPepxnvFWyBtjexzgY.jpg'}, {'cast_id': 16, 'character': 'Mr. Potato Head (voice)', 'credit_id': '52fe4284c3a36847f8024f9d', 'gender': 2, 'id': 7167, 'name': 'Don Rickles', 'order': 2, 'profile_path': '/h5BcaDMPRVLHLDzbQavec4xfSdt.jpg'}, {'cast_id': 17, 'character': 'Slinky Dog (voice)', 'credit_id': '52fe4284c3a36847f8024fa1', 'gender': 2, 'id': 12899, 'name': 'Jim Varney', 'order': 3, 'profile_path': '/eIo2jVVXYgjDtaHoF19Ll9vtW7h.jpg'}, {'cast_id': 18, 'character': 'Rex (voice)', 'credit_id': '52fe4284c3a36847f8024fa5', 'gender': 2, 'id': 12900, 'name': 'Wallace Shawn', 'order': 4, 'profile_path': '/oGE6JqPP2xH4tNORKNqxbNPYi7u.jpg'}, {'cast_id': 19, 'character': 'Hamm (voice)', 'credit_id': '52fe4284c3a36847f8024fa9', 'gender': 2, 'id': 7907, 'name': 'John Ratzenberger', 'order': 5, 'profile_path': '/yGechiKWL6TJDfVE2KPSJYqdMsY.jpg'}, {'cast_id': 20, 'character': 'Bo Peep (voice)', 'credit_id': '52fe4284c3a36847f8024fad', 'gender': 1, 'id': 8873, 'name': 'Annie Potts', 'order': 6, 'profile_path': '/eryXT84RL41jHSJcMy4kS3u9y6w.jpg'}, {'cast_id': 26, 'character': 'Andy (voice)', 'credit_id': '52fe4284c3a36847f8024fc1', 'gender': 0, 'id': 1116442, 'name': 'John Morris', 'order': 7, 'profile_path': '/vYGyvK4LzeaUCoNSHtsuqJUY15M.jpg'}, {'cast_id': 22, 'character': 'Sid (voice)', 'credit_id': '52fe4284c3a36847f8024fb1', 'gender': 2, 'id': 12901, 'name': 'Erik von Detten', 'order': 8, 'profile_path': '/twnF1ZaJ1FUNUuo6xLXwcxjayBE.jpg'}, {'cast_id': 23, 'character': 'Mrs. Davis (voice)', 'credit_id': '52fe4284c3a36847f8024fb5', 'gender': 1, 'id': 12133, 'name': 'Laurie Metcalf', 'order': 9, 'profile_path': '/unMMIT60eoBM2sN2nyR7EZ2BvvD.jpg'}, {'cast_id': 24, 'character': 'Sergeant (voice)', 'credit_id': '52fe4284c3a36847f8024fb9', 'gender': 2, 'id': 8655, 'name': 'R. Lee Ermey', 'order': 10, 'profile_path': '/r8GBqFBjypLUP9VVqDqfZ7wYbSs.jpg'}, {'cast_id': 25, 'character': 'Hannah (voice)', 'credit_id': '52fe4284c3a36847f8024fbd', 'gender': 1, 'id': 12903, 'name': 'Sarah Freeman', 'order': 11, 'profile_path': None}, {'cast_id': 27, 'character': 'TV Announcer (voice)', 'credit_id': '52fe4284c3a36847f8024fc5', 'gender': 2, 'id': 37221, 'name': 'Penn Jillette', 'order': 12, 'profile_path': '/zmAaXUdx12NRsssgHbk1T31j2x9.jpg'}]</td>\n",
       "      <td>[{'credit_id': '52fe4284c3a36847f8024f49', 'department': 'Directing', 'gender': 2, 'id': 7879, 'job': 'Director', 'name': 'John Lasseter', 'profile_path': '/7EdqiNbr4FRjIhKHyPPdFfEEEFG.jpg'}, {'credit_id': '52fe4284c3a36847f8024f4f', 'department': 'Writing', 'gender': 2, 'id': 12891, 'job': 'Screenplay', 'name': 'Joss Whedon', 'profile_path': '/dTiVsuaTVTeGmvkhcyJvKp2A5kr.jpg'}, {'credit_id': '52fe4284c3a36847f8024f55', 'department': 'Writing', 'gender': 2, 'id': 7, 'job': 'Screenplay', 'name': 'Andrew Stanton', 'profile_path': '/pvQWsu0qc8JFQhMVJkTHuexUAa1.jpg'}, {'credit_id': '52fe4284c3a36847f8024f5b', 'department': 'Writing', 'gender': 2, 'id': 12892, 'job': 'Screenplay', 'name': 'Joel Cohen', 'profile_path': '/dAubAiZcvKFbboWlj7oXOkZnTSu.jpg'}, {'credit_id': '52fe4284c3a36847f8024f61', 'department': 'Writing', 'gender': 0, 'id': 12893, 'job': 'Screenplay', 'name': 'Alec Sokolow', 'profile_path': '/v79vlRYi94BZUQnkkyznbGUZLjT.jpg'}, {'credit_id': '52fe4284c3a36847f8024f67', 'department': 'Production', 'gender': 1, 'id': 12894, 'job': 'Producer', 'name': 'Bonnie Arnold', 'profile_path': None}, {'credit_id': '52fe4284c3a36847f8024f6d', 'department': 'Production', 'gender': 0, 'id': 12895, 'job': 'Executive Producer', 'name': 'Ed Catmull', 'profile_path': None}, {'credit_id': '52fe4284c3a36847f8024f73', 'department': 'Production', 'gender': 2, 'id': 12896, 'job': 'Producer', 'name': 'Ralph Guggenheim', 'profile_path': None}, {'credit_id': '52fe4284c3a36847f8024f79', 'department': 'Production', 'gender': 2, 'id': 12897, 'job': 'Executive Producer', 'name': 'Steve Jobs', 'profile_path': '/mOMP3SwD5qWQSR0ldCIByd3guTV.jpg'}, {'credit_id': '52fe4284c3a36847f8024f8b', 'department': 'Editing', 'gender': 2, 'id': 8, 'job': 'Editor', 'name': 'Lee Unkrich', 'profile_path': '/bdTCCXjgOV3YyaNmLGYGOxFQMOc.jpg'}, {'credit_id': '52fe4284c3a36847f8024f91', 'department': 'Art', 'gender': 2, 'id': 7883, 'job': 'Art Direction', 'name': 'Ralph Eggleston', 'profile_path': '/uUfcGKDsKO1aROMpXRs67Hn6RvR.jpg'}, {'credit_id': '598331bf925141421201044b', 'department': 'Editing', 'gender': 2, 'id': 1168870, 'job': 'Editor', 'name': 'Robert Gordon', 'profile_path': None}, {'credit_id': '5892168cc3a36809660095f9', 'department': 'Sound', 'gender': 0, 'id': 1552883, 'job': 'Foley Editor', 'name': 'Mary Helen Leasman', 'profile_path': None}, {'credit_id': '5531824d9251415289000945', 'department': 'Visual Effects', 'gender': 0, 'id': 1453514, 'job': 'Animation', 'name': 'Kim Blanchette', 'profile_path': None}, {'credit_id': '589215969251412dcb009bf6', 'department': 'Sound', 'gender': 0, 'id': 1414182, 'job': 'ADR Editor', 'name': 'Marilyn McCoppen', 'profile_path': None}, {'credit_id': '589217099251412dc500a018', 'department': 'Sound', 'gender': 2, 'id': 7885, 'job': 'Orchestrator', 'name': 'Randy Newman', 'profile_path': '/w0JzfoiM25nrnxYOzosPHRq6mlE.jpg'}, {'credit_id': '5693e6b29251417b0e0000e3', 'department': 'Editing', 'gender': 0, 'id': 1429549, 'job': 'Color Timer', 'name': 'Dale E. Grahn', 'profile_path': None}, {'credit_id': '572e2522c3a36869e6001a9c', 'department': 'Visual Effects', 'gender': 0, 'id': 7949, 'job': 'CG Painter', 'name': 'Robin Cooper', 'profile_path': None}, {'credit_id': '574f12309251415ca1000012', 'department': 'Writing', 'gender': 2, 'id': 7879, 'job': 'Original Story', 'name': 'John Lasseter', 'profile_path': '/7EdqiNbr4FRjIhKHyPPdFfEEEFG.jpg'}, {'credit_id': '574f1240c3a3682e7300001c', 'department': 'Writing', 'gender': 2, 'id': 12890, 'job': 'Original Story', 'name': 'Pete Docter', 'profile_path': '/r6ngPgnReA3RHmKjmSoVsc6Awjp.jpg'}, {'credit_id': '574f12519251415c92000015', 'department': 'Writing', 'gender': 0, 'id': 7911, 'job': 'Original Story', 'name': 'Joe Ranft', 'profile_path': '/f1BoWC2JbCcfP1e5hKfGsxkHzVU.jpg'}, {'credit_id': '574f12cec3a3682e82000022', 'department': 'Crew', 'gender': 0, 'id': 1629419, 'job': 'Post Production Supervisor', 'name': 'Patsy Bouge', 'profile_path': None}, {'credit_id': '574f14f19251415ca1000082', 'department': 'Art', 'gender': 0, 'id': 7961, 'job': 'Sculptor', 'name': 'Norm DeCarlo', 'profile_path': None}, {'credit_id': '5751ae4bc3a3683772002b7f', 'department': 'Visual Effects', 'gender': 2, 'id': 12905, 'job': 'Animation Director', 'name': 'Ash Brannon', 'profile_path': '/6ueWgPEEBHvS3De2BHYQnYjRTig.jpg'}, {'credit_id': '5891edbe9251412dc5007cd6', 'department': 'Sound', 'gender': 2, 'id': 7885, 'job': 'Music', 'name': 'Randy Newman', 'profile_path': '/w0JzfoiM25nrnxYOzosPHRq6mlE.jpg'}, {'credit_id': '589213d39251412dc8009832', 'department': 'Directing', 'gender': 0, 'id': 1748707, 'job': 'Layout', 'name': 'Roman Figun', 'profile_path': None}, {'credit_id': '5892173dc3a3680968009351', 'department': 'Sound', 'gender': 2, 'id': 4949, 'job': 'Orchestrator', 'name': 'Don Davis', 'profile_path': None}, {'credit_id': '589217cec3a3686b0a0052ba', 'department': 'Sound', 'gender': 0, 'id': 1372885, 'job': 'Music Editor', 'name': 'James Flamberg', 'profile_path': None}, {'credit_id': '58921831c3a3686348004a64', 'department': 'Editing', 'gender': 0, 'id': 1739962, 'job': 'Negative Cutter', 'name': 'Mary Beth Smith', 'profile_path': None}, {'credit_id': '58921838c3a36809700096c0', 'department': 'Editing', 'gender': 0, 'id': 1748513, 'job': 'Negative Cutter', 'name': 'Rick Mackay', 'profile_path': None}, {'credit_id': '589218429251412dd1009d1b', 'department': 'Art', 'gender': 0, 'id': 1458006, 'job': 'Title Designer', 'name': 'Susan Bradley', 'profile_path': None}, {'credit_id': '5891ed99c3a3680966007670', 'department': 'Crew', 'gender': 0, 'id': 1748557, 'job': 'Supervising Technical Director', 'name': 'William Reeves', 'profile_path': None}, {'credit_id': '5891edcec3a3686b0a002eb2', 'department': 'Sound', 'gender': 2, 'id': 7885, 'job': 'Songs', 'name': 'Randy Newman', 'profile_path': '/w0JzfoiM25nrnxYOzosPHRq6mlE.jpg'}, {'credit_id': '5891edf9c3a36809700075e6', 'department': 'Writing', 'gender': 2, 'id': 7, 'job': 'Original Story', 'name': 'Andrew Stanton', 'profile_path': '/pvQWsu0qc8JFQhMVJkTHuexUAa1.jpg'}, {'credit_id': '58920f0b9251412dd7009104', 'department': 'Crew', 'gender': 2, 'id': 12890, 'job': 'Supervising Animator', 'name': 'Pete Docter', 'profile_path': '/r6ngPgnReA3RHmKjmSoVsc6Awjp.jpg'}, {'credit_id': '58920f1fc3a3680977009021', 'department': 'Sound', 'gender': 2, 'id': 2216, 'job': 'Sound Designer', 'name': 'Gary Rydstrom', 'profile_path': '/jZpr1nVfO7lldWI0YtmP1FGw7Rj.jpg'}, {'credit_id': '58920f389251412dd700912d', 'department': 'Production', 'gender': 0, 'id': 12909, 'job': 'Production Supervisor', 'name': 'Karen Robert Jackson', 'profile_path': None}, {'credit_id': '58920fbd9251412dcb00969c', 'department': 'Crew', 'gender': 0, 'id': 953331, 'job': 'Executive Music Producer', 'name': 'Chris Montan', 'profile_path': None}, {'credit_id': '589210069251412dd7009219', 'department': 'Visual Effects', 'gender': 0, 'id': 7893, 'job': 'Animation Director', 'name': 'Rich Quade', 'profile_path': None}, {'credit_id': '589210329251412dcd00943b', 'department': 'Visual Effects', 'gender': 0, 'id': 8025, 'job': 'Animation', 'name': 'Michael Berenstein', 'profile_path': None}, {'credit_id': '5892103bc3a368096a009180', 'department': 'Visual Effects', 'gender': 0, 'id': 78009, 'job': 'Animation', 'name': 'Colin Brady', 'profile_path': None}, {'credit_id': '5892105dc3a3680968008db2', 'department': 'Visual Effects', 'gender': 0, 'id': 1748682, 'job': 'Animation', 'name': 'Davey Crockett Feiten', 'profile_path': None}, {'credit_id': '589210669251412dcd009466', 'department': 'Visual Effects', 'gender': 0, 'id': 1454030, 'job': 'Animation', 'name': 'Angie Glocka', 'profile_path': None}, {'credit_id': '5892107c9251412dd1009613', 'department': 'Visual Effects', 'gender': 0, 'id': 1748683, 'job': 'Animation', 'name': 'Rex Grignon', 'profile_path': None}, {'credit_id': '5892108ac3a3680973008d3f', 'department': 'Visual Effects', 'gender': 0, 'id': 1748684, 'job': 'Animation', 'name': 'Tom K. Gurney', 'profile_path': None}, {'credit_id': '58921093c3a3686348004477', 'department': 'Visual Effects', 'gender': 2, 'id': 8029, 'job': 'Animation', 'name': 'Jimmy Hayward', 'profile_path': '/lTDRpudEY7BDwTefXbXzMlmb0ui.jpg'}, {'credit_id': '5892109b9251412dcd0094b0', 'department': 'Visual Effects', 'gender': 0, 'id': 1426773, 'job': 'Animation', 'name': 'Hal T. Hickel', 'profile_path': None}, {'credit_id': '589210a29251412dc5009a29', 'department': 'Visual Effects', 'gender': 0, 'id': 8035, 'job': 'Animation', 'name': 'Karen Kiser', 'profile_path': None}, {'credit_id': '589210ccc3a3680977009191', 'department': 'Visual Effects', 'gender': 0, 'id': 1748688, 'job': 'Animation', 'name': 'Anthony B. LaMolinara', 'profile_path': None}, {'credit_id': '589210d7c3a3686b0a004c1f', 'department': 'Visual Effects', 'gender': 0, 'id': 587314, 'job': 'Animation', 'name': 'Guionne Leroy', 'profile_path': None}, {'credit_id': '589210e1c3a36809770091a7', 'department': 'Visual Effects', 'gender': 2, 'id': 7918, 'job': 'Animation', 'name': 'Bud Luckey', 'profile_path': '/pcCh7G19FKMNijmPQg1PMH1btic.jpg'}, {'credit_id': '589210ee9251412dc200978a', 'department': 'Visual Effects', 'gender': 0, 'id': 1748689, 'job': 'Animation', 'name': 'Les Major', 'profile_path': None}, {'credit_id': '589210fa9251412dc8009595', 'department': 'Visual Effects', 'gender': 2, 'id': 7892, 'job': 'Animation', 'name': 'Glenn McQueen', 'profile_path': None}, {'credit_id': '589211029251412dc8009598', 'department': 'Visual Effects', 'gender': 0, 'id': 555795, 'job': 'Animation', 'name': 'Mark Oftedal', 'profile_path': None}, {'credit_id': '5892110b9251412dc800959d', 'department': 'Visual Effects', 'gender': 2, 'id': 7882, 'job': 'Animation', 'name': 'Jeff Pidgeon', 'profile_path': '/yLddkg5HcgbJg00cS13GVBnP0HY.jpg'}, {'credit_id': '58921113c3a36863480044e4', 'department': 'Visual Effects', 'gender': 0, 'id': 8017, 'job': 'Animation', 'name': 'Jeff Pratt', 'profile_path': None}, {'credit_id': '5892111c9251412dcb0097e9', 'department': 'Visual Effects', 'gender': 0, 'id': 1184140, 'job': 'Animation', 'name': 'Steve Rabatich', 'profile_path': None}, {'credit_id': '58921123c3a36809700090f6', 'department': 'Visual Effects', 'gender': 0, 'id': 8049, 'job': 'Animation', 'name': 'Roger Rose', 'profile_path': None}, {'credit_id': '5892112b9251412dcb0097fb', 'department': 'Visual Effects', 'gender': 0, 'id': 1509559, 'job': 'Animation', 'name': 'Steve Segal', 'profile_path': None}, {'credit_id': '589211349251412dc80095c3', 'department': 'Visual Effects', 'gender': 0, 'id': 1748691, 'job': 'Animation', 'name': 'Doug Sheppeck', 'profile_path': None}, {'credit_id': '5892113cc3a3680970009106', 'department': 'Visual Effects', 'gender': 0, 'id': 8050, 'job': 'Animation', 'name': 'Alan Sperling', 'profile_path': None}, {'credit_id': '58921148c3a3686b0a004c99', 'department': 'Visual Effects', 'gender': 0, 'id': 8010, 'job': 'Animation', 'name': 'Doug Sweetland', 'profile_path': None}, {'credit_id': '58921150c3a3680966009125', 'department': 'Visual Effects', 'gender': 0, 'id': 8044, 'job': 'Animation', 'name': 'David Tart', 'profile_path': None}, {'credit_id': '589211629251412dc5009b00', 'department': 'Visual Effects', 'gender': 0, 'id': 1454034, 'job': 'Animation', 'name': 'Ken Willard', 'profile_path': None}, {'credit_id': '589211c1c3a3686b0a004d28', 'department': 'Visual Effects', 'gender': 0, 'id': 7887, 'job': 'Visual Effects Supervisor', 'name': 'Thomas Porter', 'profile_path': None}, {'credit_id': '589211d4c3a3680968008ed9', 'department': 'Visual Effects', 'gender': 0, 'id': 1406878, 'job': 'Visual Effects', 'name': 'Mark Thomas Henne', 'profile_path': None}, {'credit_id': '589211f59251412dd4008e65', 'department': 'Visual Effects', 'gender': 0, 'id': 1748698, 'job': 'Visual Effects', 'name': 'Oren Jacob', 'profile_path': None}, {'credit_id': '58921242c3a368096a00939b', 'department': 'Visual Effects', 'gender': 0, 'id': 1748699, 'job': 'Visual Effects', 'name': 'Darwyn Peachey', 'profile_path': None}, {'credit_id': '5892124b9251412dc5009bd2', 'department': 'Visual Effects', 'gender': 0, 'id': 1748701, 'job': 'Visual Effects', 'name': 'Mitch Prater', 'profile_path': None}, {'credit_id': '58921264c3a3686b0a004dbf', 'department': 'Visual Effects', 'gender': 0, 'id': 1748703, 'job': 'Visual Effects', 'name': 'Brian M. Rosen', 'profile_path': None}, {'credit_id': '589212709251412dcd009676', 'department': 'Lighting', 'gender': 1, 'id': 12912, 'job': 'Lighting Supervisor', 'name': 'Sharon Calahan', 'profile_path': None}, {'credit_id': '5892127fc3a3686b0a004de5', 'department': 'Lighting', 'gender': 0, 'id': 7899, 'job': 'Lighting Supervisor', 'name': 'Galyn Susman', 'profile_path': None}, {'credit_id': '589212cdc3a3680970009268', 'department': 'Visual Effects', 'gender': 0, 'id': 12915, 'job': 'CG Painter', 'name': 'William Cone', 'profile_path': None}, {'credit_id': '5892130f9251412dc8009791', 'department': 'Art', 'gender': 0, 'id': 1748705, 'job': 'Sculptor', 'name': 'Shelley Daniels Lekven', 'profile_path': None}, {'credit_id': '5892131c9251412dd4008f4c', 'department': 'Visual Effects', 'gender': 2, 'id': 7889, 'job': 'Character Designer', 'name': 'Bob Pauley', 'profile_path': None}, {'credit_id': '589213249251412dd100987b', 'department': 'Visual Effects', 'gender': 2, 'id': 7918, 'job': 'Character Designer', 'name': 'Bud Luckey', 'profile_path': '/pcCh7G19FKMNijmPQg1PMH1btic.jpg'}, {'credit_id': '5892132b9251412dc80097b1', 'department': 'Visual Effects', 'gender': 2, 'id': 7, 'job': 'Character Designer', 'name': 'Andrew Stanton', 'profile_path': '/pvQWsu0qc8JFQhMVJkTHuexUAa1.jpg'}, {'credit_id': '58921332c3a368634800467b', 'department': 'Visual Effects', 'gender': 0, 'id': 12915, 'job': 'Character Designer', 'name': 'William Cone', 'profile_path': None}, {'credit_id': '5892135f9251412dd4008f90', 'department': 'Visual Effects', 'gender': 0, 'id': 1748706, 'job': 'Character Designer', 'name': 'Steve Johnson', 'profile_path': None}, {'credit_id': '58921384c3a3680973008fd4', 'department': 'Visual Effects', 'gender': 0, 'id': 1176752, 'job': 'Character Designer', 'name': 'Dan Haskett', 'profile_path': None}, {'credit_id': '5892138e9251412dc20099fc', 'department': 'Visual Effects', 'gender': 0, 'id': 1088034, 'job': 'Character Designer', 'name': 'Tom Holloway', 'profile_path': '/a0r0T2usTBpgMI5aZbRBDW1fTl8.jpg'}, {'credit_id': '58921395c3a368097700942f', 'department': 'Visual Effects', 'gender': 0, 'id': 1447465, 'job': 'Character Designer', 'name': 'Jean Gillmore', 'profile_path': None}, {'credit_id': '589213e2c3a3680973009026', 'department': 'Directing', 'gender': 0, 'id': 1748709, 'job': 'Layout', 'name': 'Desirée Mourad', 'profile_path': None}, {'credit_id': '589214099251412dc5009d57', 'department': 'Art', 'gender': 0, 'id': 1748710, 'job': 'Set Dresser', 'name': \"Kelly O'Connell\", 'profile_path': None}, {'credit_id': '58921411c3a3686b0a004f70', 'department': 'Art', 'gender': 0, 'id': 1443471, 'job': 'Set Dresser', 'name': 'Sonoko Konishi', 'profile_path': None}, {'credit_id': '58921434c3a368096a00956e', 'department': 'Art', 'gender': 0, 'id': 1748711, 'job': 'Set Dresser', 'name': 'Ann M. Rockwell', 'profile_path': None}, {'credit_id': '5892144ac3a36809680090de', 'department': 'Editing', 'gender': 0, 'id': 1748712, 'job': 'Editorial Manager', 'name': 'Julie M. McDonald', 'profile_path': None}, {'credit_id': '58921479c3a368096800910f', 'department': 'Editing', 'gender': 0, 'id': 1589729, 'job': 'Assistant Editor', 'name': 'Robin Lee', 'profile_path': None}, {'credit_id': '5892148b9251412dd10099cc', 'department': 'Editing', 'gender': 0, 'id': 1748716, 'job': 'Assistant Editor', 'name': 'Tom Freeman', 'profile_path': None}, {'credit_id': '589214959251412dcb009b1f', 'department': 'Editing', 'gender': 0, 'id': 1748717, 'job': 'Assistant Editor', 'name': 'Ada Cochavi', 'profile_path': None}, {'credit_id': '5892149ec3a3686348004798', 'department': 'Editing', 'gender': 0, 'id': 1336438, 'job': 'Assistant Editor', 'name': 'Dana Mulligan', 'profile_path': None}, {'credit_id': '589214adc3a368096a0095db', 'department': 'Editing', 'gender': 0, 'id': 1748718, 'job': 'Editorial Coordinator', 'name': 'Deirdre Morrison', 'profile_path': None}, {'credit_id': '589214c7c3a368097700952b', 'department': 'Production', 'gender': 0, 'id': 1748719, 'job': 'Production Coordinator', 'name': 'Lori Lombardo', 'profile_path': None}, {'credit_id': '589214cec3a368096a009603', 'department': 'Production', 'gender': 0, 'id': 1748720, 'job': 'Production Coordinator', 'name': 'Ellen Devine', 'profile_path': None}, {'credit_id': '589214e39251412dc8009904', 'department': 'Crew', 'gender': 0, 'id': 1468014, 'job': 'Unit Publicist', 'name': 'Lauren Beth Strogoff', 'profile_path': None}, {'credit_id': '58921544c3a3686b0a00507d', 'department': 'Sound', 'gender': 2, 'id': 2216, 'job': 'Sound Re-Recording Mixer', 'name': 'Gary Rydstrom', 'profile_path': '/jZpr1nVfO7lldWI0YtmP1FGw7Rj.jpg'}, {'credit_id': '5892154c9251412dd1009a56', 'department': 'Sound', 'gender': 0, 'id': 1425978, 'job': 'Sound Re-Recording Mixer', 'name': 'Gary Summers', 'profile_path': None}, {'credit_id': '58921555c3a36809680091bd', 'department': 'Sound', 'gender': 2, 'id': 8276, 'job': 'Supervising Sound Editor', 'name': 'Tim Holland', 'profile_path': None}, {'credit_id': '589215c39251412dcb009c12', 'department': 'Sound', 'gender': 0, 'id': 7069, 'job': 'Sound Effects Editor', 'name': 'Pat Jackson', 'profile_path': None}, {'credit_id': '58921698c3a368096a009788', 'department': 'Crew', 'gender': 2, 'id': 15894, 'job': 'Sound Design Assistant', 'name': 'Tom Myers', 'profile_path': None}, {'credit_id': '589216a89251412dc2009ca4', 'department': 'Sound', 'gender': 0, 'id': 1414177, 'job': 'Assistant Sound Editor', 'name': 'J.R. Grubbs', 'profile_path': None}, {'credit_id': '589216c19251412dc2009cb9', 'department': 'Sound', 'gender': 1, 'id': 1748724, 'job': 'Assistant Sound Editor', 'name': 'Susan Sanford', 'profile_path': None}, {'credit_id': '589216ccc3a3680973009274', 'department': 'Sound', 'gender': 0, 'id': 1748725, 'job': 'Assistant Sound Editor', 'name': 'Susan Popovic', 'profile_path': None}, {'credit_id': '589216d79251412dc8009aa0', 'department': 'Sound', 'gender': 0, 'id': 8067, 'job': 'Assistant Sound Editor', 'name': 'Dan Engstrom', 'profile_path': None}, {'credit_id': '589216e49251412dcd009a4f', 'department': 'Production', 'gender': 1, 'id': 7902, 'job': 'Casting Consultant', 'name': 'Ruth Lambert', 'profile_path': None}, {'credit_id': '589216f39251412dc2009cf3', 'department': 'Production', 'gender': 0, 'id': 84493, 'job': 'ADR Voice Casting', 'name': 'Mickie McGowan', 'profile_path': '/k7TjJBfINsg8vLQxJwos6XObAD6.jpg'}]</td>\n",
       "      <td>862</td>\n",
       "    </tr>\n",
       "  </tbody>\n",
       "</table>\n",
       "</div>"
      ],
      "text/plain": [
       "                                                                                                                                                                                                                                                                                                                                                                                                                                                                                                                                                                                                                                                                                                                                                                                                                                                                                                                                                                                                                                                                                                                                                                                                                                                                                                                                                                                                                                                                                                                                                                                                                                                                                                                                                                                                                                                                                                                                                                                                                                                                                                                                                                                                                                                                                                                                                                                                                                                                                                                                                                                                                                                                                                                                       cast  \\\n",
       "0  [{'cast_id': 14, 'character': 'Woody (voice)', 'credit_id': '52fe4284c3a36847f8024f95', 'gender': 2, 'id': 31, 'name': 'Tom Hanks', 'order': 0, 'profile_path': '/pQFoyx7rp09CJTAb932F2g8Nlho.jpg'}, {'cast_id': 15, 'character': 'Buzz Lightyear (voice)', 'credit_id': '52fe4284c3a36847f8024f99', 'gender': 2, 'id': 12898, 'name': 'Tim Allen', 'order': 1, 'profile_path': '/uX2xVf6pMmPepxnvFWyBtjexzgY.jpg'}, {'cast_id': 16, 'character': 'Mr. Potato Head (voice)', 'credit_id': '52fe4284c3a36847f8024f9d', 'gender': 2, 'id': 7167, 'name': 'Don Rickles', 'order': 2, 'profile_path': '/h5BcaDMPRVLHLDzbQavec4xfSdt.jpg'}, {'cast_id': 17, 'character': 'Slinky Dog (voice)', 'credit_id': '52fe4284c3a36847f8024fa1', 'gender': 2, 'id': 12899, 'name': 'Jim Varney', 'order': 3, 'profile_path': '/eIo2jVVXYgjDtaHoF19Ll9vtW7h.jpg'}, {'cast_id': 18, 'character': 'Rex (voice)', 'credit_id': '52fe4284c3a36847f8024fa5', 'gender': 2, 'id': 12900, 'name': 'Wallace Shawn', 'order': 4, 'profile_path': '/oGE6JqPP2xH4tNORKNqxbNPYi7u.jpg'}, {'cast_id': 19, 'character': 'Hamm (voice)', 'credit_id': '52fe4284c3a36847f8024fa9', 'gender': 2, 'id': 7907, 'name': 'John Ratzenberger', 'order': 5, 'profile_path': '/yGechiKWL6TJDfVE2KPSJYqdMsY.jpg'}, {'cast_id': 20, 'character': 'Bo Peep (voice)', 'credit_id': '52fe4284c3a36847f8024fad', 'gender': 1, 'id': 8873, 'name': 'Annie Potts', 'order': 6, 'profile_path': '/eryXT84RL41jHSJcMy4kS3u9y6w.jpg'}, {'cast_id': 26, 'character': 'Andy (voice)', 'credit_id': '52fe4284c3a36847f8024fc1', 'gender': 0, 'id': 1116442, 'name': 'John Morris', 'order': 7, 'profile_path': '/vYGyvK4LzeaUCoNSHtsuqJUY15M.jpg'}, {'cast_id': 22, 'character': 'Sid (voice)', 'credit_id': '52fe4284c3a36847f8024fb1', 'gender': 2, 'id': 12901, 'name': 'Erik von Detten', 'order': 8, 'profile_path': '/twnF1ZaJ1FUNUuo6xLXwcxjayBE.jpg'}, {'cast_id': 23, 'character': 'Mrs. Davis (voice)', 'credit_id': '52fe4284c3a36847f8024fb5', 'gender': 1, 'id': 12133, 'name': 'Laurie Metcalf', 'order': 9, 'profile_path': '/unMMIT60eoBM2sN2nyR7EZ2BvvD.jpg'}, {'cast_id': 24, 'character': 'Sergeant (voice)', 'credit_id': '52fe4284c3a36847f8024fb9', 'gender': 2, 'id': 8655, 'name': 'R. Lee Ermey', 'order': 10, 'profile_path': '/r8GBqFBjypLUP9VVqDqfZ7wYbSs.jpg'}, {'cast_id': 25, 'character': 'Hannah (voice)', 'credit_id': '52fe4284c3a36847f8024fbd', 'gender': 1, 'id': 12903, 'name': 'Sarah Freeman', 'order': 11, 'profile_path': None}, {'cast_id': 27, 'character': 'TV Announcer (voice)', 'credit_id': '52fe4284c3a36847f8024fc5', 'gender': 2, 'id': 37221, 'name': 'Penn Jillette', 'order': 12, 'profile_path': '/zmAaXUdx12NRsssgHbk1T31j2x9.jpg'}]   \n",
       "\n",
       "                                                                                                                                                                                                                                                                                                                                                                                                                                                                                                                                                                                                                                                                                                                                                                                                                                                                                                                                                                                                                                                                                                                                                                                                                                                                                                                                                                                                                                                                                                                                                                                                                                                                                                                                                                                                                                                                                                                                                                                                                                                                                                                                                                                                                                                                                                                                                                                                                                                                                                                                                                                                                                                                                                                                                                                                                                                                                                                                                                                                                                                                                                                                                                                                                                                                                                                                                                                                                                                                                                                                                                                                                                                                                                                                                                                                                                                                                                                                                                                                                                                                                                                                                                                                                                                                                                                                                                                                                                                                                                                                                                                                                                                                                                                                                                                                                                                                                                                                                                                                                                                                                                                                                                                                                                                                                                                                                                                                                                                                                                                                                                                                                                                                                                                                                                                                                                                                                                                                                                                                                                                                                                                                                                                                                                                                                                                                                                                                                                                                                                                                                                                                                                                                                                                                                                                                                                                                                                                                                                                                                                                                                                                                                                                                                                                                                                                                                                                                                                                                                                                                                                                                                                                                                                                                                                                                                                                                                                                                                                                                                                                                                                                                                                                                                                                                                                                                                                                                                                                                                                                                                                                                                                                                                                                                                                                                                                                                                                                                                                                                                                                                                                                                                                                                                                                                                                                                                                                                                                                                                                                                                                                                                                                                                                                                                                                                                                                                                                                                                                                                                                                                                                                                                                                                                                                                                                                                                                                                                                                                                                                                                                                                                                                                                                                                                                                                                                                                                                                                                                                                                                                                                                                                                                                                                                                                                                                                                                                                                                                                                                                                                                                                                                                                                                                                                                                                                                                                                                                                                                                                                                                                                                                                                                                                                                                                                                                                                                                                                                                                                                                                                                                                                                                                                                                                                                                                                                                                                                                                                                                                                                                                                                                                                                                                                                                                                                                                                                                                                                                                                                                                                                                                                                                                                                                                                                                                                                                                                                                                                                                                                                                                                                                                                                                                                                                                                                                                                                                                                                                                                                                                                                                                                                                                                                                                                                                                                                                                                                                                                                                                                                                                                                                                                                                                                                                                                                                                                                                                                                                                                                                                                                                                                                                                                                                                                                                                                                                                                                                                                                                                                                                                                                                                                                                                                                                                                                                                                                                                                                                                                                                                                                                                                                                                                                                                                                                                                                                                                                                                                                                                                                                                                                                                                                                                                                                                                                                                                                                                                                                                                                                                                                                                                                                                                                                                                                                                                                                                                                                                                                                                                                                                                                                                                                                                                                                                                                                                                                                                                                                                                                                                                                                                                                                                                                                                                                                                                                                                                                                                                                                                                                                                                                                                                                                                                                                                                                                                                                                                                             crew  \\\n",
       "0  [{'credit_id': '52fe4284c3a36847f8024f49', 'department': 'Directing', 'gender': 2, 'id': 7879, 'job': 'Director', 'name': 'John Lasseter', 'profile_path': '/7EdqiNbr4FRjIhKHyPPdFfEEEFG.jpg'}, {'credit_id': '52fe4284c3a36847f8024f4f', 'department': 'Writing', 'gender': 2, 'id': 12891, 'job': 'Screenplay', 'name': 'Joss Whedon', 'profile_path': '/dTiVsuaTVTeGmvkhcyJvKp2A5kr.jpg'}, {'credit_id': '52fe4284c3a36847f8024f55', 'department': 'Writing', 'gender': 2, 'id': 7, 'job': 'Screenplay', 'name': 'Andrew Stanton', 'profile_path': '/pvQWsu0qc8JFQhMVJkTHuexUAa1.jpg'}, {'credit_id': '52fe4284c3a36847f8024f5b', 'department': 'Writing', 'gender': 2, 'id': 12892, 'job': 'Screenplay', 'name': 'Joel Cohen', 'profile_path': '/dAubAiZcvKFbboWlj7oXOkZnTSu.jpg'}, {'credit_id': '52fe4284c3a36847f8024f61', 'department': 'Writing', 'gender': 0, 'id': 12893, 'job': 'Screenplay', 'name': 'Alec Sokolow', 'profile_path': '/v79vlRYi94BZUQnkkyznbGUZLjT.jpg'}, {'credit_id': '52fe4284c3a36847f8024f67', 'department': 'Production', 'gender': 1, 'id': 12894, 'job': 'Producer', 'name': 'Bonnie Arnold', 'profile_path': None}, {'credit_id': '52fe4284c3a36847f8024f6d', 'department': 'Production', 'gender': 0, 'id': 12895, 'job': 'Executive Producer', 'name': 'Ed Catmull', 'profile_path': None}, {'credit_id': '52fe4284c3a36847f8024f73', 'department': 'Production', 'gender': 2, 'id': 12896, 'job': 'Producer', 'name': 'Ralph Guggenheim', 'profile_path': None}, {'credit_id': '52fe4284c3a36847f8024f79', 'department': 'Production', 'gender': 2, 'id': 12897, 'job': 'Executive Producer', 'name': 'Steve Jobs', 'profile_path': '/mOMP3SwD5qWQSR0ldCIByd3guTV.jpg'}, {'credit_id': '52fe4284c3a36847f8024f8b', 'department': 'Editing', 'gender': 2, 'id': 8, 'job': 'Editor', 'name': 'Lee Unkrich', 'profile_path': '/bdTCCXjgOV3YyaNmLGYGOxFQMOc.jpg'}, {'credit_id': '52fe4284c3a36847f8024f91', 'department': 'Art', 'gender': 2, 'id': 7883, 'job': 'Art Direction', 'name': 'Ralph Eggleston', 'profile_path': '/uUfcGKDsKO1aROMpXRs67Hn6RvR.jpg'}, {'credit_id': '598331bf925141421201044b', 'department': 'Editing', 'gender': 2, 'id': 1168870, 'job': 'Editor', 'name': 'Robert Gordon', 'profile_path': None}, {'credit_id': '5892168cc3a36809660095f9', 'department': 'Sound', 'gender': 0, 'id': 1552883, 'job': 'Foley Editor', 'name': 'Mary Helen Leasman', 'profile_path': None}, {'credit_id': '5531824d9251415289000945', 'department': 'Visual Effects', 'gender': 0, 'id': 1453514, 'job': 'Animation', 'name': 'Kim Blanchette', 'profile_path': None}, {'credit_id': '589215969251412dcb009bf6', 'department': 'Sound', 'gender': 0, 'id': 1414182, 'job': 'ADR Editor', 'name': 'Marilyn McCoppen', 'profile_path': None}, {'credit_id': '589217099251412dc500a018', 'department': 'Sound', 'gender': 2, 'id': 7885, 'job': 'Orchestrator', 'name': 'Randy Newman', 'profile_path': '/w0JzfoiM25nrnxYOzosPHRq6mlE.jpg'}, {'credit_id': '5693e6b29251417b0e0000e3', 'department': 'Editing', 'gender': 0, 'id': 1429549, 'job': 'Color Timer', 'name': 'Dale E. Grahn', 'profile_path': None}, {'credit_id': '572e2522c3a36869e6001a9c', 'department': 'Visual Effects', 'gender': 0, 'id': 7949, 'job': 'CG Painter', 'name': 'Robin Cooper', 'profile_path': None}, {'credit_id': '574f12309251415ca1000012', 'department': 'Writing', 'gender': 2, 'id': 7879, 'job': 'Original Story', 'name': 'John Lasseter', 'profile_path': '/7EdqiNbr4FRjIhKHyPPdFfEEEFG.jpg'}, {'credit_id': '574f1240c3a3682e7300001c', 'department': 'Writing', 'gender': 2, 'id': 12890, 'job': 'Original Story', 'name': 'Pete Docter', 'profile_path': '/r6ngPgnReA3RHmKjmSoVsc6Awjp.jpg'}, {'credit_id': '574f12519251415c92000015', 'department': 'Writing', 'gender': 0, 'id': 7911, 'job': 'Original Story', 'name': 'Joe Ranft', 'profile_path': '/f1BoWC2JbCcfP1e5hKfGsxkHzVU.jpg'}, {'credit_id': '574f12cec3a3682e82000022', 'department': 'Crew', 'gender': 0, 'id': 1629419, 'job': 'Post Production Supervisor', 'name': 'Patsy Bouge', 'profile_path': None}, {'credit_id': '574f14f19251415ca1000082', 'department': 'Art', 'gender': 0, 'id': 7961, 'job': 'Sculptor', 'name': 'Norm DeCarlo', 'profile_path': None}, {'credit_id': '5751ae4bc3a3683772002b7f', 'department': 'Visual Effects', 'gender': 2, 'id': 12905, 'job': 'Animation Director', 'name': 'Ash Brannon', 'profile_path': '/6ueWgPEEBHvS3De2BHYQnYjRTig.jpg'}, {'credit_id': '5891edbe9251412dc5007cd6', 'department': 'Sound', 'gender': 2, 'id': 7885, 'job': 'Music', 'name': 'Randy Newman', 'profile_path': '/w0JzfoiM25nrnxYOzosPHRq6mlE.jpg'}, {'credit_id': '589213d39251412dc8009832', 'department': 'Directing', 'gender': 0, 'id': 1748707, 'job': 'Layout', 'name': 'Roman Figun', 'profile_path': None}, {'credit_id': '5892173dc3a3680968009351', 'department': 'Sound', 'gender': 2, 'id': 4949, 'job': 'Orchestrator', 'name': 'Don Davis', 'profile_path': None}, {'credit_id': '589217cec3a3686b0a0052ba', 'department': 'Sound', 'gender': 0, 'id': 1372885, 'job': 'Music Editor', 'name': 'James Flamberg', 'profile_path': None}, {'credit_id': '58921831c3a3686348004a64', 'department': 'Editing', 'gender': 0, 'id': 1739962, 'job': 'Negative Cutter', 'name': 'Mary Beth Smith', 'profile_path': None}, {'credit_id': '58921838c3a36809700096c0', 'department': 'Editing', 'gender': 0, 'id': 1748513, 'job': 'Negative Cutter', 'name': 'Rick Mackay', 'profile_path': None}, {'credit_id': '589218429251412dd1009d1b', 'department': 'Art', 'gender': 0, 'id': 1458006, 'job': 'Title Designer', 'name': 'Susan Bradley', 'profile_path': None}, {'credit_id': '5891ed99c3a3680966007670', 'department': 'Crew', 'gender': 0, 'id': 1748557, 'job': 'Supervising Technical Director', 'name': 'William Reeves', 'profile_path': None}, {'credit_id': '5891edcec3a3686b0a002eb2', 'department': 'Sound', 'gender': 2, 'id': 7885, 'job': 'Songs', 'name': 'Randy Newman', 'profile_path': '/w0JzfoiM25nrnxYOzosPHRq6mlE.jpg'}, {'credit_id': '5891edf9c3a36809700075e6', 'department': 'Writing', 'gender': 2, 'id': 7, 'job': 'Original Story', 'name': 'Andrew Stanton', 'profile_path': '/pvQWsu0qc8JFQhMVJkTHuexUAa1.jpg'}, {'credit_id': '58920f0b9251412dd7009104', 'department': 'Crew', 'gender': 2, 'id': 12890, 'job': 'Supervising Animator', 'name': 'Pete Docter', 'profile_path': '/r6ngPgnReA3RHmKjmSoVsc6Awjp.jpg'}, {'credit_id': '58920f1fc3a3680977009021', 'department': 'Sound', 'gender': 2, 'id': 2216, 'job': 'Sound Designer', 'name': 'Gary Rydstrom', 'profile_path': '/jZpr1nVfO7lldWI0YtmP1FGw7Rj.jpg'}, {'credit_id': '58920f389251412dd700912d', 'department': 'Production', 'gender': 0, 'id': 12909, 'job': 'Production Supervisor', 'name': 'Karen Robert Jackson', 'profile_path': None}, {'credit_id': '58920fbd9251412dcb00969c', 'department': 'Crew', 'gender': 0, 'id': 953331, 'job': 'Executive Music Producer', 'name': 'Chris Montan', 'profile_path': None}, {'credit_id': '589210069251412dd7009219', 'department': 'Visual Effects', 'gender': 0, 'id': 7893, 'job': 'Animation Director', 'name': 'Rich Quade', 'profile_path': None}, {'credit_id': '589210329251412dcd00943b', 'department': 'Visual Effects', 'gender': 0, 'id': 8025, 'job': 'Animation', 'name': 'Michael Berenstein', 'profile_path': None}, {'credit_id': '5892103bc3a368096a009180', 'department': 'Visual Effects', 'gender': 0, 'id': 78009, 'job': 'Animation', 'name': 'Colin Brady', 'profile_path': None}, {'credit_id': '5892105dc3a3680968008db2', 'department': 'Visual Effects', 'gender': 0, 'id': 1748682, 'job': 'Animation', 'name': 'Davey Crockett Feiten', 'profile_path': None}, {'credit_id': '589210669251412dcd009466', 'department': 'Visual Effects', 'gender': 0, 'id': 1454030, 'job': 'Animation', 'name': 'Angie Glocka', 'profile_path': None}, {'credit_id': '5892107c9251412dd1009613', 'department': 'Visual Effects', 'gender': 0, 'id': 1748683, 'job': 'Animation', 'name': 'Rex Grignon', 'profile_path': None}, {'credit_id': '5892108ac3a3680973008d3f', 'department': 'Visual Effects', 'gender': 0, 'id': 1748684, 'job': 'Animation', 'name': 'Tom K. Gurney', 'profile_path': None}, {'credit_id': '58921093c3a3686348004477', 'department': 'Visual Effects', 'gender': 2, 'id': 8029, 'job': 'Animation', 'name': 'Jimmy Hayward', 'profile_path': '/lTDRpudEY7BDwTefXbXzMlmb0ui.jpg'}, {'credit_id': '5892109b9251412dcd0094b0', 'department': 'Visual Effects', 'gender': 0, 'id': 1426773, 'job': 'Animation', 'name': 'Hal T. Hickel', 'profile_path': None}, {'credit_id': '589210a29251412dc5009a29', 'department': 'Visual Effects', 'gender': 0, 'id': 8035, 'job': 'Animation', 'name': 'Karen Kiser', 'profile_path': None}, {'credit_id': '589210ccc3a3680977009191', 'department': 'Visual Effects', 'gender': 0, 'id': 1748688, 'job': 'Animation', 'name': 'Anthony B. LaMolinara', 'profile_path': None}, {'credit_id': '589210d7c3a3686b0a004c1f', 'department': 'Visual Effects', 'gender': 0, 'id': 587314, 'job': 'Animation', 'name': 'Guionne Leroy', 'profile_path': None}, {'credit_id': '589210e1c3a36809770091a7', 'department': 'Visual Effects', 'gender': 2, 'id': 7918, 'job': 'Animation', 'name': 'Bud Luckey', 'profile_path': '/pcCh7G19FKMNijmPQg1PMH1btic.jpg'}, {'credit_id': '589210ee9251412dc200978a', 'department': 'Visual Effects', 'gender': 0, 'id': 1748689, 'job': 'Animation', 'name': 'Les Major', 'profile_path': None}, {'credit_id': '589210fa9251412dc8009595', 'department': 'Visual Effects', 'gender': 2, 'id': 7892, 'job': 'Animation', 'name': 'Glenn McQueen', 'profile_path': None}, {'credit_id': '589211029251412dc8009598', 'department': 'Visual Effects', 'gender': 0, 'id': 555795, 'job': 'Animation', 'name': 'Mark Oftedal', 'profile_path': None}, {'credit_id': '5892110b9251412dc800959d', 'department': 'Visual Effects', 'gender': 2, 'id': 7882, 'job': 'Animation', 'name': 'Jeff Pidgeon', 'profile_path': '/yLddkg5HcgbJg00cS13GVBnP0HY.jpg'}, {'credit_id': '58921113c3a36863480044e4', 'department': 'Visual Effects', 'gender': 0, 'id': 8017, 'job': 'Animation', 'name': 'Jeff Pratt', 'profile_path': None}, {'credit_id': '5892111c9251412dcb0097e9', 'department': 'Visual Effects', 'gender': 0, 'id': 1184140, 'job': 'Animation', 'name': 'Steve Rabatich', 'profile_path': None}, {'credit_id': '58921123c3a36809700090f6', 'department': 'Visual Effects', 'gender': 0, 'id': 8049, 'job': 'Animation', 'name': 'Roger Rose', 'profile_path': None}, {'credit_id': '5892112b9251412dcb0097fb', 'department': 'Visual Effects', 'gender': 0, 'id': 1509559, 'job': 'Animation', 'name': 'Steve Segal', 'profile_path': None}, {'credit_id': '589211349251412dc80095c3', 'department': 'Visual Effects', 'gender': 0, 'id': 1748691, 'job': 'Animation', 'name': 'Doug Sheppeck', 'profile_path': None}, {'credit_id': '5892113cc3a3680970009106', 'department': 'Visual Effects', 'gender': 0, 'id': 8050, 'job': 'Animation', 'name': 'Alan Sperling', 'profile_path': None}, {'credit_id': '58921148c3a3686b0a004c99', 'department': 'Visual Effects', 'gender': 0, 'id': 8010, 'job': 'Animation', 'name': 'Doug Sweetland', 'profile_path': None}, {'credit_id': '58921150c3a3680966009125', 'department': 'Visual Effects', 'gender': 0, 'id': 8044, 'job': 'Animation', 'name': 'David Tart', 'profile_path': None}, {'credit_id': '589211629251412dc5009b00', 'department': 'Visual Effects', 'gender': 0, 'id': 1454034, 'job': 'Animation', 'name': 'Ken Willard', 'profile_path': None}, {'credit_id': '589211c1c3a3686b0a004d28', 'department': 'Visual Effects', 'gender': 0, 'id': 7887, 'job': 'Visual Effects Supervisor', 'name': 'Thomas Porter', 'profile_path': None}, {'credit_id': '589211d4c3a3680968008ed9', 'department': 'Visual Effects', 'gender': 0, 'id': 1406878, 'job': 'Visual Effects', 'name': 'Mark Thomas Henne', 'profile_path': None}, {'credit_id': '589211f59251412dd4008e65', 'department': 'Visual Effects', 'gender': 0, 'id': 1748698, 'job': 'Visual Effects', 'name': 'Oren Jacob', 'profile_path': None}, {'credit_id': '58921242c3a368096a00939b', 'department': 'Visual Effects', 'gender': 0, 'id': 1748699, 'job': 'Visual Effects', 'name': 'Darwyn Peachey', 'profile_path': None}, {'credit_id': '5892124b9251412dc5009bd2', 'department': 'Visual Effects', 'gender': 0, 'id': 1748701, 'job': 'Visual Effects', 'name': 'Mitch Prater', 'profile_path': None}, {'credit_id': '58921264c3a3686b0a004dbf', 'department': 'Visual Effects', 'gender': 0, 'id': 1748703, 'job': 'Visual Effects', 'name': 'Brian M. Rosen', 'profile_path': None}, {'credit_id': '589212709251412dcd009676', 'department': 'Lighting', 'gender': 1, 'id': 12912, 'job': 'Lighting Supervisor', 'name': 'Sharon Calahan', 'profile_path': None}, {'credit_id': '5892127fc3a3686b0a004de5', 'department': 'Lighting', 'gender': 0, 'id': 7899, 'job': 'Lighting Supervisor', 'name': 'Galyn Susman', 'profile_path': None}, {'credit_id': '589212cdc3a3680970009268', 'department': 'Visual Effects', 'gender': 0, 'id': 12915, 'job': 'CG Painter', 'name': 'William Cone', 'profile_path': None}, {'credit_id': '5892130f9251412dc8009791', 'department': 'Art', 'gender': 0, 'id': 1748705, 'job': 'Sculptor', 'name': 'Shelley Daniels Lekven', 'profile_path': None}, {'credit_id': '5892131c9251412dd4008f4c', 'department': 'Visual Effects', 'gender': 2, 'id': 7889, 'job': 'Character Designer', 'name': 'Bob Pauley', 'profile_path': None}, {'credit_id': '589213249251412dd100987b', 'department': 'Visual Effects', 'gender': 2, 'id': 7918, 'job': 'Character Designer', 'name': 'Bud Luckey', 'profile_path': '/pcCh7G19FKMNijmPQg1PMH1btic.jpg'}, {'credit_id': '5892132b9251412dc80097b1', 'department': 'Visual Effects', 'gender': 2, 'id': 7, 'job': 'Character Designer', 'name': 'Andrew Stanton', 'profile_path': '/pvQWsu0qc8JFQhMVJkTHuexUAa1.jpg'}, {'credit_id': '58921332c3a368634800467b', 'department': 'Visual Effects', 'gender': 0, 'id': 12915, 'job': 'Character Designer', 'name': 'William Cone', 'profile_path': None}, {'credit_id': '5892135f9251412dd4008f90', 'department': 'Visual Effects', 'gender': 0, 'id': 1748706, 'job': 'Character Designer', 'name': 'Steve Johnson', 'profile_path': None}, {'credit_id': '58921384c3a3680973008fd4', 'department': 'Visual Effects', 'gender': 0, 'id': 1176752, 'job': 'Character Designer', 'name': 'Dan Haskett', 'profile_path': None}, {'credit_id': '5892138e9251412dc20099fc', 'department': 'Visual Effects', 'gender': 0, 'id': 1088034, 'job': 'Character Designer', 'name': 'Tom Holloway', 'profile_path': '/a0r0T2usTBpgMI5aZbRBDW1fTl8.jpg'}, {'credit_id': '58921395c3a368097700942f', 'department': 'Visual Effects', 'gender': 0, 'id': 1447465, 'job': 'Character Designer', 'name': 'Jean Gillmore', 'profile_path': None}, {'credit_id': '589213e2c3a3680973009026', 'department': 'Directing', 'gender': 0, 'id': 1748709, 'job': 'Layout', 'name': 'Desirée Mourad', 'profile_path': None}, {'credit_id': '589214099251412dc5009d57', 'department': 'Art', 'gender': 0, 'id': 1748710, 'job': 'Set Dresser', 'name': \"Kelly O'Connell\", 'profile_path': None}, {'credit_id': '58921411c3a3686b0a004f70', 'department': 'Art', 'gender': 0, 'id': 1443471, 'job': 'Set Dresser', 'name': 'Sonoko Konishi', 'profile_path': None}, {'credit_id': '58921434c3a368096a00956e', 'department': 'Art', 'gender': 0, 'id': 1748711, 'job': 'Set Dresser', 'name': 'Ann M. Rockwell', 'profile_path': None}, {'credit_id': '5892144ac3a36809680090de', 'department': 'Editing', 'gender': 0, 'id': 1748712, 'job': 'Editorial Manager', 'name': 'Julie M. McDonald', 'profile_path': None}, {'credit_id': '58921479c3a368096800910f', 'department': 'Editing', 'gender': 0, 'id': 1589729, 'job': 'Assistant Editor', 'name': 'Robin Lee', 'profile_path': None}, {'credit_id': '5892148b9251412dd10099cc', 'department': 'Editing', 'gender': 0, 'id': 1748716, 'job': 'Assistant Editor', 'name': 'Tom Freeman', 'profile_path': None}, {'credit_id': '589214959251412dcb009b1f', 'department': 'Editing', 'gender': 0, 'id': 1748717, 'job': 'Assistant Editor', 'name': 'Ada Cochavi', 'profile_path': None}, {'credit_id': '5892149ec3a3686348004798', 'department': 'Editing', 'gender': 0, 'id': 1336438, 'job': 'Assistant Editor', 'name': 'Dana Mulligan', 'profile_path': None}, {'credit_id': '589214adc3a368096a0095db', 'department': 'Editing', 'gender': 0, 'id': 1748718, 'job': 'Editorial Coordinator', 'name': 'Deirdre Morrison', 'profile_path': None}, {'credit_id': '589214c7c3a368097700952b', 'department': 'Production', 'gender': 0, 'id': 1748719, 'job': 'Production Coordinator', 'name': 'Lori Lombardo', 'profile_path': None}, {'credit_id': '589214cec3a368096a009603', 'department': 'Production', 'gender': 0, 'id': 1748720, 'job': 'Production Coordinator', 'name': 'Ellen Devine', 'profile_path': None}, {'credit_id': '589214e39251412dc8009904', 'department': 'Crew', 'gender': 0, 'id': 1468014, 'job': 'Unit Publicist', 'name': 'Lauren Beth Strogoff', 'profile_path': None}, {'credit_id': '58921544c3a3686b0a00507d', 'department': 'Sound', 'gender': 2, 'id': 2216, 'job': 'Sound Re-Recording Mixer', 'name': 'Gary Rydstrom', 'profile_path': '/jZpr1nVfO7lldWI0YtmP1FGw7Rj.jpg'}, {'credit_id': '5892154c9251412dd1009a56', 'department': 'Sound', 'gender': 0, 'id': 1425978, 'job': 'Sound Re-Recording Mixer', 'name': 'Gary Summers', 'profile_path': None}, {'credit_id': '58921555c3a36809680091bd', 'department': 'Sound', 'gender': 2, 'id': 8276, 'job': 'Supervising Sound Editor', 'name': 'Tim Holland', 'profile_path': None}, {'credit_id': '589215c39251412dcb009c12', 'department': 'Sound', 'gender': 0, 'id': 7069, 'job': 'Sound Effects Editor', 'name': 'Pat Jackson', 'profile_path': None}, {'credit_id': '58921698c3a368096a009788', 'department': 'Crew', 'gender': 2, 'id': 15894, 'job': 'Sound Design Assistant', 'name': 'Tom Myers', 'profile_path': None}, {'credit_id': '589216a89251412dc2009ca4', 'department': 'Sound', 'gender': 0, 'id': 1414177, 'job': 'Assistant Sound Editor', 'name': 'J.R. Grubbs', 'profile_path': None}, {'credit_id': '589216c19251412dc2009cb9', 'department': 'Sound', 'gender': 1, 'id': 1748724, 'job': 'Assistant Sound Editor', 'name': 'Susan Sanford', 'profile_path': None}, {'credit_id': '589216ccc3a3680973009274', 'department': 'Sound', 'gender': 0, 'id': 1748725, 'job': 'Assistant Sound Editor', 'name': 'Susan Popovic', 'profile_path': None}, {'credit_id': '589216d79251412dc8009aa0', 'department': 'Sound', 'gender': 0, 'id': 8067, 'job': 'Assistant Sound Editor', 'name': 'Dan Engstrom', 'profile_path': None}, {'credit_id': '589216e49251412dcd009a4f', 'department': 'Production', 'gender': 1, 'id': 7902, 'job': 'Casting Consultant', 'name': 'Ruth Lambert', 'profile_path': None}, {'credit_id': '589216f39251412dc2009cf3', 'department': 'Production', 'gender': 0, 'id': 84493, 'job': 'ADR Voice Casting', 'name': 'Mickie McGowan', 'profile_path': '/k7TjJBfINsg8vLQxJwos6XObAD6.jpg'}]   \n",
       "\n",
       "    id  \n",
       "0  862  "
      ]
     },
     "execution_count": 37,
     "metadata": {},
     "output_type": "execute_result"
    }
   ],
   "source": [
    "credits_df.head(1)"
   ]
  },
  {
   "cell_type": "code",
   "execution_count": 38,
   "metadata": {},
   "outputs": [],
   "source": [
    "# keywords_df=pd.read_csv('keywords.csv/keywords.csv',low_memory=False)\n",
    "keywords_df=pd.read_csv('https://firsts3buckets3.s3.amazonaws.com/keywords.csv/keywords.csv',low_memory=False)\n"
   ]
  },
  {
   "cell_type": "code",
   "execution_count": 39,
   "metadata": {},
   "outputs": [
    {
     "data": {
      "text/plain": [
       "(46419, 2)"
      ]
     },
     "execution_count": 39,
     "metadata": {},
     "output_type": "execute_result"
    }
   ],
   "source": [
    "keywords_df.shape"
   ]
  },
  {
   "cell_type": "code",
   "execution_count": 40,
   "metadata": {},
   "outputs": [
    {
     "data": {
      "text/html": [
       "<div>\n",
       "<style scoped>\n",
       "    .dataframe tbody tr th:only-of-type {\n",
       "        vertical-align: middle;\n",
       "    }\n",
       "\n",
       "    .dataframe tbody tr th {\n",
       "        vertical-align: top;\n",
       "    }\n",
       "\n",
       "    .dataframe thead th {\n",
       "        text-align: right;\n",
       "    }\n",
       "</style>\n",
       "<table border=\"1\" class=\"dataframe\">\n",
       "  <thead>\n",
       "    <tr style=\"text-align: right;\">\n",
       "      <th></th>\n",
       "      <th>id</th>\n",
       "      <th>keywords</th>\n",
       "    </tr>\n",
       "  </thead>\n",
       "  <tbody>\n",
       "    <tr>\n",
       "      <th>0</th>\n",
       "      <td>862</td>\n",
       "      <td>[{'id': 931, 'name': 'jealousy'}, {'id': 4290, 'name': 'toy'}, {'id': 5202, 'name': 'boy'}, {'id': 6054, 'name': 'friendship'}, {'id': 9713, 'name': 'friends'}, {'id': 9823, 'name': 'rivalry'}, {'id': 165503, 'name': 'boy next door'}, {'id': 170722, 'name': 'new toy'}, {'id': 187065, 'name': 'toy comes to life'}]</td>\n",
       "    </tr>\n",
       "  </tbody>\n",
       "</table>\n",
       "</div>"
      ],
      "text/plain": [
       "    id  \\\n",
       "0  862   \n",
       "\n",
       "                                                                                                                                                                                                                                                                                                                     keywords  \n",
       "0  [{'id': 931, 'name': 'jealousy'}, {'id': 4290, 'name': 'toy'}, {'id': 5202, 'name': 'boy'}, {'id': 6054, 'name': 'friendship'}, {'id': 9713, 'name': 'friends'}, {'id': 9823, 'name': 'rivalry'}, {'id': 165503, 'name': 'boy next door'}, {'id': 170722, 'name': 'new toy'}, {'id': 187065, 'name': 'toy comes to life'}]  "
      ]
     },
     "execution_count": 40,
     "metadata": {},
     "output_type": "execute_result"
    }
   ],
   "source": [
    "keywords_df.head(1)"
   ]
  },
  {
   "cell_type": "code",
   "execution_count": 41,
   "metadata": {},
   "outputs": [
    {
     "data": {
      "text/plain": [
       "(45320, 28)"
      ]
     },
     "execution_count": 41,
     "metadata": {},
     "output_type": "execute_result"
    }
   ],
   "source": [
    "# movies_df_join=pd.merge(movies_df,credits_df,on='id')\n",
    "\n",
    "movies_df_join=movies_df.merge(credits_df, on='id').merge(keywords_df, on= 'id')\n",
    "movies_df_join.shape"
   ]
  },
  {
   "cell_type": "code",
   "execution_count": 42,
   "metadata": {},
   "outputs": [],
   "source": [
    "# movies_df_join.head()"
   ]
  },
  {
   "cell_type": "code",
   "execution_count": 43,
   "metadata": {},
   "outputs": [],
   "source": [
    "movies_df_join = movies_df_join[['id','title','overview','genres','cast','crew','keywords','year']]"
   ]
  },
  {
   "cell_type": "code",
   "execution_count": 44,
   "metadata": {},
   "outputs": [
    {
     "data": {
      "text/html": [
       "<div>\n",
       "<style scoped>\n",
       "    .dataframe tbody tr th:only-of-type {\n",
       "        vertical-align: middle;\n",
       "    }\n",
       "\n",
       "    .dataframe tbody tr th {\n",
       "        vertical-align: top;\n",
       "    }\n",
       "\n",
       "    .dataframe thead th {\n",
       "        text-align: right;\n",
       "    }\n",
       "</style>\n",
       "<table border=\"1\" class=\"dataframe\">\n",
       "  <thead>\n",
       "    <tr style=\"text-align: right;\">\n",
       "      <th></th>\n",
       "      <th>id</th>\n",
       "      <th>title</th>\n",
       "      <th>overview</th>\n",
       "      <th>genres</th>\n",
       "      <th>cast</th>\n",
       "      <th>crew</th>\n",
       "      <th>keywords</th>\n",
       "      <th>year</th>\n",
       "    </tr>\n",
       "  </thead>\n",
       "  <tbody>\n",
       "    <tr>\n",
       "      <th>0</th>\n",
       "      <td>862</td>\n",
       "      <td>Toy Story</td>\n",
       "      <td>Led by Woody, Andy's toys live happily in his room until Andy's birthday brings Buzz Lightyear onto the scene. Afraid of losing his place in Andy's heart, Woody plots against Buzz. But when circumstances separate Buzz and Woody from their owner, the duo eventually learns to put aside their differences.</td>\n",
       "      <td>[{'id': 16, 'name': 'Animation'}, {'id': 35, 'name': 'Comedy'}, {'id': 10751, 'name': 'Family'}]</td>\n",
       "      <td>[{'cast_id': 14, 'character': 'Woody (voice)', 'credit_id': '52fe4284c3a36847f8024f95', 'gender': 2, 'id': 31, 'name': 'Tom Hanks', 'order': 0, 'profile_path': '/pQFoyx7rp09CJTAb932F2g8Nlho.jpg'}, {'cast_id': 15, 'character': 'Buzz Lightyear (voice)', 'credit_id': '52fe4284c3a36847f8024f99', 'gender': 2, 'id': 12898, 'name': 'Tim Allen', 'order': 1, 'profile_path': '/uX2xVf6pMmPepxnvFWyBtjexzgY.jpg'}, {'cast_id': 16, 'character': 'Mr. Potato Head (voice)', 'credit_id': '52fe4284c3a36847f8024f9d', 'gender': 2, 'id': 7167, 'name': 'Don Rickles', 'order': 2, 'profile_path': '/h5BcaDMPRVLHLDzbQavec4xfSdt.jpg'}, {'cast_id': 17, 'character': 'Slinky Dog (voice)', 'credit_id': '52fe4284c3a36847f8024fa1', 'gender': 2, 'id': 12899, 'name': 'Jim Varney', 'order': 3, 'profile_path': '/eIo2jVVXYgjDtaHoF19Ll9vtW7h.jpg'}, {'cast_id': 18, 'character': 'Rex (voice)', 'credit_id': '52fe4284c3a36847f8024fa5', 'gender': 2, 'id': 12900, 'name': 'Wallace Shawn', 'order': 4, 'profile_path': '/oGE6JqPP2xH4tNORKNqxbNPYi7u.jpg'}, {'cast_id': 19, 'character': 'Hamm (voice)', 'credit_id': '52fe4284c3a36847f8024fa9', 'gender': 2, 'id': 7907, 'name': 'John Ratzenberger', 'order': 5, 'profile_path': '/yGechiKWL6TJDfVE2KPSJYqdMsY.jpg'}, {'cast_id': 20, 'character': 'Bo Peep (voice)', 'credit_id': '52fe4284c3a36847f8024fad', 'gender': 1, 'id': 8873, 'name': 'Annie Potts', 'order': 6, 'profile_path': '/eryXT84RL41jHSJcMy4kS3u9y6w.jpg'}, {'cast_id': 26, 'character': 'Andy (voice)', 'credit_id': '52fe4284c3a36847f8024fc1', 'gender': 0, 'id': 1116442, 'name': 'John Morris', 'order': 7, 'profile_path': '/vYGyvK4LzeaUCoNSHtsuqJUY15M.jpg'}, {'cast_id': 22, 'character': 'Sid (voice)', 'credit_id': '52fe4284c3a36847f8024fb1', 'gender': 2, 'id': 12901, 'name': 'Erik von Detten', 'order': 8, 'profile_path': '/twnF1ZaJ1FUNUuo6xLXwcxjayBE.jpg'}, {'cast_id': 23, 'character': 'Mrs. Davis (voice)', 'credit_id': '52fe4284c3a36847f8024fb5', 'gender': 1, 'id': 12133, 'name': 'Laurie Metcalf', 'order': 9, 'profile_path': '/unMMIT60eoBM2sN2nyR7EZ2BvvD.jpg'}, {'cast_id': 24, 'character': 'Sergeant (voice)', 'credit_id': '52fe4284c3a36847f8024fb9', 'gender': 2, 'id': 8655, 'name': 'R. Lee Ermey', 'order': 10, 'profile_path': '/r8GBqFBjypLUP9VVqDqfZ7wYbSs.jpg'}, {'cast_id': 25, 'character': 'Hannah (voice)', 'credit_id': '52fe4284c3a36847f8024fbd', 'gender': 1, 'id': 12903, 'name': 'Sarah Freeman', 'order': 11, 'profile_path': None}, {'cast_id': 27, 'character': 'TV Announcer (voice)', 'credit_id': '52fe4284c3a36847f8024fc5', 'gender': 2, 'id': 37221, 'name': 'Penn Jillette', 'order': 12, 'profile_path': '/zmAaXUdx12NRsssgHbk1T31j2x9.jpg'}]</td>\n",
       "      <td>[{'credit_id': '52fe4284c3a36847f8024f49', 'department': 'Directing', 'gender': 2, 'id': 7879, 'job': 'Director', 'name': 'John Lasseter', 'profile_path': '/7EdqiNbr4FRjIhKHyPPdFfEEEFG.jpg'}, {'credit_id': '52fe4284c3a36847f8024f4f', 'department': 'Writing', 'gender': 2, 'id': 12891, 'job': 'Screenplay', 'name': 'Joss Whedon', 'profile_path': '/dTiVsuaTVTeGmvkhcyJvKp2A5kr.jpg'}, {'credit_id': '52fe4284c3a36847f8024f55', 'department': 'Writing', 'gender': 2, 'id': 7, 'job': 'Screenplay', 'name': 'Andrew Stanton', 'profile_path': '/pvQWsu0qc8JFQhMVJkTHuexUAa1.jpg'}, {'credit_id': '52fe4284c3a36847f8024f5b', 'department': 'Writing', 'gender': 2, 'id': 12892, 'job': 'Screenplay', 'name': 'Joel Cohen', 'profile_path': '/dAubAiZcvKFbboWlj7oXOkZnTSu.jpg'}, {'credit_id': '52fe4284c3a36847f8024f61', 'department': 'Writing', 'gender': 0, 'id': 12893, 'job': 'Screenplay', 'name': 'Alec Sokolow', 'profile_path': '/v79vlRYi94BZUQnkkyznbGUZLjT.jpg'}, {'credit_id': '52fe4284c3a36847f8024f67', 'department': 'Production', 'gender': 1, 'id': 12894, 'job': 'Producer', 'name': 'Bonnie Arnold', 'profile_path': None}, {'credit_id': '52fe4284c3a36847f8024f6d', 'department': 'Production', 'gender': 0, 'id': 12895, 'job': 'Executive Producer', 'name': 'Ed Catmull', 'profile_path': None}, {'credit_id': '52fe4284c3a36847f8024f73', 'department': 'Production', 'gender': 2, 'id': 12896, 'job': 'Producer', 'name': 'Ralph Guggenheim', 'profile_path': None}, {'credit_id': '52fe4284c3a36847f8024f79', 'department': 'Production', 'gender': 2, 'id': 12897, 'job': 'Executive Producer', 'name': 'Steve Jobs', 'profile_path': '/mOMP3SwD5qWQSR0ldCIByd3guTV.jpg'}, {'credit_id': '52fe4284c3a36847f8024f8b', 'department': 'Editing', 'gender': 2, 'id': 8, 'job': 'Editor', 'name': 'Lee Unkrich', 'profile_path': '/bdTCCXjgOV3YyaNmLGYGOxFQMOc.jpg'}, {'credit_id': '52fe4284c3a36847f8024f91', 'department': 'Art', 'gender': 2, 'id': 7883, 'job': 'Art Direction', 'name': 'Ralph Eggleston', 'profile_path': '/uUfcGKDsKO1aROMpXRs67Hn6RvR.jpg'}, {'credit_id': '598331bf925141421201044b', 'department': 'Editing', 'gender': 2, 'id': 1168870, 'job': 'Editor', 'name': 'Robert Gordon', 'profile_path': None}, {'credit_id': '5892168cc3a36809660095f9', 'department': 'Sound', 'gender': 0, 'id': 1552883, 'job': 'Foley Editor', 'name': 'Mary Helen Leasman', 'profile_path': None}, {'credit_id': '5531824d9251415289000945', 'department': 'Visual Effects', 'gender': 0, 'id': 1453514, 'job': 'Animation', 'name': 'Kim Blanchette', 'profile_path': None}, {'credit_id': '589215969251412dcb009bf6', 'department': 'Sound', 'gender': 0, 'id': 1414182, 'job': 'ADR Editor', 'name': 'Marilyn McCoppen', 'profile_path': None}, {'credit_id': '589217099251412dc500a018', 'department': 'Sound', 'gender': 2, 'id': 7885, 'job': 'Orchestrator', 'name': 'Randy Newman', 'profile_path': '/w0JzfoiM25nrnxYOzosPHRq6mlE.jpg'}, {'credit_id': '5693e6b29251417b0e0000e3', 'department': 'Editing', 'gender': 0, 'id': 1429549, 'job': 'Color Timer', 'name': 'Dale E. Grahn', 'profile_path': None}, {'credit_id': '572e2522c3a36869e6001a9c', 'department': 'Visual Effects', 'gender': 0, 'id': 7949, 'job': 'CG Painter', 'name': 'Robin Cooper', 'profile_path': None}, {'credit_id': '574f12309251415ca1000012', 'department': 'Writing', 'gender': 2, 'id': 7879, 'job': 'Original Story', 'name': 'John Lasseter', 'profile_path': '/7EdqiNbr4FRjIhKHyPPdFfEEEFG.jpg'}, {'credit_id': '574f1240c3a3682e7300001c', 'department': 'Writing', 'gender': 2, 'id': 12890, 'job': 'Original Story', 'name': 'Pete Docter', 'profile_path': '/r6ngPgnReA3RHmKjmSoVsc6Awjp.jpg'}, {'credit_id': '574f12519251415c92000015', 'department': 'Writing', 'gender': 0, 'id': 7911, 'job': 'Original Story', 'name': 'Joe Ranft', 'profile_path': '/f1BoWC2JbCcfP1e5hKfGsxkHzVU.jpg'}, {'credit_id': '574f12cec3a3682e82000022', 'department': 'Crew', 'gender': 0, 'id': 1629419, 'job': 'Post Production Supervisor', 'name': 'Patsy Bouge', 'profile_path': None}, {'credit_id': '574f14f19251415ca1000082', 'department': 'Art', 'gender': 0, 'id': 7961, 'job': 'Sculptor', 'name': 'Norm DeCarlo', 'profile_path': None}, {'credit_id': '5751ae4bc3a3683772002b7f', 'department': 'Visual Effects', 'gender': 2, 'id': 12905, 'job': 'Animation Director', 'name': 'Ash Brannon', 'profile_path': '/6ueWgPEEBHvS3De2BHYQnYjRTig.jpg'}, {'credit_id': '5891edbe9251412dc5007cd6', 'department': 'Sound', 'gender': 2, 'id': 7885, 'job': 'Music', 'name': 'Randy Newman', 'profile_path': '/w0JzfoiM25nrnxYOzosPHRq6mlE.jpg'}, {'credit_id': '589213d39251412dc8009832', 'department': 'Directing', 'gender': 0, 'id': 1748707, 'job': 'Layout', 'name': 'Roman Figun', 'profile_path': None}, {'credit_id': '5892173dc3a3680968009351', 'department': 'Sound', 'gender': 2, 'id': 4949, 'job': 'Orchestrator', 'name': 'Don Davis', 'profile_path': None}, {'credit_id': '589217cec3a3686b0a0052ba', 'department': 'Sound', 'gender': 0, 'id': 1372885, 'job': 'Music Editor', 'name': 'James Flamberg', 'profile_path': None}, {'credit_id': '58921831c3a3686348004a64', 'department': 'Editing', 'gender': 0, 'id': 1739962, 'job': 'Negative Cutter', 'name': 'Mary Beth Smith', 'profile_path': None}, {'credit_id': '58921838c3a36809700096c0', 'department': 'Editing', 'gender': 0, 'id': 1748513, 'job': 'Negative Cutter', 'name': 'Rick Mackay', 'profile_path': None}, {'credit_id': '589218429251412dd1009d1b', 'department': 'Art', 'gender': 0, 'id': 1458006, 'job': 'Title Designer', 'name': 'Susan Bradley', 'profile_path': None}, {'credit_id': '5891ed99c3a3680966007670', 'department': 'Crew', 'gender': 0, 'id': 1748557, 'job': 'Supervising Technical Director', 'name': 'William Reeves', 'profile_path': None}, {'credit_id': '5891edcec3a3686b0a002eb2', 'department': 'Sound', 'gender': 2, 'id': 7885, 'job': 'Songs', 'name': 'Randy Newman', 'profile_path': '/w0JzfoiM25nrnxYOzosPHRq6mlE.jpg'}, {'credit_id': '5891edf9c3a36809700075e6', 'department': 'Writing', 'gender': 2, 'id': 7, 'job': 'Original Story', 'name': 'Andrew Stanton', 'profile_path': '/pvQWsu0qc8JFQhMVJkTHuexUAa1.jpg'}, {'credit_id': '58920f0b9251412dd7009104', 'department': 'Crew', 'gender': 2, 'id': 12890, 'job': 'Supervising Animator', 'name': 'Pete Docter', 'profile_path': '/r6ngPgnReA3RHmKjmSoVsc6Awjp.jpg'}, {'credit_id': '58920f1fc3a3680977009021', 'department': 'Sound', 'gender': 2, 'id': 2216, 'job': 'Sound Designer', 'name': 'Gary Rydstrom', 'profile_path': '/jZpr1nVfO7lldWI0YtmP1FGw7Rj.jpg'}, {'credit_id': '58920f389251412dd700912d', 'department': 'Production', 'gender': 0, 'id': 12909, 'job': 'Production Supervisor', 'name': 'Karen Robert Jackson', 'profile_path': None}, {'credit_id': '58920fbd9251412dcb00969c', 'department': 'Crew', 'gender': 0, 'id': 953331, 'job': 'Executive Music Producer', 'name': 'Chris Montan', 'profile_path': None}, {'credit_id': '589210069251412dd7009219', 'department': 'Visual Effects', 'gender': 0, 'id': 7893, 'job': 'Animation Director', 'name': 'Rich Quade', 'profile_path': None}, {'credit_id': '589210329251412dcd00943b', 'department': 'Visual Effects', 'gender': 0, 'id': 8025, 'job': 'Animation', 'name': 'Michael Berenstein', 'profile_path': None}, {'credit_id': '5892103bc3a368096a009180', 'department': 'Visual Effects', 'gender': 0, 'id': 78009, 'job': 'Animation', 'name': 'Colin Brady', 'profile_path': None}, {'credit_id': '5892105dc3a3680968008db2', 'department': 'Visual Effects', 'gender': 0, 'id': 1748682, 'job': 'Animation', 'name': 'Davey Crockett Feiten', 'profile_path': None}, {'credit_id': '589210669251412dcd009466', 'department': 'Visual Effects', 'gender': 0, 'id': 1454030, 'job': 'Animation', 'name': 'Angie Glocka', 'profile_path': None}, {'credit_id': '5892107c9251412dd1009613', 'department': 'Visual Effects', 'gender': 0, 'id': 1748683, 'job': 'Animation', 'name': 'Rex Grignon', 'profile_path': None}, {'credit_id': '5892108ac3a3680973008d3f', 'department': 'Visual Effects', 'gender': 0, 'id': 1748684, 'job': 'Animation', 'name': 'Tom K. Gurney', 'profile_path': None}, {'credit_id': '58921093c3a3686348004477', 'department': 'Visual Effects', 'gender': 2, 'id': 8029, 'job': 'Animation', 'name': 'Jimmy Hayward', 'profile_path': '/lTDRpudEY7BDwTefXbXzMlmb0ui.jpg'}, {'credit_id': '5892109b9251412dcd0094b0', 'department': 'Visual Effects', 'gender': 0, 'id': 1426773, 'job': 'Animation', 'name': 'Hal T. Hickel', 'profile_path': None}, {'credit_id': '589210a29251412dc5009a29', 'department': 'Visual Effects', 'gender': 0, 'id': 8035, 'job': 'Animation', 'name': 'Karen Kiser', 'profile_path': None}, {'credit_id': '589210ccc3a3680977009191', 'department': 'Visual Effects', 'gender': 0, 'id': 1748688, 'job': 'Animation', 'name': 'Anthony B. LaMolinara', 'profile_path': None}, {'credit_id': '589210d7c3a3686b0a004c1f', 'department': 'Visual Effects', 'gender': 0, 'id': 587314, 'job': 'Animation', 'name': 'Guionne Leroy', 'profile_path': None}, {'credit_id': '589210e1c3a36809770091a7', 'department': 'Visual Effects', 'gender': 2, 'id': 7918, 'job': 'Animation', 'name': 'Bud Luckey', 'profile_path': '/pcCh7G19FKMNijmPQg1PMH1btic.jpg'}, {'credit_id': '589210ee9251412dc200978a', 'department': 'Visual Effects', 'gender': 0, 'id': 1748689, 'job': 'Animation', 'name': 'Les Major', 'profile_path': None}, {'credit_id': '589210fa9251412dc8009595', 'department': 'Visual Effects', 'gender': 2, 'id': 7892, 'job': 'Animation', 'name': 'Glenn McQueen', 'profile_path': None}, {'credit_id': '589211029251412dc8009598', 'department': 'Visual Effects', 'gender': 0, 'id': 555795, 'job': 'Animation', 'name': 'Mark Oftedal', 'profile_path': None}, {'credit_id': '5892110b9251412dc800959d', 'department': 'Visual Effects', 'gender': 2, 'id': 7882, 'job': 'Animation', 'name': 'Jeff Pidgeon', 'profile_path': '/yLddkg5HcgbJg00cS13GVBnP0HY.jpg'}, {'credit_id': '58921113c3a36863480044e4', 'department': 'Visual Effects', 'gender': 0, 'id': 8017, 'job': 'Animation', 'name': 'Jeff Pratt', 'profile_path': None}, {'credit_id': '5892111c9251412dcb0097e9', 'department': 'Visual Effects', 'gender': 0, 'id': 1184140, 'job': 'Animation', 'name': 'Steve Rabatich', 'profile_path': None}, {'credit_id': '58921123c3a36809700090f6', 'department': 'Visual Effects', 'gender': 0, 'id': 8049, 'job': 'Animation', 'name': 'Roger Rose', 'profile_path': None}, {'credit_id': '5892112b9251412dcb0097fb', 'department': 'Visual Effects', 'gender': 0, 'id': 1509559, 'job': 'Animation', 'name': 'Steve Segal', 'profile_path': None}, {'credit_id': '589211349251412dc80095c3', 'department': 'Visual Effects', 'gender': 0, 'id': 1748691, 'job': 'Animation', 'name': 'Doug Sheppeck', 'profile_path': None}, {'credit_id': '5892113cc3a3680970009106', 'department': 'Visual Effects', 'gender': 0, 'id': 8050, 'job': 'Animation', 'name': 'Alan Sperling', 'profile_path': None}, {'credit_id': '58921148c3a3686b0a004c99', 'department': 'Visual Effects', 'gender': 0, 'id': 8010, 'job': 'Animation', 'name': 'Doug Sweetland', 'profile_path': None}, {'credit_id': '58921150c3a3680966009125', 'department': 'Visual Effects', 'gender': 0, 'id': 8044, 'job': 'Animation', 'name': 'David Tart', 'profile_path': None}, {'credit_id': '589211629251412dc5009b00', 'department': 'Visual Effects', 'gender': 0, 'id': 1454034, 'job': 'Animation', 'name': 'Ken Willard', 'profile_path': None}, {'credit_id': '589211c1c3a3686b0a004d28', 'department': 'Visual Effects', 'gender': 0, 'id': 7887, 'job': 'Visual Effects Supervisor', 'name': 'Thomas Porter', 'profile_path': None}, {'credit_id': '589211d4c3a3680968008ed9', 'department': 'Visual Effects', 'gender': 0, 'id': 1406878, 'job': 'Visual Effects', 'name': 'Mark Thomas Henne', 'profile_path': None}, {'credit_id': '589211f59251412dd4008e65', 'department': 'Visual Effects', 'gender': 0, 'id': 1748698, 'job': 'Visual Effects', 'name': 'Oren Jacob', 'profile_path': None}, {'credit_id': '58921242c3a368096a00939b', 'department': 'Visual Effects', 'gender': 0, 'id': 1748699, 'job': 'Visual Effects', 'name': 'Darwyn Peachey', 'profile_path': None}, {'credit_id': '5892124b9251412dc5009bd2', 'department': 'Visual Effects', 'gender': 0, 'id': 1748701, 'job': 'Visual Effects', 'name': 'Mitch Prater', 'profile_path': None}, {'credit_id': '58921264c3a3686b0a004dbf', 'department': 'Visual Effects', 'gender': 0, 'id': 1748703, 'job': 'Visual Effects', 'name': 'Brian M. Rosen', 'profile_path': None}, {'credit_id': '589212709251412dcd009676', 'department': 'Lighting', 'gender': 1, 'id': 12912, 'job': 'Lighting Supervisor', 'name': 'Sharon Calahan', 'profile_path': None}, {'credit_id': '5892127fc3a3686b0a004de5', 'department': 'Lighting', 'gender': 0, 'id': 7899, 'job': 'Lighting Supervisor', 'name': 'Galyn Susman', 'profile_path': None}, {'credit_id': '589212cdc3a3680970009268', 'department': 'Visual Effects', 'gender': 0, 'id': 12915, 'job': 'CG Painter', 'name': 'William Cone', 'profile_path': None}, {'credit_id': '5892130f9251412dc8009791', 'department': 'Art', 'gender': 0, 'id': 1748705, 'job': 'Sculptor', 'name': 'Shelley Daniels Lekven', 'profile_path': None}, {'credit_id': '5892131c9251412dd4008f4c', 'department': 'Visual Effects', 'gender': 2, 'id': 7889, 'job': 'Character Designer', 'name': 'Bob Pauley', 'profile_path': None}, {'credit_id': '589213249251412dd100987b', 'department': 'Visual Effects', 'gender': 2, 'id': 7918, 'job': 'Character Designer', 'name': 'Bud Luckey', 'profile_path': '/pcCh7G19FKMNijmPQg1PMH1btic.jpg'}, {'credit_id': '5892132b9251412dc80097b1', 'department': 'Visual Effects', 'gender': 2, 'id': 7, 'job': 'Character Designer', 'name': 'Andrew Stanton', 'profile_path': '/pvQWsu0qc8JFQhMVJkTHuexUAa1.jpg'}, {'credit_id': '58921332c3a368634800467b', 'department': 'Visual Effects', 'gender': 0, 'id': 12915, 'job': 'Character Designer', 'name': 'William Cone', 'profile_path': None}, {'credit_id': '5892135f9251412dd4008f90', 'department': 'Visual Effects', 'gender': 0, 'id': 1748706, 'job': 'Character Designer', 'name': 'Steve Johnson', 'profile_path': None}, {'credit_id': '58921384c3a3680973008fd4', 'department': 'Visual Effects', 'gender': 0, 'id': 1176752, 'job': 'Character Designer', 'name': 'Dan Haskett', 'profile_path': None}, {'credit_id': '5892138e9251412dc20099fc', 'department': 'Visual Effects', 'gender': 0, 'id': 1088034, 'job': 'Character Designer', 'name': 'Tom Holloway', 'profile_path': '/a0r0T2usTBpgMI5aZbRBDW1fTl8.jpg'}, {'credit_id': '58921395c3a368097700942f', 'department': 'Visual Effects', 'gender': 0, 'id': 1447465, 'job': 'Character Designer', 'name': 'Jean Gillmore', 'profile_path': None}, {'credit_id': '589213e2c3a3680973009026', 'department': 'Directing', 'gender': 0, 'id': 1748709, 'job': 'Layout', 'name': 'Desirée Mourad', 'profile_path': None}, {'credit_id': '589214099251412dc5009d57', 'department': 'Art', 'gender': 0, 'id': 1748710, 'job': 'Set Dresser', 'name': \"Kelly O'Connell\", 'profile_path': None}, {'credit_id': '58921411c3a3686b0a004f70', 'department': 'Art', 'gender': 0, 'id': 1443471, 'job': 'Set Dresser', 'name': 'Sonoko Konishi', 'profile_path': None}, {'credit_id': '58921434c3a368096a00956e', 'department': 'Art', 'gender': 0, 'id': 1748711, 'job': 'Set Dresser', 'name': 'Ann M. Rockwell', 'profile_path': None}, {'credit_id': '5892144ac3a36809680090de', 'department': 'Editing', 'gender': 0, 'id': 1748712, 'job': 'Editorial Manager', 'name': 'Julie M. McDonald', 'profile_path': None}, {'credit_id': '58921479c3a368096800910f', 'department': 'Editing', 'gender': 0, 'id': 1589729, 'job': 'Assistant Editor', 'name': 'Robin Lee', 'profile_path': None}, {'credit_id': '5892148b9251412dd10099cc', 'department': 'Editing', 'gender': 0, 'id': 1748716, 'job': 'Assistant Editor', 'name': 'Tom Freeman', 'profile_path': None}, {'credit_id': '589214959251412dcb009b1f', 'department': 'Editing', 'gender': 0, 'id': 1748717, 'job': 'Assistant Editor', 'name': 'Ada Cochavi', 'profile_path': None}, {'credit_id': '5892149ec3a3686348004798', 'department': 'Editing', 'gender': 0, 'id': 1336438, 'job': 'Assistant Editor', 'name': 'Dana Mulligan', 'profile_path': None}, {'credit_id': '589214adc3a368096a0095db', 'department': 'Editing', 'gender': 0, 'id': 1748718, 'job': 'Editorial Coordinator', 'name': 'Deirdre Morrison', 'profile_path': None}, {'credit_id': '589214c7c3a368097700952b', 'department': 'Production', 'gender': 0, 'id': 1748719, 'job': 'Production Coordinator', 'name': 'Lori Lombardo', 'profile_path': None}, {'credit_id': '589214cec3a368096a009603', 'department': 'Production', 'gender': 0, 'id': 1748720, 'job': 'Production Coordinator', 'name': 'Ellen Devine', 'profile_path': None}, {'credit_id': '589214e39251412dc8009904', 'department': 'Crew', 'gender': 0, 'id': 1468014, 'job': 'Unit Publicist', 'name': 'Lauren Beth Strogoff', 'profile_path': None}, {'credit_id': '58921544c3a3686b0a00507d', 'department': 'Sound', 'gender': 2, 'id': 2216, 'job': 'Sound Re-Recording Mixer', 'name': 'Gary Rydstrom', 'profile_path': '/jZpr1nVfO7lldWI0YtmP1FGw7Rj.jpg'}, {'credit_id': '5892154c9251412dd1009a56', 'department': 'Sound', 'gender': 0, 'id': 1425978, 'job': 'Sound Re-Recording Mixer', 'name': 'Gary Summers', 'profile_path': None}, {'credit_id': '58921555c3a36809680091bd', 'department': 'Sound', 'gender': 2, 'id': 8276, 'job': 'Supervising Sound Editor', 'name': 'Tim Holland', 'profile_path': None}, {'credit_id': '589215c39251412dcb009c12', 'department': 'Sound', 'gender': 0, 'id': 7069, 'job': 'Sound Effects Editor', 'name': 'Pat Jackson', 'profile_path': None}, {'credit_id': '58921698c3a368096a009788', 'department': 'Crew', 'gender': 2, 'id': 15894, 'job': 'Sound Design Assistant', 'name': 'Tom Myers', 'profile_path': None}, {'credit_id': '589216a89251412dc2009ca4', 'department': 'Sound', 'gender': 0, 'id': 1414177, 'job': 'Assistant Sound Editor', 'name': 'J.R. Grubbs', 'profile_path': None}, {'credit_id': '589216c19251412dc2009cb9', 'department': 'Sound', 'gender': 1, 'id': 1748724, 'job': 'Assistant Sound Editor', 'name': 'Susan Sanford', 'profile_path': None}, {'credit_id': '589216ccc3a3680973009274', 'department': 'Sound', 'gender': 0, 'id': 1748725, 'job': 'Assistant Sound Editor', 'name': 'Susan Popovic', 'profile_path': None}, {'credit_id': '589216d79251412dc8009aa0', 'department': 'Sound', 'gender': 0, 'id': 8067, 'job': 'Assistant Sound Editor', 'name': 'Dan Engstrom', 'profile_path': None}, {'credit_id': '589216e49251412dcd009a4f', 'department': 'Production', 'gender': 1, 'id': 7902, 'job': 'Casting Consultant', 'name': 'Ruth Lambert', 'profile_path': None}, {'credit_id': '589216f39251412dc2009cf3', 'department': 'Production', 'gender': 0, 'id': 84493, 'job': 'ADR Voice Casting', 'name': 'Mickie McGowan', 'profile_path': '/k7TjJBfINsg8vLQxJwos6XObAD6.jpg'}]</td>\n",
       "      <td>[{'id': 931, 'name': 'jealousy'}, {'id': 4290, 'name': 'toy'}, {'id': 5202, 'name': 'boy'}, {'id': 6054, 'name': 'friendship'}, {'id': 9713, 'name': 'friends'}, {'id': 9823, 'name': 'rivalry'}, {'id': 165503, 'name': 'boy next door'}, {'id': 170722, 'name': 'new toy'}, {'id': 187065, 'name': 'toy comes to life'}]</td>\n",
       "      <td>[1995]</td>\n",
       "    </tr>\n",
       "  </tbody>\n",
       "</table>\n",
       "</div>"
      ],
      "text/plain": [
       "    id      title  \\\n",
       "0  862  Toy Story   \n",
       "\n",
       "                                                                                                                                                                                                                                                                                                          overview  \\\n",
       "0  Led by Woody, Andy's toys live happily in his room until Andy's birthday brings Buzz Lightyear onto the scene. Afraid of losing his place in Andy's heart, Woody plots against Buzz. But when circumstances separate Buzz and Woody from their owner, the duo eventually learns to put aside their differences.   \n",
       "\n",
       "                                                                                             genres  \\\n",
       "0  [{'id': 16, 'name': 'Animation'}, {'id': 35, 'name': 'Comedy'}, {'id': 10751, 'name': 'Family'}]   \n",
       "\n",
       "                                                                                                                                                                                                                                                                                                                                                                                                                                                                                                                                                                                                                                                                                                                                                                                                                                                                                                                                                                                                                                                                                                                                                                                                                                                                                                                                                                                                                                                                                                                                                                                                                                                                                                                                                                                                                                                                                                                                                                                                                                                                                                                                                                                                                                                                                                                                                                                                                                                                                                                                                                                                                                                                                                                                       cast  \\\n",
       "0  [{'cast_id': 14, 'character': 'Woody (voice)', 'credit_id': '52fe4284c3a36847f8024f95', 'gender': 2, 'id': 31, 'name': 'Tom Hanks', 'order': 0, 'profile_path': '/pQFoyx7rp09CJTAb932F2g8Nlho.jpg'}, {'cast_id': 15, 'character': 'Buzz Lightyear (voice)', 'credit_id': '52fe4284c3a36847f8024f99', 'gender': 2, 'id': 12898, 'name': 'Tim Allen', 'order': 1, 'profile_path': '/uX2xVf6pMmPepxnvFWyBtjexzgY.jpg'}, {'cast_id': 16, 'character': 'Mr. Potato Head (voice)', 'credit_id': '52fe4284c3a36847f8024f9d', 'gender': 2, 'id': 7167, 'name': 'Don Rickles', 'order': 2, 'profile_path': '/h5BcaDMPRVLHLDzbQavec4xfSdt.jpg'}, {'cast_id': 17, 'character': 'Slinky Dog (voice)', 'credit_id': '52fe4284c3a36847f8024fa1', 'gender': 2, 'id': 12899, 'name': 'Jim Varney', 'order': 3, 'profile_path': '/eIo2jVVXYgjDtaHoF19Ll9vtW7h.jpg'}, {'cast_id': 18, 'character': 'Rex (voice)', 'credit_id': '52fe4284c3a36847f8024fa5', 'gender': 2, 'id': 12900, 'name': 'Wallace Shawn', 'order': 4, 'profile_path': '/oGE6JqPP2xH4tNORKNqxbNPYi7u.jpg'}, {'cast_id': 19, 'character': 'Hamm (voice)', 'credit_id': '52fe4284c3a36847f8024fa9', 'gender': 2, 'id': 7907, 'name': 'John Ratzenberger', 'order': 5, 'profile_path': '/yGechiKWL6TJDfVE2KPSJYqdMsY.jpg'}, {'cast_id': 20, 'character': 'Bo Peep (voice)', 'credit_id': '52fe4284c3a36847f8024fad', 'gender': 1, 'id': 8873, 'name': 'Annie Potts', 'order': 6, 'profile_path': '/eryXT84RL41jHSJcMy4kS3u9y6w.jpg'}, {'cast_id': 26, 'character': 'Andy (voice)', 'credit_id': '52fe4284c3a36847f8024fc1', 'gender': 0, 'id': 1116442, 'name': 'John Morris', 'order': 7, 'profile_path': '/vYGyvK4LzeaUCoNSHtsuqJUY15M.jpg'}, {'cast_id': 22, 'character': 'Sid (voice)', 'credit_id': '52fe4284c3a36847f8024fb1', 'gender': 2, 'id': 12901, 'name': 'Erik von Detten', 'order': 8, 'profile_path': '/twnF1ZaJ1FUNUuo6xLXwcxjayBE.jpg'}, {'cast_id': 23, 'character': 'Mrs. Davis (voice)', 'credit_id': '52fe4284c3a36847f8024fb5', 'gender': 1, 'id': 12133, 'name': 'Laurie Metcalf', 'order': 9, 'profile_path': '/unMMIT60eoBM2sN2nyR7EZ2BvvD.jpg'}, {'cast_id': 24, 'character': 'Sergeant (voice)', 'credit_id': '52fe4284c3a36847f8024fb9', 'gender': 2, 'id': 8655, 'name': 'R. Lee Ermey', 'order': 10, 'profile_path': '/r8GBqFBjypLUP9VVqDqfZ7wYbSs.jpg'}, {'cast_id': 25, 'character': 'Hannah (voice)', 'credit_id': '52fe4284c3a36847f8024fbd', 'gender': 1, 'id': 12903, 'name': 'Sarah Freeman', 'order': 11, 'profile_path': None}, {'cast_id': 27, 'character': 'TV Announcer (voice)', 'credit_id': '52fe4284c3a36847f8024fc5', 'gender': 2, 'id': 37221, 'name': 'Penn Jillette', 'order': 12, 'profile_path': '/zmAaXUdx12NRsssgHbk1T31j2x9.jpg'}]   \n",
       "\n",
       "                                                                                                                                                                                                                                                                                                                                                                                                                                                                                                                                                                                                                                                                                                                                                                                                                                                                                                                                                                                                                                                                                                                                                                                                                                                                                                                                                                                                                                                                                                                                                                                                                                                                                                                                                                                                                                                                                                                                                                                                                                                                                                                                                                                                                                                                                                                                                                                                                                                                                                                                                                                                                                                                                                                                                                                                                                                                                                                                                                                                                                                                                                                                                                                                                                                                                                                                                                                                                                                                                                                                                                                                                                                                                                                                                                                                                                                                                                                                                                                                                                                                                                                                                                                                                                                                                                                                                                                                                                                                                                                                                                                                                                                                                                                                                                                                                                                                                                                                                                                                                                                                                                                                                                                                                                                                                                                                                                                                                                                                                                                                                                                                                                                                                                                                                                                                                                                                                                                                                                                                                                                                                                                                                                                                                                                                                                                                                                                                                                                                                                                                                                                                                                                                                                                                                                                                                                                                                                                                                                                                                                                                                                                                                                                                                                                                                                                                                                                                                                                                                                                                                                                                                                                                                                                                                                                                                                                                                                                                                                                                                                                                                                                                                                                                                                                                                                                                                                                                                                                                                                                                                                                                                                                                                                                                                                                                                                                                                                                                                                                                                                                                                                                                                                                                                                                                                                                                                                                                                                                                                                                                                                                                                                                                                                                                                                                                                                                                                                                                                                                                                                                                                                                                                                                                                                                                                                                                                                                                                                                                                                                                                                                                                                                                                                                                                                                                                                                                                                                                                                                                                                                                                                                                                                                                                                                                                                                                                                                                                                                                                                                                                                                                                                                                                                                                                                                                                                                                                                                                                                                                                                                                                                                                                                                                                                                                                                                                                                                                                                                                                                                                                                                                                                                                                                                                                                                                                                                                                                                                                                                                                                                                                                                                                                                                                                                                                                                                                                                                                                                                                                                                                                                                                                                                                                                                                                                                                                                                                                                                                                                                                                                                                                                                                                                                                                                                                                                                                                                                                                                                                                                                                                                                                                                                                                                                                                                                                                                                                                                                                                                                                                                                                                                                                                                                                                                                                                                                                                                                                                                                                                                                                                                                                                                                                                                                                                                                                                                                                                                                                                                                                                                                                                                                                                                                                                                                                                                                                                                                                                                                                                                                                                                                                                                                                                                                                                                                                                                                                                                                                                                                                                                                                                                                                                                                                                                                                                                                                                                                                                                                                                                                                                                                                                                                                                                                                                                                                                                                                                                                                                                                                                                                                                                                                                                                                                                                                                                                                                                                                                                                                                                                                                                                                                                                                                                                                                                                                                                                                                                                                                                                                                                                                                                                                                                                                                                                                                                                                                                                                             crew  \\\n",
       "0  [{'credit_id': '52fe4284c3a36847f8024f49', 'department': 'Directing', 'gender': 2, 'id': 7879, 'job': 'Director', 'name': 'John Lasseter', 'profile_path': '/7EdqiNbr4FRjIhKHyPPdFfEEEFG.jpg'}, {'credit_id': '52fe4284c3a36847f8024f4f', 'department': 'Writing', 'gender': 2, 'id': 12891, 'job': 'Screenplay', 'name': 'Joss Whedon', 'profile_path': '/dTiVsuaTVTeGmvkhcyJvKp2A5kr.jpg'}, {'credit_id': '52fe4284c3a36847f8024f55', 'department': 'Writing', 'gender': 2, 'id': 7, 'job': 'Screenplay', 'name': 'Andrew Stanton', 'profile_path': '/pvQWsu0qc8JFQhMVJkTHuexUAa1.jpg'}, {'credit_id': '52fe4284c3a36847f8024f5b', 'department': 'Writing', 'gender': 2, 'id': 12892, 'job': 'Screenplay', 'name': 'Joel Cohen', 'profile_path': '/dAubAiZcvKFbboWlj7oXOkZnTSu.jpg'}, {'credit_id': '52fe4284c3a36847f8024f61', 'department': 'Writing', 'gender': 0, 'id': 12893, 'job': 'Screenplay', 'name': 'Alec Sokolow', 'profile_path': '/v79vlRYi94BZUQnkkyznbGUZLjT.jpg'}, {'credit_id': '52fe4284c3a36847f8024f67', 'department': 'Production', 'gender': 1, 'id': 12894, 'job': 'Producer', 'name': 'Bonnie Arnold', 'profile_path': None}, {'credit_id': '52fe4284c3a36847f8024f6d', 'department': 'Production', 'gender': 0, 'id': 12895, 'job': 'Executive Producer', 'name': 'Ed Catmull', 'profile_path': None}, {'credit_id': '52fe4284c3a36847f8024f73', 'department': 'Production', 'gender': 2, 'id': 12896, 'job': 'Producer', 'name': 'Ralph Guggenheim', 'profile_path': None}, {'credit_id': '52fe4284c3a36847f8024f79', 'department': 'Production', 'gender': 2, 'id': 12897, 'job': 'Executive Producer', 'name': 'Steve Jobs', 'profile_path': '/mOMP3SwD5qWQSR0ldCIByd3guTV.jpg'}, {'credit_id': '52fe4284c3a36847f8024f8b', 'department': 'Editing', 'gender': 2, 'id': 8, 'job': 'Editor', 'name': 'Lee Unkrich', 'profile_path': '/bdTCCXjgOV3YyaNmLGYGOxFQMOc.jpg'}, {'credit_id': '52fe4284c3a36847f8024f91', 'department': 'Art', 'gender': 2, 'id': 7883, 'job': 'Art Direction', 'name': 'Ralph Eggleston', 'profile_path': '/uUfcGKDsKO1aROMpXRs67Hn6RvR.jpg'}, {'credit_id': '598331bf925141421201044b', 'department': 'Editing', 'gender': 2, 'id': 1168870, 'job': 'Editor', 'name': 'Robert Gordon', 'profile_path': None}, {'credit_id': '5892168cc3a36809660095f9', 'department': 'Sound', 'gender': 0, 'id': 1552883, 'job': 'Foley Editor', 'name': 'Mary Helen Leasman', 'profile_path': None}, {'credit_id': '5531824d9251415289000945', 'department': 'Visual Effects', 'gender': 0, 'id': 1453514, 'job': 'Animation', 'name': 'Kim Blanchette', 'profile_path': None}, {'credit_id': '589215969251412dcb009bf6', 'department': 'Sound', 'gender': 0, 'id': 1414182, 'job': 'ADR Editor', 'name': 'Marilyn McCoppen', 'profile_path': None}, {'credit_id': '589217099251412dc500a018', 'department': 'Sound', 'gender': 2, 'id': 7885, 'job': 'Orchestrator', 'name': 'Randy Newman', 'profile_path': '/w0JzfoiM25nrnxYOzosPHRq6mlE.jpg'}, {'credit_id': '5693e6b29251417b0e0000e3', 'department': 'Editing', 'gender': 0, 'id': 1429549, 'job': 'Color Timer', 'name': 'Dale E. Grahn', 'profile_path': None}, {'credit_id': '572e2522c3a36869e6001a9c', 'department': 'Visual Effects', 'gender': 0, 'id': 7949, 'job': 'CG Painter', 'name': 'Robin Cooper', 'profile_path': None}, {'credit_id': '574f12309251415ca1000012', 'department': 'Writing', 'gender': 2, 'id': 7879, 'job': 'Original Story', 'name': 'John Lasseter', 'profile_path': '/7EdqiNbr4FRjIhKHyPPdFfEEEFG.jpg'}, {'credit_id': '574f1240c3a3682e7300001c', 'department': 'Writing', 'gender': 2, 'id': 12890, 'job': 'Original Story', 'name': 'Pete Docter', 'profile_path': '/r6ngPgnReA3RHmKjmSoVsc6Awjp.jpg'}, {'credit_id': '574f12519251415c92000015', 'department': 'Writing', 'gender': 0, 'id': 7911, 'job': 'Original Story', 'name': 'Joe Ranft', 'profile_path': '/f1BoWC2JbCcfP1e5hKfGsxkHzVU.jpg'}, {'credit_id': '574f12cec3a3682e82000022', 'department': 'Crew', 'gender': 0, 'id': 1629419, 'job': 'Post Production Supervisor', 'name': 'Patsy Bouge', 'profile_path': None}, {'credit_id': '574f14f19251415ca1000082', 'department': 'Art', 'gender': 0, 'id': 7961, 'job': 'Sculptor', 'name': 'Norm DeCarlo', 'profile_path': None}, {'credit_id': '5751ae4bc3a3683772002b7f', 'department': 'Visual Effects', 'gender': 2, 'id': 12905, 'job': 'Animation Director', 'name': 'Ash Brannon', 'profile_path': '/6ueWgPEEBHvS3De2BHYQnYjRTig.jpg'}, {'credit_id': '5891edbe9251412dc5007cd6', 'department': 'Sound', 'gender': 2, 'id': 7885, 'job': 'Music', 'name': 'Randy Newman', 'profile_path': '/w0JzfoiM25nrnxYOzosPHRq6mlE.jpg'}, {'credit_id': '589213d39251412dc8009832', 'department': 'Directing', 'gender': 0, 'id': 1748707, 'job': 'Layout', 'name': 'Roman Figun', 'profile_path': None}, {'credit_id': '5892173dc3a3680968009351', 'department': 'Sound', 'gender': 2, 'id': 4949, 'job': 'Orchestrator', 'name': 'Don Davis', 'profile_path': None}, {'credit_id': '589217cec3a3686b0a0052ba', 'department': 'Sound', 'gender': 0, 'id': 1372885, 'job': 'Music Editor', 'name': 'James Flamberg', 'profile_path': None}, {'credit_id': '58921831c3a3686348004a64', 'department': 'Editing', 'gender': 0, 'id': 1739962, 'job': 'Negative Cutter', 'name': 'Mary Beth Smith', 'profile_path': None}, {'credit_id': '58921838c3a36809700096c0', 'department': 'Editing', 'gender': 0, 'id': 1748513, 'job': 'Negative Cutter', 'name': 'Rick Mackay', 'profile_path': None}, {'credit_id': '589218429251412dd1009d1b', 'department': 'Art', 'gender': 0, 'id': 1458006, 'job': 'Title Designer', 'name': 'Susan Bradley', 'profile_path': None}, {'credit_id': '5891ed99c3a3680966007670', 'department': 'Crew', 'gender': 0, 'id': 1748557, 'job': 'Supervising Technical Director', 'name': 'William Reeves', 'profile_path': None}, {'credit_id': '5891edcec3a3686b0a002eb2', 'department': 'Sound', 'gender': 2, 'id': 7885, 'job': 'Songs', 'name': 'Randy Newman', 'profile_path': '/w0JzfoiM25nrnxYOzosPHRq6mlE.jpg'}, {'credit_id': '5891edf9c3a36809700075e6', 'department': 'Writing', 'gender': 2, 'id': 7, 'job': 'Original Story', 'name': 'Andrew Stanton', 'profile_path': '/pvQWsu0qc8JFQhMVJkTHuexUAa1.jpg'}, {'credit_id': '58920f0b9251412dd7009104', 'department': 'Crew', 'gender': 2, 'id': 12890, 'job': 'Supervising Animator', 'name': 'Pete Docter', 'profile_path': '/r6ngPgnReA3RHmKjmSoVsc6Awjp.jpg'}, {'credit_id': '58920f1fc3a3680977009021', 'department': 'Sound', 'gender': 2, 'id': 2216, 'job': 'Sound Designer', 'name': 'Gary Rydstrom', 'profile_path': '/jZpr1nVfO7lldWI0YtmP1FGw7Rj.jpg'}, {'credit_id': '58920f389251412dd700912d', 'department': 'Production', 'gender': 0, 'id': 12909, 'job': 'Production Supervisor', 'name': 'Karen Robert Jackson', 'profile_path': None}, {'credit_id': '58920fbd9251412dcb00969c', 'department': 'Crew', 'gender': 0, 'id': 953331, 'job': 'Executive Music Producer', 'name': 'Chris Montan', 'profile_path': None}, {'credit_id': '589210069251412dd7009219', 'department': 'Visual Effects', 'gender': 0, 'id': 7893, 'job': 'Animation Director', 'name': 'Rich Quade', 'profile_path': None}, {'credit_id': '589210329251412dcd00943b', 'department': 'Visual Effects', 'gender': 0, 'id': 8025, 'job': 'Animation', 'name': 'Michael Berenstein', 'profile_path': None}, {'credit_id': '5892103bc3a368096a009180', 'department': 'Visual Effects', 'gender': 0, 'id': 78009, 'job': 'Animation', 'name': 'Colin Brady', 'profile_path': None}, {'credit_id': '5892105dc3a3680968008db2', 'department': 'Visual Effects', 'gender': 0, 'id': 1748682, 'job': 'Animation', 'name': 'Davey Crockett Feiten', 'profile_path': None}, {'credit_id': '589210669251412dcd009466', 'department': 'Visual Effects', 'gender': 0, 'id': 1454030, 'job': 'Animation', 'name': 'Angie Glocka', 'profile_path': None}, {'credit_id': '5892107c9251412dd1009613', 'department': 'Visual Effects', 'gender': 0, 'id': 1748683, 'job': 'Animation', 'name': 'Rex Grignon', 'profile_path': None}, {'credit_id': '5892108ac3a3680973008d3f', 'department': 'Visual Effects', 'gender': 0, 'id': 1748684, 'job': 'Animation', 'name': 'Tom K. Gurney', 'profile_path': None}, {'credit_id': '58921093c3a3686348004477', 'department': 'Visual Effects', 'gender': 2, 'id': 8029, 'job': 'Animation', 'name': 'Jimmy Hayward', 'profile_path': '/lTDRpudEY7BDwTefXbXzMlmb0ui.jpg'}, {'credit_id': '5892109b9251412dcd0094b0', 'department': 'Visual Effects', 'gender': 0, 'id': 1426773, 'job': 'Animation', 'name': 'Hal T. Hickel', 'profile_path': None}, {'credit_id': '589210a29251412dc5009a29', 'department': 'Visual Effects', 'gender': 0, 'id': 8035, 'job': 'Animation', 'name': 'Karen Kiser', 'profile_path': None}, {'credit_id': '589210ccc3a3680977009191', 'department': 'Visual Effects', 'gender': 0, 'id': 1748688, 'job': 'Animation', 'name': 'Anthony B. LaMolinara', 'profile_path': None}, {'credit_id': '589210d7c3a3686b0a004c1f', 'department': 'Visual Effects', 'gender': 0, 'id': 587314, 'job': 'Animation', 'name': 'Guionne Leroy', 'profile_path': None}, {'credit_id': '589210e1c3a36809770091a7', 'department': 'Visual Effects', 'gender': 2, 'id': 7918, 'job': 'Animation', 'name': 'Bud Luckey', 'profile_path': '/pcCh7G19FKMNijmPQg1PMH1btic.jpg'}, {'credit_id': '589210ee9251412dc200978a', 'department': 'Visual Effects', 'gender': 0, 'id': 1748689, 'job': 'Animation', 'name': 'Les Major', 'profile_path': None}, {'credit_id': '589210fa9251412dc8009595', 'department': 'Visual Effects', 'gender': 2, 'id': 7892, 'job': 'Animation', 'name': 'Glenn McQueen', 'profile_path': None}, {'credit_id': '589211029251412dc8009598', 'department': 'Visual Effects', 'gender': 0, 'id': 555795, 'job': 'Animation', 'name': 'Mark Oftedal', 'profile_path': None}, {'credit_id': '5892110b9251412dc800959d', 'department': 'Visual Effects', 'gender': 2, 'id': 7882, 'job': 'Animation', 'name': 'Jeff Pidgeon', 'profile_path': '/yLddkg5HcgbJg00cS13GVBnP0HY.jpg'}, {'credit_id': '58921113c3a36863480044e4', 'department': 'Visual Effects', 'gender': 0, 'id': 8017, 'job': 'Animation', 'name': 'Jeff Pratt', 'profile_path': None}, {'credit_id': '5892111c9251412dcb0097e9', 'department': 'Visual Effects', 'gender': 0, 'id': 1184140, 'job': 'Animation', 'name': 'Steve Rabatich', 'profile_path': None}, {'credit_id': '58921123c3a36809700090f6', 'department': 'Visual Effects', 'gender': 0, 'id': 8049, 'job': 'Animation', 'name': 'Roger Rose', 'profile_path': None}, {'credit_id': '5892112b9251412dcb0097fb', 'department': 'Visual Effects', 'gender': 0, 'id': 1509559, 'job': 'Animation', 'name': 'Steve Segal', 'profile_path': None}, {'credit_id': '589211349251412dc80095c3', 'department': 'Visual Effects', 'gender': 0, 'id': 1748691, 'job': 'Animation', 'name': 'Doug Sheppeck', 'profile_path': None}, {'credit_id': '5892113cc3a3680970009106', 'department': 'Visual Effects', 'gender': 0, 'id': 8050, 'job': 'Animation', 'name': 'Alan Sperling', 'profile_path': None}, {'credit_id': '58921148c3a3686b0a004c99', 'department': 'Visual Effects', 'gender': 0, 'id': 8010, 'job': 'Animation', 'name': 'Doug Sweetland', 'profile_path': None}, {'credit_id': '58921150c3a3680966009125', 'department': 'Visual Effects', 'gender': 0, 'id': 8044, 'job': 'Animation', 'name': 'David Tart', 'profile_path': None}, {'credit_id': '589211629251412dc5009b00', 'department': 'Visual Effects', 'gender': 0, 'id': 1454034, 'job': 'Animation', 'name': 'Ken Willard', 'profile_path': None}, {'credit_id': '589211c1c3a3686b0a004d28', 'department': 'Visual Effects', 'gender': 0, 'id': 7887, 'job': 'Visual Effects Supervisor', 'name': 'Thomas Porter', 'profile_path': None}, {'credit_id': '589211d4c3a3680968008ed9', 'department': 'Visual Effects', 'gender': 0, 'id': 1406878, 'job': 'Visual Effects', 'name': 'Mark Thomas Henne', 'profile_path': None}, {'credit_id': '589211f59251412dd4008e65', 'department': 'Visual Effects', 'gender': 0, 'id': 1748698, 'job': 'Visual Effects', 'name': 'Oren Jacob', 'profile_path': None}, {'credit_id': '58921242c3a368096a00939b', 'department': 'Visual Effects', 'gender': 0, 'id': 1748699, 'job': 'Visual Effects', 'name': 'Darwyn Peachey', 'profile_path': None}, {'credit_id': '5892124b9251412dc5009bd2', 'department': 'Visual Effects', 'gender': 0, 'id': 1748701, 'job': 'Visual Effects', 'name': 'Mitch Prater', 'profile_path': None}, {'credit_id': '58921264c3a3686b0a004dbf', 'department': 'Visual Effects', 'gender': 0, 'id': 1748703, 'job': 'Visual Effects', 'name': 'Brian M. Rosen', 'profile_path': None}, {'credit_id': '589212709251412dcd009676', 'department': 'Lighting', 'gender': 1, 'id': 12912, 'job': 'Lighting Supervisor', 'name': 'Sharon Calahan', 'profile_path': None}, {'credit_id': '5892127fc3a3686b0a004de5', 'department': 'Lighting', 'gender': 0, 'id': 7899, 'job': 'Lighting Supervisor', 'name': 'Galyn Susman', 'profile_path': None}, {'credit_id': '589212cdc3a3680970009268', 'department': 'Visual Effects', 'gender': 0, 'id': 12915, 'job': 'CG Painter', 'name': 'William Cone', 'profile_path': None}, {'credit_id': '5892130f9251412dc8009791', 'department': 'Art', 'gender': 0, 'id': 1748705, 'job': 'Sculptor', 'name': 'Shelley Daniels Lekven', 'profile_path': None}, {'credit_id': '5892131c9251412dd4008f4c', 'department': 'Visual Effects', 'gender': 2, 'id': 7889, 'job': 'Character Designer', 'name': 'Bob Pauley', 'profile_path': None}, {'credit_id': '589213249251412dd100987b', 'department': 'Visual Effects', 'gender': 2, 'id': 7918, 'job': 'Character Designer', 'name': 'Bud Luckey', 'profile_path': '/pcCh7G19FKMNijmPQg1PMH1btic.jpg'}, {'credit_id': '5892132b9251412dc80097b1', 'department': 'Visual Effects', 'gender': 2, 'id': 7, 'job': 'Character Designer', 'name': 'Andrew Stanton', 'profile_path': '/pvQWsu0qc8JFQhMVJkTHuexUAa1.jpg'}, {'credit_id': '58921332c3a368634800467b', 'department': 'Visual Effects', 'gender': 0, 'id': 12915, 'job': 'Character Designer', 'name': 'William Cone', 'profile_path': None}, {'credit_id': '5892135f9251412dd4008f90', 'department': 'Visual Effects', 'gender': 0, 'id': 1748706, 'job': 'Character Designer', 'name': 'Steve Johnson', 'profile_path': None}, {'credit_id': '58921384c3a3680973008fd4', 'department': 'Visual Effects', 'gender': 0, 'id': 1176752, 'job': 'Character Designer', 'name': 'Dan Haskett', 'profile_path': None}, {'credit_id': '5892138e9251412dc20099fc', 'department': 'Visual Effects', 'gender': 0, 'id': 1088034, 'job': 'Character Designer', 'name': 'Tom Holloway', 'profile_path': '/a0r0T2usTBpgMI5aZbRBDW1fTl8.jpg'}, {'credit_id': '58921395c3a368097700942f', 'department': 'Visual Effects', 'gender': 0, 'id': 1447465, 'job': 'Character Designer', 'name': 'Jean Gillmore', 'profile_path': None}, {'credit_id': '589213e2c3a3680973009026', 'department': 'Directing', 'gender': 0, 'id': 1748709, 'job': 'Layout', 'name': 'Desirée Mourad', 'profile_path': None}, {'credit_id': '589214099251412dc5009d57', 'department': 'Art', 'gender': 0, 'id': 1748710, 'job': 'Set Dresser', 'name': \"Kelly O'Connell\", 'profile_path': None}, {'credit_id': '58921411c3a3686b0a004f70', 'department': 'Art', 'gender': 0, 'id': 1443471, 'job': 'Set Dresser', 'name': 'Sonoko Konishi', 'profile_path': None}, {'credit_id': '58921434c3a368096a00956e', 'department': 'Art', 'gender': 0, 'id': 1748711, 'job': 'Set Dresser', 'name': 'Ann M. Rockwell', 'profile_path': None}, {'credit_id': '5892144ac3a36809680090de', 'department': 'Editing', 'gender': 0, 'id': 1748712, 'job': 'Editorial Manager', 'name': 'Julie M. McDonald', 'profile_path': None}, {'credit_id': '58921479c3a368096800910f', 'department': 'Editing', 'gender': 0, 'id': 1589729, 'job': 'Assistant Editor', 'name': 'Robin Lee', 'profile_path': None}, {'credit_id': '5892148b9251412dd10099cc', 'department': 'Editing', 'gender': 0, 'id': 1748716, 'job': 'Assistant Editor', 'name': 'Tom Freeman', 'profile_path': None}, {'credit_id': '589214959251412dcb009b1f', 'department': 'Editing', 'gender': 0, 'id': 1748717, 'job': 'Assistant Editor', 'name': 'Ada Cochavi', 'profile_path': None}, {'credit_id': '5892149ec3a3686348004798', 'department': 'Editing', 'gender': 0, 'id': 1336438, 'job': 'Assistant Editor', 'name': 'Dana Mulligan', 'profile_path': None}, {'credit_id': '589214adc3a368096a0095db', 'department': 'Editing', 'gender': 0, 'id': 1748718, 'job': 'Editorial Coordinator', 'name': 'Deirdre Morrison', 'profile_path': None}, {'credit_id': '589214c7c3a368097700952b', 'department': 'Production', 'gender': 0, 'id': 1748719, 'job': 'Production Coordinator', 'name': 'Lori Lombardo', 'profile_path': None}, {'credit_id': '589214cec3a368096a009603', 'department': 'Production', 'gender': 0, 'id': 1748720, 'job': 'Production Coordinator', 'name': 'Ellen Devine', 'profile_path': None}, {'credit_id': '589214e39251412dc8009904', 'department': 'Crew', 'gender': 0, 'id': 1468014, 'job': 'Unit Publicist', 'name': 'Lauren Beth Strogoff', 'profile_path': None}, {'credit_id': '58921544c3a3686b0a00507d', 'department': 'Sound', 'gender': 2, 'id': 2216, 'job': 'Sound Re-Recording Mixer', 'name': 'Gary Rydstrom', 'profile_path': '/jZpr1nVfO7lldWI0YtmP1FGw7Rj.jpg'}, {'credit_id': '5892154c9251412dd1009a56', 'department': 'Sound', 'gender': 0, 'id': 1425978, 'job': 'Sound Re-Recording Mixer', 'name': 'Gary Summers', 'profile_path': None}, {'credit_id': '58921555c3a36809680091bd', 'department': 'Sound', 'gender': 2, 'id': 8276, 'job': 'Supervising Sound Editor', 'name': 'Tim Holland', 'profile_path': None}, {'credit_id': '589215c39251412dcb009c12', 'department': 'Sound', 'gender': 0, 'id': 7069, 'job': 'Sound Effects Editor', 'name': 'Pat Jackson', 'profile_path': None}, {'credit_id': '58921698c3a368096a009788', 'department': 'Crew', 'gender': 2, 'id': 15894, 'job': 'Sound Design Assistant', 'name': 'Tom Myers', 'profile_path': None}, {'credit_id': '589216a89251412dc2009ca4', 'department': 'Sound', 'gender': 0, 'id': 1414177, 'job': 'Assistant Sound Editor', 'name': 'J.R. Grubbs', 'profile_path': None}, {'credit_id': '589216c19251412dc2009cb9', 'department': 'Sound', 'gender': 1, 'id': 1748724, 'job': 'Assistant Sound Editor', 'name': 'Susan Sanford', 'profile_path': None}, {'credit_id': '589216ccc3a3680973009274', 'department': 'Sound', 'gender': 0, 'id': 1748725, 'job': 'Assistant Sound Editor', 'name': 'Susan Popovic', 'profile_path': None}, {'credit_id': '589216d79251412dc8009aa0', 'department': 'Sound', 'gender': 0, 'id': 8067, 'job': 'Assistant Sound Editor', 'name': 'Dan Engstrom', 'profile_path': None}, {'credit_id': '589216e49251412dcd009a4f', 'department': 'Production', 'gender': 1, 'id': 7902, 'job': 'Casting Consultant', 'name': 'Ruth Lambert', 'profile_path': None}, {'credit_id': '589216f39251412dc2009cf3', 'department': 'Production', 'gender': 0, 'id': 84493, 'job': 'ADR Voice Casting', 'name': 'Mickie McGowan', 'profile_path': '/k7TjJBfINsg8vLQxJwos6XObAD6.jpg'}]   \n",
       "\n",
       "                                                                                                                                                                                                                                                                                                                     keywords  \\\n",
       "0  [{'id': 931, 'name': 'jealousy'}, {'id': 4290, 'name': 'toy'}, {'id': 5202, 'name': 'boy'}, {'id': 6054, 'name': 'friendship'}, {'id': 9713, 'name': 'friends'}, {'id': 9823, 'name': 'rivalry'}, {'id': 165503, 'name': 'boy next door'}, {'id': 170722, 'name': 'new toy'}, {'id': 187065, 'name': 'toy comes to life'}]   \n",
       "\n",
       "     year  \n",
       "0  [1995]  "
      ]
     },
     "execution_count": 44,
     "metadata": {},
     "output_type": "execute_result"
    }
   ],
   "source": [
    "movies_df_join.head(1)"
   ]
  },
  {
   "cell_type": "code",
   "execution_count": 45,
   "metadata": {},
   "outputs": [],
   "source": [
    "import ast"
   ]
  },
  {
   "cell_type": "code",
   "execution_count": 46,
   "metadata": {},
   "outputs": [],
   "source": [
    "def convert(text):\n",
    "    L = []\n",
    "    for i in ast.literal_eval(text):\n",
    "        L.append(i['name']) \n",
    "    return L "
   ]
  },
  {
   "cell_type": "code",
   "execution_count": 47,
   "metadata": {},
   "outputs": [
    {
     "data": {
      "text/plain": [
       "(45320, 8)"
      ]
     },
     "execution_count": 47,
     "metadata": {},
     "output_type": "execute_result"
    }
   ],
   "source": [
    "movies_df_join.shape"
   ]
  },
  {
   "cell_type": "code",
   "execution_count": 48,
   "metadata": {},
   "outputs": [
    {
     "data": {
      "text/plain": [
       "(45320, 8)"
      ]
     },
     "execution_count": 48,
     "metadata": {},
     "output_type": "execute_result"
    }
   ],
   "source": [
    "movies_df_join.shape"
   ]
  },
  {
   "cell_type": "code",
   "execution_count": 49,
   "metadata": {},
   "outputs": [],
   "source": [
    "movies_df_join['genres'] = movies_df_join['genres'].apply(convert)\n"
   ]
  },
  {
   "cell_type": "code",
   "execution_count": 50,
   "metadata": {},
   "outputs": [],
   "source": [
    "movies_df_join['keywords'] = movies_df_join['keywords'].apply(convert)\n"
   ]
  },
  {
   "cell_type": "code",
   "execution_count": 51,
   "metadata": {},
   "outputs": [],
   "source": [
    "#top 3 starring cast\n",
    "def convert3(text):\n",
    "    L = []\n",
    "    counter = 0\n",
    "    for i in ast.literal_eval(text):\n",
    "        if counter < 3:\n",
    "            L.append(i['name'])\n",
    "        counter+=1\n",
    "    return L"
   ]
  },
  {
   "cell_type": "code",
   "execution_count": 52,
   "metadata": {},
   "outputs": [],
   "source": [
    "movies_df_join['cast'] = movies_df_join['cast'].apply(convert3)\n"
   ]
  },
  {
   "cell_type": "code",
   "execution_count": 53,
   "metadata": {},
   "outputs": [],
   "source": [
    "movies_df_join['cast'] = movies_df_join['cast'].apply(lambda x:x[0:3])"
   ]
  },
  {
   "cell_type": "code",
   "execution_count": 54,
   "metadata": {},
   "outputs": [],
   "source": [
    "def fetch_director(text):\n",
    "    L = []\n",
    "    for i in ast.literal_eval(text):\n",
    "        if i['job'] == 'Director':\n",
    "            L.append(i['name'])\n",
    "    return L "
   ]
  },
  {
   "cell_type": "code",
   "execution_count": 55,
   "metadata": {},
   "outputs": [],
   "source": [
    "movies_df_join['crew'] = movies_df_join['crew'].apply(fetch_director)"
   ]
  },
  {
   "attachments": {},
   "cell_type": "markdown",
   "metadata": {},
   "source": [
    "# removing whitespace between name to treat it as a single entity as only first or last name can lead to confusion for the model"
   ]
  },
  {
   "cell_type": "code",
   "execution_count": 56,
   "metadata": {},
   "outputs": [],
   "source": [
    "def collapse(L):\n",
    "    L1 = []\n",
    "    for i in L:\n",
    "        L1.append(i.replace(\" \",\"\"))\n",
    "    return L1"
   ]
  },
  {
   "cell_type": "code",
   "execution_count": 57,
   "metadata": {},
   "outputs": [],
   "source": [
    "movies_df_join['genres'] = movies_df_join['genres'].apply(collapse)\n",
    "movies_df_join['cast'] = movies_df_join['cast'].apply(collapse)\n",
    "movies_df_join['crew'] = movies_df_join['crew'].apply(collapse)\n",
    "movies_df_join['keywords'] = movies_df_join['keywords'].apply(collapse)"
   ]
  },
  {
   "attachments": {},
   "cell_type": "markdown",
   "metadata": {},
   "source": [
    "## splitting overview in a list"
   ]
  },
  {
   "cell_type": "code",
   "execution_count": 58,
   "metadata": {},
   "outputs": [],
   "source": [
    "movies_df_join['overview'] = movies_df_join['overview'].apply(lambda x:x.split())\n"
   ]
  },
  {
   "cell_type": "code",
   "execution_count": 59,
   "metadata": {},
   "outputs": [
    {
     "data": {
      "text/html": [
       "<div>\n",
       "<style scoped>\n",
       "    .dataframe tbody tr th:only-of-type {\n",
       "        vertical-align: middle;\n",
       "    }\n",
       "\n",
       "    .dataframe tbody tr th {\n",
       "        vertical-align: top;\n",
       "    }\n",
       "\n",
       "    .dataframe thead th {\n",
       "        text-align: right;\n",
       "    }\n",
       "</style>\n",
       "<table border=\"1\" class=\"dataframe\">\n",
       "  <thead>\n",
       "    <tr style=\"text-align: right;\">\n",
       "      <th></th>\n",
       "      <th>id</th>\n",
       "      <th>title</th>\n",
       "      <th>overview</th>\n",
       "      <th>genres</th>\n",
       "      <th>cast</th>\n",
       "      <th>crew</th>\n",
       "      <th>keywords</th>\n",
       "      <th>year</th>\n",
       "      <th>tags</th>\n",
       "    </tr>\n",
       "  </thead>\n",
       "  <tbody>\n",
       "    <tr>\n",
       "      <th>0</th>\n",
       "      <td>862</td>\n",
       "      <td>Toy Story</td>\n",
       "      <td>[Led, by, Woody,, Andy's, toys, live, happily, in, his, room, until, Andy's, birthday, brings, Buzz, Lightyear, onto, the, scene., Afraid, of, losing, his, place, in, Andy's, heart,, Woody, plots, against, Buzz., But, when, circumstances, separate, Buzz, and, Woody, from, their, owner,, the, duo, eventually, learns, to, put, aside, their, differences.]</td>\n",
       "      <td>[Animation, Comedy, Family]</td>\n",
       "      <td>[TomHanks, TimAllen, DonRickles]</td>\n",
       "      <td>[JohnLasseter]</td>\n",
       "      <td>[jealousy, toy, boy, friendship, friends, rivalry, boynextdoor, newtoy, toycomestolife]</td>\n",
       "      <td>[1995]</td>\n",
       "      <td>[Led, by, Woody,, Andy's, toys, live, happily, in, his, room, until, Andy's, birthday, brings, Buzz, Lightyear, onto, the, scene., Afraid, of, losing, his, place, in, Andy's, heart,, Woody, plots, against, Buzz., But, when, circumstances, separate, Buzz, and, Woody, from, their, owner,, the, duo, eventually, learns, to, put, aside, their, differences., Animation, Comedy, Family, TomHanks, TimAllen, DonRickles, JohnLasseter, jealousy, toy, boy, friendship, friends, rivalry, boynextdoor, newtoy, toycomestolife, 1995]</td>\n",
       "    </tr>\n",
       "    <tr>\n",
       "      <th>1</th>\n",
       "      <td>8844</td>\n",
       "      <td>Jumanji</td>\n",
       "      <td>[When, siblings, Judy, and, Peter, discover, an, enchanted, board, game, that, opens, the, door, to, a, magical, world,, they, unwittingly, invite, Alan, --, an, adult, who's, been, trapped, inside, the, game, for, 26, years, --, into, their, living, room., Alan's, only, hope, for, freedom, is, to, finish, the, game,, which, proves, risky, as, all, three, find, themselves, running, from, giant, rhinoceroses,, evil, monkeys, and, other, terrifying, creatures.]</td>\n",
       "      <td>[Adventure, Fantasy, Family]</td>\n",
       "      <td>[RobinWilliams, JonathanHyde, KirstenDunst]</td>\n",
       "      <td>[JoeJohnston]</td>\n",
       "      <td>[boardgame, disappearance, basedonchildren'sbook, newhome, recluse, giantinsect]</td>\n",
       "      <td>[1995]</td>\n",
       "      <td>[When, siblings, Judy, and, Peter, discover, an, enchanted, board, game, that, opens, the, door, to, a, magical, world,, they, unwittingly, invite, Alan, --, an, adult, who's, been, trapped, inside, the, game, for, 26, years, --, into, their, living, room., Alan's, only, hope, for, freedom, is, to, finish, the, game,, which, proves, risky, as, all, three, find, themselves, running, from, giant, rhinoceroses,, evil, monkeys, and, other, terrifying, creatures., Adventure, Fantasy, Family, RobinWilliams, JonathanHyde, KirstenDunst, JoeJohnston, boardgame, disappearance, basedonchildren'sbook, newhome, recluse, giantinsect, 1995]</td>\n",
       "    </tr>\n",
       "    <tr>\n",
       "      <th>2</th>\n",
       "      <td>15602</td>\n",
       "      <td>Grumpier Old Men</td>\n",
       "      <td>[A, family, wedding, reignites, the, ancient, feud, between, next-door, neighbors, and, fishing, buddies, John, and, Max., Meanwhile,, a, sultry, Italian, divorcée, opens, a, restaurant, at, the, local, bait, shop,, alarming, the, locals, who, worry, she'll, scare, the, fish, away., But, she's, less, interested, in, seafood, than, she, is, in, cooking, up, a, hot, time, with, Max.]</td>\n",
       "      <td>[Romance, Comedy]</td>\n",
       "      <td>[WalterMatthau, JackLemmon, Ann-Margret]</td>\n",
       "      <td>[HowardDeutch]</td>\n",
       "      <td>[fishing, bestfriend, duringcreditsstinger, oldmen]</td>\n",
       "      <td>[1995]</td>\n",
       "      <td>[A, family, wedding, reignites, the, ancient, feud, between, next-door, neighbors, and, fishing, buddies, John, and, Max., Meanwhile,, a, sultry, Italian, divorcée, opens, a, restaurant, at, the, local, bait, shop,, alarming, the, locals, who, worry, she'll, scare, the, fish, away., But, she's, less, interested, in, seafood, than, she, is, in, cooking, up, a, hot, time, with, Max., Romance, Comedy, WalterMatthau, JackLemmon, Ann-Margret, HowardDeutch, fishing, bestfriend, duringcreditsstinger, oldmen, 1995]</td>\n",
       "    </tr>\n",
       "    <tr>\n",
       "      <th>3</th>\n",
       "      <td>31357</td>\n",
       "      <td>Waiting to Exhale</td>\n",
       "      <td>[Cheated, on,, mistreated, and, stepped, on,, the, women, are, holding, their, breath,, waiting, for, the, elusive, \"good, man\", to, break, a, string, of, less-than-stellar, lovers., Friends, and, confidants, Vannah,, Bernie,, Glo, and, Robin, talk, it, all, out,, determined, to, find, a, better, way, to, breathe.]</td>\n",
       "      <td>[Comedy, Drama, Romance]</td>\n",
       "      <td>[WhitneyHouston, AngelaBassett, LorettaDevine]</td>\n",
       "      <td>[ForestWhitaker]</td>\n",
       "      <td>[basedonnovel, interracialrelationship, singlemother, divorce, chickflick]</td>\n",
       "      <td>[1995]</td>\n",
       "      <td>[Cheated, on,, mistreated, and, stepped, on,, the, women, are, holding, their, breath,, waiting, for, the, elusive, \"good, man\", to, break, a, string, of, less-than-stellar, lovers., Friends, and, confidants, Vannah,, Bernie,, Glo, and, Robin, talk, it, all, out,, determined, to, find, a, better, way, to, breathe., Comedy, Drama, Romance, WhitneyHouston, AngelaBassett, LorettaDevine, ForestWhitaker, basedonnovel, interracialrelationship, singlemother, divorce, chickflick, 1995]</td>\n",
       "    </tr>\n",
       "    <tr>\n",
       "      <th>4</th>\n",
       "      <td>11862</td>\n",
       "      <td>Father of the Bride Part II</td>\n",
       "      <td>[Just, when, George, Banks, has, recovered, from, his, daughter's, wedding,, he, receives, the, news, that, she's, pregnant, ..., and, that, George's, wife,, Nina,, is, expecting, too., He, was, planning, on, selling, their, home,, but, that's, a, plan, that, --, like, George, --, will, have, to, change, with, the, arrival, of, both, a, grandchild, and, a, kid, of, his, own.]</td>\n",
       "      <td>[Comedy]</td>\n",
       "      <td>[SteveMartin, DianeKeaton, MartinShort]</td>\n",
       "      <td>[CharlesShyer]</td>\n",
       "      <td>[baby, midlifecrisis, confidence, aging, daughter, motherdaughterrelationship, pregnancy, contraception, gynecologist]</td>\n",
       "      <td>[1995]</td>\n",
       "      <td>[Just, when, George, Banks, has, recovered, from, his, daughter's, wedding,, he, receives, the, news, that, she's, pregnant, ..., and, that, George's, wife,, Nina,, is, expecting, too., He, was, planning, on, selling, their, home,, but, that's, a, plan, that, --, like, George, --, will, have, to, change, with, the, arrival, of, both, a, grandchild, and, a, kid, of, his, own., Comedy, SteveMartin, DianeKeaton, MartinShort, CharlesShyer, baby, midlifecrisis, confidence, aging, daughter, motherdaughterrelationship, pregnancy, contraception, gynecologist, 1995]</td>\n",
       "    </tr>\n",
       "  </tbody>\n",
       "</table>\n",
       "</div>"
      ],
      "text/plain": [
       "      id                        title  \\\n",
       "0  862    Toy Story                     \n",
       "1  8844   Jumanji                       \n",
       "2  15602  Grumpier Old Men              \n",
       "3  31357  Waiting to Exhale             \n",
       "4  11862  Father of the Bride Part II   \n",
       "\n",
       "                                                                                                                                                                                                                                                                                                                                                                                                                                                                          overview  \\\n",
       "0  [Led, by, Woody,, Andy's, toys, live, happily, in, his, room, until, Andy's, birthday, brings, Buzz, Lightyear, onto, the, scene., Afraid, of, losing, his, place, in, Andy's, heart,, Woody, plots, against, Buzz., But, when, circumstances, separate, Buzz, and, Woody, from, their, owner,, the, duo, eventually, learns, to, put, aside, their, differences.]                                                                                                                \n",
       "1  [When, siblings, Judy, and, Peter, discover, an, enchanted, board, game, that, opens, the, door, to, a, magical, world,, they, unwittingly, invite, Alan, --, an, adult, who's, been, trapped, inside, the, game, for, 26, years, --, into, their, living, room., Alan's, only, hope, for, freedom, is, to, finish, the, game,, which, proves, risky, as, all, three, find, themselves, running, from, giant, rhinoceroses,, evil, monkeys, and, other, terrifying, creatures.]   \n",
       "2  [A, family, wedding, reignites, the, ancient, feud, between, next-door, neighbors, and, fishing, buddies, John, and, Max., Meanwhile,, a, sultry, Italian, divorcée, opens, a, restaurant, at, the, local, bait, shop,, alarming, the, locals, who, worry, she'll, scare, the, fish, away., But, she's, less, interested, in, seafood, than, she, is, in, cooking, up, a, hot, time, with, Max.]                                                                                  \n",
       "3  [Cheated, on,, mistreated, and, stepped, on,, the, women, are, holding, their, breath,, waiting, for, the, elusive, \"good, man\", to, break, a, string, of, less-than-stellar, lovers., Friends, and, confidants, Vannah,, Bernie,, Glo, and, Robin, talk, it, all, out,, determined, to, find, a, better, way, to, breathe.]                                                                                                                                                      \n",
       "4  [Just, when, George, Banks, has, recovered, from, his, daughter's, wedding,, he, receives, the, news, that, she's, pregnant, ..., and, that, George's, wife,, Nina,, is, expecting, too., He, was, planning, on, selling, their, home,, but, that's, a, plan, that, --, like, George, --, will, have, to, change, with, the, arrival, of, both, a, grandchild, and, a, kid, of, his, own.]                                                                                        \n",
       "\n",
       "                         genres  \\\n",
       "0  [Animation, Comedy, Family]    \n",
       "1  [Adventure, Fantasy, Family]   \n",
       "2  [Romance, Comedy]              \n",
       "3  [Comedy, Drama, Romance]       \n",
       "4  [Comedy]                       \n",
       "\n",
       "                                             cast              crew  \\\n",
       "0  [TomHanks, TimAllen, DonRickles]                [JohnLasseter]     \n",
       "1  [RobinWilliams, JonathanHyde, KirstenDunst]     [JoeJohnston]      \n",
       "2  [WalterMatthau, JackLemmon, Ann-Margret]        [HowardDeutch]     \n",
       "3  [WhitneyHouston, AngelaBassett, LorettaDevine]  [ForestWhitaker]   \n",
       "4  [SteveMartin, DianeKeaton, MartinShort]         [CharlesShyer]     \n",
       "\n",
       "                                                                                                                 keywords  \\\n",
       "0  [jealousy, toy, boy, friendship, friends, rivalry, boynextdoor, newtoy, toycomestolife]                                  \n",
       "1  [boardgame, disappearance, basedonchildren'sbook, newhome, recluse, giantinsect]                                         \n",
       "2  [fishing, bestfriend, duringcreditsstinger, oldmen]                                                                      \n",
       "3  [basedonnovel, interracialrelationship, singlemother, divorce, chickflick]                                               \n",
       "4  [baby, midlifecrisis, confidence, aging, daughter, motherdaughterrelationship, pregnancy, contraception, gynecologist]   \n",
       "\n",
       "     year  \\\n",
       "0  [1995]   \n",
       "1  [1995]   \n",
       "2  [1995]   \n",
       "3  [1995]   \n",
       "4  [1995]   \n",
       "\n",
       "                                                                                                                                                                                                                                                                                                                                                                                                                                                                                                                                                                                                                                                        tags  \n",
       "0  [Led, by, Woody,, Andy's, toys, live, happily, in, his, room, until, Andy's, birthday, brings, Buzz, Lightyear, onto, the, scene., Afraid, of, losing, his, place, in, Andy's, heart,, Woody, plots, against, Buzz., But, when, circumstances, separate, Buzz, and, Woody, from, their, owner,, the, duo, eventually, learns, to, put, aside, their, differences., Animation, Comedy, Family, TomHanks, TimAllen, DonRickles, JohnLasseter, jealousy, toy, boy, friendship, friends, rivalry, boynextdoor, newtoy, toycomestolife, 1995]                                                                                                                   \n",
       "1  [When, siblings, Judy, and, Peter, discover, an, enchanted, board, game, that, opens, the, door, to, a, magical, world,, they, unwittingly, invite, Alan, --, an, adult, who's, been, trapped, inside, the, game, for, 26, years, --, into, their, living, room., Alan's, only, hope, for, freedom, is, to, finish, the, game,, which, proves, risky, as, all, three, find, themselves, running, from, giant, rhinoceroses,, evil, monkeys, and, other, terrifying, creatures., Adventure, Fantasy, Family, RobinWilliams, JonathanHyde, KirstenDunst, JoeJohnston, boardgame, disappearance, basedonchildren'sbook, newhome, recluse, giantinsect, 1995]  \n",
       "2  [A, family, wedding, reignites, the, ancient, feud, between, next-door, neighbors, and, fishing, buddies, John, and, Max., Meanwhile,, a, sultry, Italian, divorcée, opens, a, restaurant, at, the, local, bait, shop,, alarming, the, locals, who, worry, she'll, scare, the, fish, away., But, she's, less, interested, in, seafood, than, she, is, in, cooking, up, a, hot, time, with, Max., Romance, Comedy, WalterMatthau, JackLemmon, Ann-Margret, HowardDeutch, fishing, bestfriend, duringcreditsstinger, oldmen, 1995]                                                                                                                           \n",
       "3  [Cheated, on,, mistreated, and, stepped, on,, the, women, are, holding, their, breath,, waiting, for, the, elusive, \"good, man\", to, break, a, string, of, less-than-stellar, lovers., Friends, and, confidants, Vannah,, Bernie,, Glo, and, Robin, talk, it, all, out,, determined, to, find, a, better, way, to, breathe., Comedy, Drama, Romance, WhitneyHouston, AngelaBassett, LorettaDevine, ForestWhitaker, basedonnovel, interracialrelationship, singlemother, divorce, chickflick, 1995]                                                                                                                                                         \n",
       "4  [Just, when, George, Banks, has, recovered, from, his, daughter's, wedding,, he, receives, the, news, that, she's, pregnant, ..., and, that, George's, wife,, Nina,, is, expecting, too., He, was, planning, on, selling, their, home,, but, that's, a, plan, that, --, like, George, --, will, have, to, change, with, the, arrival, of, both, a, grandchild, and, a, kid, of, his, own., Comedy, SteveMartin, DianeKeaton, MartinShort, CharlesShyer, baby, midlifecrisis, confidence, aging, daughter, motherdaughterrelationship, pregnancy, contraception, gynecologist, 1995]                                                                        "
      ]
     },
     "execution_count": 59,
     "metadata": {},
     "output_type": "execute_result"
    }
   ],
   "source": [
    "movies_df_join['tags'] = movies_df_join['overview'] + movies_df_join['genres']  + movies_df_join['cast'] + movies_df_join['crew'] +movies_df_join['keywords'] + movies_df_join['year']\n",
    "movies_df_join.head()"
   ]
  },
  {
   "cell_type": "code",
   "execution_count": 60,
   "metadata": {},
   "outputs": [
    {
     "data": {
      "text/html": [
       "<div>\n",
       "<style scoped>\n",
       "    .dataframe tbody tr th:only-of-type {\n",
       "        vertical-align: middle;\n",
       "    }\n",
       "\n",
       "    .dataframe tbody tr th {\n",
       "        vertical-align: top;\n",
       "    }\n",
       "\n",
       "    .dataframe thead th {\n",
       "        text-align: right;\n",
       "    }\n",
       "</style>\n",
       "<table border=\"1\" class=\"dataframe\">\n",
       "  <thead>\n",
       "    <tr style=\"text-align: right;\">\n",
       "      <th></th>\n",
       "      <th>id</th>\n",
       "      <th>title</th>\n",
       "      <th>genres</th>\n",
       "      <th>tags</th>\n",
       "    </tr>\n",
       "  </thead>\n",
       "  <tbody>\n",
       "    <tr>\n",
       "      <th>0</th>\n",
       "      <td>862</td>\n",
       "      <td>Toy Story</td>\n",
       "      <td>[Animation, Comedy, Family]</td>\n",
       "      <td>[Led, by, Woody,, Andy's, toys, live, happily, in, his, room, until, Andy's, birthday, brings, Buzz, Lightyear, onto, the, scene., Afraid, of, losing, his, place, in, Andy's, heart,, Woody, plots, against, Buzz., But, when, circumstances, separate, Buzz, and, Woody, from, their, owner,, the, duo, eventually, learns, to, put, aside, their, differences., Animation, Comedy, Family, TomHanks, TimAllen, DonRickles, JohnLasseter, jealousy, toy, boy, friendship, friends, rivalry, boynextdoor, newtoy, toycomestolife, 1995]</td>\n",
       "    </tr>\n",
       "    <tr>\n",
       "      <th>1</th>\n",
       "      <td>8844</td>\n",
       "      <td>Jumanji</td>\n",
       "      <td>[Adventure, Fantasy, Family]</td>\n",
       "      <td>[When, siblings, Judy, and, Peter, discover, an, enchanted, board, game, that, opens, the, door, to, a, magical, world,, they, unwittingly, invite, Alan, --, an, adult, who's, been, trapped, inside, the, game, for, 26, years, --, into, their, living, room., Alan's, only, hope, for, freedom, is, to, finish, the, game,, which, proves, risky, as, all, three, find, themselves, running, from, giant, rhinoceroses,, evil, monkeys, and, other, terrifying, creatures., Adventure, Fantasy, Family, RobinWilliams, JonathanHyde, KirstenDunst, JoeJohnston, boardgame, disappearance, basedonchildren'sbook, newhome, recluse, giantinsect, 1995]</td>\n",
       "    </tr>\n",
       "    <tr>\n",
       "      <th>2</th>\n",
       "      <td>15602</td>\n",
       "      <td>Grumpier Old Men</td>\n",
       "      <td>[Romance, Comedy]</td>\n",
       "      <td>[A, family, wedding, reignites, the, ancient, feud, between, next-door, neighbors, and, fishing, buddies, John, and, Max., Meanwhile,, a, sultry, Italian, divorcée, opens, a, restaurant, at, the, local, bait, shop,, alarming, the, locals, who, worry, she'll, scare, the, fish, away., But, she's, less, interested, in, seafood, than, she, is, in, cooking, up, a, hot, time, with, Max., Romance, Comedy, WalterMatthau, JackLemmon, Ann-Margret, HowardDeutch, fishing, bestfriend, duringcreditsstinger, oldmen, 1995]</td>\n",
       "    </tr>\n",
       "    <tr>\n",
       "      <th>3</th>\n",
       "      <td>31357</td>\n",
       "      <td>Waiting to Exhale</td>\n",
       "      <td>[Comedy, Drama, Romance]</td>\n",
       "      <td>[Cheated, on,, mistreated, and, stepped, on,, the, women, are, holding, their, breath,, waiting, for, the, elusive, \"good, man\", to, break, a, string, of, less-than-stellar, lovers., Friends, and, confidants, Vannah,, Bernie,, Glo, and, Robin, talk, it, all, out,, determined, to, find, a, better, way, to, breathe., Comedy, Drama, Romance, WhitneyHouston, AngelaBassett, LorettaDevine, ForestWhitaker, basedonnovel, interracialrelationship, singlemother, divorce, chickflick, 1995]</td>\n",
       "    </tr>\n",
       "    <tr>\n",
       "      <th>4</th>\n",
       "      <td>11862</td>\n",
       "      <td>Father of the Bride Part II</td>\n",
       "      <td>[Comedy]</td>\n",
       "      <td>[Just, when, George, Banks, has, recovered, from, his, daughter's, wedding,, he, receives, the, news, that, she's, pregnant, ..., and, that, George's, wife,, Nina,, is, expecting, too., He, was, planning, on, selling, their, home,, but, that's, a, plan, that, --, like, George, --, will, have, to, change, with, the, arrival, of, both, a, grandchild, and, a, kid, of, his, own., Comedy, SteveMartin, DianeKeaton, MartinShort, CharlesShyer, baby, midlifecrisis, confidence, aging, daughter, motherdaughterrelationship, pregnancy, contraception, gynecologist, 1995]</td>\n",
       "    </tr>\n",
       "  </tbody>\n",
       "</table>\n",
       "</div>"
      ],
      "text/plain": [
       "      id                        title                        genres  \\\n",
       "0  862    Toy Story                    [Animation, Comedy, Family]    \n",
       "1  8844   Jumanji                      [Adventure, Fantasy, Family]   \n",
       "2  15602  Grumpier Old Men             [Romance, Comedy]              \n",
       "3  31357  Waiting to Exhale            [Comedy, Drama, Romance]       \n",
       "4  11862  Father of the Bride Part II  [Comedy]                       \n",
       "\n",
       "                                                                                                                                                                                                                                                                                                                                                                                                                                                                                                                                                                                                                                                        tags  \n",
       "0  [Led, by, Woody,, Andy's, toys, live, happily, in, his, room, until, Andy's, birthday, brings, Buzz, Lightyear, onto, the, scene., Afraid, of, losing, his, place, in, Andy's, heart,, Woody, plots, against, Buzz., But, when, circumstances, separate, Buzz, and, Woody, from, their, owner,, the, duo, eventually, learns, to, put, aside, their, differences., Animation, Comedy, Family, TomHanks, TimAllen, DonRickles, JohnLasseter, jealousy, toy, boy, friendship, friends, rivalry, boynextdoor, newtoy, toycomestolife, 1995]                                                                                                                   \n",
       "1  [When, siblings, Judy, and, Peter, discover, an, enchanted, board, game, that, opens, the, door, to, a, magical, world,, they, unwittingly, invite, Alan, --, an, adult, who's, been, trapped, inside, the, game, for, 26, years, --, into, their, living, room., Alan's, only, hope, for, freedom, is, to, finish, the, game,, which, proves, risky, as, all, three, find, themselves, running, from, giant, rhinoceroses,, evil, monkeys, and, other, terrifying, creatures., Adventure, Fantasy, Family, RobinWilliams, JonathanHyde, KirstenDunst, JoeJohnston, boardgame, disappearance, basedonchildren'sbook, newhome, recluse, giantinsect, 1995]  \n",
       "2  [A, family, wedding, reignites, the, ancient, feud, between, next-door, neighbors, and, fishing, buddies, John, and, Max., Meanwhile,, a, sultry, Italian, divorcée, opens, a, restaurant, at, the, local, bait, shop,, alarming, the, locals, who, worry, she'll, scare, the, fish, away., But, she's, less, interested, in, seafood, than, she, is, in, cooking, up, a, hot, time, with, Max., Romance, Comedy, WalterMatthau, JackLemmon, Ann-Margret, HowardDeutch, fishing, bestfriend, duringcreditsstinger, oldmen, 1995]                                                                                                                           \n",
       "3  [Cheated, on,, mistreated, and, stepped, on,, the, women, are, holding, their, breath,, waiting, for, the, elusive, \"good, man\", to, break, a, string, of, less-than-stellar, lovers., Friends, and, confidants, Vannah,, Bernie,, Glo, and, Robin, talk, it, all, out,, determined, to, find, a, better, way, to, breathe., Comedy, Drama, Romance, WhitneyHouston, AngelaBassett, LorettaDevine, ForestWhitaker, basedonnovel, interracialrelationship, singlemother, divorce, chickflick, 1995]                                                                                                                                                         \n",
       "4  [Just, when, George, Banks, has, recovered, from, his, daughter's, wedding,, he, receives, the, news, that, she's, pregnant, ..., and, that, George's, wife,, Nina,, is, expecting, too., He, was, planning, on, selling, their, home,, but, that's, a, plan, that, --, like, George, --, will, have, to, change, with, the, arrival, of, both, a, grandchild, and, a, kid, of, his, own., Comedy, SteveMartin, DianeKeaton, MartinShort, CharlesShyer, baby, midlifecrisis, confidence, aging, daughter, motherdaughterrelationship, pregnancy, contraception, gynecologist, 1995]                                                                        "
      ]
     },
     "execution_count": 60,
     "metadata": {},
     "output_type": "execute_result"
    }
   ],
   "source": [
    "final_df = movies_df_join.drop(columns=['overview','cast','crew','keywords','year'])\n",
    "final_df.head()"
   ]
  },
  {
   "attachments": {},
   "cell_type": "markdown",
   "metadata": {},
   "source": [
    "## joining splitted list in a sentence like"
   ]
  },
  {
   "cell_type": "code",
   "execution_count": 61,
   "metadata": {},
   "outputs": [],
   "source": [
    "final_df['tags'] = final_df['tags'].apply(lambda x: \" \".join(x))\n",
    "final_df['genres'] = final_df['genres'].apply(lambda x: \" \".join(x))\n",
    "\n"
   ]
  },
  {
   "cell_type": "code",
   "execution_count": 62,
   "metadata": {},
   "outputs": [
    {
     "data": {
      "text/html": [
       "<div>\n",
       "<style scoped>\n",
       "    .dataframe tbody tr th:only-of-type {\n",
       "        vertical-align: middle;\n",
       "    }\n",
       "\n",
       "    .dataframe tbody tr th {\n",
       "        vertical-align: top;\n",
       "    }\n",
       "\n",
       "    .dataframe thead th {\n",
       "        text-align: right;\n",
       "    }\n",
       "</style>\n",
       "<table border=\"1\" class=\"dataframe\">\n",
       "  <thead>\n",
       "    <tr style=\"text-align: right;\">\n",
       "      <th></th>\n",
       "      <th>id</th>\n",
       "      <th>title</th>\n",
       "      <th>genres</th>\n",
       "      <th>tags</th>\n",
       "    </tr>\n",
       "  </thead>\n",
       "  <tbody>\n",
       "    <tr>\n",
       "      <th>0</th>\n",
       "      <td>862</td>\n",
       "      <td>Toy Story</td>\n",
       "      <td>Animation Comedy Family</td>\n",
       "      <td>led by woody, andy's toys live happily in his room until andy's birthday brings buzz lightyear onto the scene. afraid of losing his place in andy's heart, woody plots against buzz. but when circumstances separate buzz and woody from their owner, the duo eventually learns to put aside their differences. animation comedy family tomhanks timallen donrickles johnlasseter jealousy toy boy friendship friends rivalry boynextdoor newtoy toycomestolife 1995</td>\n",
       "    </tr>\n",
       "    <tr>\n",
       "      <th>1</th>\n",
       "      <td>8844</td>\n",
       "      <td>Jumanji</td>\n",
       "      <td>Adventure Fantasy Family</td>\n",
       "      <td>when siblings judy and peter discover an enchanted board game that opens the door to a magical world, they unwittingly invite alan -- an adult who's been trapped inside the game for 26 years -- into their living room. alan's only hope for freedom is to finish the game, which proves risky as all three find themselves running from giant rhinoceroses, evil monkeys and other terrifying creatures. adventure fantasy family robinwilliams jonathanhyde kirstendunst joejohnston boardgame disappearance basedonchildren'sbook newhome recluse giantinsect 1995</td>\n",
       "    </tr>\n",
       "    <tr>\n",
       "      <th>2</th>\n",
       "      <td>15602</td>\n",
       "      <td>Grumpier Old Men</td>\n",
       "      <td>Romance Comedy</td>\n",
       "      <td>a family wedding reignites the ancient feud between next-door neighbors and fishing buddies john and max. meanwhile, a sultry italian divorcée opens a restaurant at the local bait shop, alarming the locals who worry she'll scare the fish away. but she's less interested in seafood than she is in cooking up a hot time with max. romance comedy waltermatthau jacklemmon ann-margret howarddeutch fishing bestfriend duringcreditsstinger oldmen 1995</td>\n",
       "    </tr>\n",
       "    <tr>\n",
       "      <th>3</th>\n",
       "      <td>31357</td>\n",
       "      <td>Waiting to Exhale</td>\n",
       "      <td>Comedy Drama Romance</td>\n",
       "      <td>cheated on, mistreated and stepped on, the women are holding their breath, waiting for the elusive \"good man\" to break a string of less-than-stellar lovers. friends and confidants vannah, bernie, glo and robin talk it all out, determined to find a better way to breathe. comedy drama romance whitneyhouston angelabassett lorettadevine forestwhitaker basedonnovel interracialrelationship singlemother divorce chickflick 1995</td>\n",
       "    </tr>\n",
       "    <tr>\n",
       "      <th>4</th>\n",
       "      <td>11862</td>\n",
       "      <td>Father of the Bride Part II</td>\n",
       "      <td>Comedy</td>\n",
       "      <td>just when george banks has recovered from his daughter's wedding, he receives the news that she's pregnant ... and that george's wife, nina, is expecting too. he was planning on selling their home, but that's a plan that -- like george -- will have to change with the arrival of both a grandchild and a kid of his own. comedy stevemartin dianekeaton martinshort charlesshyer baby midlifecrisis confidence aging daughter motherdaughterrelationship pregnancy contraception gynecologist 1995</td>\n",
       "    </tr>\n",
       "  </tbody>\n",
       "</table>\n",
       "</div>"
      ],
      "text/plain": [
       "      id                        title                    genres  \\\n",
       "0  862    Toy Story                    Animation Comedy Family    \n",
       "1  8844   Jumanji                      Adventure Fantasy Family   \n",
       "2  15602  Grumpier Old Men             Romance Comedy             \n",
       "3  31357  Waiting to Exhale            Comedy Drama Romance       \n",
       "4  11862  Father of the Bride Part II  Comedy                     \n",
       "\n",
       "                                                                                                                                                                                                                                                                                                                                                                                                                                                                                                                                                                      tags  \n",
       "0  led by woody, andy's toys live happily in his room until andy's birthday brings buzz lightyear onto the scene. afraid of losing his place in andy's heart, woody plots against buzz. but when circumstances separate buzz and woody from their owner, the duo eventually learns to put aside their differences. animation comedy family tomhanks timallen donrickles johnlasseter jealousy toy boy friendship friends rivalry boynextdoor newtoy toycomestolife 1995                                                                                                     \n",
       "1  when siblings judy and peter discover an enchanted board game that opens the door to a magical world, they unwittingly invite alan -- an adult who's been trapped inside the game for 26 years -- into their living room. alan's only hope for freedom is to finish the game, which proves risky as all three find themselves running from giant rhinoceroses, evil monkeys and other terrifying creatures. adventure fantasy family robinwilliams jonathanhyde kirstendunst joejohnston boardgame disappearance basedonchildren'sbook newhome recluse giantinsect 1995  \n",
       "2  a family wedding reignites the ancient feud between next-door neighbors and fishing buddies john and max. meanwhile, a sultry italian divorcée opens a restaurant at the local bait shop, alarming the locals who worry she'll scare the fish away. but she's less interested in seafood than she is in cooking up a hot time with max. romance comedy waltermatthau jacklemmon ann-margret howarddeutch fishing bestfriend duringcreditsstinger oldmen 1995                                                                                                             \n",
       "3  cheated on, mistreated and stepped on, the women are holding their breath, waiting for the elusive \"good man\" to break a string of less-than-stellar lovers. friends and confidants vannah, bernie, glo and robin talk it all out, determined to find a better way to breathe. comedy drama romance whitneyhouston angelabassett lorettadevine forestwhitaker basedonnovel interracialrelationship singlemother divorce chickflick 1995                                                                                                                                  \n",
       "4  just when george banks has recovered from his daughter's wedding, he receives the news that she's pregnant ... and that george's wife, nina, is expecting too. he was planning on selling their home, but that's a plan that -- like george -- will have to change with the arrival of both a grandchild and a kid of his own. comedy stevemartin dianekeaton martinshort charlesshyer baby midlifecrisis confidence aging daughter motherdaughterrelationship pregnancy contraception gynecologist 1995                                                                 "
      ]
     },
     "execution_count": 62,
     "metadata": {},
     "output_type": "execute_result"
    }
   ],
   "source": [
    "final_df['tags'] = final_df['tags'].apply(lambda x: x.lower())\n",
    "final_df.head()\n"
   ]
  },
  {
   "cell_type": "code",
   "execution_count": 63,
   "metadata": {},
   "outputs": [],
   "source": [
    "# final_df.duplicated().sum()"
   ]
  },
  {
   "cell_type": "code",
   "execution_count": 64,
   "metadata": {},
   "outputs": [
    {
     "name": "stdout",
     "output_type": "stream",
     "text": [
      "45320\n",
      "2475\n",
      "19596643\n"
     ]
    }
   ],
   "source": [
    "ll=[]\n",
    "for i in final_df['tags']:\n",
    "   ll.append(len(i))\n",
    "\n",
    "\n",
    "# print(ll)\n",
    "print(len(ll))\n",
    "\n",
    "print(max(ll))\n",
    "\n",
    "print(sum(ll))\n",
    "    "
   ]
  },
  {
   "attachments": {},
   "cell_type": "markdown",
   "metadata": {},
   "source": [
    "## stemming\n"
   ]
  },
  {
   "cell_type": "code",
   "execution_count": 65,
   "metadata": {},
   "outputs": [],
   "source": [
    "# from sklearn.feature_extraction.text import CountVectorizer\n",
    "# cv=CountVectorizer(max_features=2716762,stopwords)"
   ]
  },
  {
   "cell_type": "code",
   "execution_count": 66,
   "metadata": {},
   "outputs": [],
   "source": [
    "from nltk.stem.porter import PorterStemmer\n",
    "ps=PorterStemmer()"
   ]
  },
  {
   "cell_type": "code",
   "execution_count": 67,
   "metadata": {},
   "outputs": [],
   "source": [
    "def stem(text):\n",
    "    y=[]\n",
    "    for i in text.split():\n",
    "       y.append(ps.stem(i))\n",
    "       \n",
    "    return \" \".join(y)\n",
    "        "
   ]
  },
  {
   "cell_type": "code",
   "execution_count": 68,
   "metadata": {},
   "outputs": [],
   "source": [
    "final_df['tags']=final_df['tags'].apply(stem)"
   ]
  },
  {
   "cell_type": "code",
   "execution_count": 69,
   "metadata": {},
   "outputs": [
    {
     "data": {
      "text/html": [
       "<div>\n",
       "<style scoped>\n",
       "    .dataframe tbody tr th:only-of-type {\n",
       "        vertical-align: middle;\n",
       "    }\n",
       "\n",
       "    .dataframe tbody tr th {\n",
       "        vertical-align: top;\n",
       "    }\n",
       "\n",
       "    .dataframe thead th {\n",
       "        text-align: right;\n",
       "    }\n",
       "</style>\n",
       "<table border=\"1\" class=\"dataframe\">\n",
       "  <thead>\n",
       "    <tr style=\"text-align: right;\">\n",
       "      <th></th>\n",
       "      <th>id</th>\n",
       "      <th>title</th>\n",
       "      <th>genres</th>\n",
       "      <th>tags</th>\n",
       "    </tr>\n",
       "  </thead>\n",
       "  <tbody>\n",
       "    <tr>\n",
       "      <th>0</th>\n",
       "      <td>862</td>\n",
       "      <td>Toy Story</td>\n",
       "      <td>Animation Comedy Family</td>\n",
       "      <td>led by woody, andy' toy live happili in hi room until andy' birthday bring buzz lightyear onto the scene. afraid of lose hi place in andy' heart, woodi plot against buzz. but when circumst separ buzz and woodi from their owner, the duo eventu learn to put asid their differences. anim comedi famili tomhank timallen donrickl johnlasset jealousi toy boy friendship friend rivalri boynextdoor newtoy toycomestolif 1995</td>\n",
       "    </tr>\n",
       "    <tr>\n",
       "      <th>1</th>\n",
       "      <td>8844</td>\n",
       "      <td>Jumanji</td>\n",
       "      <td>Adventure Fantasy Family</td>\n",
       "      <td>when sibl judi and peter discov an enchant board game that open the door to a magic world, they unwittingli invit alan -- an adult who' been trap insid the game for 26 year -- into their live room. alan' onli hope for freedom is to finish the game, which prove riski as all three find themselv run from giant rhinoceroses, evil monkey and other terrifi creatures. adventur fantasi famili robinwilliam jonathanhyd kirstendunst joejohnston boardgam disappear basedonchildren'sbook newhom reclus giantinsect 1995</td>\n",
       "    </tr>\n",
       "    <tr>\n",
       "      <th>2</th>\n",
       "      <td>15602</td>\n",
       "      <td>Grumpier Old Men</td>\n",
       "      <td>Romance Comedy</td>\n",
       "      <td>a famili wed reignit the ancient feud between next-door neighbor and fish buddi john and max. meanwhile, a sultri italian divorcé open a restaur at the local bait shop, alarm the local who worri she'll scare the fish away. but she' less interest in seafood than she is in cook up a hot time with max. romanc comedi waltermatthau jacklemmon ann-margret howarddeutch fish bestfriend duringcreditssting oldmen 1995</td>\n",
       "    </tr>\n",
       "    <tr>\n",
       "      <th>3</th>\n",
       "      <td>31357</td>\n",
       "      <td>Waiting to Exhale</td>\n",
       "      <td>Comedy Drama Romance</td>\n",
       "      <td>cheat on, mistreat and step on, the women are hold their breath, wait for the elus \"good man\" to break a string of less-than-stellar lovers. friend and confid vannah, bernie, glo and robin talk it all out, determin to find a better way to breathe. comedi drama romanc whitneyhouston angelabassett lorettadevin forestwhitak basedonnovel interracialrelationship singlemoth divorc chickflick 1995</td>\n",
       "    </tr>\n",
       "    <tr>\n",
       "      <th>4</th>\n",
       "      <td>11862</td>\n",
       "      <td>Father of the Bride Part II</td>\n",
       "      <td>Comedy</td>\n",
       "      <td>just when georg bank ha recov from hi daughter' wedding, he receiv the news that she' pregnant ... and that george' wife, nina, is expect too. he wa plan on sell their home, but that' a plan that -- like georg -- will have to chang with the arriv of both a grandchild and a kid of hi own. comedi stevemartin dianekeaton martinshort charlesshy babi midlifecrisi confid age daughter motherdaughterrelationship pregnanc contracept gynecologist 1995</td>\n",
       "    </tr>\n",
       "  </tbody>\n",
       "</table>\n",
       "</div>"
      ],
      "text/plain": [
       "      id                        title                    genres  \\\n",
       "0  862    Toy Story                    Animation Comedy Family    \n",
       "1  8844   Jumanji                      Adventure Fantasy Family   \n",
       "2  15602  Grumpier Old Men             Romance Comedy             \n",
       "3  31357  Waiting to Exhale            Comedy Drama Romance       \n",
       "4  11862  Father of the Bride Part II  Comedy                     \n",
       "\n",
       "                                                                                                                                                                                                                                                                                                                                                                                                                                                                                                                            tags  \n",
       "0  led by woody, andy' toy live happili in hi room until andy' birthday bring buzz lightyear onto the scene. afraid of lose hi place in andy' heart, woodi plot against buzz. but when circumst separ buzz and woodi from their owner, the duo eventu learn to put asid their differences. anim comedi famili tomhank timallen donrickl johnlasset jealousi toy boy friendship friend rivalri boynextdoor newtoy toycomestolif 1995                                                                                               \n",
       "1  when sibl judi and peter discov an enchant board game that open the door to a magic world, they unwittingli invit alan -- an adult who' been trap insid the game for 26 year -- into their live room. alan' onli hope for freedom is to finish the game, which prove riski as all three find themselv run from giant rhinoceroses, evil monkey and other terrifi creatures. adventur fantasi famili robinwilliam jonathanhyd kirstendunst joejohnston boardgam disappear basedonchildren'sbook newhom reclus giantinsect 1995  \n",
       "2  a famili wed reignit the ancient feud between next-door neighbor and fish buddi john and max. meanwhile, a sultri italian divorcé open a restaur at the local bait shop, alarm the local who worri she'll scare the fish away. but she' less interest in seafood than she is in cook up a hot time with max. romanc comedi waltermatthau jacklemmon ann-margret howarddeutch fish bestfriend duringcreditssting oldmen 1995                                                                                                    \n",
       "3  cheat on, mistreat and step on, the women are hold their breath, wait for the elus \"good man\" to break a string of less-than-stellar lovers. friend and confid vannah, bernie, glo and robin talk it all out, determin to find a better way to breathe. comedi drama romanc whitneyhouston angelabassett lorettadevin forestwhitak basedonnovel interracialrelationship singlemoth divorc chickflick 1995                                                                                                                      \n",
       "4  just when georg bank ha recov from hi daughter' wedding, he receiv the news that she' pregnant ... and that george' wife, nina, is expect too. he wa plan on sell their home, but that' a plan that -- like georg -- will have to chang with the arriv of both a grandchild and a kid of hi own. comedi stevemartin dianekeaton martinshort charlesshy babi midlifecrisi confid age daughter motherdaughterrelationship pregnanc contracept gynecologist 1995                                                                  "
      ]
     },
     "execution_count": 69,
     "metadata": {},
     "output_type": "execute_result"
    }
   ],
   "source": [
    "final_df.head()"
   ]
  },
  {
   "cell_type": "code",
   "execution_count": 70,
   "metadata": {},
   "outputs": [
    {
     "data": {
      "text/plain": [
       "(45320, 4)"
      ]
     },
     "execution_count": 70,
     "metadata": {},
     "output_type": "execute_result"
    }
   ],
   "source": [
    "final_df.shape"
   ]
  },
  {
   "cell_type": "code",
   "execution_count": 71,
   "metadata": {},
   "outputs": [
    {
     "data": {
      "text/plain": [
       "Blackout                       13\n",
       "Cinderella                     13\n",
       "Hamlet                         9 \n",
       "Alice in Wonderland            8 \n",
       "Beauty and the Beast           8 \n",
       "                              .. \n",
       "Whoopee!                       1 \n",
       "Dr. Ehrlich's Magic Bullet     1 \n",
       "The House on Telegraph Hill    1 \n",
       "How About You...               1 \n",
       "Queerama                       1 \n",
       "Name: title, Length: 41217, dtype: int64"
      ]
     },
     "execution_count": 71,
     "metadata": {},
     "output_type": "execute_result"
    }
   ],
   "source": [
    "final_df.title.value_counts()"
   ]
  },
  {
   "attachments": {},
   "cell_type": "markdown",
   "metadata": {},
   "source": [
    "ngram range bigram, 2 words together"
   ]
  },
  {
   "cell_type": "code",
   "execution_count": 72,
   "metadata": {},
   "outputs": [
    {
     "data": {
      "text/plain": [
       "Drama                                     5016\n",
       "Comedy                                    3390\n",
       "Documentary                               2761\n",
       "                                          2231\n",
       "Drama Romance                             1319\n",
       "                                          ... \n",
       "Crime Adventure Action Comedy Thriller    1   \n",
       "Animation Horror Thriller                 1   \n",
       "Drama Action Comedy Thriller Foreign      1   \n",
       "ScienceFiction Action Adventure Comedy    1   \n",
       "Family Animation Romance Comedy           1   \n",
       "Name: genres, Length: 4039, dtype: int64"
      ]
     },
     "execution_count": 72,
     "metadata": {},
     "output_type": "execute_result"
    }
   ],
   "source": [
    "final_df.genres.value_counts()"
   ]
  },
  {
   "cell_type": "code",
   "execution_count": 73,
   "metadata": {},
   "outputs": [
    {
     "data": {
      "text/plain": [
       "recov from a nail gun shot to the head and 13 month of coma, doctor pekka valinta start to unravel the mysteri of hi past, still suffer from total amnesia. thriller mysteri petterisummanen ismokallio eppusalminen jpsiili 2008                                                                                                                                                                                                                                                                                                                                                                                                                                                                                                                                                                                                                                                                                                                                                                                                                    9\n",
       "the third film of frank capra' 'whi we fight\" propaganda film series, deal with the nazi conquest of western europ in 1940. documentari knoxman murrayalp generalbergeret frankcapra anatolelitvak 1943                                                                                                                                                                                                                                                                                                                                                                                                                                                                                                                                                                                                                                                                                                                                                                                                                                              6\n",
       "sinc women are ban from soccer matches, iranian femal masquerad as male so they can slip into tehran' stadium to see the game between iran and bahrain. the one who are caught and arrest are taken to a hold area and guard by soldiers. one sympathet soldier agre to watch the game through a peephol and recount the action to the impati fans. drama comedi foreign simamobarak-shahi shayestehirani aydasadeqi jafarpanahi 2006                                                                                                                                                                                                                                                                                                                                                                                                                                                                                                                                                                                                                4\n",
       "all your favorit pokémon charact are back, and are join for the first time by the legendari pokémon celebi and suicune, in thi latest excit pokémon adventure! in order to escap a greedi pokémon hunter, celebi must use the last of it energi to travel through time to the present day. celebi bring along sammy, a boy who had been tri to protect it. along with ash, pikachu, and the rest of the gang, sammi and celebi encount an enemi far more advanc than the hunter left behind in the past. thi new enemi possess a pokébal call a “dark ball,” which transform the pokémon it captur into evil and far stronger creatures. when celebi is captured, the fate of the entir forest is threatened. let pokémon 4ever transport you to a world of adventur as ash, suicun and the rest take action to save the day! adventur fantasi anim sciencefict famili veronicataylor rachaellilli maddieblaustein kunihikoyuyama jimmalon sequel pokémon celebi 2001                                                                                4\n",
       "on the arabian peninsula in the 1930s, two war leader come face to face. the victori nesib, emir of hobeika, lay down hi peac term to rival amar, sultan of salmaah. the two men agre that neither can lay claim to the area of no man’ land between them call the yellow belt. in return, nesib adopt amar’ two boy saleeh and auda as a guarante against invasion. twelv year later, saleeh and auda have grown into young men. saleeh, the warrior, itch to escap hi gild cage and return to hi father’ land. auda care onli for book and the pursuit of knowledge. one day, their adopt father nesib is visit by an american from texas. he tell the emir that hi land is bless with oil and promis him rich beyond hi wildest imagination. nesib imagin a realm of infinit possibility, a kingdom with roads, school and hospit all paid for by the black gold beneath the barren sand. there is onli one problem. the preciou oil is locat in the yellow belt. adventur drama markstrong antoniobandera freidapinto jean-jacquesannaud 2011    4\n",
       "                                                                                                                                                                                                                                                                                                                                                                                                                                                                                                                                                                                                                                                                                                                                                                                                                                                                                                                                                                                                                                                    ..\n",
       "a streetwis cop infiltr a lo angel car-theft ring after a high-spe accid on the freeway reveal a violent turf war between two all-girl gangs. when lieuten bayn (stephen bauer) assign brandi martinez (melina lizette) the task of go undercov to gather evid against notori chop-shop owner mama (olivia brown), brandi befriend a former car thief name eva strong (kenyett action thriller stevenbau oliviabrown melinalizett davidbet carrac 2010                                                                                                                                                                                                                                                                                                                                                                                                                                                                                                                                                                                               1\n",
       "a littl nenet girl neko is taken against her will from her home to a board school in a remot russian village. forc to adapt to a foreign cultur and new customs, neko rebel and decid to flee, hope to get back to her famili and old habits. anastasialapsui markkulehmuskallio womandirector 2010                                                                                                                                                                                                                                                                                                                                                                                                                                                                                                                                                                                                                                                                                                                                                  1\n",
       "the ye men fix the world is a screwbal true stori about two gonzo polit activist who, pose as top execut of giant corporations, lie their way into big busi confer and pull off the world' most outrag pranks. documentari andybichlbaum mikebonanno reggiewatt mikebonanno andybichlbaum kurtengfehr 2009                                                                                                                                                                                                                                                                                                                                                                                                                                                                                                                                                                                                                                                                                                                                           1\n",
       "mike bassett: england manag is an hilari british comedi that star ricki thomlinson. featur cameo from barri venison, gabbi yorath, atom kitten and pele.when the england manag ha a heart attack, footballs' top brass turn to mike bassett (basic no one els want the job). england lose mike' first two game in charge. hi team struggl to a goal-less draw in the final qualifi match but, thank to a fluke result elsewhere, england qualifi for the final in brazil.in south america thing go from bad to worse. pressur is mount for mike. an embarrass drunken perform caught by a new photograph seal hi fate as the most unpopular englishman ever.however, mike make an impass plea for the countri to get behind him - fans, press, players.... even hi wife. can mike turn the tide and bring footbal home ? .. comedi rickytomlinson amandaredman philipjackson stevebarron sport 2001                                                                                                                                                  1\n",
       "50 year after decriminalis of homosexu in the uk, director daisi asquith mine the jewel of the bfi archiv to take us into the relationships, desires, fear and express of gay men and women in the 20th century. daisyasquith 2017                                                                                                                                                                                                                                                                                                                                                                                                                                                                                                                                                                                                                                                                                                                                                                                                                   1\n",
       "Name: tags, Length: 44303, dtype: int64"
      ]
     },
     "execution_count": 73,
     "metadata": {},
     "output_type": "execute_result"
    }
   ],
   "source": [
    "final_df.tags.value_counts()"
   ]
  },
  {
   "cell_type": "markdown",
   "metadata": {},
   "source": [
    "\n",
    "PREPROCESSING DONE\n"
   ]
  },
  {
   "attachments": {},
   "cell_type": "markdown",
   "metadata": {},
   "source": [
    "## text to vectors"
   ]
  },
  {
   "attachments": {},
   "cell_type": "markdown",
   "metadata": {},
   "source": [
    "SEARCH ALGO tfidf_tags"
   ]
  },
  {
   "cell_type": "code",
   "execution_count": 74,
   "metadata": {},
   "outputs": [],
   "source": [
    "from sklearn.feature_extraction.text import TfidfVectorizer\n",
    "from nltk.corpus import stopwords\n",
    "stop = stopwords.words('english')\n",
    "\n",
    "# instantiate the vectorizer object\n",
    "vectorizer_title = TfidfVectorizer(ngram_range=(1,2),lowercase=True,stop_words=stop,max_features=41370)\n",
    "vectorizer_genres = TfidfVectorizer(ngram_range=(1,2),lowercase=True,stop_words=stop,max_features=4039)\n",
    "vectorizer_tags = TfidfVectorizer(ngram_range=(1,2),lowercase=True,stop_words=stop,max_features=44303)\n",
    "\n",
    "# convert the documents into a matrix\n",
    "tfidf_title=vectorizer_title.fit_transform(final_df[\"title\"])\n",
    "tfidf_genres=vectorizer_genres.fit_transform(final_df[\"genres\"])\n",
    "tfidf_tags=vectorizer_tags.fit_transform(final_df[\"tags\"])\n"
   ]
  },
  {
   "cell_type": "code",
   "execution_count": 75,
   "metadata": {},
   "outputs": [],
   "source": [
    "# vectorizer_title.get_feature_names_out()\n"
   ]
  },
  {
   "cell_type": "code",
   "execution_count": 76,
   "metadata": {},
   "outputs": [],
   "source": [
    "# len(vectorizer_title.get_feature_names_out())"
   ]
  },
  {
   "cell_type": "code",
   "execution_count": 77,
   "metadata": {},
   "outputs": [],
   "source": [
    "# vectorizer_genres.get_feature_names_out()"
   ]
  },
  {
   "cell_type": "code",
   "execution_count": 78,
   "metadata": {},
   "outputs": [],
   "source": [
    "# len(vectorizer_genres.get_feature_names_out())"
   ]
  },
  {
   "cell_type": "code",
   "execution_count": 79,
   "metadata": {},
   "outputs": [],
   "source": [
    "# vectorizer_tags.get_feature_names_out()"
   ]
  },
  {
   "cell_type": "code",
   "execution_count": 80,
   "metadata": {},
   "outputs": [],
   "source": [
    "# len(vectorizer_tags.get_feature_names_out())"
   ]
  },
  {
   "cell_type": "code",
   "execution_count": 81,
   "metadata": {},
   "outputs": [],
   "source": [
    "# tfidf_title.toarray()\n"
   ]
  },
  {
   "cell_type": "code",
   "execution_count": 82,
   "metadata": {},
   "outputs": [],
   "source": [
    "# tfidf_title.shape"
   ]
  },
  {
   "cell_type": "code",
   "execution_count": 83,
   "metadata": {},
   "outputs": [],
   "source": [
    "# tfidf_genres.toarray()"
   ]
  },
  {
   "cell_type": "code",
   "execution_count": 84,
   "metadata": {},
   "outputs": [],
   "source": [
    "# tfidf_genres.shape"
   ]
  },
  {
   "cell_type": "code",
   "execution_count": 85,
   "metadata": {},
   "outputs": [],
   "source": [
    "# tfidf_tags.toarray()"
   ]
  },
  {
   "cell_type": "code",
   "execution_count": 86,
   "metadata": {},
   "outputs": [],
   "source": [
    "# tfidf_tags.shape"
   ]
  },
  {
   "attachments": {},
   "cell_type": "markdown",
   "metadata": {},
   "source": [
    "## cosine similarity"
   ]
  },
  {
   "cell_type": "code",
   "execution_count": 87,
   "metadata": {},
   "outputs": [],
   "source": [
    "from sklearn.metrics.pairwise import cosine_similarity\n"
   ]
  },
  {
   "cell_type": "code",
   "execution_count": 93,
   "metadata": {},
   "outputs": [],
   "source": [
    "#input tags matching with tags\n",
    "def search_tags(tags):\n",
    "    tags=tags.lower()\n",
    "    \n",
    "    l=[]\n",
    "    query_vector=vectorizer_tags.transform([tags])\n",
    "    similarity_algo=cosine_similarity(query_vector,tfidf_tags).flatten()\n",
    "\n",
    "    distances = sorted(list(enumerate(similarity_algo)),reverse=True,key = lambda x: x[1])\n",
    "    # distances = sorted(list(enumerate(similarity_algo)),reverse=True)\n",
    "    for i in distances[:10]:\n",
    "        l.append(i[0])\n",
    "\n",
    "    # return final_df['title'].iloc[l].tolist()\n",
    "    # return movies_ratings_df_join.iloc[l]   \n",
    "    return final_df.iloc[l]   \n",
    "\n",
    "   \n",
    "        "
   ]
  },
  {
   "cell_type": "code",
   "execution_count": 94,
   "metadata": {},
   "outputs": [],
   "source": [
    "#input genres matching with genres\n",
    "def search_genres(genres):\n",
    "    genres=genres.lower()\n",
    "    \n",
    "    l=[]\n",
    "    query_vector=vectorizer_genres.transform([genres])\n",
    "    similarity_algo=cosine_similarity(query_vector,tfidf_genres).flatten()\n",
    "\n",
    "    distances = sorted(list(enumerate(similarity_algo)),reverse=True,key = lambda x: x[1])\n",
    "    # distances = sorted(list(enumerate(similarity_algo)),reverse=True)\n",
    "    for i in distances[:10]:\n",
    "        l.append(i[0])\n",
    "\n",
    "    # return final_df['title'].iloc[l].tolist()\n",
    "    return final_df.iloc[l]   \n",
    "\n",
    "   \n",
    "        "
   ]
  },
  {
   "cell_type": "code",
   "execution_count": 95,
   "metadata": {},
   "outputs": [],
   "source": [
    "#input title matching with title\n",
    "def search_title(title):\n",
    "    title=title.lower()\n",
    "    l=[]\n",
    "    query_vector=vectorizer_title.transform([title])\n",
    "    similarity_algo=cosine_similarity(query_vector,tfidf_title).flatten()\n",
    "\n",
    "    distances = sorted(list(enumerate(similarity_algo)),reverse=True,key = lambda x: x[1])\n",
    "    # distances = sorted(list(enumerate(similarity_algo)),reverse=True)\n",
    "    for i in distances[:10]:\n",
    "        l.append(i[0])\n",
    "\n",
    "    # return final_df['title'].iloc[l].tolist()\n",
    "    return final_df.iloc[l]   \n",
    "\n",
    "   \n",
    "        "
   ]
  },
  {
   "cell_type": "code",
   "execution_count": 96,
   "metadata": {},
   "outputs": [
    {
     "data": {
      "text/html": [
       "<div>\n",
       "<style scoped>\n",
       "    .dataframe tbody tr th:only-of-type {\n",
       "        vertical-align: middle;\n",
       "    }\n",
       "\n",
       "    .dataframe tbody tr th {\n",
       "        vertical-align: top;\n",
       "    }\n",
       "\n",
       "    .dataframe thead th {\n",
       "        text-align: right;\n",
       "    }\n",
       "</style>\n",
       "<table border=\"1\" class=\"dataframe\">\n",
       "  <thead>\n",
       "    <tr style=\"text-align: right;\">\n",
       "      <th></th>\n",
       "      <th>id</th>\n",
       "      <th>title</th>\n",
       "      <th>genres</th>\n",
       "      <th>tags</th>\n",
       "    </tr>\n",
       "  </thead>\n",
       "  <tbody>\n",
       "    <tr>\n",
       "      <th>40375</th>\n",
       "      <td>288503</td>\n",
       "      <td>Killjoy</td>\n",
       "      <td>Mystery Thriller</td>\n",
       "      <td>stori of a young woman' murder and the peopl who becom involv with it. mysteri thriller kimbasing robertculp johnrubinstein johnllewellynmoxey 1981</td>\n",
       "    </tr>\n",
       "    <tr>\n",
       "      <th>2044</th>\n",
       "      <td>28070</td>\n",
       "      <td>Surf Nazis Must Die</td>\n",
       "      <td>Horror ScienceFiction</td>\n",
       "      <td>when the grandson of a gun wield woman is murder by neo-nazi surf punk in the post-apocalypt future, thi grandma hunt them down for some bloodthirsti revenge. horror sciencefict gailne robertharden barrybrenn petergeorg 1987</td>\n",
       "    </tr>\n",
       "    <tr>\n",
       "      <th>28160</th>\n",
       "      <td>125141</td>\n",
       "      <td>Hell Behind the Bars</td>\n",
       "      <td>Action Drama</td>\n",
       "      <td>a woman murder her boyfriend and steal some diamond he ha smuggled. she get found out though, and lock in a prison with an evil sadist lesbian warden. she immedi set about plan her escap with some of her fellow inmates, but the plan are even more difficult than they seem when set in motion. action drama ritasilva ajitawilson lindajon giannisiragusa prison nuditi femalehomosexu 1984</td>\n",
       "    </tr>\n",
       "    <tr>\n",
       "      <th>28489</th>\n",
       "      <td>257444</td>\n",
       "      <td>The Boy</td>\n",
       "      <td>Drama Horror Thriller</td>\n",
       "      <td>an intim portrait of a 9 year old sociopath as he discov hi tast for killing. drama horror thriller davidmors rainnwilson jaredbreez craigmacneil motel murder desert killerchild 2015</td>\n",
       "    </tr>\n",
       "    <tr>\n",
       "      <th>25322</th>\n",
       "      <td>312497</td>\n",
       "      <td>Ascension</td>\n",
       "      <td>Drama ScienceFiction</td>\n",
       "      <td>in thi three-part miniseries, a young woman' murder caus the subject of a century-long mission to popul a new world to question the true natur of the project as they approach the point of no return. drama sciencefict triciahelf gilbellow brianvanholt mairzeealma nickcopu robertlieberman vincenzonatali stephenwilliam miniseri 2014</td>\n",
       "    </tr>\n",
       "    <tr>\n",
       "      <th>25166</th>\n",
       "      <td>105398</td>\n",
       "      <td>Death Steps in the Dark</td>\n",
       "      <td>Comedy Crime Drama Horror Thriller</td>\n",
       "      <td>an italian report is travel on the instabul-athen train. a woman is murder with the reporter' letter-open so that make him the main suspect. with the help of hi swedish girlfriend he start investig in order to prove hi innocence. comedi crime drama horror thriller leonardmann robertwebb verakrouska mauriziopradeaux giallo 1977</td>\n",
       "    </tr>\n",
       "    <tr>\n",
       "      <th>12913</th>\n",
       "      <td>43040</td>\n",
       "      <td>Sergeant Rutledge</td>\n",
       "      <td>Crime Western</td>\n",
       "      <td>respect black cavalri sergeant brax rutledg stand court-marti for rape and kill a white woman and murder her father, hi superior officer. crime western jeffreyhunt woodystrod constancetow johnford rape courtmarti 1960</td>\n",
       "    </tr>\n",
       "    <tr>\n",
       "      <th>9986</th>\n",
       "      <td>37992</td>\n",
       "      <td>Phantom Lady</td>\n",
       "      <td>Crime Drama</td>\n",
       "      <td>a mysteri woman is a murder suspect' onli alibi for the night of hi wife' death. base on a stori by noir scribe cornel woolrich. crime drama franchotton ellarain alancurti robertsiodmak falselyaccus classicnoir filmnoir 1944</td>\n",
       "    </tr>\n",
       "    <tr>\n",
       "      <th>10348</th>\n",
       "      <td>27053</td>\n",
       "      <td>Le Jour se Lève</td>\n",
       "      <td>Crime Drama</td>\n",
       "      <td>after commit a murder, a man lock himself in hi apart and recollect the event the led him to the killing. crime drama jeangabin julesberri arletti marcelcarné policestandoff 1939</td>\n",
       "    </tr>\n",
       "    <tr>\n",
       "      <th>33068</th>\n",
       "      <td>41434</td>\n",
       "      <td>Don't Look Up</td>\n",
       "      <td>Horror</td>\n",
       "      <td>while film in transylvania, a crew unearth celluloid imag of a woman’ murder and unleash the wrath of evil spirits. horror rachaelmurphi eliroth kevincorrigan fruitchan transylvania gypsi filmproduc filmdirector hallucin terminalil murder suspens curs disappear descentintomad frighteningvis losangel darkag eyebal filmcrew mourn masshysteria extrasensorypercept romania flytheinsect lostfilm rebirth filmwithinafilm 2009</td>\n",
       "    </tr>\n",
       "  </tbody>\n",
       "</table>\n",
       "</div>"
      ],
      "text/plain": [
       "           id                    title                              genres  \\\n",
       "40375  288503  Killjoy                  Mystery Thriller                     \n",
       "2044   28070   Surf Nazis Must Die      Horror ScienceFiction                \n",
       "28160  125141  Hell Behind the Bars     Action Drama                         \n",
       "28489  257444  The Boy                  Drama Horror Thriller                \n",
       "25322  312497  Ascension                Drama ScienceFiction                 \n",
       "25166  105398  Death Steps in the Dark  Comedy Crime Drama Horror Thriller   \n",
       "12913  43040   Sergeant Rutledge        Crime Western                        \n",
       "9986   37992   Phantom Lady             Crime Drama                          \n",
       "10348  27053   Le Jour se Lève          Crime Drama                          \n",
       "33068  41434   Don't Look Up            Horror                               \n",
       "\n",
       "                                                                                                                                                                                                                                                                                                                                                                                                                                        tags  \n",
       "40375  stori of a young woman' murder and the peopl who becom involv with it. mysteri thriller kimbasing robertculp johnrubinstein johnllewellynmoxey 1981                                                                                                                                                                                                                                                                                    \n",
       "2044   when the grandson of a gun wield woman is murder by neo-nazi surf punk in the post-apocalypt future, thi grandma hunt them down for some bloodthirsti revenge. horror sciencefict gailne robertharden barrybrenn petergeorg 1987                                                                                                                                                                                                       \n",
       "28160  a woman murder her boyfriend and steal some diamond he ha smuggled. she get found out though, and lock in a prison with an evil sadist lesbian warden. she immedi set about plan her escap with some of her fellow inmates, but the plan are even more difficult than they seem when set in motion. action drama ritasilva ajitawilson lindajon giannisiragusa prison nuditi femalehomosexu 1984                                       \n",
       "28489  an intim portrait of a 9 year old sociopath as he discov hi tast for killing. drama horror thriller davidmors rainnwilson jaredbreez craigmacneil motel murder desert killerchild 2015                                                                                                                                                                                                                                                 \n",
       "25322  in thi three-part miniseries, a young woman' murder caus the subject of a century-long mission to popul a new world to question the true natur of the project as they approach the point of no return. drama sciencefict triciahelf gilbellow brianvanholt mairzeealma nickcopu robertlieberman vincenzonatali stephenwilliam miniseri 2014                                                                                            \n",
       "25166  an italian report is travel on the instabul-athen train. a woman is murder with the reporter' letter-open so that make him the main suspect. with the help of hi swedish girlfriend he start investig in order to prove hi innocence. comedi crime drama horror thriller leonardmann robertwebb verakrouska mauriziopradeaux giallo 1977                                                                                               \n",
       "12913  respect black cavalri sergeant brax rutledg stand court-marti for rape and kill a white woman and murder her father, hi superior officer. crime western jeffreyhunt woodystrod constancetow johnford rape courtmarti 1960                                                                                                                                                                                                              \n",
       "9986   a mysteri woman is a murder suspect' onli alibi for the night of hi wife' death. base on a stori by noir scribe cornel woolrich. crime drama franchotton ellarain alancurti robertsiodmak falselyaccus classicnoir filmnoir 1944                                                                                                                                                                                                       \n",
       "10348  after commit a murder, a man lock himself in hi apart and recollect the event the led him to the killing. crime drama jeangabin julesberri arletti marcelcarné policestandoff 1939                                                                                                                                                                                                                                                     \n",
       "33068  while film in transylvania, a crew unearth celluloid imag of a woman’ murder and unleash the wrath of evil spirits. horror rachaelmurphi eliroth kevincorrigan fruitchan transylvania gypsi filmproduc filmdirector hallucin terminalil murder suspens curs disappear descentintomad frighteningvis losangel darkag eyebal filmcrew mourn masshysteria extrasensorypercept romania flytheinsect lostfilm rebirth filmwithinafilm 2009  "
      ]
     },
     "execution_count": 96,
     "metadata": {},
     "output_type": "execute_result"
    }
   ],
   "source": [
    "search_tags(\"man killing woman murder\")"
   ]
  },
  {
   "cell_type": "code",
   "execution_count": 97,
   "metadata": {},
   "outputs": [
    {
     "data": {
      "text/html": [
       "<div>\n",
       "<style scoped>\n",
       "    .dataframe tbody tr th:only-of-type {\n",
       "        vertical-align: middle;\n",
       "    }\n",
       "\n",
       "    .dataframe tbody tr th {\n",
       "        vertical-align: top;\n",
       "    }\n",
       "\n",
       "    .dataframe thead th {\n",
       "        text-align: right;\n",
       "    }\n",
       "</style>\n",
       "<table border=\"1\" class=\"dataframe\">\n",
       "  <thead>\n",
       "    <tr style=\"text-align: right;\">\n",
       "      <th></th>\n",
       "      <th>id</th>\n",
       "      <th>title</th>\n",
       "      <th>genres</th>\n",
       "      <th>tags</th>\n",
       "    </tr>\n",
       "  </thead>\n",
       "  <tbody>\n",
       "    <tr>\n",
       "      <th>1500</th>\n",
       "      <td>38225</td>\n",
       "      <td>Wild America</td>\n",
       "      <td>Family</td>\n",
       "      <td>three brother - marshall, marti and mark dream of becom naturalist and portray anim life of america. one summer their dream come true, they travel through america, film alligators, b ear and moose. famili jonathantaylorthoma scottbairstow devonsawa williamdear anim naturalist 1997</td>\n",
       "    </tr>\n",
       "    <tr>\n",
       "      <th>1710</th>\n",
       "      <td>17644</td>\n",
       "      <td>Barney's Great Adventure</td>\n",
       "      <td>Family</td>\n",
       "      <td>mom and dad dump son cody, daughter abby, her best friend marcella and a babi on the farm with grandpa and grandma. purpl dinosaur barney soon appear to entertain kids, and when a larg color egg deposit on a farm by a shoot star is accident cart off, barney and kid start their chase for it famili stevegom 1998</td>\n",
       "    </tr>\n",
       "    <tr>\n",
       "      <th>1917</th>\n",
       "      <td>14612</td>\n",
       "      <td>Candleshoe</td>\n",
       "      <td>Family</td>\n",
       "      <td>candlesho is a 1977 walt disney product live action movi base on the michael inn novel christma at candlesho and star jodi foster, helen hay in her last screen appearance, david niven and leo mckern. famili davidniven jodiefost helenhay normantokar 1977</td>\n",
       "    </tr>\n",
       "    <tr>\n",
       "      <th>2759</th>\n",
       "      <td>16112</td>\n",
       "      <td>The Adventures of Elmo in Grouchland</td>\n",
       "      <td>Family</td>\n",
       "      <td>elmo love hi fuzzy, blue blanket, and would never let anyth happen to it. however, a tug-of-war with hi friend zoe send hi blanket to a faraway land, and elmo in hot pursuit. face life without hi cherish blanket, elmo muster all of hi determin and courag and head off on an action-pack rescu mission that plung him into grouchland-a place full of grouchi creatures, stinki garbag and the villain huxley. along the way, elmo learn an import lesson about sharing, realiz that he wa selfish with hi friend and respons for what happened. famili kevinclash mandypatinkin vanessawilliam garyhalvorson 1999</td>\n",
       "    </tr>\n",
       "    <tr>\n",
       "      <th>3473</th>\n",
       "      <td>45827</td>\n",
       "      <td>One Little Indian</td>\n",
       "      <td>Family</td>\n",
       "      <td>an armi desert (jame garner) flee by camel across the desert with a white boy (clay o'brien) rais by indians. famili jamesgarn veramil pathingl bernardmceveeti nativeamerican modernwestern 1973</td>\n",
       "    </tr>\n",
       "    <tr>\n",
       "      <th>3513</th>\n",
       "      <td>120077</td>\n",
       "      <td>Running Free</td>\n",
       "      <td>Family</td>\n",
       "      <td>the tale of the extraordinari life and time of lucky, a hors that wa born in captiv but achiev hi dream of run free with the help of a stableboy. famili chasemoor mariageelbooi jandecleir sergeibodrov 1999</td>\n",
       "    </tr>\n",
       "    <tr>\n",
       "      <th>3540</th>\n",
       "      <td>38802</td>\n",
       "      <td>For the Love of Benji</td>\n",
       "      <td>Family</td>\n",
       "      <td>benji is lost and becom a stray anim in athens, greece, tri to reunit with hi famili while secret agent pursu him, tri to get a formula which wa glu to hi paw in order to get it past customs. famili patsygarrett artvasil allenfiuzat joecamp 1977</td>\n",
       "    </tr>\n",
       "    <tr>\n",
       "      <th>4306</th>\n",
       "      <td>82623</td>\n",
       "      <td>T-Rex: Back to the Cretaceous</td>\n",
       "      <td>Family</td>\n",
       "      <td>alli hayden is a teenag who share her father' interest in dinosaur and archaeology. when he bring a mysteri fossil back from a dig, she is convinc it' the egg of a tyrannosauru rex. after accident knock the egg to the floor, alli begin to experi visions, as if she wa be transport back in time to the cretac period. there, she encount sever differ dinosaurs, includ her favorite, the mighti t-rex. famili peterhorton lizstaub karicoleman brettleonard 1998</td>\n",
       "    </tr>\n",
       "    <tr>\n",
       "      <th>5986</th>\n",
       "      <td>17132</td>\n",
       "      <td>Savannah Smiles</td>\n",
       "      <td>Family</td>\n",
       "      <td>the young daughter of a politician run away due to lack of attention. she hide in the car of two not too bright crook who are slowli convert into parent figur as the polic web close down on the suppos kidnappers. famili bridgetteandersen markmil donovanscott pierredemoro runaway ransom kidnap neglect politician polic escapedconvict 1982</td>\n",
       "    </tr>\n",
       "    <tr>\n",
       "      <th>7660</th>\n",
       "      <td>38348</td>\n",
       "      <td>War of the Buttons</td>\n",
       "      <td>Family</td>\n",
       "      <td>the children of ballydows and carrickdows engag in battl where they cut of the buttons, shoe-lac and underwear of their captur opponents. thi is to get the boy in troubl with their parents. they go to battl in mass group of dozens, throw stone and cut off their oppon button etc. and sometim they go to battl complet nake and exposed. in one such scene about 30 boy return from a battl to celebr victori at a barn-hous onli to find some girl wait for them and they get veri embarrass at lose their privaci famili liamcunningham colmmeaney gerryan johnrobert boy ireland button 1994</td>\n",
       "    </tr>\n",
       "  </tbody>\n",
       "</table>\n",
       "</div>"
      ],
      "text/plain": [
       "          id                                 title  genres  \\\n",
       "1500  38225   Wild America                          Family   \n",
       "1710  17644   Barney's Great Adventure              Family   \n",
       "1917  14612   Candleshoe                            Family   \n",
       "2759  16112   The Adventures of Elmo in Grouchland  Family   \n",
       "3473  45827   One Little Indian                     Family   \n",
       "3513  120077  Running Free                          Family   \n",
       "3540  38802   For the Love of Benji                 Family   \n",
       "4306  82623   T-Rex: Back to the Cretaceous         Family   \n",
       "5986  17132   Savannah Smiles                       Family   \n",
       "7660  38348   War of the Buttons                    Family   \n",
       "\n",
       "                                                                                                                                                                                                                                                                                                                                                                                                                                                                                                                                                                                                                         tags  \n",
       "1500  three brother - marshall, marti and mark dream of becom naturalist and portray anim life of america. one summer their dream come true, they travel through america, film alligators, b ear and moose. famili jonathantaylorthoma scottbairstow devonsawa williamdear anim naturalist 1997                                                                                                                                                                                                                                                                                                                                \n",
       "1710  mom and dad dump son cody, daughter abby, her best friend marcella and a babi on the farm with grandpa and grandma. purpl dinosaur barney soon appear to entertain kids, and when a larg color egg deposit on a farm by a shoot star is accident cart off, barney and kid start their chase for it famili stevegom 1998                                                                                                                                                                                                                                                                                                  \n",
       "1917  candlesho is a 1977 walt disney product live action movi base on the michael inn novel christma at candlesho and star jodi foster, helen hay in her last screen appearance, david niven and leo mckern. famili davidniven jodiefost helenhay normantokar 1977                                                                                                                                                                                                                                                                                                                                                            \n",
       "2759  elmo love hi fuzzy, blue blanket, and would never let anyth happen to it. however, a tug-of-war with hi friend zoe send hi blanket to a faraway land, and elmo in hot pursuit. face life without hi cherish blanket, elmo muster all of hi determin and courag and head off on an action-pack rescu mission that plung him into grouchland-a place full of grouchi creatures, stinki garbag and the villain huxley. along the way, elmo learn an import lesson about sharing, realiz that he wa selfish with hi friend and respons for what happened. famili kevinclash mandypatinkin vanessawilliam garyhalvorson 1999  \n",
       "3473  an armi desert (jame garner) flee by camel across the desert with a white boy (clay o'brien) rais by indians. famili jamesgarn veramil pathingl bernardmceveeti nativeamerican modernwestern 1973                                                                                                                                                                                                                                                                                                                                                                                                                        \n",
       "3513  the tale of the extraordinari life and time of lucky, a hors that wa born in captiv but achiev hi dream of run free with the help of a stableboy. famili chasemoor mariageelbooi jandecleir sergeibodrov 1999                                                                                                                                                                                                                                                                                                                                                                                                            \n",
       "3540  benji is lost and becom a stray anim in athens, greece, tri to reunit with hi famili while secret agent pursu him, tri to get a formula which wa glu to hi paw in order to get it past customs. famili patsygarrett artvasil allenfiuzat joecamp 1977                                                                                                                                                                                                                                                                                                                                                                    \n",
       "4306  alli hayden is a teenag who share her father' interest in dinosaur and archaeology. when he bring a mysteri fossil back from a dig, she is convinc it' the egg of a tyrannosauru rex. after accident knock the egg to the floor, alli begin to experi visions, as if she wa be transport back in time to the cretac period. there, she encount sever differ dinosaurs, includ her favorite, the mighti t-rex. famili peterhorton lizstaub karicoleman brettleonard 1998                                                                                                                                                  \n",
       "5986  the young daughter of a politician run away due to lack of attention. she hide in the car of two not too bright crook who are slowli convert into parent figur as the polic web close down on the suppos kidnappers. famili bridgetteandersen markmil donovanscott pierredemoro runaway ransom kidnap neglect politician polic escapedconvict 1982                                                                                                                                                                                                                                                                       \n",
       "7660  the children of ballydows and carrickdows engag in battl where they cut of the buttons, shoe-lac and underwear of their captur opponents. thi is to get the boy in troubl with their parents. they go to battl in mass group of dozens, throw stone and cut off their oppon button etc. and sometim they go to battl complet nake and exposed. in one such scene about 30 boy return from a battl to celebr victori at a barn-hous onli to find some girl wait for them and they get veri embarrass at lose their privaci famili liamcunningham colmmeaney gerryan johnrobert boy ireland button 1994                    "
      ]
     },
     "execution_count": 97,
     "metadata": {},
     "output_type": "execute_result"
    }
   ],
   "source": [
    "search_genres(\"family\")\n"
   ]
  },
  {
   "cell_type": "code",
   "execution_count": 98,
   "metadata": {},
   "outputs": [
    {
     "data": {
      "text/html": [
       "<div>\n",
       "<style scoped>\n",
       "    .dataframe tbody tr th:only-of-type {\n",
       "        vertical-align: middle;\n",
       "    }\n",
       "\n",
       "    .dataframe tbody tr th {\n",
       "        vertical-align: top;\n",
       "    }\n",
       "\n",
       "    .dataframe thead th {\n",
       "        text-align: right;\n",
       "    }\n",
       "</style>\n",
       "<table border=\"1\" class=\"dataframe\">\n",
       "  <thead>\n",
       "    <tr style=\"text-align: right;\">\n",
       "      <th></th>\n",
       "      <th>id</th>\n",
       "      <th>title</th>\n",
       "      <th>genres</th>\n",
       "      <th>tags</th>\n",
       "    </tr>\n",
       "  </thead>\n",
       "  <tbody>\n",
       "    <tr>\n",
       "      <th>16517</th>\n",
       "      <td>47610</td>\n",
       "      <td>Gravity</td>\n",
       "      <td>Crime Drama</td>\n",
       "      <td>the stori of a seemingli settl bank employe who break the shackl of hi everyday life and becom a wander between worlds. frederik is an up-and-com young bank employe who live an ordinari life. when a bank customer, whom frederik ha deni a loan in the face of the bank crisis, shoot himself in front of frederik, he snaps. togeth with ex-con vince,h begin to live out a new, dark side of himself. he rob hi rich bank customers' home and give the money to the needy. the initi rush of cross social boundari soon develop into an addict to ever greater thrills. crime drama jürgenvogel fabianhinrich noravonwaldstätten maximilianerlenwein 2010</td>\n",
       "    </tr>\n",
       "    <tr>\n",
       "      <th>21465</th>\n",
       "      <td>49047</td>\n",
       "      <td>Gravity</td>\n",
       "      <td>ScienceFiction Thriller Drama</td>\n",
       "      <td>dr. ryan stone, a brilliant medic engin on her first shuttl mission, with veteran astronaut matt kowalski in command of hi last flight befor retiring. but on a seemingli routin spacewalk, disast strikes. the shuttl is destroyed, leav stone and kowalski complet alone-teth to noth but each other and spiral out into the black of space. the deafen silenc tell them they have lost ani link to earth and ani chanc for rescue. as fear turn to panic, everi gulp of air eat away at what littl oxygen is left. but the onli way home may be to go further out into the terrifi expans of space. sciencefict thriller drama sandrabullock georgeclooney edharri alfonsocuarón spacemiss loss space astronaut trappedinspac 2013</td>\n",
       "    </tr>\n",
       "    <tr>\n",
       "      <th>17346</th>\n",
       "      <td>1482</td>\n",
       "      <td>Laws of Gravity</td>\n",
       "      <td>Action Drama</td>\n",
       "      <td>jimmi and jon are a coupl of brooklyn guy who somehow never found their way into workaday society; they never found their way into big-tim crime, either. action drama petergreen adamtres paulschulz nickgomez delinqu independentfilm 1992</td>\n",
       "    </tr>\n",
       "    <tr>\n",
       "      <th>3441</th>\n",
       "      <td>31978</td>\n",
       "      <td>Defying Gravity</td>\n",
       "      <td>Drama Romance</td>\n",
       "      <td>john keitel wrote the film base on hi person undergradu experi and film campu footag in the neighborhood and environ surround hi graduat film school alma mater usc. drama romanc danielchilson niklauslang donhandfield johnkeitel gayrelationship 1997</td>\n",
       "    </tr>\n",
       "    <tr>\n",
       "      <th>35173</th>\n",
       "      <td>99188</td>\n",
       "      <td>Gravity's Clowns</td>\n",
       "      <td>Drama Foreign</td>\n",
       "      <td>on the outset, the okuno seem like a normal happi famili with father tadashi and hi two bright sons, genet research izumi and artsi haru. when a seri of arson attack strike the neighborhood, clue left at the crime scene seem to be somehow relat to the okunos. izumi and haru tri to get to the bottom of mystery, slowli unveil a tragic famili secret that ha come back to haunt them. drama foreign ryokas masakiokada fumiyokohinata junichimori 2009</td>\n",
       "    </tr>\n",
       "    <tr>\n",
       "      <th>35174</th>\n",
       "      <td>99188</td>\n",
       "      <td>Gravity's Clowns</td>\n",
       "      <td>Drama Foreign</td>\n",
       "      <td>on the outset, the okuno seem like a normal happi famili with father tadashi and hi two bright sons, genet research izumi and artsi haru. when a seri of arson attack strike the neighborhood, clue left at the crime scene seem to be somehow relat to the okunos. izumi and haru tri to get to the bottom of mystery, slowli unveil a tragic famili secret that ha come back to haunt them. drama foreign ryokas masakiokada fumiyokohinata junichimori 2009</td>\n",
       "    </tr>\n",
       "    <tr>\n",
       "      <th>0</th>\n",
       "      <td>862</td>\n",
       "      <td>Toy Story</td>\n",
       "      <td>Animation Comedy Family</td>\n",
       "      <td>led by woody, andy' toy live happili in hi room until andy' birthday bring buzz lightyear onto the scene. afraid of lose hi place in andy' heart, woodi plot against buzz. but when circumst separ buzz and woodi from their owner, the duo eventu learn to put asid their differences. anim comedi famili tomhank timallen donrickl johnlasset jealousi toy boy friendship friend rivalri boynextdoor newtoy toycomestolif 1995</td>\n",
       "    </tr>\n",
       "    <tr>\n",
       "      <th>1</th>\n",
       "      <td>8844</td>\n",
       "      <td>Jumanji</td>\n",
       "      <td>Adventure Fantasy Family</td>\n",
       "      <td>when sibl judi and peter discov an enchant board game that open the door to a magic world, they unwittingli invit alan -- an adult who' been trap insid the game for 26 year -- into their live room. alan' onli hope for freedom is to finish the game, which prove riski as all three find themselv run from giant rhinoceroses, evil monkey and other terrifi creatures. adventur fantasi famili robinwilliam jonathanhyd kirstendunst joejohnston boardgam disappear basedonchildren'sbook newhom reclus giantinsect 1995</td>\n",
       "    </tr>\n",
       "    <tr>\n",
       "      <th>2</th>\n",
       "      <td>15602</td>\n",
       "      <td>Grumpier Old Men</td>\n",
       "      <td>Romance Comedy</td>\n",
       "      <td>a famili wed reignit the ancient feud between next-door neighbor and fish buddi john and max. meanwhile, a sultri italian divorcé open a restaur at the local bait shop, alarm the local who worri she'll scare the fish away. but she' less interest in seafood than she is in cook up a hot time with max. romanc comedi waltermatthau jacklemmon ann-margret howarddeutch fish bestfriend duringcreditssting oldmen 1995</td>\n",
       "    </tr>\n",
       "    <tr>\n",
       "      <th>3</th>\n",
       "      <td>31357</td>\n",
       "      <td>Waiting to Exhale</td>\n",
       "      <td>Comedy Drama Romance</td>\n",
       "      <td>cheat on, mistreat and step on, the women are hold their breath, wait for the elus \"good man\" to break a string of less-than-stellar lovers. friend and confid vannah, bernie, glo and robin talk it all out, determin to find a better way to breathe. comedi drama romanc whitneyhouston angelabassett lorettadevin forestwhitak basedonnovel interracialrelationship singlemoth divorc chickflick 1995</td>\n",
       "    </tr>\n",
       "  </tbody>\n",
       "</table>\n",
       "</div>"
      ],
      "text/plain": [
       "          id              title                         genres  \\\n",
       "16517  47610  Gravity            Crime Drama                     \n",
       "21465  49047  Gravity            ScienceFiction Thriller Drama   \n",
       "17346  1482   Laws of Gravity    Action Drama                    \n",
       "3441   31978  Defying Gravity    Drama Romance                   \n",
       "35173  99188  Gravity's Clowns   Drama Foreign                   \n",
       "35174  99188  Gravity's Clowns   Drama Foreign                   \n",
       "0      862    Toy Story          Animation Comedy Family         \n",
       "1      8844   Jumanji            Adventure Fantasy Family        \n",
       "2      15602  Grumpier Old Men   Romance Comedy                  \n",
       "3      31357  Waiting to Exhale  Comedy Drama Romance            \n",
       "\n",
       "                                                                                                                                                                                                                                                                                                                                                                                                                                                                                                                                                                                                                                                                                                                                        tags  \n",
       "16517  the stori of a seemingli settl bank employe who break the shackl of hi everyday life and becom a wander between worlds. frederik is an up-and-com young bank employe who live an ordinari life. when a bank customer, whom frederik ha deni a loan in the face of the bank crisis, shoot himself in front of frederik, he snaps. togeth with ex-con vince,h begin to live out a new, dark side of himself. he rob hi rich bank customers' home and give the money to the needy. the initi rush of cross social boundari soon develop into an addict to ever greater thrills. crime drama jürgenvogel fabianhinrich noravonwaldstätten maximilianerlenwein 2010                                                                         \n",
       "21465  dr. ryan stone, a brilliant medic engin on her first shuttl mission, with veteran astronaut matt kowalski in command of hi last flight befor retiring. but on a seemingli routin spacewalk, disast strikes. the shuttl is destroyed, leav stone and kowalski complet alone-teth to noth but each other and spiral out into the black of space. the deafen silenc tell them they have lost ani link to earth and ani chanc for rescue. as fear turn to panic, everi gulp of air eat away at what littl oxygen is left. but the onli way home may be to go further out into the terrifi expans of space. sciencefict thriller drama sandrabullock georgeclooney edharri alfonsocuarón spacemiss loss space astronaut trappedinspac 2013  \n",
       "17346  jimmi and jon are a coupl of brooklyn guy who somehow never found their way into workaday society; they never found their way into big-tim crime, either. action drama petergreen adamtres paulschulz nickgomez delinqu independentfilm 1992                                                                                                                                                                                                                                                                                                                                                                                                                                                                                           \n",
       "3441   john keitel wrote the film base on hi person undergradu experi and film campu footag in the neighborhood and environ surround hi graduat film school alma mater usc. drama romanc danielchilson niklauslang donhandfield johnkeitel gayrelationship 1997                                                                                                                                                                                                                                                                                                                                                                                                                                                                               \n",
       "35173  on the outset, the okuno seem like a normal happi famili with father tadashi and hi two bright sons, genet research izumi and artsi haru. when a seri of arson attack strike the neighborhood, clue left at the crime scene seem to be somehow relat to the okunos. izumi and haru tri to get to the bottom of mystery, slowli unveil a tragic famili secret that ha come back to haunt them. drama foreign ryokas masakiokada fumiyokohinata junichimori 2009                                                                                                                                                                                                                                                                         \n",
       "35174  on the outset, the okuno seem like a normal happi famili with father tadashi and hi two bright sons, genet research izumi and artsi haru. when a seri of arson attack strike the neighborhood, clue left at the crime scene seem to be somehow relat to the okunos. izumi and haru tri to get to the bottom of mystery, slowli unveil a tragic famili secret that ha come back to haunt them. drama foreign ryokas masakiokada fumiyokohinata junichimori 2009                                                                                                                                                                                                                                                                         \n",
       "0      led by woody, andy' toy live happili in hi room until andy' birthday bring buzz lightyear onto the scene. afraid of lose hi place in andy' heart, woodi plot against buzz. but when circumst separ buzz and woodi from their owner, the duo eventu learn to put asid their differences. anim comedi famili tomhank timallen donrickl johnlasset jealousi toy boy friendship friend rivalri boynextdoor newtoy toycomestolif 1995                                                                                                                                                                                                                                                                                                       \n",
       "1      when sibl judi and peter discov an enchant board game that open the door to a magic world, they unwittingli invit alan -- an adult who' been trap insid the game for 26 year -- into their live room. alan' onli hope for freedom is to finish the game, which prove riski as all three find themselv run from giant rhinoceroses, evil monkey and other terrifi creatures. adventur fantasi famili robinwilliam jonathanhyd kirstendunst joejohnston boardgam disappear basedonchildren'sbook newhom reclus giantinsect 1995                                                                                                                                                                                                          \n",
       "2      a famili wed reignit the ancient feud between next-door neighbor and fish buddi john and max. meanwhile, a sultri italian divorcé open a restaur at the local bait shop, alarm the local who worri she'll scare the fish away. but she' less interest in seafood than she is in cook up a hot time with max. romanc comedi waltermatthau jacklemmon ann-margret howarddeutch fish bestfriend duringcreditssting oldmen 1995                                                                                                                                                                                                                                                                                                            \n",
       "3      cheat on, mistreat and step on, the women are hold their breath, wait for the elus \"good man\" to break a string of less-than-stellar lovers. friend and confid vannah, bernie, glo and robin talk it all out, determin to find a better way to breathe. comedi drama romanc whitneyhouston angelabassett lorettadevin forestwhitak basedonnovel interracialrelationship singlemoth divorc chickflick 1995                                                                                                                                                                                                                                                                                                                              "
      ]
     },
     "execution_count": 98,
     "metadata": {},
     "output_type": "execute_result"
    }
   ],
   "source": [
    "search_title(\"Gravity\")"
   ]
  },
  {
   "cell_type": "code",
   "execution_count": 99,
   "metadata": {},
   "outputs": [],
   "source": [
    "# ratings_df_raw=pd.read_csv('ratings_small.csv/ratings_small.csv')\n",
    "# ratings_df_raw=pd.read_csv('ratings.csv/ratings.csv', low_memory=False)\n",
    "ratings_df_raw=pd.read_csv('https://firsts3buckets3.s3.amazonaws.com/ratings.csv/ratings.csv', low_memory=False)\n",
    "\n"
   ]
  },
  {
   "attachments": {},
   "cell_type": "markdown",
   "metadata": {},
   "source": [
    "## Finding Users Liked Same Movie\n"
   ]
  },
  {
   "cell_type": "code",
   "execution_count": 100,
   "metadata": {},
   "outputs": [
    {
     "data": {
      "text/html": [
       "<div>\n",
       "<style scoped>\n",
       "    .dataframe tbody tr th:only-of-type {\n",
       "        vertical-align: middle;\n",
       "    }\n",
       "\n",
       "    .dataframe tbody tr th {\n",
       "        vertical-align: top;\n",
       "    }\n",
       "\n",
       "    .dataframe thead th {\n",
       "        text-align: right;\n",
       "    }\n",
       "</style>\n",
       "<table border=\"1\" class=\"dataframe\">\n",
       "  <thead>\n",
       "    <tr style=\"text-align: right;\">\n",
       "      <th></th>\n",
       "      <th>userId</th>\n",
       "      <th>movieId</th>\n",
       "      <th>rating</th>\n",
       "      <th>timestamp</th>\n",
       "    </tr>\n",
       "  </thead>\n",
       "  <tbody>\n",
       "    <tr>\n",
       "      <th>0</th>\n",
       "      <td>1</td>\n",
       "      <td>110</td>\n",
       "      <td>1.0</td>\n",
       "      <td>1425941529</td>\n",
       "    </tr>\n",
       "    <tr>\n",
       "      <th>1</th>\n",
       "      <td>1</td>\n",
       "      <td>147</td>\n",
       "      <td>4.5</td>\n",
       "      <td>1425942435</td>\n",
       "    </tr>\n",
       "    <tr>\n",
       "      <th>2</th>\n",
       "      <td>1</td>\n",
       "      <td>858</td>\n",
       "      <td>5.0</td>\n",
       "      <td>1425941523</td>\n",
       "    </tr>\n",
       "    <tr>\n",
       "      <th>3</th>\n",
       "      <td>1</td>\n",
       "      <td>1221</td>\n",
       "      <td>5.0</td>\n",
       "      <td>1425941546</td>\n",
       "    </tr>\n",
       "    <tr>\n",
       "      <th>4</th>\n",
       "      <td>1</td>\n",
       "      <td>1246</td>\n",
       "      <td>5.0</td>\n",
       "      <td>1425941556</td>\n",
       "    </tr>\n",
       "  </tbody>\n",
       "</table>\n",
       "</div>"
      ],
      "text/plain": [
       "   userId  movieId  rating   timestamp\n",
       "0  1       110      1.0     1425941529\n",
       "1  1       147      4.5     1425942435\n",
       "2  1       858      5.0     1425941523\n",
       "3  1       1221     5.0     1425941546\n",
       "4  1       1246     5.0     1425941556"
      ]
     },
     "execution_count": 100,
     "metadata": {},
     "output_type": "execute_result"
    }
   ],
   "source": [
    "ratings_df_raw.head()"
   ]
  },
  {
   "cell_type": "code",
   "execution_count": 101,
   "metadata": {},
   "outputs": [
    {
     "data": {
      "text/plain": [
       "(26024289, 4)"
      ]
     },
     "execution_count": 101,
     "metadata": {},
     "output_type": "execute_result"
    }
   ],
   "source": [
    "ratings_df_raw.shape"
   ]
  },
  {
   "cell_type": "code",
   "execution_count": 102,
   "metadata": {},
   "outputs": [
    {
     "data": {
      "text/plain": [
       "(11369230, 8)"
      ]
     },
     "execution_count": 102,
     "metadata": {},
     "output_type": "execute_result"
    }
   ],
   "source": [
    "# movies_df_join=pd.merge(movies_df,credits_df,on='id')\n",
    "\n",
    "movies_ratings_df_join=final_df.merge(ratings_df_raw, left_on='id',right_on='movieId')\n",
    "movies_ratings_df_join.shape"
   ]
  },
  {
   "cell_type": "code",
   "execution_count": 103,
   "metadata": {},
   "outputs": [
    {
     "data": {
      "text/html": [
       "<div>\n",
       "<style scoped>\n",
       "    .dataframe tbody tr th:only-of-type {\n",
       "        vertical-align: middle;\n",
       "    }\n",
       "\n",
       "    .dataframe tbody tr th {\n",
       "        vertical-align: top;\n",
       "    }\n",
       "\n",
       "    .dataframe thead th {\n",
       "        text-align: right;\n",
       "    }\n",
       "</style>\n",
       "<table border=\"1\" class=\"dataframe\">\n",
       "  <thead>\n",
       "    <tr style=\"text-align: right;\">\n",
       "      <th></th>\n",
       "      <th>id</th>\n",
       "      <th>title</th>\n",
       "      <th>genres</th>\n",
       "      <th>tags</th>\n",
       "      <th>userId</th>\n",
       "      <th>movieId</th>\n",
       "      <th>rating</th>\n",
       "      <th>timestamp</th>\n",
       "    </tr>\n",
       "  </thead>\n",
       "  <tbody>\n",
       "    <tr>\n",
       "      <th>11369225</th>\n",
       "      <td>111109</td>\n",
       "      <td>Century of Birthing</td>\n",
       "      <td>Drama</td>\n",
       "      <td>an artist struggl to finish hi work while a storylin about a cult play in hi head. drama angelaquino perrydizon hazelorencio lavdiaz artist play pinoy 2011</td>\n",
       "      <td>33940</td>\n",
       "      <td>111109</td>\n",
       "      <td>2.5</td>\n",
       "      <td>1405878785</td>\n",
       "    </tr>\n",
       "    <tr>\n",
       "      <th>11369226</th>\n",
       "      <td>111109</td>\n",
       "      <td>Century of Birthing</td>\n",
       "      <td>Drama</td>\n",
       "      <td>an artist struggl to finish hi work while a storylin about a cult play in hi head. drama angelaquino perrydizon hazelorencio lavdiaz artist play pinoy 2011</td>\n",
       "      <td>172224</td>\n",
       "      <td>111109</td>\n",
       "      <td>3.0</td>\n",
       "      <td>1399502972</td>\n",
       "    </tr>\n",
       "    <tr>\n",
       "      <th>11369227</th>\n",
       "      <td>111109</td>\n",
       "      <td>Century of Birthing</td>\n",
       "      <td>Drama</td>\n",
       "      <td>an artist struggl to finish hi work while a storylin about a cult play in hi head. drama angelaquino perrydizon hazelorencio lavdiaz artist play pinoy 2011</td>\n",
       "      <td>210792</td>\n",
       "      <td>111109</td>\n",
       "      <td>3.0</td>\n",
       "      <td>1467090449</td>\n",
       "    </tr>\n",
       "    <tr>\n",
       "      <th>11369228</th>\n",
       "      <td>111109</td>\n",
       "      <td>Century of Birthing</td>\n",
       "      <td>Drama</td>\n",
       "      <td>an artist struggl to finish hi work while a storylin about a cult play in hi head. drama angelaquino perrydizon hazelorencio lavdiaz artist play pinoy 2011</td>\n",
       "      <td>225396</td>\n",
       "      <td>111109</td>\n",
       "      <td>3.5</td>\n",
       "      <td>1399302912</td>\n",
       "    </tr>\n",
       "    <tr>\n",
       "      <th>11369229</th>\n",
       "      <td>111109</td>\n",
       "      <td>Century of Birthing</td>\n",
       "      <td>Drama</td>\n",
       "      <td>an artist struggl to finish hi work while a storylin about a cult play in hi head. drama angelaquino perrydizon hazelorencio lavdiaz artist play pinoy 2011</td>\n",
       "      <td>269593</td>\n",
       "      <td>111109</td>\n",
       "      <td>0.5</td>\n",
       "      <td>1471835519</td>\n",
       "    </tr>\n",
       "  </tbody>\n",
       "</table>\n",
       "</div>"
      ],
      "text/plain": [
       "              id                title genres  \\\n",
       "11369225  111109  Century of Birthing  Drama   \n",
       "11369226  111109  Century of Birthing  Drama   \n",
       "11369227  111109  Century of Birthing  Drama   \n",
       "11369228  111109  Century of Birthing  Drama   \n",
       "11369229  111109  Century of Birthing  Drama   \n",
       "\n",
       "                                                                                                                                                                 tags  \\\n",
       "11369225  an artist struggl to finish hi work while a storylin about a cult play in hi head. drama angelaquino perrydizon hazelorencio lavdiaz artist play pinoy 2011   \n",
       "11369226  an artist struggl to finish hi work while a storylin about a cult play in hi head. drama angelaquino perrydizon hazelorencio lavdiaz artist play pinoy 2011   \n",
       "11369227  an artist struggl to finish hi work while a storylin about a cult play in hi head. drama angelaquino perrydizon hazelorencio lavdiaz artist play pinoy 2011   \n",
       "11369228  an artist struggl to finish hi work while a storylin about a cult play in hi head. drama angelaquino perrydizon hazelorencio lavdiaz artist play pinoy 2011   \n",
       "11369229  an artist struggl to finish hi work while a storylin about a cult play in hi head. drama angelaquino perrydizon hazelorencio lavdiaz artist play pinoy 2011   \n",
       "\n",
       "          userId  movieId  rating   timestamp  \n",
       "11369225  33940   111109   2.5     1405878785  \n",
       "11369226  172224  111109   3.0     1399502972  \n",
       "11369227  210792  111109   3.0     1467090449  \n",
       "11369228  225396  111109   3.5     1399302912  \n",
       "11369229  269593  111109   0.5     1471835519  "
      ]
     },
     "execution_count": 103,
     "metadata": {},
     "output_type": "execute_result"
    }
   ],
   "source": [
    "movies_ratings_df_join.tail()"
   ]
  },
  {
   "cell_type": "code",
   "execution_count": 104,
   "metadata": {},
   "outputs": [
    {
     "data": {
      "text/plain": [
       "id      title                             genres        tags                                                                                                                                                                                                                                                                                                                                                                                                                                                                                                                                                                                                                                              userId  movieId  rating  timestamp \n",
       "159849  Why We Fight: Divide and Conquer  Documentary   the third film of frank capra' 'whi we fight\" propaganda film series, deal with the nazi conquest of western europ in 1940. documentari knoxman murrayalp generalbergeret frankcapra anatolelitvak 1943                                                                                                                                                                                                                                                                                                                                                                                                                                           115837  159849   4.0     1466356108    6\n",
       "                                                                                                                                                                                                                                                                                                                                                                                                                                                                                                                                                                                                                                                                                                          132754  159849   0.5     1465250775    6\n",
       "                                                                                                                                                                                                                                                                                                                                                                                                                                                                                                                                                                                                                                                                                                          212122  159849   3.5     1466572344    6\n",
       "                                                                                                                                                                                                                                                                                                                                                                                                                                                                                                                                                                                                                                                                                                          208131  159849   1.5     1466323315    6\n",
       "                                                                                                                                                                                                                                                                                                                                                                                                                                                                                                                                                                                                                                                                                                          207940  159849   3.5     1472143933    6\n",
       "                                                                                                                                                                                                                                                                                                                                                                                                                                                                                                                                                                                                                                                                                                                                                ..\n",
       "637     Life Is Beautiful                 Comedy Drama  a touch stori of an italian book seller of jewish ancestri who live in hi own littl fairi tale. hi creativ and happi life would come to an abrupt halt when hi entir famili is deport to a concentr camp dure world war ii. while lock up he tri to convinc hi son that the whole thing is just a game. comedi drama nicolettabraschi robertobenigni giorgiocantarini robertobenigni itali riddl bookshop selfsacrific massmurd concentrationcamp bicycleaccid fascism lossoffath worldwarii loveofone'slif deport jewpersecut fantasi nazi nationalsoci charad ridingabicycl price storytel concentrationcampprison dyinganddeath peekaboo 1997  175993  637      3.0     1298564167    1\n",
       "                                                                                                                                                                                                                                                                                                                                                                                                                                                                                                                                                                                                                                                                                                          176020  637      2.0     866022132     1\n",
       "                                                                                                                                                                                                                                                                                                                                                                                                                                                                                                                                                                                                                                                                                                          176047  637      3.0     1246587868    1\n",
       "                                                                                                                                                                                                                                                                                                                                                                                                                                                                                                                                                                                                                                                                                                          176066  637      2.0     851117948     1\n",
       "176273  The Chechahcos                                  a fire engulf a shipload of prospector and adventur make their way to alaska. in the confusion, mrs. stanlaw is separ from her young daughter, who end up in the care of 'horseshoe' riley and bob dexter. williamdil albertvanantwerp evagordon lewish.moomaw 1924                                                                                                                                                                                                                                                                                                                                                                               267799  176273   1.0     1501769501    1\n",
       "Length: 11360592, dtype: int64"
      ]
     },
     "execution_count": 104,
     "metadata": {},
     "output_type": "execute_result"
    }
   ],
   "source": [
    "movies_ratings_df_join.value_counts()"
   ]
  },
  {
   "cell_type": "code",
   "execution_count": 105,
   "metadata": {},
   "outputs": [
    {
     "data": {
      "text/plain": [
       "The Million Dollar Hotel              91082\n",
       "Terminator 3: Rise of the Machines    87901\n",
       "Solaris                               84318\n",
       "The 39 Steps                          77045\n",
       "Monsoon Wedding                       74355\n",
       "                                      ...  \n",
       "Phil Spector                          1    \n",
       "The Call                              1    \n",
       "A Thousand Cuts                       1    \n",
       "I Will Buy You                        1    \n",
       "Shanghai Calling                      1    \n",
       "Name: title, Length: 7238, dtype: int64"
      ]
     },
     "execution_count": 105,
     "metadata": {},
     "output_type": "execute_result"
    }
   ],
   "source": [
    "movies_ratings_df_join.title.value_counts()"
   ]
  },
  {
   "cell_type": "code",
   "execution_count": 106,
   "metadata": {},
   "outputs": [
    {
     "data": {
      "text/plain": [
       "7238"
      ]
     },
     "execution_count": 106,
     "metadata": {},
     "output_type": "execute_result"
    }
   ],
   "source": [
    "len(movies_ratings_df_join.title.unique())"
   ]
  },
  {
   "attachments": {},
   "cell_type": "markdown",
   "metadata": {},
   "source": [
    "# humein ek movie psnd aayi, wo movie aur kitne log ko pasnd aayi, \n",
    "# un logon ko aur kon si movies psnd hain jo shayad maine na dekhi ho, aur shayad mjhe acchi lge\n",
    "# jo movies ab aayin, wo aur kin logon ko psnd hain \n",
    "# aur jo psnd hain sbse jyada kon si psnd hain\n"
   ]
  },
  {
   "attachments": {},
   "cell_type": "markdown",
   "metadata": {},
   "source": [
    "# User liked a movie, let us find out who are the users who liked the same movie to locate our niche\n",
    "# now let us check what are the other movies which the same users like\n",
    "# now let us check who are the other users who liked those movies\n",
    "# if those users also like the same movie of our niche, may be that was liked by everyone\n",
    "# so to avoid that we will consider the least like movies by other niche so that we can be very specific in our niche that those movies would be  the best to recommend to the first user\n"
   ]
  },
  {
   "attachments": {},
   "cell_type": "markdown",
   "metadata": {},
   "source": [
    "## "
   ]
  },
  {
   "cell_type": "code",
   "execution_count": 108,
   "metadata": {},
   "outputs": [],
   "source": [
    "title='Toy Story'"
   ]
  },
  {
   "cell_type": "code",
   "execution_count": 109,
   "metadata": {},
   "outputs": [
    {
     "data": {
      "text/plain": [
       "array([  2103,   6177,   6525,   8659,   9328,   9682,  13839,  15235,\n",
       "        16287,  17210,  17211,  17325,  17489,  17545,  17765,  18274,\n",
       "        18595,  19404,  21664,  23635,  27685,  28528,  28866,  29515,\n",
       "        29611,  33067,  33296,  34876,  35190,  35808,  36342,  39216,\n",
       "        39409,  39760,  40363,  41468,  42550,  42746,  43681,  44470,\n",
       "        45264,  46200,  47253,  50057,  51615,  51943,  52672,  52794,\n",
       "        54069,  56306,  60313,  66311,  66423,  66622,  67102,  68112,\n",
       "        69979,  70766,  71266,  71832,  72206,  73948,  75133,  75357,\n",
       "        75580,  76690,  77635,  81267,  81491,  82385,  83777,  84981,\n",
       "        88615,  90789,  91516,  95090,  95885,  98243,  99478, 100309,\n",
       "       100542, 101330, 101914, 108287, 108416, 111040, 112373, 112843,\n",
       "       114034, 117252, 118990, 123841, 127879, 128297, 128620, 128979,\n",
       "       129725, 130237, 131439, 132221, 134237, 134366, 135979, 137233,\n",
       "       138710, 139886, 141711, 141725, 142142, 142905, 143161, 143998,\n",
       "       145605, 148698, 148739, 149429, 150337, 151013, 151593, 152170,\n",
       "       152492, 153180, 158452, 159826, 160411, 161050, 162306, 162611,\n",
       "       164185, 166612, 168923, 170243, 170931, 171017, 172204, 173922,\n",
       "       175355, 176667, 176807, 176920, 177018, 180980, 182422, 183224,\n",
       "       184936, 186004, 186075, 190314, 192397, 196070, 196760, 197318,\n",
       "       201088, 201940, 202331, 203864, 210002, 210701, 217537, 218656,\n",
       "       221431, 222515, 222609, 222616, 223261, 227101, 227753, 230528,\n",
       "       230576, 230834, 230960, 233428, 234387, 235161, 236025, 237555,\n",
       "       239701, 239837, 240297, 241867, 243198, 244212, 245643, 246584,\n",
       "       247445, 248538, 250082, 251432, 251540, 253996, 254977, 255537,\n",
       "       257473, 259650, 266243, 267543, 268336, 270422, 270654],\n",
       "      dtype=int64)"
      ]
     },
     "execution_count": 109,
     "metadata": {},
     "output_type": "execute_result"
    }
   ],
   "source": [
    "similar_users=movies_ratings_df_join[(movies_ratings_df_join[\"title\"] == title ) & (movies_ratings_df_join['rating']>=4)]['userId'].unique()\n",
    "similar_users    \n",
    "    "
   ]
  },
  {
   "cell_type": "code",
   "execution_count": 110,
   "metadata": {},
   "outputs": [
    {
     "data": {
      "text/plain": [
       "Toy Story                  199\n",
       "Men in Black II            142\n",
       "The Thomas Crown Affair    136\n",
       "Dawn of the Dead           131\n",
       "Once Were Warriors         116\n",
       "                          ... \n",
       "Shooter                    1  \n",
       "Dreamland                  1  \n",
       "Philanthropy               1  \n",
       "Perfect Stranger           1  \n",
       "The One-Man Band           1  \n",
       "Name: title, Length: 2626, dtype: int64"
      ]
     },
     "execution_count": 110,
     "metadata": {},
     "output_type": "execute_result"
    }
   ],
   "source": [
    "similar_user_recs=movies_ratings_df_join[(movies_ratings_df_join['userId'].isin(similar_users)) & (movies_ratings_df_join['rating']>=4)]['title']\n",
    "similar_user_recs.value_counts()\n",
    "    "
   ]
  },
  {
   "cell_type": "code",
   "execution_count": 111,
   "metadata": {},
   "outputs": [
    {
     "data": {
      "text/plain": [
       "Toy Story                  100.000000\n",
       "Men in Black II            71.356784 \n",
       "The Thomas Crown Affair    68.341709 \n",
       "Dawn of the Dead           65.829146 \n",
       "Once Were Warriors         58.291457 \n",
       "                             ...     \n",
       "Shooter                    0.502513  \n",
       "Dreamland                  0.502513  \n",
       "Philanthropy               0.502513  \n",
       "Perfect Stranger           0.502513  \n",
       "The One-Man Band           0.502513  \n",
       "Name: title, Length: 2626, dtype: float64"
      ]
     },
     "execution_count": 111,
     "metadata": {},
     "output_type": "execute_result"
    }
   ],
   "source": [
    "similar_user_recs_per=similar_user_recs.value_counts()*100/ len(similar_users)\n",
    "similar_user_recs_per    "
   ]
  },
  {
   "cell_type": "code",
   "execution_count": 112,
   "metadata": {},
   "outputs": [
    {
     "data": {
      "text/plain": [
       "Toy Story                  100.000000\n",
       "Men in Black II            71.356784 \n",
       "The Thomas Crown Affair    68.341709 \n",
       "Dawn of the Dead           65.829146 \n",
       "Once Were Warriors         58.291457 \n",
       "                             ...     \n",
       "Syriana                    10.050251 \n",
       "The Sicilian Clan          10.050251 \n",
       "Closer                     10.050251 \n",
       "Ask the Dust               10.050251 \n",
       "Rush Hour                  10.050251 \n",
       "Name: title, Length: 435, dtype: float64"
      ]
     },
     "execution_count": 112,
     "metadata": {},
     "output_type": "execute_result"
    }
   ],
   "source": [
    "# movies those were greater than 10% liked\n",
    "similar_user_recs_per_filter =similar_user_recs_per[similar_user_recs_per>10]\n",
    "similar_user_recs_per_filter    \n",
    "    "
   ]
  },
  {
   "attachments": {},
   "cell_type": "markdown",
   "metadata": {},
   "source": [
    "#435 movies"
   ]
  },
  {
   "cell_type": "code",
   "execution_count": 113,
   "metadata": {},
   "outputs": [
    {
     "data": {
      "text/html": [
       "<div>\n",
       "<style scoped>\n",
       "    .dataframe tbody tr th:only-of-type {\n",
       "        vertical-align: middle;\n",
       "    }\n",
       "\n",
       "    .dataframe tbody tr th {\n",
       "        vertical-align: top;\n",
       "    }\n",
       "\n",
       "    .dataframe thead th {\n",
       "        text-align: right;\n",
       "    }\n",
       "</style>\n",
       "<table border=\"1\" class=\"dataframe\">\n",
       "  <thead>\n",
       "    <tr style=\"text-align: right;\">\n",
       "      <th></th>\n",
       "      <th>id</th>\n",
       "      <th>title</th>\n",
       "      <th>genres</th>\n",
       "      <th>tags</th>\n",
       "      <th>userId</th>\n",
       "      <th>movieId</th>\n",
       "      <th>rating</th>\n",
       "      <th>timestamp</th>\n",
       "    </tr>\n",
       "  </thead>\n",
       "  <tbody>\n",
       "    <tr>\n",
       "      <th>1</th>\n",
       "      <td>862</td>\n",
       "      <td>Toy Story</td>\n",
       "      <td>Animation Comedy Family</td>\n",
       "      <td>led by woody, andy' toy live happili in hi room until andy' birthday bring buzz lightyear onto the scene. afraid of lose hi place in andy' heart, woodi plot against buzz. but when circumst separ buzz and woodi from their owner, the duo eventu learn to put asid their differences. anim comedi famili tomhank timallen donrickl johnlasset jealousi toy boy friendship friend rivalri boynextdoor newtoy toycomestolif 1995</td>\n",
       "      <td>2103</td>\n",
       "      <td>862</td>\n",
       "      <td>5.0</td>\n",
       "      <td>946044912</td>\n",
       "    </tr>\n",
       "    <tr>\n",
       "      <th>3</th>\n",
       "      <td>862</td>\n",
       "      <td>Toy Story</td>\n",
       "      <td>Animation Comedy Family</td>\n",
       "      <td>led by woody, andy' toy live happili in hi room until andy' birthday bring buzz lightyear onto the scene. afraid of lose hi place in andy' heart, woodi plot against buzz. but when circumst separ buzz and woodi from their owner, the duo eventu learn to put asid their differences. anim comedi famili tomhank timallen donrickl johnlasset jealousi toy boy friendship friend rivalri boynextdoor newtoy toycomestolif 1995</td>\n",
       "      <td>6177</td>\n",
       "      <td>862</td>\n",
       "      <td>4.0</td>\n",
       "      <td>859415226</td>\n",
       "    </tr>\n",
       "    <tr>\n",
       "      <th>4</th>\n",
       "      <td>862</td>\n",
       "      <td>Toy Story</td>\n",
       "      <td>Animation Comedy Family</td>\n",
       "      <td>led by woody, andy' toy live happili in hi room until andy' birthday bring buzz lightyear onto the scene. afraid of lose hi place in andy' heart, woodi plot against buzz. but when circumst separ buzz and woodi from their owner, the duo eventu learn to put asid their differences. anim comedi famili tomhank timallen donrickl johnlasset jealousi toy boy friendship friend rivalri boynextdoor newtoy toycomestolif 1995</td>\n",
       "      <td>6525</td>\n",
       "      <td>862</td>\n",
       "      <td>4.0</td>\n",
       "      <td>857388995</td>\n",
       "    </tr>\n",
       "    <tr>\n",
       "      <th>7</th>\n",
       "      <td>862</td>\n",
       "      <td>Toy Story</td>\n",
       "      <td>Animation Comedy Family</td>\n",
       "      <td>led by woody, andy' toy live happili in hi room until andy' birthday bring buzz lightyear onto the scene. afraid of lose hi place in andy' heart, woodi plot against buzz. but when circumst separ buzz and woodi from their owner, the duo eventu learn to put asid their differences. anim comedi famili tomhank timallen donrickl johnlasset jealousi toy boy friendship friend rivalri boynextdoor newtoy toycomestolif 1995</td>\n",
       "      <td>8659</td>\n",
       "      <td>862</td>\n",
       "      <td>4.0</td>\n",
       "      <td>997143296</td>\n",
       "    </tr>\n",
       "    <tr>\n",
       "      <th>8</th>\n",
       "      <td>862</td>\n",
       "      <td>Toy Story</td>\n",
       "      <td>Animation Comedy Family</td>\n",
       "      <td>led by woody, andy' toy live happili in hi room until andy' birthday bring buzz lightyear onto the scene. afraid of lose hi place in andy' heart, woodi plot against buzz. but when circumst separ buzz and woodi from their owner, the duo eventu learn to put asid their differences. anim comedi famili tomhank timallen donrickl johnlasset jealousi toy boy friendship friend rivalri boynextdoor newtoy toycomestolif 1995</td>\n",
       "      <td>9328</td>\n",
       "      <td>862</td>\n",
       "      <td>4.0</td>\n",
       "      <td>1037486302</td>\n",
       "    </tr>\n",
       "    <tr>\n",
       "      <th>...</th>\n",
       "      <td>...</td>\n",
       "      <td>...</td>\n",
       "      <td>...</td>\n",
       "      <td>...</td>\n",
       "      <td>...</td>\n",
       "      <td>...</td>\n",
       "      <td>...</td>\n",
       "      <td>...</td>\n",
       "    </tr>\n",
       "    <tr>\n",
       "      <th>11367614</th>\n",
       "      <td>3104</td>\n",
       "      <td>Frankenstein Created Woman</td>\n",
       "      <td>Horror ScienceFiction</td>\n",
       "      <td>a deform torment girl drown herself after her lover is frame for murder and guillotined. baron frankenstein, experi with the transfer of souls, place the boy' soul into her body, bring christina back to life. driven by revenge, she carri out a violent retribut on those respons for both deaths. horror sciencefict petercush susandenberg thorleywalt terencefish frankenstein hammerhorror 1967</td>\n",
       "      <td>270548</td>\n",
       "      <td>3104</td>\n",
       "      <td>4.0</td>\n",
       "      <td>1112153954</td>\n",
       "    </tr>\n",
       "    <tr>\n",
       "      <th>11367616</th>\n",
       "      <td>3104</td>\n",
       "      <td>Frankenstein Created Woman</td>\n",
       "      <td>Horror ScienceFiction</td>\n",
       "      <td>a deform torment girl drown herself after her lover is frame for murder and guillotined. baron frankenstein, experi with the transfer of souls, place the boy' soul into her body, bring christina back to life. driven by revenge, she carri out a violent retribut on those respons for both deaths. horror sciencefict petercush susandenberg thorleywalt terencefish frankenstein hammerhorror 1967</td>\n",
       "      <td>270654</td>\n",
       "      <td>3104</td>\n",
       "      <td>4.0</td>\n",
       "      <td>977262838</td>\n",
       "    </tr>\n",
       "    <tr>\n",
       "      <th>11367619</th>\n",
       "      <td>3104</td>\n",
       "      <td>Frankenstein Created Woman</td>\n",
       "      <td>Horror ScienceFiction</td>\n",
       "      <td>a deform torment girl drown herself after her lover is frame for murder and guillotined. baron frankenstein, experi with the transfer of souls, place the boy' soul into her body, bring christina back to life. driven by revenge, she carri out a violent retribut on those respons for both deaths. horror sciencefict petercush susandenberg thorleywalt terencefish frankenstein hammerhorror 1967</td>\n",
       "      <td>270731</td>\n",
       "      <td>3104</td>\n",
       "      <td>4.0</td>\n",
       "      <td>959088560</td>\n",
       "    </tr>\n",
       "    <tr>\n",
       "      <th>11367621</th>\n",
       "      <td>3104</td>\n",
       "      <td>Frankenstein Created Woman</td>\n",
       "      <td>Horror ScienceFiction</td>\n",
       "      <td>a deform torment girl drown herself after her lover is frame for murder and guillotined. baron frankenstein, experi with the transfer of souls, place the boy' soul into her body, bring christina back to life. driven by revenge, she carri out a violent retribut on those respons for both deaths. horror sciencefict petercush susandenberg thorleywalt terencefish frankenstein hammerhorror 1967</td>\n",
       "      <td>270776</td>\n",
       "      <td>3104</td>\n",
       "      <td>5.0</td>\n",
       "      <td>974739774</td>\n",
       "    </tr>\n",
       "    <tr>\n",
       "      <th>11367622</th>\n",
       "      <td>3104</td>\n",
       "      <td>Frankenstein Created Woman</td>\n",
       "      <td>Horror ScienceFiction</td>\n",
       "      <td>a deform torment girl drown herself after her lover is frame for murder and guillotined. baron frankenstein, experi with the transfer of souls, place the boy' soul into her body, bring christina back to life. driven by revenge, she carri out a violent retribut on those respons for both deaths. horror sciencefict petercush susandenberg thorleywalt terencefish frankenstein hammerhorror 1967</td>\n",
       "      <td>270827</td>\n",
       "      <td>3104</td>\n",
       "      <td>4.0</td>\n",
       "      <td>957917480</td>\n",
       "    </tr>\n",
       "  </tbody>\n",
       "</table>\n",
       "<p>3637219 rows × 8 columns</p>\n",
       "</div>"
      ],
      "text/plain": [
       "            id                       title                   genres  \\\n",
       "1         862   Toy Story                   Animation Comedy Family   \n",
       "3         862   Toy Story                   Animation Comedy Family   \n",
       "4         862   Toy Story                   Animation Comedy Family   \n",
       "7         862   Toy Story                   Animation Comedy Family   \n",
       "8         862   Toy Story                   Animation Comedy Family   \n",
       "...       ...         ...                                       ...   \n",
       "11367614  3104  Frankenstein Created Woman  Horror ScienceFiction     \n",
       "11367616  3104  Frankenstein Created Woman  Horror ScienceFiction     \n",
       "11367619  3104  Frankenstein Created Woman  Horror ScienceFiction     \n",
       "11367621  3104  Frankenstein Created Woman  Horror ScienceFiction     \n",
       "11367622  3104  Frankenstein Created Woman  Horror ScienceFiction     \n",
       "\n",
       "                                                                                                                                                                                                                                                                                                                                                                                                                                      tags  \\\n",
       "1         led by woody, andy' toy live happili in hi room until andy' birthday bring buzz lightyear onto the scene. afraid of lose hi place in andy' heart, woodi plot against buzz. but when circumst separ buzz and woodi from their owner, the duo eventu learn to put asid their differences. anim comedi famili tomhank timallen donrickl johnlasset jealousi toy boy friendship friend rivalri boynextdoor newtoy toycomestolif 1995   \n",
       "3         led by woody, andy' toy live happili in hi room until andy' birthday bring buzz lightyear onto the scene. afraid of lose hi place in andy' heart, woodi plot against buzz. but when circumst separ buzz and woodi from their owner, the duo eventu learn to put asid their differences. anim comedi famili tomhank timallen donrickl johnlasset jealousi toy boy friendship friend rivalri boynextdoor newtoy toycomestolif 1995   \n",
       "4         led by woody, andy' toy live happili in hi room until andy' birthday bring buzz lightyear onto the scene. afraid of lose hi place in andy' heart, woodi plot against buzz. but when circumst separ buzz and woodi from their owner, the duo eventu learn to put asid their differences. anim comedi famili tomhank timallen donrickl johnlasset jealousi toy boy friendship friend rivalri boynextdoor newtoy toycomestolif 1995   \n",
       "7         led by woody, andy' toy live happili in hi room until andy' birthday bring buzz lightyear onto the scene. afraid of lose hi place in andy' heart, woodi plot against buzz. but when circumst separ buzz and woodi from their owner, the duo eventu learn to put asid their differences. anim comedi famili tomhank timallen donrickl johnlasset jealousi toy boy friendship friend rivalri boynextdoor newtoy toycomestolif 1995   \n",
       "8         led by woody, andy' toy live happili in hi room until andy' birthday bring buzz lightyear onto the scene. afraid of lose hi place in andy' heart, woodi plot against buzz. but when circumst separ buzz and woodi from their owner, the duo eventu learn to put asid their differences. anim comedi famili tomhank timallen donrickl johnlasset jealousi toy boy friendship friend rivalri boynextdoor newtoy toycomestolif 1995   \n",
       "...                                                                                                                                                                                                                                                                                                                                                                                                                                    ...   \n",
       "11367614  a deform torment girl drown herself after her lover is frame for murder and guillotined. baron frankenstein, experi with the transfer of souls, place the boy' soul into her body, bring christina back to life. driven by revenge, she carri out a violent retribut on those respons for both deaths. horror sciencefict petercush susandenberg thorleywalt terencefish frankenstein hammerhorror 1967                            \n",
       "11367616  a deform torment girl drown herself after her lover is frame for murder and guillotined. baron frankenstein, experi with the transfer of souls, place the boy' soul into her body, bring christina back to life. driven by revenge, she carri out a violent retribut on those respons for both deaths. horror sciencefict petercush susandenberg thorleywalt terencefish frankenstein hammerhorror 1967                            \n",
       "11367619  a deform torment girl drown herself after her lover is frame for murder and guillotined. baron frankenstein, experi with the transfer of souls, place the boy' soul into her body, bring christina back to life. driven by revenge, she carri out a violent retribut on those respons for both deaths. horror sciencefict petercush susandenberg thorleywalt terencefish frankenstein hammerhorror 1967                            \n",
       "11367621  a deform torment girl drown herself after her lover is frame for murder and guillotined. baron frankenstein, experi with the transfer of souls, place the boy' soul into her body, bring christina back to life. driven by revenge, she carri out a violent retribut on those respons for both deaths. horror sciencefict petercush susandenberg thorleywalt terencefish frankenstein hammerhorror 1967                            \n",
       "11367622  a deform torment girl drown herself after her lover is frame for murder and guillotined. baron frankenstein, experi with the transfer of souls, place the boy' soul into her body, bring christina back to life. driven by revenge, she carri out a violent retribut on those respons for both deaths. horror sciencefict petercush susandenberg thorleywalt terencefish frankenstein hammerhorror 1967                            \n",
       "\n",
       "          userId  movieId  rating   timestamp  \n",
       "1         2103    862      5.0     946044912   \n",
       "3         6177    862      4.0     859415226   \n",
       "4         6525    862      4.0     857388995   \n",
       "7         8659    862      4.0     997143296   \n",
       "8         9328    862      4.0     1037486302  \n",
       "...        ...    ...      ...            ...  \n",
       "11367614  270548  3104     4.0     1112153954  \n",
       "11367616  270654  3104     4.0     977262838   \n",
       "11367619  270731  3104     4.0     959088560   \n",
       "11367621  270776  3104     5.0     974739774   \n",
       "11367622  270827  3104     4.0     957917480   \n",
       "\n",
       "[3637219 rows x 8 columns]"
      ]
     },
     "execution_count": 113,
     "metadata": {},
     "output_type": "execute_result"
    }
   ],
   "source": [
    "all_users= movies_ratings_df_join[(movies_ratings_df_join['title'].isin(similar_user_recs_per_filter.index)) & (movies_ratings_df_join['rating']>=4)]\n",
    "all_users   "
   ]
  },
  {
   "cell_type": "code",
   "execution_count": 114,
   "metadata": {},
   "outputs": [
    {
     "data": {
      "text/plain": [
       "The Million Dollar Hotel              33.347067\n",
       "Terminator 3: Rise of the Machines    28.646324\n",
       "Solaris                               27.699532\n",
       "The 39 Steps                          24.712851\n",
       "Once Were Warriors                    23.122393\n",
       "                                        ...    \n",
       "Breathless                            0.151352 \n",
       "Night and Fog                         0.132853 \n",
       "Pan's Labyrinth                       0.111832 \n",
       "WarGames                              0.083664 \n",
       "Toy Story                             0.083664 \n",
       "Name: title, Length: 435, dtype: float64"
      ]
     },
     "execution_count": 114,
     "metadata": {},
     "output_type": "execute_result"
    }
   ],
   "source": [
    "all_users_rec=all_users['title'].value_counts()*100/len(all_users['userId'].unique())\n",
    "all_users_rec    \n",
    "    "
   ]
  },
  {
   "cell_type": "code",
   "execution_count": 115,
   "metadata": {},
   "outputs": [
    {
     "data": {
      "text/html": [
       "<div>\n",
       "<style scoped>\n",
       "    .dataframe tbody tr th:only-of-type {\n",
       "        vertical-align: middle;\n",
       "    }\n",
       "\n",
       "    .dataframe tbody tr th {\n",
       "        vertical-align: top;\n",
       "    }\n",
       "\n",
       "    .dataframe thead th {\n",
       "        text-align: right;\n",
       "    }\n",
       "</style>\n",
       "<table border=\"1\" class=\"dataframe\">\n",
       "  <thead>\n",
       "    <tr style=\"text-align: right;\">\n",
       "      <th></th>\n",
       "      <th>title</th>\n",
       "      <th>title</th>\n",
       "    </tr>\n",
       "  </thead>\n",
       "  <tbody>\n",
       "    <tr>\n",
       "      <th>Toy Story</th>\n",
       "      <td>100.000000</td>\n",
       "      <td>0.083664</td>\n",
       "    </tr>\n",
       "    <tr>\n",
       "      <th>Men in Black II</th>\n",
       "      <td>71.356784</td>\n",
       "      <td>16.724825</td>\n",
       "    </tr>\n",
       "    <tr>\n",
       "      <th>The Thomas Crown Affair</th>\n",
       "      <td>68.341709</td>\n",
       "      <td>14.541992</td>\n",
       "    </tr>\n",
       "    <tr>\n",
       "      <th>Dawn of the Dead</th>\n",
       "      <td>65.829146</td>\n",
       "      <td>15.110403</td>\n",
       "    </tr>\n",
       "    <tr>\n",
       "      <th>Once Were Warriors</th>\n",
       "      <td>58.291457</td>\n",
       "      <td>23.122393</td>\n",
       "    </tr>\n",
       "    <tr>\n",
       "      <th>...</th>\n",
       "      <td>...</td>\n",
       "      <td>...</td>\n",
       "    </tr>\n",
       "    <tr>\n",
       "      <th>Syriana</th>\n",
       "      <td>10.050251</td>\n",
       "      <td>4.594797</td>\n",
       "    </tr>\n",
       "    <tr>\n",
       "      <th>The Sicilian Clan</th>\n",
       "      <td>10.050251</td>\n",
       "      <td>2.025175</td>\n",
       "    </tr>\n",
       "    <tr>\n",
       "      <th>Closer</th>\n",
       "      <td>10.050251</td>\n",
       "      <td>3.002657</td>\n",
       "    </tr>\n",
       "    <tr>\n",
       "      <th>Ask the Dust</th>\n",
       "      <td>10.050251</td>\n",
       "      <td>2.224455</td>\n",
       "    </tr>\n",
       "    <tr>\n",
       "      <th>Rush Hour</th>\n",
       "      <td>10.050251</td>\n",
       "      <td>1.889378</td>\n",
       "    </tr>\n",
       "  </tbody>\n",
       "</table>\n",
       "<p>435 rows × 2 columns</p>\n",
       "</div>"
      ],
      "text/plain": [
       "                              title      title\n",
       "Toy Story                100.000000  0.083664 \n",
       "Men in Black II          71.356784   16.724825\n",
       "The Thomas Crown Affair  68.341709   14.541992\n",
       "Dawn of the Dead         65.829146   15.110403\n",
       "Once Were Warriors       58.291457   23.122393\n",
       "...                            ...         ...\n",
       "Syriana                  10.050251   4.594797 \n",
       "The Sicilian Clan        10.050251   2.025175 \n",
       "Closer                   10.050251   3.002657 \n",
       "Ask the Dust             10.050251   2.224455 \n",
       "Rush Hour                10.050251   1.889378 \n",
       "\n",
       "[435 rows x 2 columns]"
      ]
     },
     "execution_count": 115,
     "metadata": {},
     "output_type": "execute_result"
    }
   ],
   "source": [
    "rec_per=pd.concat([similar_user_recs_per_filter, all_users_rec],axis=1)\n",
    "rec_per    "
   ]
  },
  {
   "cell_type": "code",
   "execution_count": 116,
   "metadata": {},
   "outputs": [
    {
     "data": {
      "text/plain": [
       "Index(['similar%', 'all_avg%'], dtype='object')"
      ]
     },
     "execution_count": 116,
     "metadata": {},
     "output_type": "execute_result"
    }
   ],
   "source": [
    "rec_per.columns=['similar%','all_avg%']\n",
    "    \n",
    "rec_per.columns    "
   ]
  },
  {
   "cell_type": "code",
   "execution_count": 117,
   "metadata": {},
   "outputs": [
    {
     "data": {
      "text/plain": [
       "Toy Story                  1195.256281\n",
       "Men in Black II            4.266519   \n",
       "The Thomas Crown Affair    4.699611   \n",
       "Dawn of the Dead           4.356545   \n",
       "Once Were Warriors         2.520996   \n",
       "                             ...      \n",
       "Syriana                    2.187311   \n",
       "The Sicilian Clan          4.962658   \n",
       "Closer                     3.347119   \n",
       "Ask the Dust               4.518073   \n",
       "Rush Hour                  5.319343   \n",
       "Name: score, Length: 435, dtype: float64"
      ]
     },
     "execution_count": 117,
     "metadata": {},
     "output_type": "execute_result"
    }
   ],
   "source": [
    "rec_per['score']=rec_per['similar%']/rec_per['all_avg%']\n",
    "rec_per['score']   "
   ]
  },
  {
   "cell_type": "code",
   "execution_count": 118,
   "metadata": {},
   "outputs": [
    {
     "data": {
      "text/html": [
       "<div>\n",
       "<style scoped>\n",
       "    .dataframe tbody tr th:only-of-type {\n",
       "        vertical-align: middle;\n",
       "    }\n",
       "\n",
       "    .dataframe tbody tr th {\n",
       "        vertical-align: top;\n",
       "    }\n",
       "\n",
       "    .dataframe thead th {\n",
       "        text-align: right;\n",
       "    }\n",
       "</style>\n",
       "<table border=\"1\" class=\"dataframe\">\n",
       "  <thead>\n",
       "    <tr style=\"text-align: right;\">\n",
       "      <th></th>\n",
       "      <th>similar%</th>\n",
       "      <th>all_avg%</th>\n",
       "      <th>score</th>\n",
       "    </tr>\n",
       "  </thead>\n",
       "  <tbody>\n",
       "    <tr>\n",
       "      <th>Toy Story</th>\n",
       "      <td>100.000000</td>\n",
       "      <td>0.083664</td>\n",
       "      <td>1195.256281</td>\n",
       "    </tr>\n",
       "    <tr>\n",
       "      <th>WarGames</th>\n",
       "      <td>11.055276</td>\n",
       "      <td>0.083664</td>\n",
       "      <td>132.138885</td>\n",
       "    </tr>\n",
       "    <tr>\n",
       "      <th>Before Sunset</th>\n",
       "      <td>15.075377</td>\n",
       "      <td>0.155977</td>\n",
       "      <td>96.651451</td>\n",
       "    </tr>\n",
       "    <tr>\n",
       "      <th>Pan's Labyrinth</th>\n",
       "      <td>10.050251</td>\n",
       "      <td>0.111832</td>\n",
       "      <td>89.868893</td>\n",
       "    </tr>\n",
       "    <tr>\n",
       "      <th>Night and Fog</th>\n",
       "      <td>10.552764</td>\n",
       "      <td>0.132853</td>\n",
       "      <td>79.431588</td>\n",
       "    </tr>\n",
       "    <tr>\n",
       "      <th>...</th>\n",
       "      <td>...</td>\n",
       "      <td>...</td>\n",
       "      <td>...</td>\n",
       "    </tr>\n",
       "    <tr>\n",
       "      <th>Three Colors: Red</th>\n",
       "      <td>26.130653</td>\n",
       "      <td>19.685020</td>\n",
       "      <td>1.327439</td>\n",
       "    </tr>\n",
       "    <tr>\n",
       "      <th>And Then There Were None</th>\n",
       "      <td>11.055276</td>\n",
       "      <td>9.064308</td>\n",
       "      <td>1.219649</td>\n",
       "    </tr>\n",
       "    <tr>\n",
       "      <th>5 Card Stud</th>\n",
       "      <td>17.587940</td>\n",
       "      <td>17.916302</td>\n",
       "      <td>0.981672</td>\n",
       "    </tr>\n",
       "    <tr>\n",
       "      <th>License to Wed</th>\n",
       "      <td>18.592965</td>\n",
       "      <td>20.178595</td>\n",
       "      <td>0.921420</td>\n",
       "    </tr>\n",
       "    <tr>\n",
       "      <th>The Tunnel</th>\n",
       "      <td>10.552764</td>\n",
       "      <td>13.023006</td>\n",
       "      <td>0.810317</td>\n",
       "    </tr>\n",
       "  </tbody>\n",
       "</table>\n",
       "<p>435 rows × 3 columns</p>\n",
       "</div>"
      ],
      "text/plain": [
       "                            similar%   all_avg%        score\n",
       "Toy Story                 100.000000  0.083664   1195.256281\n",
       "WarGames                  11.055276   0.083664   132.138885 \n",
       "Before Sunset             15.075377   0.155977   96.651451  \n",
       "Pan's Labyrinth           10.050251   0.111832   89.868893  \n",
       "Night and Fog             10.552764   0.132853   79.431588  \n",
       "...                             ...        ...         ...  \n",
       "Three Colors: Red         26.130653   19.685020  1.327439   \n",
       "And Then There Were None  11.055276   9.064308   1.219649   \n",
       "5 Card Stud               17.587940   17.916302  0.981672   \n",
       "License to Wed            18.592965   20.178595  0.921420   \n",
       "The Tunnel                10.552764   13.023006  0.810317   \n",
       "\n",
       "[435 rows x 3 columns]"
      ]
     },
     "execution_count": 118,
     "metadata": {},
     "output_type": "execute_result"
    }
   ],
   "source": [
    " rec_per=rec_per.sort_values(\"score\" , ascending=False)\n",
    " rec_per"
   ]
  },
  {
   "attachments": {},
   "cell_type": "markdown",
   "metadata": {},
   "source": [
    "all the code now in a single function now"
   ]
  },
  {
   "cell_type": "code",
   "execution_count": 119,
   "metadata": {},
   "outputs": [],
   "source": [
    "def find_similar_movies_by_tags(title):\n",
    "    similar_users=movies_ratings_df_join[(movies_ratings_df_join[\"title\"] == title ) & (movies_ratings_df_join['rating']>=4)]['userId'].unique()\n",
    "    similar_user_recs=movies_ratings_df_join[(movies_ratings_df_join['userId'].isin(similar_users)) & (movies_ratings_df_join['rating']>=4)]['title']\n",
    "    \n",
    "    similar_user_recs_per=similar_user_recs.value_counts()*100/ len(similar_users)\n",
    "    similar_user_recs_per_filter =similar_user_recs_per[similar_user_recs_per>10]\n",
    "    \n",
    "    all_users= movies_ratings_df_join[(movies_ratings_df_join['title'].isin(similar_user_recs_per_filter.index)) & (movies_ratings_df_join['rating']>=4)]\n",
    "    all_users_rec=all_users['title'].value_counts()*100/len(all_users['userId'].unique())\n",
    "    \n",
    "    rec_per=pd.concat([similar_user_recs_per_filter, all_users_rec],axis=1)\n",
    "    rec_per.columns=['similar%','all_avg%']\n",
    "    \n",
    "    rec_per['score']=rec_per['similar%']/rec_per['all_avg%']\n",
    "    rec_per=rec_per.sort_values(\"score\" , ascending=False)\n",
    "    \n",
    "    return rec_per.merge(final_df, left_index=True,right_on=\"title\",how='left')[[\"id\",\"title\",\"genres\",\"tags\",\"score\"]][:5]\n",
    "    \n",
    "    "
   ]
  },
  {
   "cell_type": "code",
   "execution_count": 142,
   "metadata": {},
   "outputs": [],
   "source": [
    "tags='Sci-fi'"
   ]
  },
  {
   "cell_type": "code",
   "execution_count": 143,
   "metadata": {},
   "outputs": [],
   "source": [
    "def rs_tags(tags):\n",
    "    tags_=search_tags(tags).title[search_tags(tags).title.index[0]]\n",
    "    \n",
    "    return tags_"
   ]
  },
  {
   "cell_type": "code",
   "execution_count": 144,
   "metadata": {},
   "outputs": [
    {
     "data": {
      "text/plain": [
       "'Third Guest'"
      ]
     },
     "execution_count": 144,
     "metadata": {},
     "output_type": "execute_result"
    }
   ],
   "source": [
    "\n",
    "rs_tags(tags)\n"
   ]
  },
  {
   "cell_type": "code",
   "execution_count": 145,
   "metadata": {},
   "outputs": [
    {
     "data": {
      "text/html": [
       "<div>\n",
       "<style scoped>\n",
       "    .dataframe tbody tr th:only-of-type {\n",
       "        vertical-align: middle;\n",
       "    }\n",
       "\n",
       "    .dataframe tbody tr th {\n",
       "        vertical-align: top;\n",
       "    }\n",
       "\n",
       "    .dataframe thead th {\n",
       "        text-align: right;\n",
       "    }\n",
       "</style>\n",
       "<table border=\"1\" class=\"dataframe\">\n",
       "  <thead>\n",
       "    <tr style=\"text-align: right;\">\n",
       "      <th></th>\n",
       "      <th>id</th>\n",
       "      <th>title</th>\n",
       "      <th>genres</th>\n",
       "      <th>tags</th>\n",
       "      <th>score</th>\n",
       "    </tr>\n",
       "  </thead>\n",
       "  <tbody>\n",
       "    <tr>\n",
       "      <th>0</th>\n",
       "      <td>862</td>\n",
       "      <td>Toy Story</td>\n",
       "      <td>Animation Comedy Family</td>\n",
       "      <td>led by woody, andy' toy live happili in hi room until andy' birthday bring buzz lightyear onto the scene. afraid of lose hi place in andy' heart, woodi plot against buzz. but when circumst separ buzz and woodi from their owner, the duo eventu learn to put asid their differences. anim comedi famili tomhank timallen donrickl johnlasset jealousi toy boy friendship friend rivalri boynextdoor newtoy toycomestolif 1995</td>\n",
       "      <td>1195.256281</td>\n",
       "    </tr>\n",
       "    <tr>\n",
       "      <th>6825</th>\n",
       "      <td>860</td>\n",
       "      <td>WarGames</td>\n",
       "      <td>Thriller ScienceFiction</td>\n",
       "      <td>high school student david lightman (matthew broderick) ha a talent for hacking. but while tri to hack into a comput system to play unreleas video games, he unwittingli tap into the defens department' war comput and initi a confront of global proportions! togeth with hi girlfriend (alli sheedy) and a wizardli comput geniu (john wood), david must race against time to outwit hi opponent...and prevent a nuclear armageddon. thriller sciencefict matthewbroderick dabneycoleman allysheedi johnbadham videogam artificialintellig fbi coldwar hacker prosecut norad govern comput nuclearthreat 1983</td>\n",
       "      <td>132.138885</td>\n",
       "    </tr>\n",
       "    <tr>\n",
       "      <th>7911</th>\n",
       "      <td>80</td>\n",
       "      <td>Before Sunset</td>\n",
       "      <td>Drama Romance</td>\n",
       "      <td>nine year ago two stranger met by chanc and spent a night in vienna that end befor sunrise. they are about to meet for the first time since. now they have one afternoon to find out if they belong together. drama romanc ethanhawk juliedelpi vernondobtcheff richardlinklat pari journalist dialogu talk soulmat walk bookshop loveofone'slif author 2004</td>\n",
       "      <td>96.651451</td>\n",
       "    </tr>\n",
       "    <tr>\n",
       "      <th>11304</th>\n",
       "      <td>1417</td>\n",
       "      <td>Pan's Labyrinth</td>\n",
       "      <td>Fantasy Drama War</td>\n",
       "      <td>live with her tyrann stepfath in a new home with her pregnant mother, 10-year-old ofelia feel alon until she explor a decay labyrinth guard by a mysteri faun who claim to know her destiny. if she wish to return to her real father, ofelia must complet three terrifi tasks. fantasi drama war ivanabaquero maribelverdú sergilópez guillermodeltoro spain resist servant antihero fairi fairytal francoregim armi princess love wood king hide labyrinth mytholog 2006</td>\n",
       "      <td>89.868893</td>\n",
       "    </tr>\n",
       "    <tr>\n",
       "      <th>8504</th>\n",
       "      <td>803</td>\n",
       "      <td>Night and Fog</td>\n",
       "      <td>History Documentary War</td>\n",
       "      <td>the documentari film from french director resnai set ten year after the second world war depict the problem of auschwitz with shock imag from the concentr camps. histori documentari war michelbouquet reinhardheydrich heinrichhimml alainresnai germani destructionofacivil polen worldwarii prisonersofwar auschwitz nazi independentfilm nazigermani tortur crime 1955</td>\n",
       "      <td>79.431588</td>\n",
       "    </tr>\n",
       "  </tbody>\n",
       "</table>\n",
       "</div>"
      ],
      "text/plain": [
       "         id            title                   genres  \\\n",
       "0      862   Toy Story        Animation Comedy Family   \n",
       "6825   860   WarGames         Thriller ScienceFiction   \n",
       "7911   80    Before Sunset    Drama Romance             \n",
       "11304  1417  Pan's Labyrinth  Fantasy Drama War         \n",
       "8504   803   Night and Fog    History Documentary War   \n",
       "\n",
       "                                                                                                                                                                                                                                                                                                                                                                                                                                                                                                                                                                                                                  tags  \\\n",
       "0      led by woody, andy' toy live happili in hi room until andy' birthday bring buzz lightyear onto the scene. afraid of lose hi place in andy' heart, woodi plot against buzz. but when circumst separ buzz and woodi from their owner, the duo eventu learn to put asid their differences. anim comedi famili tomhank timallen donrickl johnlasset jealousi toy boy friendship friend rivalri boynextdoor newtoy toycomestolif 1995                                                                                                                                                                                  \n",
       "6825   high school student david lightman (matthew broderick) ha a talent for hacking. but while tri to hack into a comput system to play unreleas video games, he unwittingli tap into the defens department' war comput and initi a confront of global proportions! togeth with hi girlfriend (alli sheedy) and a wizardli comput geniu (john wood), david must race against time to outwit hi opponent...and prevent a nuclear armageddon. thriller sciencefict matthewbroderick dabneycoleman allysheedi johnbadham videogam artificialintellig fbi coldwar hacker prosecut norad govern comput nuclearthreat 1983   \n",
       "7911   nine year ago two stranger met by chanc and spent a night in vienna that end befor sunrise. they are about to meet for the first time since. now they have one afternoon to find out if they belong together. drama romanc ethanhawk juliedelpi vernondobtcheff richardlinklat pari journalist dialogu talk soulmat walk bookshop loveofone'slif author 2004                                                                                                                                                                                                                                                      \n",
       "11304  live with her tyrann stepfath in a new home with her pregnant mother, 10-year-old ofelia feel alon until she explor a decay labyrinth guard by a mysteri faun who claim to know her destiny. if she wish to return to her real father, ofelia must complet three terrifi tasks. fantasi drama war ivanabaquero maribelverdú sergilópez guillermodeltoro spain resist servant antihero fairi fairytal francoregim armi princess love wood king hide labyrinth mytholog 2006                                                                                                                                        \n",
       "8504   the documentari film from french director resnai set ten year after the second world war depict the problem of auschwitz with shock imag from the concentr camps. histori documentari war michelbouquet reinhardheydrich heinrichhimml alainresnai germani destructionofacivil polen worldwarii prisonersofwar auschwitz nazi independentfilm nazigermani tortur crime 1955                                                                                                                                                                                                                                       \n",
       "\n",
       "             score  \n",
       "0      1195.256281  \n",
       "6825   132.138885   \n",
       "7911   96.651451    \n",
       "11304  89.868893    \n",
       "8504   79.431588    "
      ]
     },
     "execution_count": 145,
     "metadata": {},
     "output_type": "execute_result"
    }
   ],
   "source": [
    "find_similar_movies_by_tags('Toy Story')"
   ]
  },
  {
   "cell_type": "code",
   "execution_count": 146,
   "metadata": {},
   "outputs": [
    {
     "data": {
      "text/html": [
       "<div>\n",
       "<style scoped>\n",
       "    .dataframe tbody tr th:only-of-type {\n",
       "        vertical-align: middle;\n",
       "    }\n",
       "\n",
       "    .dataframe tbody tr th {\n",
       "        vertical-align: top;\n",
       "    }\n",
       "\n",
       "    .dataframe thead th {\n",
       "        text-align: right;\n",
       "    }\n",
       "</style>\n",
       "<table border=\"1\" class=\"dataframe\">\n",
       "  <thead>\n",
       "    <tr style=\"text-align: right;\">\n",
       "      <th></th>\n",
       "      <th>id</th>\n",
       "      <th>title</th>\n",
       "      <th>genres</th>\n",
       "      <th>tags</th>\n",
       "      <th>score</th>\n",
       "    </tr>\n",
       "  </thead>\n",
       "  <tbody>\n",
       "  </tbody>\n",
       "</table>\n",
       "</div>"
      ],
      "text/plain": [
       "Empty DataFrame\n",
       "Columns: [id, title, genres, tags, score]\n",
       "Index: []"
      ]
     },
     "execution_count": 146,
     "metadata": {},
     "output_type": "execute_result"
    }
   ],
   "source": [
    "find_similar_movies_by_tags(rs_tags(tags))"
   ]
  },
  {
   "cell_type": "code",
   "execution_count": 147,
   "metadata": {},
   "outputs": [
    {
     "data": {
      "text/html": [
       "<div>\n",
       "<style scoped>\n",
       "    .dataframe tbody tr th:only-of-type {\n",
       "        vertical-align: middle;\n",
       "    }\n",
       "\n",
       "    .dataframe tbody tr th {\n",
       "        vertical-align: top;\n",
       "    }\n",
       "\n",
       "    .dataframe thead th {\n",
       "        text-align: right;\n",
       "    }\n",
       "</style>\n",
       "<table border=\"1\" class=\"dataframe\">\n",
       "  <thead>\n",
       "    <tr style=\"text-align: right;\">\n",
       "      <th></th>\n",
       "      <th>id</th>\n",
       "      <th>title</th>\n",
       "      <th>genres</th>\n",
       "      <th>tags</th>\n",
       "    </tr>\n",
       "  </thead>\n",
       "  <tbody>\n",
       "    <tr>\n",
       "      <th>42431</th>\n",
       "      <td>437122</td>\n",
       "      <td>Third Guest</td>\n",
       "      <td>Drama ScienceFiction</td>\n",
       "      <td>sci-fi end of the world drama drama sciencefict elenahard garylind fraserwatson 2016</td>\n",
       "    </tr>\n",
       "    <tr>\n",
       "      <th>5248</th>\n",
       "      <td>27834</td>\n",
       "      <td>CQ</td>\n",
       "      <td>Comedy Drama ScienceFiction</td>\n",
       "      <td>a young filmmak in 1960 pari juggl direct a cheesi sci-fi debacle, direct hi own person art film, cope with hi crumbl relationship with hi girlfriend, and a new-found infatu with the sci-fi film' starlet. comedi drama sciencefict jeremydavi angelalindval élodiebouchez romancoppola 2001</td>\n",
       "    </tr>\n",
       "    <tr>\n",
       "      <th>3047</th>\n",
       "      <td>926</td>\n",
       "      <td>Galaxy Quest</td>\n",
       "      <td>Comedy Family ScienceFiction</td>\n",
       "      <td>the star of a 1970 sci-fi show - now scrape a live through re-run and sci-fi convent - are beam aboard an alien spacecraft. believ the cast' heroic on-screen drama are histor document of real-lif adventures, the band of alien turn to the ail celebr for help in their quest to overcom the oppress regim in their solar system. comedi famili sciencefict timallen sigourneyweav alanrickman deanparisot spacebattl spaceship spoof fictionaltvshow 1999</td>\n",
       "    </tr>\n",
       "    <tr>\n",
       "      <th>45285</th>\n",
       "      <td>222872</td>\n",
       "      <td>Starquest II</td>\n",
       "      <td>Thriller ScienceFiction</td>\n",
       "      <td>sci-fi thriller direct by fred gallo. thriller sciencefict adambaldwin robertenglund duanedavi fredgallo spacecraft alien 1996</td>\n",
       "    </tr>\n",
       "    <tr>\n",
       "      <th>9441</th>\n",
       "      <td>11049</td>\n",
       "      <td>Interstella 5555: The 5tory of the 5ecret 5tar 5ystem</td>\n",
       "      <td>ScienceFiction Music Animation</td>\n",
       "      <td>a sci-fi anim house-mus movi collabor between daft punk--and their music--and design leiji matsumoto. dure the record of their discoveri album and use the theme of sci-fi celebrity, decad and space travel, daft punk--with help from cedric hervet--wrot the stori and inspir season japanes anim to symbiot creat thi stun space musical. sciencefict music anim romanthoni kazuhisatakenôchi spaceman music recordproduc space rescu musicband 2003</td>\n",
       "    </tr>\n",
       "    <tr>\n",
       "      <th>28069</th>\n",
       "      <td>326591</td>\n",
       "      <td>Hollywood between Paranoia and Sci-Fi. The Power of Myth</td>\n",
       "      <td>Documentary</td>\n",
       "      <td>give insight into the creator mindset and how they cull from real life event to creat some of the biggest sci fi film of all time. documentari jamescameron rolandemmerich georgeluca juliakuperberg clarakuperberg sciencefict womandirector sci-fifan 2011</td>\n",
       "    </tr>\n",
       "    <tr>\n",
       "      <th>40306</th>\n",
       "      <td>316784</td>\n",
       "      <td>The Black Hole</td>\n",
       "      <td>Thriller ScienceFiction</td>\n",
       "      <td>a sci-fi/thril center on a high school violinist who wit the collaps of space and time. thriller sciencefict malcolmmcdowel deancain aaronperilo markstevengrov blackhol 2015</td>\n",
       "    </tr>\n",
       "    <tr>\n",
       "      <th>34181</th>\n",
       "      <td>238307</td>\n",
       "      <td>The Isle of Lost Ships</td>\n",
       "      <td>Drama ScienceFiction Music Adventure Romance</td>\n",
       "      <td>a music partial base on a sci-fi novel \"the isl of lost ships\" by aleksandr belyaev. drama sciencefict music adventur romanc larisabelogurova gediminasstorpiršti konstantinraykin yevgeniginzburg raufmamedov 1987</td>\n",
       "    </tr>\n",
       "    <tr>\n",
       "      <th>24911</th>\n",
       "      <td>45167</td>\n",
       "      <td>Pumzi</td>\n",
       "      <td>ScienceFiction Drama</td>\n",
       "      <td>a sci-fi film about futurist africa, 35 year after world war iii, 'the water war'. sciencefict drama chantelleburg kudzanimoswela wanurikahiu womandirector 2009</td>\n",
       "    </tr>\n",
       "    <tr>\n",
       "      <th>43812</th>\n",
       "      <td>14543</td>\n",
       "      <td>The Matrix Revisited</td>\n",
       "      <td>Documentary</td>\n",
       "      <td>the film goe behind the scene of the 1999 sci-fi movi the matrix. documentari keanureev hugoweav laurencefishburn joshoreck behindthescen fancultur visualeffect 2001</td>\n",
       "    </tr>\n",
       "  </tbody>\n",
       "</table>\n",
       "</div>"
      ],
      "text/plain": [
       "           id                                                     title  \\\n",
       "42431  437122  Third Guest                                                \n",
       "5248   27834   CQ                                                         \n",
       "3047   926     Galaxy Quest                                               \n",
       "45285  222872  Starquest II                                               \n",
       "9441   11049   Interstella 5555: The 5tory of the 5ecret 5tar 5ystem      \n",
       "28069  326591  Hollywood between Paranoia and Sci-Fi. The Power of Myth   \n",
       "40306  316784  The Black Hole                                             \n",
       "34181  238307  The Isle of Lost Ships                                     \n",
       "24911  45167   Pumzi                                                      \n",
       "43812  14543   The Matrix Revisited                                       \n",
       "\n",
       "                                             genres  \\\n",
       "42431  Drama ScienceFiction                           \n",
       "5248   Comedy Drama ScienceFiction                    \n",
       "3047   Comedy Family ScienceFiction                   \n",
       "45285  Thriller ScienceFiction                        \n",
       "9441   ScienceFiction Music Animation                 \n",
       "28069  Documentary                                    \n",
       "40306  Thriller ScienceFiction                        \n",
       "34181  Drama ScienceFiction Music Adventure Romance   \n",
       "24911  ScienceFiction Drama                           \n",
       "43812  Documentary                                    \n",
       "\n",
       "                                                                                                                                                                                                                                                                                                                                                                                                                                                                tags  \n",
       "42431  sci-fi end of the world drama drama sciencefict elenahard garylind fraserwatson 2016                                                                                                                                                                                                                                                                                                                                                                           \n",
       "5248   a young filmmak in 1960 pari juggl direct a cheesi sci-fi debacle, direct hi own person art film, cope with hi crumbl relationship with hi girlfriend, and a new-found infatu with the sci-fi film' starlet. comedi drama sciencefict jeremydavi angelalindval élodiebouchez romancoppola 2001                                                                                                                                                                 \n",
       "3047   the star of a 1970 sci-fi show - now scrape a live through re-run and sci-fi convent - are beam aboard an alien spacecraft. believ the cast' heroic on-screen drama are histor document of real-lif adventures, the band of alien turn to the ail celebr for help in their quest to overcom the oppress regim in their solar system. comedi famili sciencefict timallen sigourneyweav alanrickman deanparisot spacebattl spaceship spoof fictionaltvshow 1999  \n",
       "45285  sci-fi thriller direct by fred gallo. thriller sciencefict adambaldwin robertenglund duanedavi fredgallo spacecraft alien 1996                                                                                                                                                                                                                                                                                                                                 \n",
       "9441   a sci-fi anim house-mus movi collabor between daft punk--and their music--and design leiji matsumoto. dure the record of their discoveri album and use the theme of sci-fi celebrity, decad and space travel, daft punk--with help from cedric hervet--wrot the stori and inspir season japanes anim to symbiot creat thi stun space musical. sciencefict music anim romanthoni kazuhisatakenôchi spaceman music recordproduc space rescu musicband 2003       \n",
       "28069  give insight into the creator mindset and how they cull from real life event to creat some of the biggest sci fi film of all time. documentari jamescameron rolandemmerich georgeluca juliakuperberg clarakuperberg sciencefict womandirector sci-fifan 2011                                                                                                                                                                                                   \n",
       "40306  a sci-fi/thril center on a high school violinist who wit the collaps of space and time. thriller sciencefict malcolmmcdowel deancain aaronperilo markstevengrov blackhol 2015                                                                                                                                                                                                                                                                                  \n",
       "34181  a music partial base on a sci-fi novel \"the isl of lost ships\" by aleksandr belyaev. drama sciencefict music adventur romanc larisabelogurova gediminasstorpiršti konstantinraykin yevgeniginzburg raufmamedov 1987                                                                                                                                                                                                                                            \n",
       "24911  a sci-fi film about futurist africa, 35 year after world war iii, 'the water war'. sciencefict drama chantelleburg kudzanimoswela wanurikahiu womandirector 2009                                                                                                                                                                                                                                                                                               \n",
       "43812  the film goe behind the scene of the 1999 sci-fi movi the matrix. documentari keanureev hugoweav laurencefishburn joshoreck behindthescen fancultur visualeffect 2001                                                                                                                                                                                                                                                                                          "
      ]
     },
     "execution_count": 147,
     "metadata": {},
     "output_type": "execute_result"
    }
   ],
   "source": [
    "search_tags(tags)"
   ]
  },
  {
   "cell_type": "code",
   "execution_count": 148,
   "metadata": {},
   "outputs": [
    {
     "data": {
      "text/html": [
       "<div>\n",
       "<style scoped>\n",
       "    .dataframe tbody tr th:only-of-type {\n",
       "        vertical-align: middle;\n",
       "    }\n",
       "\n",
       "    .dataframe tbody tr th {\n",
       "        vertical-align: top;\n",
       "    }\n",
       "\n",
       "    .dataframe thead th {\n",
       "        text-align: right;\n",
       "    }\n",
       "</style>\n",
       "<table border=\"1\" class=\"dataframe\">\n",
       "  <thead>\n",
       "    <tr style=\"text-align: right;\">\n",
       "      <th></th>\n",
       "      <th>id</th>\n",
       "      <th>title</th>\n",
       "      <th>genres</th>\n",
       "      <th>tags</th>\n",
       "    </tr>\n",
       "  </thead>\n",
       "  <tbody>\n",
       "    <tr>\n",
       "      <th>42431</th>\n",
       "      <td>437122</td>\n",
       "      <td>Third Guest</td>\n",
       "      <td>Drama ScienceFiction</td>\n",
       "      <td>sci-fi end of the world drama drama sciencefict elenahard garylind fraserwatson 2016</td>\n",
       "    </tr>\n",
       "    <tr>\n",
       "      <th>23860</th>\n",
       "      <td>241848</td>\n",
       "      <td>The Guest</td>\n",
       "      <td>Mystery Thriller Action</td>\n",
       "      <td>a soldier introduc himself to the peterson family, claim to be a friend of their son who die in action. after the young man is welcom into their home, a seri of accident death seem to be connect to hi presence. mysteri thriller action dansteven maikamonro sheilakelley adamwingard bar halloween highschool iraqwarveteran murder diner mumblegor 2014</td>\n",
       "    </tr>\n",
       "    <tr>\n",
       "      <th>31709</th>\n",
       "      <td>130374</td>\n",
       "      <td>Guest Wife</td>\n",
       "      <td>Comedy Romance</td>\n",
       "      <td>christoph price, a small-town bank executive, continu to be loyal to and idol hi boyhood friend, joseph jefferson parker, a famou war correspondent. but chris' wife, mary, is none to fond of joe and tire of her husband' idolizing. on the eve of the price' second-honeymoon trip to new york city, joe arriv and tell chri that he need someon to pose as hi wife in order to fool hi boss in nyc, who think joe got marri to an oversea woman while on an assignment. chri push mari into pose as joe' wife. in new york, thi lead to mani complic and misunderstandings, with mari final decid to teach chri and joe a lesson by make them believ she is in love with joe. comedi romanc claudettecolbert donamech dickforan samwood smalltown trip warcorrespond boyhoodfriend 1945</td>\n",
       "    </tr>\n",
       "    <tr>\n",
       "      <th>42041</th>\n",
       "      <td>411088</td>\n",
       "      <td>The Invisible Guest</td>\n",
       "      <td>Mystery Crime Thriller</td>\n",
       "      <td>\"the invis guest” turn on a young businessman who wake up in a hotel room lock from the insid with the dead bodi of hi lover next to him. he hire a prestigi lawyer, and over one night they work togeth to clarifi what happen in a frenet race against time. mysteri crime thriller mariocasa josécoronado bárbaralenni oriolpaulo judg suspect interrog falseaccusationofmurd unreliablenarr confessionofcrim uncovertruth accus 2016</td>\n",
       "    </tr>\n",
       "    <tr>\n",
       "      <th>22164</th>\n",
       "      <td>20894</td>\n",
       "      <td>Guest from the Future</td>\n",
       "      <td>Family ScienceFiction Adventure</td>\n",
       "      <td>6-grader kolya gerasimov discov a time machin in a basement of an old hous in moscow and get transfer into the 21st century. there he is allow to look around. accidentally, kolya wit two space pirat who arriv from saturn and later tri to steal a devic call a \"mielophone\" (which can read thoughts) from alisa seleznyova - a girl that perform experi with thi devic and animals. kolya manag to save the devic from the pirat and bring it back to the 20th century. but both pirat and alisa get there too. alisa know where kolya studi but doesn't know what he look like. pirat saw kolya, but don't know anyth about him. written by bori shafir famili sciencefict adventur natalyaguseva alekseifomkin vyacheslavnevinnyy pavelarsyonov 1984</td>\n",
       "    </tr>\n",
       "    <tr>\n",
       "      <th>22949</th>\n",
       "      <td>42802</td>\n",
       "      <td>The Dinner Guest</td>\n",
       "      <td>Comedy</td>\n",
       "      <td>fifti year old, three year past of unemployment, benefit decreas veri quickly... gerard is at the end of the rope when a posit is offer him in indonesia. to win the favor of hi new employer, gerard invit him to dinner at home. fatal error ! terrifi at the idea of not be up to par, hi wife colett beg alexandre, their neighbor to help. commun guru, alexand accept the challeng and give a makeov to the coupl in twenty-four hours. apartment, decoration, lifestyle, dinner menu, uniforms, culture... everyth ! comedi danielauteuil valérielemerci thierrylhermitt laurentbouhnik 2007</td>\n",
       "    </tr>\n",
       "    <tr>\n",
       "      <th>28364</th>\n",
       "      <td>42288</td>\n",
       "      <td>Guest in the House</td>\n",
       "      <td>Drama Thriller</td>\n",
       "      <td>evelyn (ann baxter), an emot vulner and unstabl woman, stay at the home of her doctor dan proctor (scott mckay). there she meet and fall in love with hi brother, dougla (ralph bellamy), who is happili marri to ann (ruth warrick). evelyn then set forth to break up the happi marriag and win the love of dougla -- with tragic results. drama thriller annebaxt ralphbellami alinemacmahon johnbrahm suspens 1944</td>\n",
       "    </tr>\n",
       "    <tr>\n",
       "      <th>31386</th>\n",
       "      <td>117618</td>\n",
       "      <td>The Guest House</td>\n",
       "      <td>Romance</td>\n",
       "      <td>befor leav for college, a recent dump goth girl' life chang forev when she fall in love with a smart and profession colleg grad who is stay in the family' guest house. romanc ruthreynold madelinemerrit tommccafferti michaelbaumgarten love lesbian losangel girl gothic 2012</td>\n",
       "    </tr>\n",
       "    <tr>\n",
       "      <th>37341</th>\n",
       "      <td>34144</td>\n",
       "      <td>Dear Guest, When Will You Leave?</td>\n",
       "      <td>Comedy Foreign</td>\n",
       "      <td>atithi tum kab jaoge? is the stori of puneet and munmun, a happili marri coupl live in mumbai whose live take an interest turn when a distant relative, chachaji turn up unannounc at their doorstep from a far off village. the guest overstay hi welcom so much so that the exasper coupl come up with variou ploy to hasten hi departur to hilari results. comedi foreign ajaydevgn sanjaymishra pareshraw ashwanidhir 2010</td>\n",
       "    </tr>\n",
       "    <tr>\n",
       "      <th>18047</th>\n",
       "      <td>121462</td>\n",
       "      <td>My Mother and Her Guest</td>\n",
       "      <td>Drama</td>\n",
       "      <td>a singl mother take on a boarder, with intrigu results. drama dokum-bong kimjin-kyu haneun-jin shinsang-ok singlemoth 1961</td>\n",
       "    </tr>\n",
       "  </tbody>\n",
       "</table>\n",
       "</div>"
      ],
      "text/plain": [
       "           id                             title  \\\n",
       "42431  437122  Third Guest                        \n",
       "23860  241848  The Guest                          \n",
       "31709  130374  Guest Wife                         \n",
       "42041  411088  The Invisible Guest                \n",
       "22164  20894   Guest from the Future              \n",
       "22949  42802   The Dinner Guest                   \n",
       "28364  42288   Guest in the House                 \n",
       "31386  117618  The Guest House                    \n",
       "37341  34144   Dear Guest, When Will You Leave?   \n",
       "18047  121462  My Mother and Her Guest            \n",
       "\n",
       "                                genres  \\\n",
       "42431  Drama ScienceFiction              \n",
       "23860  Mystery Thriller Action           \n",
       "31709  Comedy Romance                    \n",
       "42041  Mystery Crime Thriller            \n",
       "22164  Family ScienceFiction Adventure   \n",
       "22949  Comedy                            \n",
       "28364  Drama Thriller                    \n",
       "31386  Romance                           \n",
       "37341  Comedy Foreign                    \n",
       "18047  Drama                             \n",
       "\n",
       "                                                                                                                                                                                                                                                                                                                                                                                                                                                                                                                                                                                                                                                                                                                                                                                              tags  \n",
       "42431  sci-fi end of the world drama drama sciencefict elenahard garylind fraserwatson 2016                                                                                                                                                                                                                                                                                                                                                                                                                                                                                                                                                                                                                                                                                                         \n",
       "23860  a soldier introduc himself to the peterson family, claim to be a friend of their son who die in action. after the young man is welcom into their home, a seri of accident death seem to be connect to hi presence. mysteri thriller action dansteven maikamonro sheilakelley adamwingard bar halloween highschool iraqwarveteran murder diner mumblegor 2014                                                                                                                                                                                                                                                                                                                                                                                                                                 \n",
       "31709  christoph price, a small-town bank executive, continu to be loyal to and idol hi boyhood friend, joseph jefferson parker, a famou war correspondent. but chris' wife, mary, is none to fond of joe and tire of her husband' idolizing. on the eve of the price' second-honeymoon trip to new york city, joe arriv and tell chri that he need someon to pose as hi wife in order to fool hi boss in nyc, who think joe got marri to an oversea woman while on an assignment. chri push mari into pose as joe' wife. in new york, thi lead to mani complic and misunderstandings, with mari final decid to teach chri and joe a lesson by make them believ she is in love with joe. comedi romanc claudettecolbert donamech dickforan samwood smalltown trip warcorrespond boyhoodfriend 1945  \n",
       "42041  \"the invis guest” turn on a young businessman who wake up in a hotel room lock from the insid with the dead bodi of hi lover next to him. he hire a prestigi lawyer, and over one night they work togeth to clarifi what happen in a frenet race against time. mysteri crime thriller mariocasa josécoronado bárbaralenni oriolpaulo judg suspect interrog falseaccusationofmurd unreliablenarr confessionofcrim uncovertruth accus 2016                                                                                                                                                                                                                                                                                                                                                     \n",
       "22164  6-grader kolya gerasimov discov a time machin in a basement of an old hous in moscow and get transfer into the 21st century. there he is allow to look around. accidentally, kolya wit two space pirat who arriv from saturn and later tri to steal a devic call a \"mielophone\" (which can read thoughts) from alisa seleznyova - a girl that perform experi with thi devic and animals. kolya manag to save the devic from the pirat and bring it back to the 20th century. but both pirat and alisa get there too. alisa know where kolya studi but doesn't know what he look like. pirat saw kolya, but don't know anyth about him. written by bori shafir famili sciencefict adventur natalyaguseva alekseifomkin vyacheslavnevinnyy pavelarsyonov 1984                                  \n",
       "22949  fifti year old, three year past of unemployment, benefit decreas veri quickly... gerard is at the end of the rope when a posit is offer him in indonesia. to win the favor of hi new employer, gerard invit him to dinner at home. fatal error ! terrifi at the idea of not be up to par, hi wife colett beg alexandre, their neighbor to help. commun guru, alexand accept the challeng and give a makeov to the coupl in twenty-four hours. apartment, decoration, lifestyle, dinner menu, uniforms, culture... everyth ! comedi danielauteuil valérielemerci thierrylhermitt laurentbouhnik 2007                                                                                                                                                                                          \n",
       "28364  evelyn (ann baxter), an emot vulner and unstabl woman, stay at the home of her doctor dan proctor (scott mckay). there she meet and fall in love with hi brother, dougla (ralph bellamy), who is happili marri to ann (ruth warrick). evelyn then set forth to break up the happi marriag and win the love of dougla -- with tragic results. drama thriller annebaxt ralphbellami alinemacmahon johnbrahm suspens 1944                                                                                                                                                                                                                                                                                                                                                                       \n",
       "31386  befor leav for college, a recent dump goth girl' life chang forev when she fall in love with a smart and profession colleg grad who is stay in the family' guest house. romanc ruthreynold madelinemerrit tommccafferti michaelbaumgarten love lesbian losangel girl gothic 2012                                                                                                                                                                                                                                                                                                                                                                                                                                                                                                             \n",
       "37341  atithi tum kab jaoge? is the stori of puneet and munmun, a happili marri coupl live in mumbai whose live take an interest turn when a distant relative, chachaji turn up unannounc at their doorstep from a far off village. the guest overstay hi welcom so much so that the exasper coupl come up with variou ploy to hasten hi departur to hilari results. comedi foreign ajaydevgn sanjaymishra pareshraw ashwanidhir 2010                                                                                                                                                                                                                                                                                                                                                               \n",
       "18047  a singl mother take on a boarder, with intrigu results. drama dokum-bong kimjin-kyu haneun-jin shinsang-ok singlemoth 1961                                                                                                                                                                                                                                                                                                                                                                                                                                                                                                                                                                                                                                                                   "
      ]
     },
     "execution_count": 148,
     "metadata": {},
     "output_type": "execute_result"
    }
   ],
   "source": [
    "search_title(rs_tags(tags))"
   ]
  }
 ],
 "metadata": {
  "kernelspec": {
   "display_name": "Python 3",
   "language": "python",
   "name": "python3"
  },
  "language_info": {
   "codemirror_mode": {
    "name": "ipython",
    "version": 3
   },
   "file_extension": ".py",
   "mimetype": "text/x-python",
   "name": "python",
   "nbconvert_exporter": "python",
   "pygments_lexer": "ipython3",
   "version": "3.11.1"
  },
  "orig_nbformat": 4,
  "vscode": {
   "interpreter": {
    "hash": "f8e0ed4d07a0fca47f4c8a4afdc4329b41378e755792e01da35ca017a4863710"
   }
  }
 },
 "nbformat": 4,
 "nbformat_minor": 2
}

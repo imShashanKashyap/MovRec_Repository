{
 "cells": [
  {
   "attachments": {},
   "cell_type": "markdown",
   "metadata": {},
   "source": [
    "### Installing required modules"
   ]
  },
  {
   "cell_type": "code",
   "execution_count": 1,
   "metadata": {},
   "outputs": [],
   "source": [
    "import pandas as pd\n",
    "import warnings\n",
    "warnings.filterwarnings(\"ignore\")\n",
    "pd.set_option('display.max_colwidth', 0)"
   ]
  },
  {
   "attachments": {},
   "cell_type": "markdown",
   "metadata": {},
   "source": [
    "### Reading csv file"
   ]
  },
  {
   "cell_type": "code",
   "execution_count": 2,
   "metadata": {},
   "outputs": [],
   "source": [
    "# reading csv after downloading the file mentioned in README.md\n",
    "# movies_df=pd.read_csv('MovRec_Dataset/movies_metadata.csv',low_memory=False)\n",
    "\n",
    "# or directly reading csv files from S3 bucket\n",
    "movies_df=pd.read_csv('https://movrec.s3.amazonaws.com/MovRec_Dataset/movies_metadata.csv',low_memory=False)"
   ]
  },
  {
   "cell_type": "code",
   "execution_count": 3,
   "metadata": {},
   "outputs": [
    {
     "data": {
      "text/plain": [
       "(45466, 24)"
      ]
     },
     "execution_count": 3,
     "metadata": {},
     "output_type": "execute_result"
    }
   ],
   "source": [
    "# checking shape means number of rows and columns in the movies_metadata.csv file or movies_df dataframe\n",
    "movies_df.shape"
   ]
  },
  {
   "cell_type": "code",
   "execution_count": 4,
   "metadata": {},
   "outputs": [
    {
     "name": "stdout",
     "output_type": "stream",
     "text": [
      "<class 'pandas.core.frame.DataFrame'>\n",
      "RangeIndex: 45466 entries, 0 to 45465\n",
      "Data columns (total 24 columns):\n",
      " #   Column                 Non-Null Count  Dtype  \n",
      "---  ------                 --------------  -----  \n",
      " 0   adult                  45466 non-null  object \n",
      " 1   belongs_to_collection  4494 non-null   object \n",
      " 2   budget                 45466 non-null  object \n",
      " 3   genres                 45466 non-null  object \n",
      " 4   homepage               7782 non-null   object \n",
      " 5   id                     45466 non-null  object \n",
      " 6   imdb_id                45449 non-null  object \n",
      " 7   original_language      45455 non-null  object \n",
      " 8   original_title         45466 non-null  object \n",
      " 9   overview               44512 non-null  object \n",
      " 10  popularity             45461 non-null  object \n",
      " 11  poster_path            45080 non-null  object \n",
      " 12  production_companies   45463 non-null  object \n",
      " 13  production_countries   45463 non-null  object \n",
      " 14  release_date           45379 non-null  object \n",
      " 15  revenue                45460 non-null  float64\n",
      " 16  runtime                45203 non-null  float64\n",
      " 17  spoken_languages       45460 non-null  object \n",
      " 18  status                 45379 non-null  object \n",
      " 19  tagline                20412 non-null  object \n",
      " 20  title                  45460 non-null  object \n",
      " 21  video                  45460 non-null  object \n",
      " 22  vote_average           45460 non-null  float64\n",
      " 23  vote_count             45460 non-null  float64\n",
      "dtypes: float64(4), object(20)\n",
      "memory usage: 8.3+ MB\n"
     ]
    }
   ],
   "source": [
    "movies_df.info()"
   ]
  },
  {
   "cell_type": "code",
   "execution_count": 5,
   "metadata": {},
   "outputs": [
    {
     "data": {
      "text/html": [
       "<div>\n",
       "<style scoped>\n",
       "    .dataframe tbody tr th:only-of-type {\n",
       "        vertical-align: middle;\n",
       "    }\n",
       "\n",
       "    .dataframe tbody tr th {\n",
       "        vertical-align: top;\n",
       "    }\n",
       "\n",
       "    .dataframe thead th {\n",
       "        text-align: right;\n",
       "    }\n",
       "</style>\n",
       "<table border=\"1\" class=\"dataframe\">\n",
       "  <thead>\n",
       "    <tr style=\"text-align: right;\">\n",
       "      <th></th>\n",
       "      <th>adult</th>\n",
       "      <th>belongs_to_collection</th>\n",
       "      <th>budget</th>\n",
       "      <th>genres</th>\n",
       "      <th>homepage</th>\n",
       "      <th>id</th>\n",
       "      <th>imdb_id</th>\n",
       "      <th>original_language</th>\n",
       "      <th>original_title</th>\n",
       "      <th>overview</th>\n",
       "      <th>...</th>\n",
       "      <th>release_date</th>\n",
       "      <th>revenue</th>\n",
       "      <th>runtime</th>\n",
       "      <th>spoken_languages</th>\n",
       "      <th>status</th>\n",
       "      <th>tagline</th>\n",
       "      <th>title</th>\n",
       "      <th>video</th>\n",
       "      <th>vote_average</th>\n",
       "      <th>vote_count</th>\n",
       "    </tr>\n",
       "  </thead>\n",
       "  <tbody>\n",
       "    <tr>\n",
       "      <th>0</th>\n",
       "      <td>False</td>\n",
       "      <td>{'id': 10194, 'name': 'Toy Story Collection', 'poster_path': '/7G9915LfUQ2lVfwMEEhDsn3kT4B.jpg', 'backdrop_path': '/9FBwqcd9IRruEDUrTdcaafOMKUq.jpg'}</td>\n",
       "      <td>30000000</td>\n",
       "      <td>[{'id': 16, 'name': 'Animation'}, {'id': 35, 'name': 'Comedy'}, {'id': 10751, 'name': 'Family'}]</td>\n",
       "      <td>http://toystory.disney.com/toy-story</td>\n",
       "      <td>862</td>\n",
       "      <td>tt0114709</td>\n",
       "      <td>en</td>\n",
       "      <td>Toy Story</td>\n",
       "      <td>Led by Woody, Andy's toys live happily in his room until Andy's birthday brings Buzz Lightyear onto the scene. Afraid of losing his place in Andy's heart, Woody plots against Buzz. But when circumstances separate Buzz and Woody from their owner, the duo eventually learns to put aside their differences.</td>\n",
       "      <td>...</td>\n",
       "      <td>1995-10-30</td>\n",
       "      <td>373554033.0</td>\n",
       "      <td>81.0</td>\n",
       "      <td>[{'iso_639_1': 'en', 'name': 'English'}]</td>\n",
       "      <td>Released</td>\n",
       "      <td>NaN</td>\n",
       "      <td>Toy Story</td>\n",
       "      <td>False</td>\n",
       "      <td>7.7</td>\n",
       "      <td>5415.0</td>\n",
       "    </tr>\n",
       "  </tbody>\n",
       "</table>\n",
       "<p>1 rows × 24 columns</p>\n",
       "</div>"
      ],
      "text/plain": [
       "   adult  \\\n",
       "0  False   \n",
       "\n",
       "                                                                                                                                   belongs_to_collection  \\\n",
       "0  {'id': 10194, 'name': 'Toy Story Collection', 'poster_path': '/7G9915LfUQ2lVfwMEEhDsn3kT4B.jpg', 'backdrop_path': '/9FBwqcd9IRruEDUrTdcaafOMKUq.jpg'}   \n",
       "\n",
       "     budget  \\\n",
       "0  30000000   \n",
       "\n",
       "                                                                                             genres  \\\n",
       "0  [{'id': 16, 'name': 'Animation'}, {'id': 35, 'name': 'Comedy'}, {'id': 10751, 'name': 'Family'}]   \n",
       "\n",
       "                               homepage   id    imdb_id original_language  \\\n",
       "0  http://toystory.disney.com/toy-story  862  tt0114709  en                 \n",
       "\n",
       "  original_title  \\\n",
       "0  Toy Story       \n",
       "\n",
       "                                                                                                                                                                                                                                                                                                          overview  \\\n",
       "0  Led by Woody, Andy's toys live happily in his room until Andy's birthday brings Buzz Lightyear onto the scene. Afraid of losing his place in Andy's heart, Woody plots against Buzz. But when circumstances separate Buzz and Woody from their owner, the duo eventually learns to put aside their differences.   \n",
       "\n",
       "   ... release_date      revenue runtime  \\\n",
       "0  ...  1995-10-30   373554033.0  81.0     \n",
       "\n",
       "                           spoken_languages    status  tagline      title  \\\n",
       "0  [{'iso_639_1': 'en', 'name': 'English'}]  Released  NaN      Toy Story   \n",
       "\n",
       "   video vote_average vote_count  \n",
       "0  False  7.7          5415.0     \n",
       "\n",
       "[1 rows x 24 columns]"
      ]
     },
     "execution_count": 5,
     "metadata": {},
     "output_type": "execute_result"
    }
   ],
   "source": [
    "movies_df.head(1)"
   ]
  },
  {
   "cell_type": "code",
   "execution_count": 6,
   "metadata": {},
   "outputs": [
    {
     "data": {
      "text/plain": [
       "Int64Index([19730, 29503, 35587], dtype='int64')"
      ]
     },
     "execution_count": 6,
     "metadata": {},
     "output_type": "execute_result"
    }
   ],
   "source": [
    "ind=movies_df[movies_df['id'].isin(['1997-08-20','2012-09-29','2014-01-01'])].index\n",
    "ind\n"
   ]
  },
  {
   "cell_type": "code",
   "execution_count": 7,
   "metadata": {},
   "outputs": [
    {
     "data": {
      "text/plain": [
       "(45466, 24)"
      ]
     },
     "execution_count": 7,
     "metadata": {},
     "output_type": "execute_result"
    }
   ],
   "source": [
    "movies_df.shape"
   ]
  },
  {
   "attachments": {},
   "cell_type": "markdown",
   "metadata": {},
   "source": [
    "dropping the unwnated movie id, as they are actual ids\n"
   ]
  },
  {
   "cell_type": "code",
   "execution_count": 8,
   "metadata": {},
   "outputs": [],
   "source": [
    "movies_df.drop(ind,inplace=True)\n",
    "# movies_df[movies_df['id']=='1997-08-20'].index"
   ]
  },
  {
   "cell_type": "code",
   "execution_count": 9,
   "metadata": {},
   "outputs": [],
   "source": [
    "movies_df=movies_df.astype({'id':'int64'})"
   ]
  },
  {
   "cell_type": "code",
   "execution_count": 10,
   "metadata": {},
   "outputs": [
    {
     "data": {
      "text/plain": [
       "(45463, 24)"
      ]
     },
     "execution_count": 10,
     "metadata": {},
     "output_type": "execute_result"
    }
   ],
   "source": [
    "movies_df.shape"
   ]
  },
  {
   "cell_type": "code",
   "execution_count": 11,
   "metadata": {},
   "outputs": [
    {
     "data": {
      "text/plain": [
       "adult                    0    \n",
       "belongs_to_collection    40972\n",
       "budget                   0    \n",
       "genres                   0    \n",
       "homepage                 37684\n",
       "id                       0    \n",
       "imdb_id                  17   \n",
       "original_language        11   \n",
       "original_title           0    \n",
       "overview                 954  \n",
       "popularity               3    \n",
       "poster_path              386  \n",
       "production_companies     3    \n",
       "production_countries     3    \n",
       "release_date             87   \n",
       "revenue                  3    \n",
       "runtime                  260  \n",
       "spoken_languages         3    \n",
       "status                   84   \n",
       "tagline                  25051\n",
       "title                    3    \n",
       "video                    3    \n",
       "vote_average             3    \n",
       "vote_count               3    \n",
       "dtype: int64"
      ]
     },
     "execution_count": 11,
     "metadata": {},
     "output_type": "execute_result"
    }
   ],
   "source": [
    "movies_df.isnull().sum()"
   ]
  },
  {
   "cell_type": "code",
   "execution_count": 12,
   "metadata": {},
   "outputs": [],
   "source": [
    "# movies_df[movies_df['overview'].isnull()]"
   ]
  },
  {
   "attachments": {},
   "cell_type": "markdown",
   "metadata": {},
   "source": [
    "removing missing overviews and title"
   ]
  },
  {
   "cell_type": "code",
   "execution_count": 13,
   "metadata": {},
   "outputs": [],
   "source": [
    "movies_df.dropna(subset=['overview','title'],inplace=True)"
   ]
  },
  {
   "attachments": {},
   "cell_type": "markdown",
   "metadata": {},
   "source": [
    "verifying if null values dropped successfully"
   ]
  },
  {
   "cell_type": "code",
   "execution_count": 14,
   "metadata": {},
   "outputs": [
    {
     "data": {
      "text/plain": [
       "adult                    0    \n",
       "belongs_to_collection    40075\n",
       "budget                   0    \n",
       "genres                   0    \n",
       "homepage                 36745\n",
       "id                       0    \n",
       "imdb_id                  15   \n",
       "original_language        10   \n",
       "original_title           0    \n",
       "overview                 0    \n",
       "popularity               0    \n",
       "poster_path              343  \n",
       "production_companies     0    \n",
       "production_countries     0    \n",
       "release_date             71   \n",
       "revenue                  0    \n",
       "runtime                  0    \n",
       "spoken_languages         0    \n",
       "status                   65   \n",
       "tagline                  24102\n",
       "title                    0    \n",
       "video                    0    \n",
       "vote_average             0    \n",
       "vote_count               0    \n",
       "dtype: int64"
      ]
     },
     "execution_count": 14,
     "metadata": {},
     "output_type": "execute_result"
    }
   ],
   "source": [
    "movies_df.isnull().sum()"
   ]
  },
  {
   "cell_type": "code",
   "execution_count": 15,
   "metadata": {},
   "outputs": [
    {
     "data": {
      "text/plain": [
       "(44506, 24)"
      ]
     },
     "execution_count": 15,
     "metadata": {},
     "output_type": "execute_result"
    }
   ],
   "source": [
    "movies_df.shape"
   ]
  },
  {
   "attachments": {},
   "cell_type": "markdown",
   "metadata": {},
   "source": [
    "checking duplicate rows"
   ]
  },
  {
   "cell_type": "code",
   "execution_count": 16,
   "metadata": {},
   "outputs": [
    {
     "data": {
      "text/plain": [
       "17"
      ]
     },
     "execution_count": 16,
     "metadata": {},
     "output_type": "execute_result"
    }
   ],
   "source": [
    "movies_df.duplicated().sum()"
   ]
  },
  {
   "cell_type": "code",
   "execution_count": 17,
   "metadata": {},
   "outputs": [
    {
     "data": {
      "text/plain": [
       "203"
      ]
     },
     "execution_count": 17,
     "metadata": {},
     "output_type": "execute_result"
    }
   ],
   "source": [
    "movies_df.duplicated(subset=['overview']).sum()"
   ]
  },
  {
   "attachments": {},
   "cell_type": "markdown",
   "metadata": {},
   "source": [
    "removing duplicate rows"
   ]
  },
  {
   "cell_type": "code",
   "execution_count": 18,
   "metadata": {},
   "outputs": [],
   "source": [
    "movies_df.drop_duplicates(subset=['overview'],inplace=True)"
   ]
  },
  {
   "attachments": {},
   "cell_type": "markdown",
   "metadata": {},
   "source": [
    "verifying if duplicate rows for overview column has been removed"
   ]
  },
  {
   "cell_type": "code",
   "execution_count": 19,
   "metadata": {},
   "outputs": [
    {
     "data": {
      "text/plain": [
       "0"
      ]
     },
     "execution_count": 19,
     "metadata": {},
     "output_type": "execute_result"
    }
   ],
   "source": [
    "movies_df.duplicated(subset=['overview']).sum()"
   ]
  },
  {
   "attachments": {},
   "cell_type": "markdown",
   "metadata": {},
   "source": [
    "checking the revised shape of the dataframe"
   ]
  },
  {
   "cell_type": "code",
   "execution_count": 20,
   "metadata": {},
   "outputs": [
    {
     "data": {
      "text/plain": [
       "(44303, 24)"
      ]
     },
     "execution_count": 20,
     "metadata": {},
     "output_type": "execute_result"
    }
   ],
   "source": [
    "movies_df.shape"
   ]
  },
  {
   "attachments": {},
   "cell_type": "markdown",
   "metadata": {},
   "source": [
    "extracting year from the release_date column "
   ]
  },
  {
   "cell_type": "code",
   "execution_count": 21,
   "metadata": {},
   "outputs": [],
   "source": [
    "def year(date):\n",
    "    L=[]\n",
    "    date=str(date)\n",
    "    L.append(date[:4])\n",
    "    return L"
   ]
  },
  {
   "cell_type": "code",
   "execution_count": 22,
   "metadata": {},
   "outputs": [],
   "source": [
    "movies_df['year']=movies_df['release_date'].apply(year)\n"
   ]
  },
  {
   "cell_type": "code",
   "execution_count": 23,
   "metadata": {},
   "outputs": [],
   "source": [
    "# credits_df=pd.read_csv('MovRec_Dataset/credits.csv',low_memory=False)\n",
    "credits_df=pd.read_csv('https://movrec.s3.amazonaws.com/MovRec_Dataset/credits.csv',low_memory=False)\n"
   ]
  },
  {
   "cell_type": "code",
   "execution_count": 24,
   "metadata": {},
   "outputs": [
    {
     "data": {
      "text/plain": [
       "(45476, 3)"
      ]
     },
     "execution_count": 24,
     "metadata": {},
     "output_type": "execute_result"
    }
   ],
   "source": [
    "credits_df.shape"
   ]
  },
  {
   "cell_type": "code",
   "execution_count": 25,
   "metadata": {},
   "outputs": [
    {
     "data": {
      "text/html": [
       "<div>\n",
       "<style scoped>\n",
       "    .dataframe tbody tr th:only-of-type {\n",
       "        vertical-align: middle;\n",
       "    }\n",
       "\n",
       "    .dataframe tbody tr th {\n",
       "        vertical-align: top;\n",
       "    }\n",
       "\n",
       "    .dataframe thead th {\n",
       "        text-align: right;\n",
       "    }\n",
       "</style>\n",
       "<table border=\"1\" class=\"dataframe\">\n",
       "  <thead>\n",
       "    <tr style=\"text-align: right;\">\n",
       "      <th></th>\n",
       "      <th>cast</th>\n",
       "      <th>crew</th>\n",
       "      <th>id</th>\n",
       "    </tr>\n",
       "  </thead>\n",
       "  <tbody>\n",
       "    <tr>\n",
       "      <th>0</th>\n",
       "      <td>[{'cast_id': 14, 'character': 'Woody (voice)', 'credit_id': '52fe4284c3a36847f8024f95', 'gender': 2, 'id': 31, 'name': 'Tom Hanks', 'order': 0, 'profile_path': '/pQFoyx7rp09CJTAb932F2g8Nlho.jpg'}, {'cast_id': 15, 'character': 'Buzz Lightyear (voice)', 'credit_id': '52fe4284c3a36847f8024f99', 'gender': 2, 'id': 12898, 'name': 'Tim Allen', 'order': 1, 'profile_path': '/uX2xVf6pMmPepxnvFWyBtjexzgY.jpg'}, {'cast_id': 16, 'character': 'Mr. Potato Head (voice)', 'credit_id': '52fe4284c3a36847f8024f9d', 'gender': 2, 'id': 7167, 'name': 'Don Rickles', 'order': 2, 'profile_path': '/h5BcaDMPRVLHLDzbQavec4xfSdt.jpg'}, {'cast_id': 17, 'character': 'Slinky Dog (voice)', 'credit_id': '52fe4284c3a36847f8024fa1', 'gender': 2, 'id': 12899, 'name': 'Jim Varney', 'order': 3, 'profile_path': '/eIo2jVVXYgjDtaHoF19Ll9vtW7h.jpg'}, {'cast_id': 18, 'character': 'Rex (voice)', 'credit_id': '52fe4284c3a36847f8024fa5', 'gender': 2, 'id': 12900, 'name': 'Wallace Shawn', 'order': 4, 'profile_path': '/oGE6JqPP2xH4tNORKNqxbNPYi7u.jpg'}, {'cast_id': 19, 'character': 'Hamm (voice)', 'credit_id': '52fe4284c3a36847f8024fa9', 'gender': 2, 'id': 7907, 'name': 'John Ratzenberger', 'order': 5, 'profile_path': '/yGechiKWL6TJDfVE2KPSJYqdMsY.jpg'}, {'cast_id': 20, 'character': 'Bo Peep (voice)', 'credit_id': '52fe4284c3a36847f8024fad', 'gender': 1, 'id': 8873, 'name': 'Annie Potts', 'order': 6, 'profile_path': '/eryXT84RL41jHSJcMy4kS3u9y6w.jpg'}, {'cast_id': 26, 'character': 'Andy (voice)', 'credit_id': '52fe4284c3a36847f8024fc1', 'gender': 0, 'id': 1116442, 'name': 'John Morris', 'order': 7, 'profile_path': '/vYGyvK4LzeaUCoNSHtsuqJUY15M.jpg'}, {'cast_id': 22, 'character': 'Sid (voice)', 'credit_id': '52fe4284c3a36847f8024fb1', 'gender': 2, 'id': 12901, 'name': 'Erik von Detten', 'order': 8, 'profile_path': '/twnF1ZaJ1FUNUuo6xLXwcxjayBE.jpg'}, {'cast_id': 23, 'character': 'Mrs. Davis (voice)', 'credit_id': '52fe4284c3a36847f8024fb5', 'gender': 1, 'id': 12133, 'name': 'Laurie Metcalf', 'order': 9, 'profile_path': '/unMMIT60eoBM2sN2nyR7EZ2BvvD.jpg'}, {'cast_id': 24, 'character': 'Sergeant (voice)', 'credit_id': '52fe4284c3a36847f8024fb9', 'gender': 2, 'id': 8655, 'name': 'R. Lee Ermey', 'order': 10, 'profile_path': '/r8GBqFBjypLUP9VVqDqfZ7wYbSs.jpg'}, {'cast_id': 25, 'character': 'Hannah (voice)', 'credit_id': '52fe4284c3a36847f8024fbd', 'gender': 1, 'id': 12903, 'name': 'Sarah Freeman', 'order': 11, 'profile_path': None}, {'cast_id': 27, 'character': 'TV Announcer (voice)', 'credit_id': '52fe4284c3a36847f8024fc5', 'gender': 2, 'id': 37221, 'name': 'Penn Jillette', 'order': 12, 'profile_path': '/zmAaXUdx12NRsssgHbk1T31j2x9.jpg'}]</td>\n",
       "      <td>[{'credit_id': '52fe4284c3a36847f8024f49', 'department': 'Directing', 'gender': 2, 'id': 7879, 'job': 'Director', 'name': 'John Lasseter', 'profile_path': '/7EdqiNbr4FRjIhKHyPPdFfEEEFG.jpg'}, {'credit_id': '52fe4284c3a36847f8024f4f', 'department': 'Writing', 'gender': 2, 'id': 12891, 'job': 'Screenplay', 'name': 'Joss Whedon', 'profile_path': '/dTiVsuaTVTeGmvkhcyJvKp2A5kr.jpg'}, {'credit_id': '52fe4284c3a36847f8024f55', 'department': 'Writing', 'gender': 2, 'id': 7, 'job': 'Screenplay', 'name': 'Andrew Stanton', 'profile_path': '/pvQWsu0qc8JFQhMVJkTHuexUAa1.jpg'}, {'credit_id': '52fe4284c3a36847f8024f5b', 'department': 'Writing', 'gender': 2, 'id': 12892, 'job': 'Screenplay', 'name': 'Joel Cohen', 'profile_path': '/dAubAiZcvKFbboWlj7oXOkZnTSu.jpg'}, {'credit_id': '52fe4284c3a36847f8024f61', 'department': 'Writing', 'gender': 0, 'id': 12893, 'job': 'Screenplay', 'name': 'Alec Sokolow', 'profile_path': '/v79vlRYi94BZUQnkkyznbGUZLjT.jpg'}, {'credit_id': '52fe4284c3a36847f8024f67', 'department': 'Production', 'gender': 1, 'id': 12894, 'job': 'Producer', 'name': 'Bonnie Arnold', 'profile_path': None}, {'credit_id': '52fe4284c3a36847f8024f6d', 'department': 'Production', 'gender': 0, 'id': 12895, 'job': 'Executive Producer', 'name': 'Ed Catmull', 'profile_path': None}, {'credit_id': '52fe4284c3a36847f8024f73', 'department': 'Production', 'gender': 2, 'id': 12896, 'job': 'Producer', 'name': 'Ralph Guggenheim', 'profile_path': None}, {'credit_id': '52fe4284c3a36847f8024f79', 'department': 'Production', 'gender': 2, 'id': 12897, 'job': 'Executive Producer', 'name': 'Steve Jobs', 'profile_path': '/mOMP3SwD5qWQSR0ldCIByd3guTV.jpg'}, {'credit_id': '52fe4284c3a36847f8024f8b', 'department': 'Editing', 'gender': 2, 'id': 8, 'job': 'Editor', 'name': 'Lee Unkrich', 'profile_path': '/bdTCCXjgOV3YyaNmLGYGOxFQMOc.jpg'}, {'credit_id': '52fe4284c3a36847f8024f91', 'department': 'Art', 'gender': 2, 'id': 7883, 'job': 'Art Direction', 'name': 'Ralph Eggleston', 'profile_path': '/uUfcGKDsKO1aROMpXRs67Hn6RvR.jpg'}, {'credit_id': '598331bf925141421201044b', 'department': 'Editing', 'gender': 2, 'id': 1168870, 'job': 'Editor', 'name': 'Robert Gordon', 'profile_path': None}, {'credit_id': '5892168cc3a36809660095f9', 'department': 'Sound', 'gender': 0, 'id': 1552883, 'job': 'Foley Editor', 'name': 'Mary Helen Leasman', 'profile_path': None}, {'credit_id': '5531824d9251415289000945', 'department': 'Visual Effects', 'gender': 0, 'id': 1453514, 'job': 'Animation', 'name': 'Kim Blanchette', 'profile_path': None}, {'credit_id': '589215969251412dcb009bf6', 'department': 'Sound', 'gender': 0, 'id': 1414182, 'job': 'ADR Editor', 'name': 'Marilyn McCoppen', 'profile_path': None}, {'credit_id': '589217099251412dc500a018', 'department': 'Sound', 'gender': 2, 'id': 7885, 'job': 'Orchestrator', 'name': 'Randy Newman', 'profile_path': '/w0JzfoiM25nrnxYOzosPHRq6mlE.jpg'}, {'credit_id': '5693e6b29251417b0e0000e3', 'department': 'Editing', 'gender': 0, 'id': 1429549, 'job': 'Color Timer', 'name': 'Dale E. Grahn', 'profile_path': None}, {'credit_id': '572e2522c3a36869e6001a9c', 'department': 'Visual Effects', 'gender': 0, 'id': 7949, 'job': 'CG Painter', 'name': 'Robin Cooper', 'profile_path': None}, {'credit_id': '574f12309251415ca1000012', 'department': 'Writing', 'gender': 2, 'id': 7879, 'job': 'Original Story', 'name': 'John Lasseter', 'profile_path': '/7EdqiNbr4FRjIhKHyPPdFfEEEFG.jpg'}, {'credit_id': '574f1240c3a3682e7300001c', 'department': 'Writing', 'gender': 2, 'id': 12890, 'job': 'Original Story', 'name': 'Pete Docter', 'profile_path': '/r6ngPgnReA3RHmKjmSoVsc6Awjp.jpg'}, {'credit_id': '574f12519251415c92000015', 'department': 'Writing', 'gender': 0, 'id': 7911, 'job': 'Original Story', 'name': 'Joe Ranft', 'profile_path': '/f1BoWC2JbCcfP1e5hKfGsxkHzVU.jpg'}, {'credit_id': '574f12cec3a3682e82000022', 'department': 'Crew', 'gender': 0, 'id': 1629419, 'job': 'Post Production Supervisor', 'name': 'Patsy Bouge', 'profile_path': None}, {'credit_id': '574f14f19251415ca1000082', 'department': 'Art', 'gender': 0, 'id': 7961, 'job': 'Sculptor', 'name': 'Norm DeCarlo', 'profile_path': None}, {'credit_id': '5751ae4bc3a3683772002b7f', 'department': 'Visual Effects', 'gender': 2, 'id': 12905, 'job': 'Animation Director', 'name': 'Ash Brannon', 'profile_path': '/6ueWgPEEBHvS3De2BHYQnYjRTig.jpg'}, {'credit_id': '5891edbe9251412dc5007cd6', 'department': 'Sound', 'gender': 2, 'id': 7885, 'job': 'Music', 'name': 'Randy Newman', 'profile_path': '/w0JzfoiM25nrnxYOzosPHRq6mlE.jpg'}, {'credit_id': '589213d39251412dc8009832', 'department': 'Directing', 'gender': 0, 'id': 1748707, 'job': 'Layout', 'name': 'Roman Figun', 'profile_path': None}, {'credit_id': '5892173dc3a3680968009351', 'department': 'Sound', 'gender': 2, 'id': 4949, 'job': 'Orchestrator', 'name': 'Don Davis', 'profile_path': None}, {'credit_id': '589217cec3a3686b0a0052ba', 'department': 'Sound', 'gender': 0, 'id': 1372885, 'job': 'Music Editor', 'name': 'James Flamberg', 'profile_path': None}, {'credit_id': '58921831c3a3686348004a64', 'department': 'Editing', 'gender': 0, 'id': 1739962, 'job': 'Negative Cutter', 'name': 'Mary Beth Smith', 'profile_path': None}, {'credit_id': '58921838c3a36809700096c0', 'department': 'Editing', 'gender': 0, 'id': 1748513, 'job': 'Negative Cutter', 'name': 'Rick Mackay', 'profile_path': None}, {'credit_id': '589218429251412dd1009d1b', 'department': 'Art', 'gender': 0, 'id': 1458006, 'job': 'Title Designer', 'name': 'Susan Bradley', 'profile_path': None}, {'credit_id': '5891ed99c3a3680966007670', 'department': 'Crew', 'gender': 0, 'id': 1748557, 'job': 'Supervising Technical Director', 'name': 'William Reeves', 'profile_path': None}, {'credit_id': '5891edcec3a3686b0a002eb2', 'department': 'Sound', 'gender': 2, 'id': 7885, 'job': 'Songs', 'name': 'Randy Newman', 'profile_path': '/w0JzfoiM25nrnxYOzosPHRq6mlE.jpg'}, {'credit_id': '5891edf9c3a36809700075e6', 'department': 'Writing', 'gender': 2, 'id': 7, 'job': 'Original Story', 'name': 'Andrew Stanton', 'profile_path': '/pvQWsu0qc8JFQhMVJkTHuexUAa1.jpg'}, {'credit_id': '58920f0b9251412dd7009104', 'department': 'Crew', 'gender': 2, 'id': 12890, 'job': 'Supervising Animator', 'name': 'Pete Docter', 'profile_path': '/r6ngPgnReA3RHmKjmSoVsc6Awjp.jpg'}, {'credit_id': '58920f1fc3a3680977009021', 'department': 'Sound', 'gender': 2, 'id': 2216, 'job': 'Sound Designer', 'name': 'Gary Rydstrom', 'profile_path': '/jZpr1nVfO7lldWI0YtmP1FGw7Rj.jpg'}, {'credit_id': '58920f389251412dd700912d', 'department': 'Production', 'gender': 0, 'id': 12909, 'job': 'Production Supervisor', 'name': 'Karen Robert Jackson', 'profile_path': None}, {'credit_id': '58920fbd9251412dcb00969c', 'department': 'Crew', 'gender': 0, 'id': 953331, 'job': 'Executive Music Producer', 'name': 'Chris Montan', 'profile_path': None}, {'credit_id': '589210069251412dd7009219', 'department': 'Visual Effects', 'gender': 0, 'id': 7893, 'job': 'Animation Director', 'name': 'Rich Quade', 'profile_path': None}, {'credit_id': '589210329251412dcd00943b', 'department': 'Visual Effects', 'gender': 0, 'id': 8025, 'job': 'Animation', 'name': 'Michael Berenstein', 'profile_path': None}, {'credit_id': '5892103bc3a368096a009180', 'department': 'Visual Effects', 'gender': 0, 'id': 78009, 'job': 'Animation', 'name': 'Colin Brady', 'profile_path': None}, {'credit_id': '5892105dc3a3680968008db2', 'department': 'Visual Effects', 'gender': 0, 'id': 1748682, 'job': 'Animation', 'name': 'Davey Crockett Feiten', 'profile_path': None}, {'credit_id': '589210669251412dcd009466', 'department': 'Visual Effects', 'gender': 0, 'id': 1454030, 'job': 'Animation', 'name': 'Angie Glocka', 'profile_path': None}, {'credit_id': '5892107c9251412dd1009613', 'department': 'Visual Effects', 'gender': 0, 'id': 1748683, 'job': 'Animation', 'name': 'Rex Grignon', 'profile_path': None}, {'credit_id': '5892108ac3a3680973008d3f', 'department': 'Visual Effects', 'gender': 0, 'id': 1748684, 'job': 'Animation', 'name': 'Tom K. Gurney', 'profile_path': None}, {'credit_id': '58921093c3a3686348004477', 'department': 'Visual Effects', 'gender': 2, 'id': 8029, 'job': 'Animation', 'name': 'Jimmy Hayward', 'profile_path': '/lTDRpudEY7BDwTefXbXzMlmb0ui.jpg'}, {'credit_id': '5892109b9251412dcd0094b0', 'department': 'Visual Effects', 'gender': 0, 'id': 1426773, 'job': 'Animation', 'name': 'Hal T. Hickel', 'profile_path': None}, {'credit_id': '589210a29251412dc5009a29', 'department': 'Visual Effects', 'gender': 0, 'id': 8035, 'job': 'Animation', 'name': 'Karen Kiser', 'profile_path': None}, {'credit_id': '589210ccc3a3680977009191', 'department': 'Visual Effects', 'gender': 0, 'id': 1748688, 'job': 'Animation', 'name': 'Anthony B. LaMolinara', 'profile_path': None}, {'credit_id': '589210d7c3a3686b0a004c1f', 'department': 'Visual Effects', 'gender': 0, 'id': 587314, 'job': 'Animation', 'name': 'Guionne Leroy', 'profile_path': None}, {'credit_id': '589210e1c3a36809770091a7', 'department': 'Visual Effects', 'gender': 2, 'id': 7918, 'job': 'Animation', 'name': 'Bud Luckey', 'profile_path': '/pcCh7G19FKMNijmPQg1PMH1btic.jpg'}, {'credit_id': '589210ee9251412dc200978a', 'department': 'Visual Effects', 'gender': 0, 'id': 1748689, 'job': 'Animation', 'name': 'Les Major', 'profile_path': None}, {'credit_id': '589210fa9251412dc8009595', 'department': 'Visual Effects', 'gender': 2, 'id': 7892, 'job': 'Animation', 'name': 'Glenn McQueen', 'profile_path': None}, {'credit_id': '589211029251412dc8009598', 'department': 'Visual Effects', 'gender': 0, 'id': 555795, 'job': 'Animation', 'name': 'Mark Oftedal', 'profile_path': None}, {'credit_id': '5892110b9251412dc800959d', 'department': 'Visual Effects', 'gender': 2, 'id': 7882, 'job': 'Animation', 'name': 'Jeff Pidgeon', 'profile_path': '/yLddkg5HcgbJg00cS13GVBnP0HY.jpg'}, {'credit_id': '58921113c3a36863480044e4', 'department': 'Visual Effects', 'gender': 0, 'id': 8017, 'job': 'Animation', 'name': 'Jeff Pratt', 'profile_path': None}, {'credit_id': '5892111c9251412dcb0097e9', 'department': 'Visual Effects', 'gender': 0, 'id': 1184140, 'job': 'Animation', 'name': 'Steve Rabatich', 'profile_path': None}, {'credit_id': '58921123c3a36809700090f6', 'department': 'Visual Effects', 'gender': 0, 'id': 8049, 'job': 'Animation', 'name': 'Roger Rose', 'profile_path': None}, {'credit_id': '5892112b9251412dcb0097fb', 'department': 'Visual Effects', 'gender': 0, 'id': 1509559, 'job': 'Animation', 'name': 'Steve Segal', 'profile_path': None}, {'credit_id': '589211349251412dc80095c3', 'department': 'Visual Effects', 'gender': 0, 'id': 1748691, 'job': 'Animation', 'name': 'Doug Sheppeck', 'profile_path': None}, {'credit_id': '5892113cc3a3680970009106', 'department': 'Visual Effects', 'gender': 0, 'id': 8050, 'job': 'Animation', 'name': 'Alan Sperling', 'profile_path': None}, {'credit_id': '58921148c3a3686b0a004c99', 'department': 'Visual Effects', 'gender': 0, 'id': 8010, 'job': 'Animation', 'name': 'Doug Sweetland', 'profile_path': None}, {'credit_id': '58921150c3a3680966009125', 'department': 'Visual Effects', 'gender': 0, 'id': 8044, 'job': 'Animation', 'name': 'David Tart', 'profile_path': None}, {'credit_id': '589211629251412dc5009b00', 'department': 'Visual Effects', 'gender': 0, 'id': 1454034, 'job': 'Animation', 'name': 'Ken Willard', 'profile_path': None}, {'credit_id': '589211c1c3a3686b0a004d28', 'department': 'Visual Effects', 'gender': 0, 'id': 7887, 'job': 'Visual Effects Supervisor', 'name': 'Thomas Porter', 'profile_path': None}, {'credit_id': '589211d4c3a3680968008ed9', 'department': 'Visual Effects', 'gender': 0, 'id': 1406878, 'job': 'Visual Effects', 'name': 'Mark Thomas Henne', 'profile_path': None}, {'credit_id': '589211f59251412dd4008e65', 'department': 'Visual Effects', 'gender': 0, 'id': 1748698, 'job': 'Visual Effects', 'name': 'Oren Jacob', 'profile_path': None}, {'credit_id': '58921242c3a368096a00939b', 'department': 'Visual Effects', 'gender': 0, 'id': 1748699, 'job': 'Visual Effects', 'name': 'Darwyn Peachey', 'profile_path': None}, {'credit_id': '5892124b9251412dc5009bd2', 'department': 'Visual Effects', 'gender': 0, 'id': 1748701, 'job': 'Visual Effects', 'name': 'Mitch Prater', 'profile_path': None}, {'credit_id': '58921264c3a3686b0a004dbf', 'department': 'Visual Effects', 'gender': 0, 'id': 1748703, 'job': 'Visual Effects', 'name': 'Brian M. Rosen', 'profile_path': None}, {'credit_id': '589212709251412dcd009676', 'department': 'Lighting', 'gender': 1, 'id': 12912, 'job': 'Lighting Supervisor', 'name': 'Sharon Calahan', 'profile_path': None}, {'credit_id': '5892127fc3a3686b0a004de5', 'department': 'Lighting', 'gender': 0, 'id': 7899, 'job': 'Lighting Supervisor', 'name': 'Galyn Susman', 'profile_path': None}, {'credit_id': '589212cdc3a3680970009268', 'department': 'Visual Effects', 'gender': 0, 'id': 12915, 'job': 'CG Painter', 'name': 'William Cone', 'profile_path': None}, {'credit_id': '5892130f9251412dc8009791', 'department': 'Art', 'gender': 0, 'id': 1748705, 'job': 'Sculptor', 'name': 'Shelley Daniels Lekven', 'profile_path': None}, {'credit_id': '5892131c9251412dd4008f4c', 'department': 'Visual Effects', 'gender': 2, 'id': 7889, 'job': 'Character Designer', 'name': 'Bob Pauley', 'profile_path': None}, {'credit_id': '589213249251412dd100987b', 'department': 'Visual Effects', 'gender': 2, 'id': 7918, 'job': 'Character Designer', 'name': 'Bud Luckey', 'profile_path': '/pcCh7G19FKMNijmPQg1PMH1btic.jpg'}, {'credit_id': '5892132b9251412dc80097b1', 'department': 'Visual Effects', 'gender': 2, 'id': 7, 'job': 'Character Designer', 'name': 'Andrew Stanton', 'profile_path': '/pvQWsu0qc8JFQhMVJkTHuexUAa1.jpg'}, {'credit_id': '58921332c3a368634800467b', 'department': 'Visual Effects', 'gender': 0, 'id': 12915, 'job': 'Character Designer', 'name': 'William Cone', 'profile_path': None}, {'credit_id': '5892135f9251412dd4008f90', 'department': 'Visual Effects', 'gender': 0, 'id': 1748706, 'job': 'Character Designer', 'name': 'Steve Johnson', 'profile_path': None}, {'credit_id': '58921384c3a3680973008fd4', 'department': 'Visual Effects', 'gender': 0, 'id': 1176752, 'job': 'Character Designer', 'name': 'Dan Haskett', 'profile_path': None}, {'credit_id': '5892138e9251412dc20099fc', 'department': 'Visual Effects', 'gender': 0, 'id': 1088034, 'job': 'Character Designer', 'name': 'Tom Holloway', 'profile_path': '/a0r0T2usTBpgMI5aZbRBDW1fTl8.jpg'}, {'credit_id': '58921395c3a368097700942f', 'department': 'Visual Effects', 'gender': 0, 'id': 1447465, 'job': 'Character Designer', 'name': 'Jean Gillmore', 'profile_path': None}, {'credit_id': '589213e2c3a3680973009026', 'department': 'Directing', 'gender': 0, 'id': 1748709, 'job': 'Layout', 'name': 'Desirée Mourad', 'profile_path': None}, {'credit_id': '589214099251412dc5009d57', 'department': 'Art', 'gender': 0, 'id': 1748710, 'job': 'Set Dresser', 'name': \"Kelly O'Connell\", 'profile_path': None}, {'credit_id': '58921411c3a3686b0a004f70', 'department': 'Art', 'gender': 0, 'id': 1443471, 'job': 'Set Dresser', 'name': 'Sonoko Konishi', 'profile_path': None}, {'credit_id': '58921434c3a368096a00956e', 'department': 'Art', 'gender': 0, 'id': 1748711, 'job': 'Set Dresser', 'name': 'Ann M. Rockwell', 'profile_path': None}, {'credit_id': '5892144ac3a36809680090de', 'department': 'Editing', 'gender': 0, 'id': 1748712, 'job': 'Editorial Manager', 'name': 'Julie M. McDonald', 'profile_path': None}, {'credit_id': '58921479c3a368096800910f', 'department': 'Editing', 'gender': 0, 'id': 1589729, 'job': 'Assistant Editor', 'name': 'Robin Lee', 'profile_path': None}, {'credit_id': '5892148b9251412dd10099cc', 'department': 'Editing', 'gender': 0, 'id': 1748716, 'job': 'Assistant Editor', 'name': 'Tom Freeman', 'profile_path': None}, {'credit_id': '589214959251412dcb009b1f', 'department': 'Editing', 'gender': 0, 'id': 1748717, 'job': 'Assistant Editor', 'name': 'Ada Cochavi', 'profile_path': None}, {'credit_id': '5892149ec3a3686348004798', 'department': 'Editing', 'gender': 0, 'id': 1336438, 'job': 'Assistant Editor', 'name': 'Dana Mulligan', 'profile_path': None}, {'credit_id': '589214adc3a368096a0095db', 'department': 'Editing', 'gender': 0, 'id': 1748718, 'job': 'Editorial Coordinator', 'name': 'Deirdre Morrison', 'profile_path': None}, {'credit_id': '589214c7c3a368097700952b', 'department': 'Production', 'gender': 0, 'id': 1748719, 'job': 'Production Coordinator', 'name': 'Lori Lombardo', 'profile_path': None}, {'credit_id': '589214cec3a368096a009603', 'department': 'Production', 'gender': 0, 'id': 1748720, 'job': 'Production Coordinator', 'name': 'Ellen Devine', 'profile_path': None}, {'credit_id': '589214e39251412dc8009904', 'department': 'Crew', 'gender': 0, 'id': 1468014, 'job': 'Unit Publicist', 'name': 'Lauren Beth Strogoff', 'profile_path': None}, {'credit_id': '58921544c3a3686b0a00507d', 'department': 'Sound', 'gender': 2, 'id': 2216, 'job': 'Sound Re-Recording Mixer', 'name': 'Gary Rydstrom', 'profile_path': '/jZpr1nVfO7lldWI0YtmP1FGw7Rj.jpg'}, {'credit_id': '5892154c9251412dd1009a56', 'department': 'Sound', 'gender': 0, 'id': 1425978, 'job': 'Sound Re-Recording Mixer', 'name': 'Gary Summers', 'profile_path': None}, {'credit_id': '58921555c3a36809680091bd', 'department': 'Sound', 'gender': 2, 'id': 8276, 'job': 'Supervising Sound Editor', 'name': 'Tim Holland', 'profile_path': None}, {'credit_id': '589215c39251412dcb009c12', 'department': 'Sound', 'gender': 0, 'id': 7069, 'job': 'Sound Effects Editor', 'name': 'Pat Jackson', 'profile_path': None}, {'credit_id': '58921698c3a368096a009788', 'department': 'Crew', 'gender': 2, 'id': 15894, 'job': 'Sound Design Assistant', 'name': 'Tom Myers', 'profile_path': None}, {'credit_id': '589216a89251412dc2009ca4', 'department': 'Sound', 'gender': 0, 'id': 1414177, 'job': 'Assistant Sound Editor', 'name': 'J.R. Grubbs', 'profile_path': None}, {'credit_id': '589216c19251412dc2009cb9', 'department': 'Sound', 'gender': 1, 'id': 1748724, 'job': 'Assistant Sound Editor', 'name': 'Susan Sanford', 'profile_path': None}, {'credit_id': '589216ccc3a3680973009274', 'department': 'Sound', 'gender': 0, 'id': 1748725, 'job': 'Assistant Sound Editor', 'name': 'Susan Popovic', 'profile_path': None}, {'credit_id': '589216d79251412dc8009aa0', 'department': 'Sound', 'gender': 0, 'id': 8067, 'job': 'Assistant Sound Editor', 'name': 'Dan Engstrom', 'profile_path': None}, {'credit_id': '589216e49251412dcd009a4f', 'department': 'Production', 'gender': 1, 'id': 7902, 'job': 'Casting Consultant', 'name': 'Ruth Lambert', 'profile_path': None}, {'credit_id': '589216f39251412dc2009cf3', 'department': 'Production', 'gender': 0, 'id': 84493, 'job': 'ADR Voice Casting', 'name': 'Mickie McGowan', 'profile_path': '/k7TjJBfINsg8vLQxJwos6XObAD6.jpg'}]</td>\n",
       "      <td>862</td>\n",
       "    </tr>\n",
       "  </tbody>\n",
       "</table>\n",
       "</div>"
      ],
      "text/plain": [
       "                                                                                                                                                                                                                                                                                                                                                                                                                                                                                                                                                                                                                                                                                                                                                                                                                                                                                                                                                                                                                                                                                                                                                                                                                                                                                                                                                                                                                                                                                                                                                                                                                                                                                                                                                                                                                                                                                                                                                                                                                                                                                                                                                                                                                                                                                                                                                                                                                                                                                                                                                                                                                                                                                                                                       cast  \\\n",
       "0  [{'cast_id': 14, 'character': 'Woody (voice)', 'credit_id': '52fe4284c3a36847f8024f95', 'gender': 2, 'id': 31, 'name': 'Tom Hanks', 'order': 0, 'profile_path': '/pQFoyx7rp09CJTAb932F2g8Nlho.jpg'}, {'cast_id': 15, 'character': 'Buzz Lightyear (voice)', 'credit_id': '52fe4284c3a36847f8024f99', 'gender': 2, 'id': 12898, 'name': 'Tim Allen', 'order': 1, 'profile_path': '/uX2xVf6pMmPepxnvFWyBtjexzgY.jpg'}, {'cast_id': 16, 'character': 'Mr. Potato Head (voice)', 'credit_id': '52fe4284c3a36847f8024f9d', 'gender': 2, 'id': 7167, 'name': 'Don Rickles', 'order': 2, 'profile_path': '/h5BcaDMPRVLHLDzbQavec4xfSdt.jpg'}, {'cast_id': 17, 'character': 'Slinky Dog (voice)', 'credit_id': '52fe4284c3a36847f8024fa1', 'gender': 2, 'id': 12899, 'name': 'Jim Varney', 'order': 3, 'profile_path': '/eIo2jVVXYgjDtaHoF19Ll9vtW7h.jpg'}, {'cast_id': 18, 'character': 'Rex (voice)', 'credit_id': '52fe4284c3a36847f8024fa5', 'gender': 2, 'id': 12900, 'name': 'Wallace Shawn', 'order': 4, 'profile_path': '/oGE6JqPP2xH4tNORKNqxbNPYi7u.jpg'}, {'cast_id': 19, 'character': 'Hamm (voice)', 'credit_id': '52fe4284c3a36847f8024fa9', 'gender': 2, 'id': 7907, 'name': 'John Ratzenberger', 'order': 5, 'profile_path': '/yGechiKWL6TJDfVE2KPSJYqdMsY.jpg'}, {'cast_id': 20, 'character': 'Bo Peep (voice)', 'credit_id': '52fe4284c3a36847f8024fad', 'gender': 1, 'id': 8873, 'name': 'Annie Potts', 'order': 6, 'profile_path': '/eryXT84RL41jHSJcMy4kS3u9y6w.jpg'}, {'cast_id': 26, 'character': 'Andy (voice)', 'credit_id': '52fe4284c3a36847f8024fc1', 'gender': 0, 'id': 1116442, 'name': 'John Morris', 'order': 7, 'profile_path': '/vYGyvK4LzeaUCoNSHtsuqJUY15M.jpg'}, {'cast_id': 22, 'character': 'Sid (voice)', 'credit_id': '52fe4284c3a36847f8024fb1', 'gender': 2, 'id': 12901, 'name': 'Erik von Detten', 'order': 8, 'profile_path': '/twnF1ZaJ1FUNUuo6xLXwcxjayBE.jpg'}, {'cast_id': 23, 'character': 'Mrs. Davis (voice)', 'credit_id': '52fe4284c3a36847f8024fb5', 'gender': 1, 'id': 12133, 'name': 'Laurie Metcalf', 'order': 9, 'profile_path': '/unMMIT60eoBM2sN2nyR7EZ2BvvD.jpg'}, {'cast_id': 24, 'character': 'Sergeant (voice)', 'credit_id': '52fe4284c3a36847f8024fb9', 'gender': 2, 'id': 8655, 'name': 'R. Lee Ermey', 'order': 10, 'profile_path': '/r8GBqFBjypLUP9VVqDqfZ7wYbSs.jpg'}, {'cast_id': 25, 'character': 'Hannah (voice)', 'credit_id': '52fe4284c3a36847f8024fbd', 'gender': 1, 'id': 12903, 'name': 'Sarah Freeman', 'order': 11, 'profile_path': None}, {'cast_id': 27, 'character': 'TV Announcer (voice)', 'credit_id': '52fe4284c3a36847f8024fc5', 'gender': 2, 'id': 37221, 'name': 'Penn Jillette', 'order': 12, 'profile_path': '/zmAaXUdx12NRsssgHbk1T31j2x9.jpg'}]   \n",
       "\n",
       "                                                                                                                                                                                                                                                                                                                                                                                                                                                                                                                                                                                                                                                                                                                                                                                                                                                                                                                                                                                                                                                                                                                                                                                                                                                                                                                                                                                                                                                                                                                                                                                                                                                                                                                                                                                                                                                                                                                                                                                                                                                                                                                                                                                                                                                                                                                                                                                                                                                                                                                                                                                                                                                                                                                                                                                                                                                                                                                                                                                                                                                                                                                                                                                                                                                                                                                                                                                                                                                                                                                                                                                                                                                                                                                                                                                                                                                                                                                                                                                                                                                                                                                                                                                                                                                                                                                                                                                                                                                                                                                                                                                                                                                                                                                                                                                                                                                                                                                                                                                                                                                                                                                                                                                                                                                                                                                                                                                                                                                                                                                                                                                                                                                                                                                                                                                                                                                                                                                                                                                                                                                                                                                                                                                                                                                                                                                                                                                                                                                                                                                                                                                                                                                                                                                                                                                                                                                                                                                                                                                                                                                                                                                                                                                                                                                                                                                                                                                                                                                                                                                                                                                                                                                                                                                                                                                                                                                                                                                                                                                                                                                                                                                                                                                                                                                                                                                                                                                                                                                                                                                                                                                                                                                                                                                                                                                                                                                                                                                                                                                                                                                                                                                                                                                                                                                                                                                                                                                                                                                                                                                                                                                                                                                                                                                                                                                                                                                                                                                                                                                                                                                                                                                                                                                                                                                                                                                                                                                                                                                                                                                                                                                                                                                                                                                                                                                                                                                                                                                                                                                                                                                                                                                                                                                                                                                                                                                                                                                                                                                                                                                                                                                                                                                                                                                                                                                                                                                                                                                                                                                                                                                                                                                                                                                                                                                                                                                                                                                                                                                                                                                                                                                                                                                                                                                                                                                                                                                                                                                                                                                                                                                                                                                                                                                                                                                                                                                                                                                                                                                                                                                                                                                                                                                                                                                                                                                                                                                                                                                                                                                                                                                                                                                                                                                                                                                                                                                                                                                                                                                                                                                                                                                                                                                                                                                                                                                                                                                                                                                                                                                                                                                                                                                                                                                                                                                                                                                                                                                                                                                                                                                                                                                                                                                                                                                                                                                                                                                                                                                                                                                                                                                                                                                                                                                                                                                                                                                                                                                                                                                                                                                                                                                                                                                                                                                                                                                                                                                                                                                                                                                                                                                                                                                                                                                                                                                                                                                                                                                                                                                                                                                                                                                                                                                                                                                                                                                                                                                                                                                                                                                                                                                                                                                                                                                                                                                                                                                                                                                                                                                                                                                                                                                                                                                                                                                                                                                                                                                                                                                                                                                                                                                                                                                                                                                                                                                                                                                                                                                                                             crew  \\\n",
       "0  [{'credit_id': '52fe4284c3a36847f8024f49', 'department': 'Directing', 'gender': 2, 'id': 7879, 'job': 'Director', 'name': 'John Lasseter', 'profile_path': '/7EdqiNbr4FRjIhKHyPPdFfEEEFG.jpg'}, {'credit_id': '52fe4284c3a36847f8024f4f', 'department': 'Writing', 'gender': 2, 'id': 12891, 'job': 'Screenplay', 'name': 'Joss Whedon', 'profile_path': '/dTiVsuaTVTeGmvkhcyJvKp2A5kr.jpg'}, {'credit_id': '52fe4284c3a36847f8024f55', 'department': 'Writing', 'gender': 2, 'id': 7, 'job': 'Screenplay', 'name': 'Andrew Stanton', 'profile_path': '/pvQWsu0qc8JFQhMVJkTHuexUAa1.jpg'}, {'credit_id': '52fe4284c3a36847f8024f5b', 'department': 'Writing', 'gender': 2, 'id': 12892, 'job': 'Screenplay', 'name': 'Joel Cohen', 'profile_path': '/dAubAiZcvKFbboWlj7oXOkZnTSu.jpg'}, {'credit_id': '52fe4284c3a36847f8024f61', 'department': 'Writing', 'gender': 0, 'id': 12893, 'job': 'Screenplay', 'name': 'Alec Sokolow', 'profile_path': '/v79vlRYi94BZUQnkkyznbGUZLjT.jpg'}, {'credit_id': '52fe4284c3a36847f8024f67', 'department': 'Production', 'gender': 1, 'id': 12894, 'job': 'Producer', 'name': 'Bonnie Arnold', 'profile_path': None}, {'credit_id': '52fe4284c3a36847f8024f6d', 'department': 'Production', 'gender': 0, 'id': 12895, 'job': 'Executive Producer', 'name': 'Ed Catmull', 'profile_path': None}, {'credit_id': '52fe4284c3a36847f8024f73', 'department': 'Production', 'gender': 2, 'id': 12896, 'job': 'Producer', 'name': 'Ralph Guggenheim', 'profile_path': None}, {'credit_id': '52fe4284c3a36847f8024f79', 'department': 'Production', 'gender': 2, 'id': 12897, 'job': 'Executive Producer', 'name': 'Steve Jobs', 'profile_path': '/mOMP3SwD5qWQSR0ldCIByd3guTV.jpg'}, {'credit_id': '52fe4284c3a36847f8024f8b', 'department': 'Editing', 'gender': 2, 'id': 8, 'job': 'Editor', 'name': 'Lee Unkrich', 'profile_path': '/bdTCCXjgOV3YyaNmLGYGOxFQMOc.jpg'}, {'credit_id': '52fe4284c3a36847f8024f91', 'department': 'Art', 'gender': 2, 'id': 7883, 'job': 'Art Direction', 'name': 'Ralph Eggleston', 'profile_path': '/uUfcGKDsKO1aROMpXRs67Hn6RvR.jpg'}, {'credit_id': '598331bf925141421201044b', 'department': 'Editing', 'gender': 2, 'id': 1168870, 'job': 'Editor', 'name': 'Robert Gordon', 'profile_path': None}, {'credit_id': '5892168cc3a36809660095f9', 'department': 'Sound', 'gender': 0, 'id': 1552883, 'job': 'Foley Editor', 'name': 'Mary Helen Leasman', 'profile_path': None}, {'credit_id': '5531824d9251415289000945', 'department': 'Visual Effects', 'gender': 0, 'id': 1453514, 'job': 'Animation', 'name': 'Kim Blanchette', 'profile_path': None}, {'credit_id': '589215969251412dcb009bf6', 'department': 'Sound', 'gender': 0, 'id': 1414182, 'job': 'ADR Editor', 'name': 'Marilyn McCoppen', 'profile_path': None}, {'credit_id': '589217099251412dc500a018', 'department': 'Sound', 'gender': 2, 'id': 7885, 'job': 'Orchestrator', 'name': 'Randy Newman', 'profile_path': '/w0JzfoiM25nrnxYOzosPHRq6mlE.jpg'}, {'credit_id': '5693e6b29251417b0e0000e3', 'department': 'Editing', 'gender': 0, 'id': 1429549, 'job': 'Color Timer', 'name': 'Dale E. Grahn', 'profile_path': None}, {'credit_id': '572e2522c3a36869e6001a9c', 'department': 'Visual Effects', 'gender': 0, 'id': 7949, 'job': 'CG Painter', 'name': 'Robin Cooper', 'profile_path': None}, {'credit_id': '574f12309251415ca1000012', 'department': 'Writing', 'gender': 2, 'id': 7879, 'job': 'Original Story', 'name': 'John Lasseter', 'profile_path': '/7EdqiNbr4FRjIhKHyPPdFfEEEFG.jpg'}, {'credit_id': '574f1240c3a3682e7300001c', 'department': 'Writing', 'gender': 2, 'id': 12890, 'job': 'Original Story', 'name': 'Pete Docter', 'profile_path': '/r6ngPgnReA3RHmKjmSoVsc6Awjp.jpg'}, {'credit_id': '574f12519251415c92000015', 'department': 'Writing', 'gender': 0, 'id': 7911, 'job': 'Original Story', 'name': 'Joe Ranft', 'profile_path': '/f1BoWC2JbCcfP1e5hKfGsxkHzVU.jpg'}, {'credit_id': '574f12cec3a3682e82000022', 'department': 'Crew', 'gender': 0, 'id': 1629419, 'job': 'Post Production Supervisor', 'name': 'Patsy Bouge', 'profile_path': None}, {'credit_id': '574f14f19251415ca1000082', 'department': 'Art', 'gender': 0, 'id': 7961, 'job': 'Sculptor', 'name': 'Norm DeCarlo', 'profile_path': None}, {'credit_id': '5751ae4bc3a3683772002b7f', 'department': 'Visual Effects', 'gender': 2, 'id': 12905, 'job': 'Animation Director', 'name': 'Ash Brannon', 'profile_path': '/6ueWgPEEBHvS3De2BHYQnYjRTig.jpg'}, {'credit_id': '5891edbe9251412dc5007cd6', 'department': 'Sound', 'gender': 2, 'id': 7885, 'job': 'Music', 'name': 'Randy Newman', 'profile_path': '/w0JzfoiM25nrnxYOzosPHRq6mlE.jpg'}, {'credit_id': '589213d39251412dc8009832', 'department': 'Directing', 'gender': 0, 'id': 1748707, 'job': 'Layout', 'name': 'Roman Figun', 'profile_path': None}, {'credit_id': '5892173dc3a3680968009351', 'department': 'Sound', 'gender': 2, 'id': 4949, 'job': 'Orchestrator', 'name': 'Don Davis', 'profile_path': None}, {'credit_id': '589217cec3a3686b0a0052ba', 'department': 'Sound', 'gender': 0, 'id': 1372885, 'job': 'Music Editor', 'name': 'James Flamberg', 'profile_path': None}, {'credit_id': '58921831c3a3686348004a64', 'department': 'Editing', 'gender': 0, 'id': 1739962, 'job': 'Negative Cutter', 'name': 'Mary Beth Smith', 'profile_path': None}, {'credit_id': '58921838c3a36809700096c0', 'department': 'Editing', 'gender': 0, 'id': 1748513, 'job': 'Negative Cutter', 'name': 'Rick Mackay', 'profile_path': None}, {'credit_id': '589218429251412dd1009d1b', 'department': 'Art', 'gender': 0, 'id': 1458006, 'job': 'Title Designer', 'name': 'Susan Bradley', 'profile_path': None}, {'credit_id': '5891ed99c3a3680966007670', 'department': 'Crew', 'gender': 0, 'id': 1748557, 'job': 'Supervising Technical Director', 'name': 'William Reeves', 'profile_path': None}, {'credit_id': '5891edcec3a3686b0a002eb2', 'department': 'Sound', 'gender': 2, 'id': 7885, 'job': 'Songs', 'name': 'Randy Newman', 'profile_path': '/w0JzfoiM25nrnxYOzosPHRq6mlE.jpg'}, {'credit_id': '5891edf9c3a36809700075e6', 'department': 'Writing', 'gender': 2, 'id': 7, 'job': 'Original Story', 'name': 'Andrew Stanton', 'profile_path': '/pvQWsu0qc8JFQhMVJkTHuexUAa1.jpg'}, {'credit_id': '58920f0b9251412dd7009104', 'department': 'Crew', 'gender': 2, 'id': 12890, 'job': 'Supervising Animator', 'name': 'Pete Docter', 'profile_path': '/r6ngPgnReA3RHmKjmSoVsc6Awjp.jpg'}, {'credit_id': '58920f1fc3a3680977009021', 'department': 'Sound', 'gender': 2, 'id': 2216, 'job': 'Sound Designer', 'name': 'Gary Rydstrom', 'profile_path': '/jZpr1nVfO7lldWI0YtmP1FGw7Rj.jpg'}, {'credit_id': '58920f389251412dd700912d', 'department': 'Production', 'gender': 0, 'id': 12909, 'job': 'Production Supervisor', 'name': 'Karen Robert Jackson', 'profile_path': None}, {'credit_id': '58920fbd9251412dcb00969c', 'department': 'Crew', 'gender': 0, 'id': 953331, 'job': 'Executive Music Producer', 'name': 'Chris Montan', 'profile_path': None}, {'credit_id': '589210069251412dd7009219', 'department': 'Visual Effects', 'gender': 0, 'id': 7893, 'job': 'Animation Director', 'name': 'Rich Quade', 'profile_path': None}, {'credit_id': '589210329251412dcd00943b', 'department': 'Visual Effects', 'gender': 0, 'id': 8025, 'job': 'Animation', 'name': 'Michael Berenstein', 'profile_path': None}, {'credit_id': '5892103bc3a368096a009180', 'department': 'Visual Effects', 'gender': 0, 'id': 78009, 'job': 'Animation', 'name': 'Colin Brady', 'profile_path': None}, {'credit_id': '5892105dc3a3680968008db2', 'department': 'Visual Effects', 'gender': 0, 'id': 1748682, 'job': 'Animation', 'name': 'Davey Crockett Feiten', 'profile_path': None}, {'credit_id': '589210669251412dcd009466', 'department': 'Visual Effects', 'gender': 0, 'id': 1454030, 'job': 'Animation', 'name': 'Angie Glocka', 'profile_path': None}, {'credit_id': '5892107c9251412dd1009613', 'department': 'Visual Effects', 'gender': 0, 'id': 1748683, 'job': 'Animation', 'name': 'Rex Grignon', 'profile_path': None}, {'credit_id': '5892108ac3a3680973008d3f', 'department': 'Visual Effects', 'gender': 0, 'id': 1748684, 'job': 'Animation', 'name': 'Tom K. Gurney', 'profile_path': None}, {'credit_id': '58921093c3a3686348004477', 'department': 'Visual Effects', 'gender': 2, 'id': 8029, 'job': 'Animation', 'name': 'Jimmy Hayward', 'profile_path': '/lTDRpudEY7BDwTefXbXzMlmb0ui.jpg'}, {'credit_id': '5892109b9251412dcd0094b0', 'department': 'Visual Effects', 'gender': 0, 'id': 1426773, 'job': 'Animation', 'name': 'Hal T. Hickel', 'profile_path': None}, {'credit_id': '589210a29251412dc5009a29', 'department': 'Visual Effects', 'gender': 0, 'id': 8035, 'job': 'Animation', 'name': 'Karen Kiser', 'profile_path': None}, {'credit_id': '589210ccc3a3680977009191', 'department': 'Visual Effects', 'gender': 0, 'id': 1748688, 'job': 'Animation', 'name': 'Anthony B. LaMolinara', 'profile_path': None}, {'credit_id': '589210d7c3a3686b0a004c1f', 'department': 'Visual Effects', 'gender': 0, 'id': 587314, 'job': 'Animation', 'name': 'Guionne Leroy', 'profile_path': None}, {'credit_id': '589210e1c3a36809770091a7', 'department': 'Visual Effects', 'gender': 2, 'id': 7918, 'job': 'Animation', 'name': 'Bud Luckey', 'profile_path': '/pcCh7G19FKMNijmPQg1PMH1btic.jpg'}, {'credit_id': '589210ee9251412dc200978a', 'department': 'Visual Effects', 'gender': 0, 'id': 1748689, 'job': 'Animation', 'name': 'Les Major', 'profile_path': None}, {'credit_id': '589210fa9251412dc8009595', 'department': 'Visual Effects', 'gender': 2, 'id': 7892, 'job': 'Animation', 'name': 'Glenn McQueen', 'profile_path': None}, {'credit_id': '589211029251412dc8009598', 'department': 'Visual Effects', 'gender': 0, 'id': 555795, 'job': 'Animation', 'name': 'Mark Oftedal', 'profile_path': None}, {'credit_id': '5892110b9251412dc800959d', 'department': 'Visual Effects', 'gender': 2, 'id': 7882, 'job': 'Animation', 'name': 'Jeff Pidgeon', 'profile_path': '/yLddkg5HcgbJg00cS13GVBnP0HY.jpg'}, {'credit_id': '58921113c3a36863480044e4', 'department': 'Visual Effects', 'gender': 0, 'id': 8017, 'job': 'Animation', 'name': 'Jeff Pratt', 'profile_path': None}, {'credit_id': '5892111c9251412dcb0097e9', 'department': 'Visual Effects', 'gender': 0, 'id': 1184140, 'job': 'Animation', 'name': 'Steve Rabatich', 'profile_path': None}, {'credit_id': '58921123c3a36809700090f6', 'department': 'Visual Effects', 'gender': 0, 'id': 8049, 'job': 'Animation', 'name': 'Roger Rose', 'profile_path': None}, {'credit_id': '5892112b9251412dcb0097fb', 'department': 'Visual Effects', 'gender': 0, 'id': 1509559, 'job': 'Animation', 'name': 'Steve Segal', 'profile_path': None}, {'credit_id': '589211349251412dc80095c3', 'department': 'Visual Effects', 'gender': 0, 'id': 1748691, 'job': 'Animation', 'name': 'Doug Sheppeck', 'profile_path': None}, {'credit_id': '5892113cc3a3680970009106', 'department': 'Visual Effects', 'gender': 0, 'id': 8050, 'job': 'Animation', 'name': 'Alan Sperling', 'profile_path': None}, {'credit_id': '58921148c3a3686b0a004c99', 'department': 'Visual Effects', 'gender': 0, 'id': 8010, 'job': 'Animation', 'name': 'Doug Sweetland', 'profile_path': None}, {'credit_id': '58921150c3a3680966009125', 'department': 'Visual Effects', 'gender': 0, 'id': 8044, 'job': 'Animation', 'name': 'David Tart', 'profile_path': None}, {'credit_id': '589211629251412dc5009b00', 'department': 'Visual Effects', 'gender': 0, 'id': 1454034, 'job': 'Animation', 'name': 'Ken Willard', 'profile_path': None}, {'credit_id': '589211c1c3a3686b0a004d28', 'department': 'Visual Effects', 'gender': 0, 'id': 7887, 'job': 'Visual Effects Supervisor', 'name': 'Thomas Porter', 'profile_path': None}, {'credit_id': '589211d4c3a3680968008ed9', 'department': 'Visual Effects', 'gender': 0, 'id': 1406878, 'job': 'Visual Effects', 'name': 'Mark Thomas Henne', 'profile_path': None}, {'credit_id': '589211f59251412dd4008e65', 'department': 'Visual Effects', 'gender': 0, 'id': 1748698, 'job': 'Visual Effects', 'name': 'Oren Jacob', 'profile_path': None}, {'credit_id': '58921242c3a368096a00939b', 'department': 'Visual Effects', 'gender': 0, 'id': 1748699, 'job': 'Visual Effects', 'name': 'Darwyn Peachey', 'profile_path': None}, {'credit_id': '5892124b9251412dc5009bd2', 'department': 'Visual Effects', 'gender': 0, 'id': 1748701, 'job': 'Visual Effects', 'name': 'Mitch Prater', 'profile_path': None}, {'credit_id': '58921264c3a3686b0a004dbf', 'department': 'Visual Effects', 'gender': 0, 'id': 1748703, 'job': 'Visual Effects', 'name': 'Brian M. Rosen', 'profile_path': None}, {'credit_id': '589212709251412dcd009676', 'department': 'Lighting', 'gender': 1, 'id': 12912, 'job': 'Lighting Supervisor', 'name': 'Sharon Calahan', 'profile_path': None}, {'credit_id': '5892127fc3a3686b0a004de5', 'department': 'Lighting', 'gender': 0, 'id': 7899, 'job': 'Lighting Supervisor', 'name': 'Galyn Susman', 'profile_path': None}, {'credit_id': '589212cdc3a3680970009268', 'department': 'Visual Effects', 'gender': 0, 'id': 12915, 'job': 'CG Painter', 'name': 'William Cone', 'profile_path': None}, {'credit_id': '5892130f9251412dc8009791', 'department': 'Art', 'gender': 0, 'id': 1748705, 'job': 'Sculptor', 'name': 'Shelley Daniels Lekven', 'profile_path': None}, {'credit_id': '5892131c9251412dd4008f4c', 'department': 'Visual Effects', 'gender': 2, 'id': 7889, 'job': 'Character Designer', 'name': 'Bob Pauley', 'profile_path': None}, {'credit_id': '589213249251412dd100987b', 'department': 'Visual Effects', 'gender': 2, 'id': 7918, 'job': 'Character Designer', 'name': 'Bud Luckey', 'profile_path': '/pcCh7G19FKMNijmPQg1PMH1btic.jpg'}, {'credit_id': '5892132b9251412dc80097b1', 'department': 'Visual Effects', 'gender': 2, 'id': 7, 'job': 'Character Designer', 'name': 'Andrew Stanton', 'profile_path': '/pvQWsu0qc8JFQhMVJkTHuexUAa1.jpg'}, {'credit_id': '58921332c3a368634800467b', 'department': 'Visual Effects', 'gender': 0, 'id': 12915, 'job': 'Character Designer', 'name': 'William Cone', 'profile_path': None}, {'credit_id': '5892135f9251412dd4008f90', 'department': 'Visual Effects', 'gender': 0, 'id': 1748706, 'job': 'Character Designer', 'name': 'Steve Johnson', 'profile_path': None}, {'credit_id': '58921384c3a3680973008fd4', 'department': 'Visual Effects', 'gender': 0, 'id': 1176752, 'job': 'Character Designer', 'name': 'Dan Haskett', 'profile_path': None}, {'credit_id': '5892138e9251412dc20099fc', 'department': 'Visual Effects', 'gender': 0, 'id': 1088034, 'job': 'Character Designer', 'name': 'Tom Holloway', 'profile_path': '/a0r0T2usTBpgMI5aZbRBDW1fTl8.jpg'}, {'credit_id': '58921395c3a368097700942f', 'department': 'Visual Effects', 'gender': 0, 'id': 1447465, 'job': 'Character Designer', 'name': 'Jean Gillmore', 'profile_path': None}, {'credit_id': '589213e2c3a3680973009026', 'department': 'Directing', 'gender': 0, 'id': 1748709, 'job': 'Layout', 'name': 'Desirée Mourad', 'profile_path': None}, {'credit_id': '589214099251412dc5009d57', 'department': 'Art', 'gender': 0, 'id': 1748710, 'job': 'Set Dresser', 'name': \"Kelly O'Connell\", 'profile_path': None}, {'credit_id': '58921411c3a3686b0a004f70', 'department': 'Art', 'gender': 0, 'id': 1443471, 'job': 'Set Dresser', 'name': 'Sonoko Konishi', 'profile_path': None}, {'credit_id': '58921434c3a368096a00956e', 'department': 'Art', 'gender': 0, 'id': 1748711, 'job': 'Set Dresser', 'name': 'Ann M. Rockwell', 'profile_path': None}, {'credit_id': '5892144ac3a36809680090de', 'department': 'Editing', 'gender': 0, 'id': 1748712, 'job': 'Editorial Manager', 'name': 'Julie M. McDonald', 'profile_path': None}, {'credit_id': '58921479c3a368096800910f', 'department': 'Editing', 'gender': 0, 'id': 1589729, 'job': 'Assistant Editor', 'name': 'Robin Lee', 'profile_path': None}, {'credit_id': '5892148b9251412dd10099cc', 'department': 'Editing', 'gender': 0, 'id': 1748716, 'job': 'Assistant Editor', 'name': 'Tom Freeman', 'profile_path': None}, {'credit_id': '589214959251412dcb009b1f', 'department': 'Editing', 'gender': 0, 'id': 1748717, 'job': 'Assistant Editor', 'name': 'Ada Cochavi', 'profile_path': None}, {'credit_id': '5892149ec3a3686348004798', 'department': 'Editing', 'gender': 0, 'id': 1336438, 'job': 'Assistant Editor', 'name': 'Dana Mulligan', 'profile_path': None}, {'credit_id': '589214adc3a368096a0095db', 'department': 'Editing', 'gender': 0, 'id': 1748718, 'job': 'Editorial Coordinator', 'name': 'Deirdre Morrison', 'profile_path': None}, {'credit_id': '589214c7c3a368097700952b', 'department': 'Production', 'gender': 0, 'id': 1748719, 'job': 'Production Coordinator', 'name': 'Lori Lombardo', 'profile_path': None}, {'credit_id': '589214cec3a368096a009603', 'department': 'Production', 'gender': 0, 'id': 1748720, 'job': 'Production Coordinator', 'name': 'Ellen Devine', 'profile_path': None}, {'credit_id': '589214e39251412dc8009904', 'department': 'Crew', 'gender': 0, 'id': 1468014, 'job': 'Unit Publicist', 'name': 'Lauren Beth Strogoff', 'profile_path': None}, {'credit_id': '58921544c3a3686b0a00507d', 'department': 'Sound', 'gender': 2, 'id': 2216, 'job': 'Sound Re-Recording Mixer', 'name': 'Gary Rydstrom', 'profile_path': '/jZpr1nVfO7lldWI0YtmP1FGw7Rj.jpg'}, {'credit_id': '5892154c9251412dd1009a56', 'department': 'Sound', 'gender': 0, 'id': 1425978, 'job': 'Sound Re-Recording Mixer', 'name': 'Gary Summers', 'profile_path': None}, {'credit_id': '58921555c3a36809680091bd', 'department': 'Sound', 'gender': 2, 'id': 8276, 'job': 'Supervising Sound Editor', 'name': 'Tim Holland', 'profile_path': None}, {'credit_id': '589215c39251412dcb009c12', 'department': 'Sound', 'gender': 0, 'id': 7069, 'job': 'Sound Effects Editor', 'name': 'Pat Jackson', 'profile_path': None}, {'credit_id': '58921698c3a368096a009788', 'department': 'Crew', 'gender': 2, 'id': 15894, 'job': 'Sound Design Assistant', 'name': 'Tom Myers', 'profile_path': None}, {'credit_id': '589216a89251412dc2009ca4', 'department': 'Sound', 'gender': 0, 'id': 1414177, 'job': 'Assistant Sound Editor', 'name': 'J.R. Grubbs', 'profile_path': None}, {'credit_id': '589216c19251412dc2009cb9', 'department': 'Sound', 'gender': 1, 'id': 1748724, 'job': 'Assistant Sound Editor', 'name': 'Susan Sanford', 'profile_path': None}, {'credit_id': '589216ccc3a3680973009274', 'department': 'Sound', 'gender': 0, 'id': 1748725, 'job': 'Assistant Sound Editor', 'name': 'Susan Popovic', 'profile_path': None}, {'credit_id': '589216d79251412dc8009aa0', 'department': 'Sound', 'gender': 0, 'id': 8067, 'job': 'Assistant Sound Editor', 'name': 'Dan Engstrom', 'profile_path': None}, {'credit_id': '589216e49251412dcd009a4f', 'department': 'Production', 'gender': 1, 'id': 7902, 'job': 'Casting Consultant', 'name': 'Ruth Lambert', 'profile_path': None}, {'credit_id': '589216f39251412dc2009cf3', 'department': 'Production', 'gender': 0, 'id': 84493, 'job': 'ADR Voice Casting', 'name': 'Mickie McGowan', 'profile_path': '/k7TjJBfINsg8vLQxJwos6XObAD6.jpg'}]   \n",
       "\n",
       "    id  \n",
       "0  862  "
      ]
     },
     "execution_count": 25,
     "metadata": {},
     "output_type": "execute_result"
    }
   ],
   "source": [
    "credits_df.head(1)"
   ]
  },
  {
   "cell_type": "code",
   "execution_count": 26,
   "metadata": {},
   "outputs": [],
   "source": [
    "# keywords_df=pd.read_csv('MovRec_Dataset/keywords.csv',low_memory=False)\n",
    "keywords_df=pd.read_csv('https://movrec.s3.amazonaws.com/MovRec_Dataset/keywords.csv',low_memory=False)\n"
   ]
  },
  {
   "cell_type": "code",
   "execution_count": 27,
   "metadata": {},
   "outputs": [
    {
     "data": {
      "text/plain": [
       "(46419, 2)"
      ]
     },
     "execution_count": 27,
     "metadata": {},
     "output_type": "execute_result"
    }
   ],
   "source": [
    "keywords_df.shape"
   ]
  },
  {
   "cell_type": "code",
   "execution_count": 28,
   "metadata": {},
   "outputs": [
    {
     "data": {
      "text/html": [
       "<div>\n",
       "<style scoped>\n",
       "    .dataframe tbody tr th:only-of-type {\n",
       "        vertical-align: middle;\n",
       "    }\n",
       "\n",
       "    .dataframe tbody tr th {\n",
       "        vertical-align: top;\n",
       "    }\n",
       "\n",
       "    .dataframe thead th {\n",
       "        text-align: right;\n",
       "    }\n",
       "</style>\n",
       "<table border=\"1\" class=\"dataframe\">\n",
       "  <thead>\n",
       "    <tr style=\"text-align: right;\">\n",
       "      <th></th>\n",
       "      <th>id</th>\n",
       "      <th>keywords</th>\n",
       "    </tr>\n",
       "  </thead>\n",
       "  <tbody>\n",
       "    <tr>\n",
       "      <th>0</th>\n",
       "      <td>862</td>\n",
       "      <td>[{'id': 931, 'name': 'jealousy'}, {'id': 4290, 'name': 'toy'}, {'id': 5202, 'name': 'boy'}, {'id': 6054, 'name': 'friendship'}, {'id': 9713, 'name': 'friends'}, {'id': 9823, 'name': 'rivalry'}, {'id': 165503, 'name': 'boy next door'}, {'id': 170722, 'name': 'new toy'}, {'id': 187065, 'name': 'toy comes to life'}]</td>\n",
       "    </tr>\n",
       "    <tr>\n",
       "      <th>1</th>\n",
       "      <td>8844</td>\n",
       "      <td>[{'id': 10090, 'name': 'board game'}, {'id': 10941, 'name': 'disappearance'}, {'id': 15101, 'name': \"based on children's book\"}, {'id': 33467, 'name': 'new home'}, {'id': 158086, 'name': 'recluse'}, {'id': 158091, 'name': 'giant insect'}]</td>\n",
       "    </tr>\n",
       "    <tr>\n",
       "      <th>2</th>\n",
       "      <td>15602</td>\n",
       "      <td>[{'id': 1495, 'name': 'fishing'}, {'id': 12392, 'name': 'best friend'}, {'id': 179431, 'name': 'duringcreditsstinger'}, {'id': 208510, 'name': 'old men'}]</td>\n",
       "    </tr>\n",
       "    <tr>\n",
       "      <th>3</th>\n",
       "      <td>31357</td>\n",
       "      <td>[{'id': 818, 'name': 'based on novel'}, {'id': 10131, 'name': 'interracial relationship'}, {'id': 14768, 'name': 'single mother'}, {'id': 15160, 'name': 'divorce'}, {'id': 33455, 'name': 'chick flick'}]</td>\n",
       "    </tr>\n",
       "    <tr>\n",
       "      <th>4</th>\n",
       "      <td>11862</td>\n",
       "      <td>[{'id': 1009, 'name': 'baby'}, {'id': 1599, 'name': 'midlife crisis'}, {'id': 2246, 'name': 'confidence'}, {'id': 4995, 'name': 'aging'}, {'id': 5600, 'name': 'daughter'}, {'id': 10707, 'name': 'mother daughter relationship'}, {'id': 13149, 'name': 'pregnancy'}, {'id': 33358, 'name': 'contraception'}, {'id': 170521, 'name': 'gynecologist'}]</td>\n",
       "    </tr>\n",
       "  </tbody>\n",
       "</table>\n",
       "</div>"
      ],
      "text/plain": [
       "      id  \\\n",
       "0  862     \n",
       "1  8844    \n",
       "2  15602   \n",
       "3  31357   \n",
       "4  11862   \n",
       "\n",
       "                                                                                                                                                                                                                                                                                                                                                 keywords  \n",
       "0  [{'id': 931, 'name': 'jealousy'}, {'id': 4290, 'name': 'toy'}, {'id': 5202, 'name': 'boy'}, {'id': 6054, 'name': 'friendship'}, {'id': 9713, 'name': 'friends'}, {'id': 9823, 'name': 'rivalry'}, {'id': 165503, 'name': 'boy next door'}, {'id': 170722, 'name': 'new toy'}, {'id': 187065, 'name': 'toy comes to life'}]                              \n",
       "1  [{'id': 10090, 'name': 'board game'}, {'id': 10941, 'name': 'disappearance'}, {'id': 15101, 'name': \"based on children's book\"}, {'id': 33467, 'name': 'new home'}, {'id': 158086, 'name': 'recluse'}, {'id': 158091, 'name': 'giant insect'}]                                                                                                          \n",
       "2  [{'id': 1495, 'name': 'fishing'}, {'id': 12392, 'name': 'best friend'}, {'id': 179431, 'name': 'duringcreditsstinger'}, {'id': 208510, 'name': 'old men'}]                                                                                                                                                                                              \n",
       "3  [{'id': 818, 'name': 'based on novel'}, {'id': 10131, 'name': 'interracial relationship'}, {'id': 14768, 'name': 'single mother'}, {'id': 15160, 'name': 'divorce'}, {'id': 33455, 'name': 'chick flick'}]                                                                                                                                              \n",
       "4  [{'id': 1009, 'name': 'baby'}, {'id': 1599, 'name': 'midlife crisis'}, {'id': 2246, 'name': 'confidence'}, {'id': 4995, 'name': 'aging'}, {'id': 5600, 'name': 'daughter'}, {'id': 10707, 'name': 'mother daughter relationship'}, {'id': 13149, 'name': 'pregnancy'}, {'id': 33358, 'name': 'contraception'}, {'id': 170521, 'name': 'gynecologist'}]  "
      ]
     },
     "execution_count": 28,
     "metadata": {},
     "output_type": "execute_result"
    }
   ],
   "source": [
    "keywords_df.head(5)"
   ]
  },
  {
   "attachments": {},
   "cell_type": "markdown",
   "metadata": {},
   "source": [
    "merging all the 3 dataframes:\n",
    "1. movies_df\n",
    "2. credits_df \n",
    "3. keywords_df \n",
    "\n",
    "on the common column 'id' to from a new dataframe movies_df_join"
   ]
  },
  {
   "cell_type": "code",
   "execution_count": 29,
   "metadata": {},
   "outputs": [
    {
     "data": {
      "text/plain": [
       "(45320, 28)"
      ]
     },
     "execution_count": 29,
     "metadata": {},
     "output_type": "execute_result"
    }
   ],
   "source": [
    "movies_df_join=movies_df.merge(credits_df, on='id').merge(keywords_df, on= 'id')\n",
    "movies_df_join.shape"
   ]
  },
  {
   "attachments": {},
   "cell_type": "markdown",
   "metadata": {},
   "source": [
    "considering only 8 important columns for our model"
   ]
  },
  {
   "cell_type": "code",
   "execution_count": 30,
   "metadata": {},
   "outputs": [],
   "source": [
    "movies_df_join = movies_df_join[['id','title','overview','genres','keywords','cast','crew','year']]"
   ]
  },
  {
   "cell_type": "code",
   "execution_count": 31,
   "metadata": {},
   "outputs": [
    {
     "data": {
      "text/html": [
       "<div>\n",
       "<style scoped>\n",
       "    .dataframe tbody tr th:only-of-type {\n",
       "        vertical-align: middle;\n",
       "    }\n",
       "\n",
       "    .dataframe tbody tr th {\n",
       "        vertical-align: top;\n",
       "    }\n",
       "\n",
       "    .dataframe thead th {\n",
       "        text-align: right;\n",
       "    }\n",
       "</style>\n",
       "<table border=\"1\" class=\"dataframe\">\n",
       "  <thead>\n",
       "    <tr style=\"text-align: right;\">\n",
       "      <th></th>\n",
       "      <th>id</th>\n",
       "      <th>title</th>\n",
       "      <th>overview</th>\n",
       "      <th>genres</th>\n",
       "      <th>keywords</th>\n",
       "      <th>cast</th>\n",
       "      <th>crew</th>\n",
       "      <th>year</th>\n",
       "    </tr>\n",
       "  </thead>\n",
       "  <tbody>\n",
       "    <tr>\n",
       "      <th>0</th>\n",
       "      <td>862</td>\n",
       "      <td>Toy Story</td>\n",
       "      <td>Led by Woody, Andy's toys live happily in his room until Andy's birthday brings Buzz Lightyear onto the scene. Afraid of losing his place in Andy's heart, Woody plots against Buzz. But when circumstances separate Buzz and Woody from their owner, the duo eventually learns to put aside their differences.</td>\n",
       "      <td>[{'id': 16, 'name': 'Animation'}, {'id': 35, 'name': 'Comedy'}, {'id': 10751, 'name': 'Family'}]</td>\n",
       "      <td>[{'id': 931, 'name': 'jealousy'}, {'id': 4290, 'name': 'toy'}, {'id': 5202, 'name': 'boy'}, {'id': 6054, 'name': 'friendship'}, {'id': 9713, 'name': 'friends'}, {'id': 9823, 'name': 'rivalry'}, {'id': 165503, 'name': 'boy next door'}, {'id': 170722, 'name': 'new toy'}, {'id': 187065, 'name': 'toy comes to life'}]</td>\n",
       "      <td>[{'cast_id': 14, 'character': 'Woody (voice)', 'credit_id': '52fe4284c3a36847f8024f95', 'gender': 2, 'id': 31, 'name': 'Tom Hanks', 'order': 0, 'profile_path': '/pQFoyx7rp09CJTAb932F2g8Nlho.jpg'}, {'cast_id': 15, 'character': 'Buzz Lightyear (voice)', 'credit_id': '52fe4284c3a36847f8024f99', 'gender': 2, 'id': 12898, 'name': 'Tim Allen', 'order': 1, 'profile_path': '/uX2xVf6pMmPepxnvFWyBtjexzgY.jpg'}, {'cast_id': 16, 'character': 'Mr. Potato Head (voice)', 'credit_id': '52fe4284c3a36847f8024f9d', 'gender': 2, 'id': 7167, 'name': 'Don Rickles', 'order': 2, 'profile_path': '/h5BcaDMPRVLHLDzbQavec4xfSdt.jpg'}, {'cast_id': 17, 'character': 'Slinky Dog (voice)', 'credit_id': '52fe4284c3a36847f8024fa1', 'gender': 2, 'id': 12899, 'name': 'Jim Varney', 'order': 3, 'profile_path': '/eIo2jVVXYgjDtaHoF19Ll9vtW7h.jpg'}, {'cast_id': 18, 'character': 'Rex (voice)', 'credit_id': '52fe4284c3a36847f8024fa5', 'gender': 2, 'id': 12900, 'name': 'Wallace Shawn', 'order': 4, 'profile_path': '/oGE6JqPP2xH4tNORKNqxbNPYi7u.jpg'}, {'cast_id': 19, 'character': 'Hamm (voice)', 'credit_id': '52fe4284c3a36847f8024fa9', 'gender': 2, 'id': 7907, 'name': 'John Ratzenberger', 'order': 5, 'profile_path': '/yGechiKWL6TJDfVE2KPSJYqdMsY.jpg'}, {'cast_id': 20, 'character': 'Bo Peep (voice)', 'credit_id': '52fe4284c3a36847f8024fad', 'gender': 1, 'id': 8873, 'name': 'Annie Potts', 'order': 6, 'profile_path': '/eryXT84RL41jHSJcMy4kS3u9y6w.jpg'}, {'cast_id': 26, 'character': 'Andy (voice)', 'credit_id': '52fe4284c3a36847f8024fc1', 'gender': 0, 'id': 1116442, 'name': 'John Morris', 'order': 7, 'profile_path': '/vYGyvK4LzeaUCoNSHtsuqJUY15M.jpg'}, {'cast_id': 22, 'character': 'Sid (voice)', 'credit_id': '52fe4284c3a36847f8024fb1', 'gender': 2, 'id': 12901, 'name': 'Erik von Detten', 'order': 8, 'profile_path': '/twnF1ZaJ1FUNUuo6xLXwcxjayBE.jpg'}, {'cast_id': 23, 'character': 'Mrs. Davis (voice)', 'credit_id': '52fe4284c3a36847f8024fb5', 'gender': 1, 'id': 12133, 'name': 'Laurie Metcalf', 'order': 9, 'profile_path': '/unMMIT60eoBM2sN2nyR7EZ2BvvD.jpg'}, {'cast_id': 24, 'character': 'Sergeant (voice)', 'credit_id': '52fe4284c3a36847f8024fb9', 'gender': 2, 'id': 8655, 'name': 'R. Lee Ermey', 'order': 10, 'profile_path': '/r8GBqFBjypLUP9VVqDqfZ7wYbSs.jpg'}, {'cast_id': 25, 'character': 'Hannah (voice)', 'credit_id': '52fe4284c3a36847f8024fbd', 'gender': 1, 'id': 12903, 'name': 'Sarah Freeman', 'order': 11, 'profile_path': None}, {'cast_id': 27, 'character': 'TV Announcer (voice)', 'credit_id': '52fe4284c3a36847f8024fc5', 'gender': 2, 'id': 37221, 'name': 'Penn Jillette', 'order': 12, 'profile_path': '/zmAaXUdx12NRsssgHbk1T31j2x9.jpg'}]</td>\n",
       "      <td>[{'credit_id': '52fe4284c3a36847f8024f49', 'department': 'Directing', 'gender': 2, 'id': 7879, 'job': 'Director', 'name': 'John Lasseter', 'profile_path': '/7EdqiNbr4FRjIhKHyPPdFfEEEFG.jpg'}, {'credit_id': '52fe4284c3a36847f8024f4f', 'department': 'Writing', 'gender': 2, 'id': 12891, 'job': 'Screenplay', 'name': 'Joss Whedon', 'profile_path': '/dTiVsuaTVTeGmvkhcyJvKp2A5kr.jpg'}, {'credit_id': '52fe4284c3a36847f8024f55', 'department': 'Writing', 'gender': 2, 'id': 7, 'job': 'Screenplay', 'name': 'Andrew Stanton', 'profile_path': '/pvQWsu0qc8JFQhMVJkTHuexUAa1.jpg'}, {'credit_id': '52fe4284c3a36847f8024f5b', 'department': 'Writing', 'gender': 2, 'id': 12892, 'job': 'Screenplay', 'name': 'Joel Cohen', 'profile_path': '/dAubAiZcvKFbboWlj7oXOkZnTSu.jpg'}, {'credit_id': '52fe4284c3a36847f8024f61', 'department': 'Writing', 'gender': 0, 'id': 12893, 'job': 'Screenplay', 'name': 'Alec Sokolow', 'profile_path': '/v79vlRYi94BZUQnkkyznbGUZLjT.jpg'}, {'credit_id': '52fe4284c3a36847f8024f67', 'department': 'Production', 'gender': 1, 'id': 12894, 'job': 'Producer', 'name': 'Bonnie Arnold', 'profile_path': None}, {'credit_id': '52fe4284c3a36847f8024f6d', 'department': 'Production', 'gender': 0, 'id': 12895, 'job': 'Executive Producer', 'name': 'Ed Catmull', 'profile_path': None}, {'credit_id': '52fe4284c3a36847f8024f73', 'department': 'Production', 'gender': 2, 'id': 12896, 'job': 'Producer', 'name': 'Ralph Guggenheim', 'profile_path': None}, {'credit_id': '52fe4284c3a36847f8024f79', 'department': 'Production', 'gender': 2, 'id': 12897, 'job': 'Executive Producer', 'name': 'Steve Jobs', 'profile_path': '/mOMP3SwD5qWQSR0ldCIByd3guTV.jpg'}, {'credit_id': '52fe4284c3a36847f8024f8b', 'department': 'Editing', 'gender': 2, 'id': 8, 'job': 'Editor', 'name': 'Lee Unkrich', 'profile_path': '/bdTCCXjgOV3YyaNmLGYGOxFQMOc.jpg'}, {'credit_id': '52fe4284c3a36847f8024f91', 'department': 'Art', 'gender': 2, 'id': 7883, 'job': 'Art Direction', 'name': 'Ralph Eggleston', 'profile_path': '/uUfcGKDsKO1aROMpXRs67Hn6RvR.jpg'}, {'credit_id': '598331bf925141421201044b', 'department': 'Editing', 'gender': 2, 'id': 1168870, 'job': 'Editor', 'name': 'Robert Gordon', 'profile_path': None}, {'credit_id': '5892168cc3a36809660095f9', 'department': 'Sound', 'gender': 0, 'id': 1552883, 'job': 'Foley Editor', 'name': 'Mary Helen Leasman', 'profile_path': None}, {'credit_id': '5531824d9251415289000945', 'department': 'Visual Effects', 'gender': 0, 'id': 1453514, 'job': 'Animation', 'name': 'Kim Blanchette', 'profile_path': None}, {'credit_id': '589215969251412dcb009bf6', 'department': 'Sound', 'gender': 0, 'id': 1414182, 'job': 'ADR Editor', 'name': 'Marilyn McCoppen', 'profile_path': None}, {'credit_id': '589217099251412dc500a018', 'department': 'Sound', 'gender': 2, 'id': 7885, 'job': 'Orchestrator', 'name': 'Randy Newman', 'profile_path': '/w0JzfoiM25nrnxYOzosPHRq6mlE.jpg'}, {'credit_id': '5693e6b29251417b0e0000e3', 'department': 'Editing', 'gender': 0, 'id': 1429549, 'job': 'Color Timer', 'name': 'Dale E. Grahn', 'profile_path': None}, {'credit_id': '572e2522c3a36869e6001a9c', 'department': 'Visual Effects', 'gender': 0, 'id': 7949, 'job': 'CG Painter', 'name': 'Robin Cooper', 'profile_path': None}, {'credit_id': '574f12309251415ca1000012', 'department': 'Writing', 'gender': 2, 'id': 7879, 'job': 'Original Story', 'name': 'John Lasseter', 'profile_path': '/7EdqiNbr4FRjIhKHyPPdFfEEEFG.jpg'}, {'credit_id': '574f1240c3a3682e7300001c', 'department': 'Writing', 'gender': 2, 'id': 12890, 'job': 'Original Story', 'name': 'Pete Docter', 'profile_path': '/r6ngPgnReA3RHmKjmSoVsc6Awjp.jpg'}, {'credit_id': '574f12519251415c92000015', 'department': 'Writing', 'gender': 0, 'id': 7911, 'job': 'Original Story', 'name': 'Joe Ranft', 'profile_path': '/f1BoWC2JbCcfP1e5hKfGsxkHzVU.jpg'}, {'credit_id': '574f12cec3a3682e82000022', 'department': 'Crew', 'gender': 0, 'id': 1629419, 'job': 'Post Production Supervisor', 'name': 'Patsy Bouge', 'profile_path': None}, {'credit_id': '574f14f19251415ca1000082', 'department': 'Art', 'gender': 0, 'id': 7961, 'job': 'Sculptor', 'name': 'Norm DeCarlo', 'profile_path': None}, {'credit_id': '5751ae4bc3a3683772002b7f', 'department': 'Visual Effects', 'gender': 2, 'id': 12905, 'job': 'Animation Director', 'name': 'Ash Brannon', 'profile_path': '/6ueWgPEEBHvS3De2BHYQnYjRTig.jpg'}, {'credit_id': '5891edbe9251412dc5007cd6', 'department': 'Sound', 'gender': 2, 'id': 7885, 'job': 'Music', 'name': 'Randy Newman', 'profile_path': '/w0JzfoiM25nrnxYOzosPHRq6mlE.jpg'}, {'credit_id': '589213d39251412dc8009832', 'department': 'Directing', 'gender': 0, 'id': 1748707, 'job': 'Layout', 'name': 'Roman Figun', 'profile_path': None}, {'credit_id': '5892173dc3a3680968009351', 'department': 'Sound', 'gender': 2, 'id': 4949, 'job': 'Orchestrator', 'name': 'Don Davis', 'profile_path': None}, {'credit_id': '589217cec3a3686b0a0052ba', 'department': 'Sound', 'gender': 0, 'id': 1372885, 'job': 'Music Editor', 'name': 'James Flamberg', 'profile_path': None}, {'credit_id': '58921831c3a3686348004a64', 'department': 'Editing', 'gender': 0, 'id': 1739962, 'job': 'Negative Cutter', 'name': 'Mary Beth Smith', 'profile_path': None}, {'credit_id': '58921838c3a36809700096c0', 'department': 'Editing', 'gender': 0, 'id': 1748513, 'job': 'Negative Cutter', 'name': 'Rick Mackay', 'profile_path': None}, {'credit_id': '589218429251412dd1009d1b', 'department': 'Art', 'gender': 0, 'id': 1458006, 'job': 'Title Designer', 'name': 'Susan Bradley', 'profile_path': None}, {'credit_id': '5891ed99c3a3680966007670', 'department': 'Crew', 'gender': 0, 'id': 1748557, 'job': 'Supervising Technical Director', 'name': 'William Reeves', 'profile_path': None}, {'credit_id': '5891edcec3a3686b0a002eb2', 'department': 'Sound', 'gender': 2, 'id': 7885, 'job': 'Songs', 'name': 'Randy Newman', 'profile_path': '/w0JzfoiM25nrnxYOzosPHRq6mlE.jpg'}, {'credit_id': '5891edf9c3a36809700075e6', 'department': 'Writing', 'gender': 2, 'id': 7, 'job': 'Original Story', 'name': 'Andrew Stanton', 'profile_path': '/pvQWsu0qc8JFQhMVJkTHuexUAa1.jpg'}, {'credit_id': '58920f0b9251412dd7009104', 'department': 'Crew', 'gender': 2, 'id': 12890, 'job': 'Supervising Animator', 'name': 'Pete Docter', 'profile_path': '/r6ngPgnReA3RHmKjmSoVsc6Awjp.jpg'}, {'credit_id': '58920f1fc3a3680977009021', 'department': 'Sound', 'gender': 2, 'id': 2216, 'job': 'Sound Designer', 'name': 'Gary Rydstrom', 'profile_path': '/jZpr1nVfO7lldWI0YtmP1FGw7Rj.jpg'}, {'credit_id': '58920f389251412dd700912d', 'department': 'Production', 'gender': 0, 'id': 12909, 'job': 'Production Supervisor', 'name': 'Karen Robert Jackson', 'profile_path': None}, {'credit_id': '58920fbd9251412dcb00969c', 'department': 'Crew', 'gender': 0, 'id': 953331, 'job': 'Executive Music Producer', 'name': 'Chris Montan', 'profile_path': None}, {'credit_id': '589210069251412dd7009219', 'department': 'Visual Effects', 'gender': 0, 'id': 7893, 'job': 'Animation Director', 'name': 'Rich Quade', 'profile_path': None}, {'credit_id': '589210329251412dcd00943b', 'department': 'Visual Effects', 'gender': 0, 'id': 8025, 'job': 'Animation', 'name': 'Michael Berenstein', 'profile_path': None}, {'credit_id': '5892103bc3a368096a009180', 'department': 'Visual Effects', 'gender': 0, 'id': 78009, 'job': 'Animation', 'name': 'Colin Brady', 'profile_path': None}, {'credit_id': '5892105dc3a3680968008db2', 'department': 'Visual Effects', 'gender': 0, 'id': 1748682, 'job': 'Animation', 'name': 'Davey Crockett Feiten', 'profile_path': None}, {'credit_id': '589210669251412dcd009466', 'department': 'Visual Effects', 'gender': 0, 'id': 1454030, 'job': 'Animation', 'name': 'Angie Glocka', 'profile_path': None}, {'credit_id': '5892107c9251412dd1009613', 'department': 'Visual Effects', 'gender': 0, 'id': 1748683, 'job': 'Animation', 'name': 'Rex Grignon', 'profile_path': None}, {'credit_id': '5892108ac3a3680973008d3f', 'department': 'Visual Effects', 'gender': 0, 'id': 1748684, 'job': 'Animation', 'name': 'Tom K. Gurney', 'profile_path': None}, {'credit_id': '58921093c3a3686348004477', 'department': 'Visual Effects', 'gender': 2, 'id': 8029, 'job': 'Animation', 'name': 'Jimmy Hayward', 'profile_path': '/lTDRpudEY7BDwTefXbXzMlmb0ui.jpg'}, {'credit_id': '5892109b9251412dcd0094b0', 'department': 'Visual Effects', 'gender': 0, 'id': 1426773, 'job': 'Animation', 'name': 'Hal T. Hickel', 'profile_path': None}, {'credit_id': '589210a29251412dc5009a29', 'department': 'Visual Effects', 'gender': 0, 'id': 8035, 'job': 'Animation', 'name': 'Karen Kiser', 'profile_path': None}, {'credit_id': '589210ccc3a3680977009191', 'department': 'Visual Effects', 'gender': 0, 'id': 1748688, 'job': 'Animation', 'name': 'Anthony B. LaMolinara', 'profile_path': None}, {'credit_id': '589210d7c3a3686b0a004c1f', 'department': 'Visual Effects', 'gender': 0, 'id': 587314, 'job': 'Animation', 'name': 'Guionne Leroy', 'profile_path': None}, {'credit_id': '589210e1c3a36809770091a7', 'department': 'Visual Effects', 'gender': 2, 'id': 7918, 'job': 'Animation', 'name': 'Bud Luckey', 'profile_path': '/pcCh7G19FKMNijmPQg1PMH1btic.jpg'}, {'credit_id': '589210ee9251412dc200978a', 'department': 'Visual Effects', 'gender': 0, 'id': 1748689, 'job': 'Animation', 'name': 'Les Major', 'profile_path': None}, {'credit_id': '589210fa9251412dc8009595', 'department': 'Visual Effects', 'gender': 2, 'id': 7892, 'job': 'Animation', 'name': 'Glenn McQueen', 'profile_path': None}, {'credit_id': '589211029251412dc8009598', 'department': 'Visual Effects', 'gender': 0, 'id': 555795, 'job': 'Animation', 'name': 'Mark Oftedal', 'profile_path': None}, {'credit_id': '5892110b9251412dc800959d', 'department': 'Visual Effects', 'gender': 2, 'id': 7882, 'job': 'Animation', 'name': 'Jeff Pidgeon', 'profile_path': '/yLddkg5HcgbJg00cS13GVBnP0HY.jpg'}, {'credit_id': '58921113c3a36863480044e4', 'department': 'Visual Effects', 'gender': 0, 'id': 8017, 'job': 'Animation', 'name': 'Jeff Pratt', 'profile_path': None}, {'credit_id': '5892111c9251412dcb0097e9', 'department': 'Visual Effects', 'gender': 0, 'id': 1184140, 'job': 'Animation', 'name': 'Steve Rabatich', 'profile_path': None}, {'credit_id': '58921123c3a36809700090f6', 'department': 'Visual Effects', 'gender': 0, 'id': 8049, 'job': 'Animation', 'name': 'Roger Rose', 'profile_path': None}, {'credit_id': '5892112b9251412dcb0097fb', 'department': 'Visual Effects', 'gender': 0, 'id': 1509559, 'job': 'Animation', 'name': 'Steve Segal', 'profile_path': None}, {'credit_id': '589211349251412dc80095c3', 'department': 'Visual Effects', 'gender': 0, 'id': 1748691, 'job': 'Animation', 'name': 'Doug Sheppeck', 'profile_path': None}, {'credit_id': '5892113cc3a3680970009106', 'department': 'Visual Effects', 'gender': 0, 'id': 8050, 'job': 'Animation', 'name': 'Alan Sperling', 'profile_path': None}, {'credit_id': '58921148c3a3686b0a004c99', 'department': 'Visual Effects', 'gender': 0, 'id': 8010, 'job': 'Animation', 'name': 'Doug Sweetland', 'profile_path': None}, {'credit_id': '58921150c3a3680966009125', 'department': 'Visual Effects', 'gender': 0, 'id': 8044, 'job': 'Animation', 'name': 'David Tart', 'profile_path': None}, {'credit_id': '589211629251412dc5009b00', 'department': 'Visual Effects', 'gender': 0, 'id': 1454034, 'job': 'Animation', 'name': 'Ken Willard', 'profile_path': None}, {'credit_id': '589211c1c3a3686b0a004d28', 'department': 'Visual Effects', 'gender': 0, 'id': 7887, 'job': 'Visual Effects Supervisor', 'name': 'Thomas Porter', 'profile_path': None}, {'credit_id': '589211d4c3a3680968008ed9', 'department': 'Visual Effects', 'gender': 0, 'id': 1406878, 'job': 'Visual Effects', 'name': 'Mark Thomas Henne', 'profile_path': None}, {'credit_id': '589211f59251412dd4008e65', 'department': 'Visual Effects', 'gender': 0, 'id': 1748698, 'job': 'Visual Effects', 'name': 'Oren Jacob', 'profile_path': None}, {'credit_id': '58921242c3a368096a00939b', 'department': 'Visual Effects', 'gender': 0, 'id': 1748699, 'job': 'Visual Effects', 'name': 'Darwyn Peachey', 'profile_path': None}, {'credit_id': '5892124b9251412dc5009bd2', 'department': 'Visual Effects', 'gender': 0, 'id': 1748701, 'job': 'Visual Effects', 'name': 'Mitch Prater', 'profile_path': None}, {'credit_id': '58921264c3a3686b0a004dbf', 'department': 'Visual Effects', 'gender': 0, 'id': 1748703, 'job': 'Visual Effects', 'name': 'Brian M. Rosen', 'profile_path': None}, {'credit_id': '589212709251412dcd009676', 'department': 'Lighting', 'gender': 1, 'id': 12912, 'job': 'Lighting Supervisor', 'name': 'Sharon Calahan', 'profile_path': None}, {'credit_id': '5892127fc3a3686b0a004de5', 'department': 'Lighting', 'gender': 0, 'id': 7899, 'job': 'Lighting Supervisor', 'name': 'Galyn Susman', 'profile_path': None}, {'credit_id': '589212cdc3a3680970009268', 'department': 'Visual Effects', 'gender': 0, 'id': 12915, 'job': 'CG Painter', 'name': 'William Cone', 'profile_path': None}, {'credit_id': '5892130f9251412dc8009791', 'department': 'Art', 'gender': 0, 'id': 1748705, 'job': 'Sculptor', 'name': 'Shelley Daniels Lekven', 'profile_path': None}, {'credit_id': '5892131c9251412dd4008f4c', 'department': 'Visual Effects', 'gender': 2, 'id': 7889, 'job': 'Character Designer', 'name': 'Bob Pauley', 'profile_path': None}, {'credit_id': '589213249251412dd100987b', 'department': 'Visual Effects', 'gender': 2, 'id': 7918, 'job': 'Character Designer', 'name': 'Bud Luckey', 'profile_path': '/pcCh7G19FKMNijmPQg1PMH1btic.jpg'}, {'credit_id': '5892132b9251412dc80097b1', 'department': 'Visual Effects', 'gender': 2, 'id': 7, 'job': 'Character Designer', 'name': 'Andrew Stanton', 'profile_path': '/pvQWsu0qc8JFQhMVJkTHuexUAa1.jpg'}, {'credit_id': '58921332c3a368634800467b', 'department': 'Visual Effects', 'gender': 0, 'id': 12915, 'job': 'Character Designer', 'name': 'William Cone', 'profile_path': None}, {'credit_id': '5892135f9251412dd4008f90', 'department': 'Visual Effects', 'gender': 0, 'id': 1748706, 'job': 'Character Designer', 'name': 'Steve Johnson', 'profile_path': None}, {'credit_id': '58921384c3a3680973008fd4', 'department': 'Visual Effects', 'gender': 0, 'id': 1176752, 'job': 'Character Designer', 'name': 'Dan Haskett', 'profile_path': None}, {'credit_id': '5892138e9251412dc20099fc', 'department': 'Visual Effects', 'gender': 0, 'id': 1088034, 'job': 'Character Designer', 'name': 'Tom Holloway', 'profile_path': '/a0r0T2usTBpgMI5aZbRBDW1fTl8.jpg'}, {'credit_id': '58921395c3a368097700942f', 'department': 'Visual Effects', 'gender': 0, 'id': 1447465, 'job': 'Character Designer', 'name': 'Jean Gillmore', 'profile_path': None}, {'credit_id': '589213e2c3a3680973009026', 'department': 'Directing', 'gender': 0, 'id': 1748709, 'job': 'Layout', 'name': 'Desirée Mourad', 'profile_path': None}, {'credit_id': '589214099251412dc5009d57', 'department': 'Art', 'gender': 0, 'id': 1748710, 'job': 'Set Dresser', 'name': \"Kelly O'Connell\", 'profile_path': None}, {'credit_id': '58921411c3a3686b0a004f70', 'department': 'Art', 'gender': 0, 'id': 1443471, 'job': 'Set Dresser', 'name': 'Sonoko Konishi', 'profile_path': None}, {'credit_id': '58921434c3a368096a00956e', 'department': 'Art', 'gender': 0, 'id': 1748711, 'job': 'Set Dresser', 'name': 'Ann M. Rockwell', 'profile_path': None}, {'credit_id': '5892144ac3a36809680090de', 'department': 'Editing', 'gender': 0, 'id': 1748712, 'job': 'Editorial Manager', 'name': 'Julie M. McDonald', 'profile_path': None}, {'credit_id': '58921479c3a368096800910f', 'department': 'Editing', 'gender': 0, 'id': 1589729, 'job': 'Assistant Editor', 'name': 'Robin Lee', 'profile_path': None}, {'credit_id': '5892148b9251412dd10099cc', 'department': 'Editing', 'gender': 0, 'id': 1748716, 'job': 'Assistant Editor', 'name': 'Tom Freeman', 'profile_path': None}, {'credit_id': '589214959251412dcb009b1f', 'department': 'Editing', 'gender': 0, 'id': 1748717, 'job': 'Assistant Editor', 'name': 'Ada Cochavi', 'profile_path': None}, {'credit_id': '5892149ec3a3686348004798', 'department': 'Editing', 'gender': 0, 'id': 1336438, 'job': 'Assistant Editor', 'name': 'Dana Mulligan', 'profile_path': None}, {'credit_id': '589214adc3a368096a0095db', 'department': 'Editing', 'gender': 0, 'id': 1748718, 'job': 'Editorial Coordinator', 'name': 'Deirdre Morrison', 'profile_path': None}, {'credit_id': '589214c7c3a368097700952b', 'department': 'Production', 'gender': 0, 'id': 1748719, 'job': 'Production Coordinator', 'name': 'Lori Lombardo', 'profile_path': None}, {'credit_id': '589214cec3a368096a009603', 'department': 'Production', 'gender': 0, 'id': 1748720, 'job': 'Production Coordinator', 'name': 'Ellen Devine', 'profile_path': None}, {'credit_id': '589214e39251412dc8009904', 'department': 'Crew', 'gender': 0, 'id': 1468014, 'job': 'Unit Publicist', 'name': 'Lauren Beth Strogoff', 'profile_path': None}, {'credit_id': '58921544c3a3686b0a00507d', 'department': 'Sound', 'gender': 2, 'id': 2216, 'job': 'Sound Re-Recording Mixer', 'name': 'Gary Rydstrom', 'profile_path': '/jZpr1nVfO7lldWI0YtmP1FGw7Rj.jpg'}, {'credit_id': '5892154c9251412dd1009a56', 'department': 'Sound', 'gender': 0, 'id': 1425978, 'job': 'Sound Re-Recording Mixer', 'name': 'Gary Summers', 'profile_path': None}, {'credit_id': '58921555c3a36809680091bd', 'department': 'Sound', 'gender': 2, 'id': 8276, 'job': 'Supervising Sound Editor', 'name': 'Tim Holland', 'profile_path': None}, {'credit_id': '589215c39251412dcb009c12', 'department': 'Sound', 'gender': 0, 'id': 7069, 'job': 'Sound Effects Editor', 'name': 'Pat Jackson', 'profile_path': None}, {'credit_id': '58921698c3a368096a009788', 'department': 'Crew', 'gender': 2, 'id': 15894, 'job': 'Sound Design Assistant', 'name': 'Tom Myers', 'profile_path': None}, {'credit_id': '589216a89251412dc2009ca4', 'department': 'Sound', 'gender': 0, 'id': 1414177, 'job': 'Assistant Sound Editor', 'name': 'J.R. Grubbs', 'profile_path': None}, {'credit_id': '589216c19251412dc2009cb9', 'department': 'Sound', 'gender': 1, 'id': 1748724, 'job': 'Assistant Sound Editor', 'name': 'Susan Sanford', 'profile_path': None}, {'credit_id': '589216ccc3a3680973009274', 'department': 'Sound', 'gender': 0, 'id': 1748725, 'job': 'Assistant Sound Editor', 'name': 'Susan Popovic', 'profile_path': None}, {'credit_id': '589216d79251412dc8009aa0', 'department': 'Sound', 'gender': 0, 'id': 8067, 'job': 'Assistant Sound Editor', 'name': 'Dan Engstrom', 'profile_path': None}, {'credit_id': '589216e49251412dcd009a4f', 'department': 'Production', 'gender': 1, 'id': 7902, 'job': 'Casting Consultant', 'name': 'Ruth Lambert', 'profile_path': None}, {'credit_id': '589216f39251412dc2009cf3', 'department': 'Production', 'gender': 0, 'id': 84493, 'job': 'ADR Voice Casting', 'name': 'Mickie McGowan', 'profile_path': '/k7TjJBfINsg8vLQxJwos6XObAD6.jpg'}]</td>\n",
       "      <td>[1995]</td>\n",
       "    </tr>\n",
       "  </tbody>\n",
       "</table>\n",
       "</div>"
      ],
      "text/plain": [
       "    id      title  \\\n",
       "0  862  Toy Story   \n",
       "\n",
       "                                                                                                                                                                                                                                                                                                          overview  \\\n",
       "0  Led by Woody, Andy's toys live happily in his room until Andy's birthday brings Buzz Lightyear onto the scene. Afraid of losing his place in Andy's heart, Woody plots against Buzz. But when circumstances separate Buzz and Woody from their owner, the duo eventually learns to put aside their differences.   \n",
       "\n",
       "                                                                                             genres  \\\n",
       "0  [{'id': 16, 'name': 'Animation'}, {'id': 35, 'name': 'Comedy'}, {'id': 10751, 'name': 'Family'}]   \n",
       "\n",
       "                                                                                                                                                                                                                                                                                                                     keywords  \\\n",
       "0  [{'id': 931, 'name': 'jealousy'}, {'id': 4290, 'name': 'toy'}, {'id': 5202, 'name': 'boy'}, {'id': 6054, 'name': 'friendship'}, {'id': 9713, 'name': 'friends'}, {'id': 9823, 'name': 'rivalry'}, {'id': 165503, 'name': 'boy next door'}, {'id': 170722, 'name': 'new toy'}, {'id': 187065, 'name': 'toy comes to life'}]   \n",
       "\n",
       "                                                                                                                                                                                                                                                                                                                                                                                                                                                                                                                                                                                                                                                                                                                                                                                                                                                                                                                                                                                                                                                                                                                                                                                                                                                                                                                                                                                                                                                                                                                                                                                                                                                                                                                                                                                                                                                                                                                                                                                                                                                                                                                                                                                                                                                                                                                                                                                                                                                                                                                                                                                                                                                                                                                                       cast  \\\n",
       "0  [{'cast_id': 14, 'character': 'Woody (voice)', 'credit_id': '52fe4284c3a36847f8024f95', 'gender': 2, 'id': 31, 'name': 'Tom Hanks', 'order': 0, 'profile_path': '/pQFoyx7rp09CJTAb932F2g8Nlho.jpg'}, {'cast_id': 15, 'character': 'Buzz Lightyear (voice)', 'credit_id': '52fe4284c3a36847f8024f99', 'gender': 2, 'id': 12898, 'name': 'Tim Allen', 'order': 1, 'profile_path': '/uX2xVf6pMmPepxnvFWyBtjexzgY.jpg'}, {'cast_id': 16, 'character': 'Mr. Potato Head (voice)', 'credit_id': '52fe4284c3a36847f8024f9d', 'gender': 2, 'id': 7167, 'name': 'Don Rickles', 'order': 2, 'profile_path': '/h5BcaDMPRVLHLDzbQavec4xfSdt.jpg'}, {'cast_id': 17, 'character': 'Slinky Dog (voice)', 'credit_id': '52fe4284c3a36847f8024fa1', 'gender': 2, 'id': 12899, 'name': 'Jim Varney', 'order': 3, 'profile_path': '/eIo2jVVXYgjDtaHoF19Ll9vtW7h.jpg'}, {'cast_id': 18, 'character': 'Rex (voice)', 'credit_id': '52fe4284c3a36847f8024fa5', 'gender': 2, 'id': 12900, 'name': 'Wallace Shawn', 'order': 4, 'profile_path': '/oGE6JqPP2xH4tNORKNqxbNPYi7u.jpg'}, {'cast_id': 19, 'character': 'Hamm (voice)', 'credit_id': '52fe4284c3a36847f8024fa9', 'gender': 2, 'id': 7907, 'name': 'John Ratzenberger', 'order': 5, 'profile_path': '/yGechiKWL6TJDfVE2KPSJYqdMsY.jpg'}, {'cast_id': 20, 'character': 'Bo Peep (voice)', 'credit_id': '52fe4284c3a36847f8024fad', 'gender': 1, 'id': 8873, 'name': 'Annie Potts', 'order': 6, 'profile_path': '/eryXT84RL41jHSJcMy4kS3u9y6w.jpg'}, {'cast_id': 26, 'character': 'Andy (voice)', 'credit_id': '52fe4284c3a36847f8024fc1', 'gender': 0, 'id': 1116442, 'name': 'John Morris', 'order': 7, 'profile_path': '/vYGyvK4LzeaUCoNSHtsuqJUY15M.jpg'}, {'cast_id': 22, 'character': 'Sid (voice)', 'credit_id': '52fe4284c3a36847f8024fb1', 'gender': 2, 'id': 12901, 'name': 'Erik von Detten', 'order': 8, 'profile_path': '/twnF1ZaJ1FUNUuo6xLXwcxjayBE.jpg'}, {'cast_id': 23, 'character': 'Mrs. Davis (voice)', 'credit_id': '52fe4284c3a36847f8024fb5', 'gender': 1, 'id': 12133, 'name': 'Laurie Metcalf', 'order': 9, 'profile_path': '/unMMIT60eoBM2sN2nyR7EZ2BvvD.jpg'}, {'cast_id': 24, 'character': 'Sergeant (voice)', 'credit_id': '52fe4284c3a36847f8024fb9', 'gender': 2, 'id': 8655, 'name': 'R. Lee Ermey', 'order': 10, 'profile_path': '/r8GBqFBjypLUP9VVqDqfZ7wYbSs.jpg'}, {'cast_id': 25, 'character': 'Hannah (voice)', 'credit_id': '52fe4284c3a36847f8024fbd', 'gender': 1, 'id': 12903, 'name': 'Sarah Freeman', 'order': 11, 'profile_path': None}, {'cast_id': 27, 'character': 'TV Announcer (voice)', 'credit_id': '52fe4284c3a36847f8024fc5', 'gender': 2, 'id': 37221, 'name': 'Penn Jillette', 'order': 12, 'profile_path': '/zmAaXUdx12NRsssgHbk1T31j2x9.jpg'}]   \n",
       "\n",
       "                                                                                                                                                                                                                                                                                                                                                                                                                                                                                                                                                                                                                                                                                                                                                                                                                                                                                                                                                                                                                                                                                                                                                                                                                                                                                                                                                                                                                                                                                                                                                                                                                                                                                                                                                                                                                                                                                                                                                                                                                                                                                                                                                                                                                                                                                                                                                                                                                                                                                                                                                                                                                                                                                                                                                                                                                                                                                                                                                                                                                                                                                                                                                                                                                                                                                                                                                                                                                                                                                                                                                                                                                                                                                                                                                                                                                                                                                                                                                                                                                                                                                                                                                                                                                                                                                                                                                                                                                                                                                                                                                                                                                                                                                                                                                                                                                                                                                                                                                                                                                                                                                                                                                                                                                                                                                                                                                                                                                                                                                                                                                                                                                                                                                                                                                                                                                                                                                                                                                                                                                                                                                                                                                                                                                                                                                                                                                                                                                                                                                                                                                                                                                                                                                                                                                                                                                                                                                                                                                                                                                                                                                                                                                                                                                                                                                                                                                                                                                                                                                                                                                                                                                                                                                                                                                                                                                                                                                                                                                                                                                                                                                                                                                                                                                                                                                                                                                                                                                                                                                                                                                                                                                                                                                                                                                                                                                                                                                                                                                                                                                                                                                                                                                                                                                                                                                                                                                                                                                                                                                                                                                                                                                                                                                                                                                                                                                                                                                                                                                                                                                                                                                                                                                                                                                                                                                                                                                                                                                                                                                                                                                                                                                                                                                                                                                                                                                                                                                                                                                                                                                                                                                                                                                                                                                                                                                                                                                                                                                                                                                                                                                                                                                                                                                                                                                                                                                                                                                                                                                                                                                                                                                                                                                                                                                                                                                                                                                                                                                                                                                                                                                                                                                                                                                                                                                                                                                                                                                                                                                                                                                                                                                                                                                                                                                                                                                                                                                                                                                                                                                                                                                                                                                                                                                                                                                                                                                                                                                                                                                                                                                                                                                                                                                                                                                                                                                                                                                                                                                                                                                                                                                                                                                                                                                                                                                                                                                                                                                                                                                                                                                                                                                                                                                                                                                                                                                                                                                                                                                                                                                                                                                                                                                                                                                                                                                                                                                                                                                                                                                                                                                                                                                                                                                                                                                                                                                                                                                                                                                                                                                                                                                                                                                                                                                                                                                                                                                                                                                                                                                                                                                                                                                                                                                                                                                                                                                                                                                                                                                                                                                                                                                                                                                                                                                                                                                                                                                                                                                                                                                                                                                                                                                                                                                                                                                                                                                                                                                                                                                                                                                                                                                                                                                                                                                                                                                                                                                                                                                                                                                                                                                                                                                                                                                                                                                                                                                                                                                                                                                             crew  \\\n",
       "0  [{'credit_id': '52fe4284c3a36847f8024f49', 'department': 'Directing', 'gender': 2, 'id': 7879, 'job': 'Director', 'name': 'John Lasseter', 'profile_path': '/7EdqiNbr4FRjIhKHyPPdFfEEEFG.jpg'}, {'credit_id': '52fe4284c3a36847f8024f4f', 'department': 'Writing', 'gender': 2, 'id': 12891, 'job': 'Screenplay', 'name': 'Joss Whedon', 'profile_path': '/dTiVsuaTVTeGmvkhcyJvKp2A5kr.jpg'}, {'credit_id': '52fe4284c3a36847f8024f55', 'department': 'Writing', 'gender': 2, 'id': 7, 'job': 'Screenplay', 'name': 'Andrew Stanton', 'profile_path': '/pvQWsu0qc8JFQhMVJkTHuexUAa1.jpg'}, {'credit_id': '52fe4284c3a36847f8024f5b', 'department': 'Writing', 'gender': 2, 'id': 12892, 'job': 'Screenplay', 'name': 'Joel Cohen', 'profile_path': '/dAubAiZcvKFbboWlj7oXOkZnTSu.jpg'}, {'credit_id': '52fe4284c3a36847f8024f61', 'department': 'Writing', 'gender': 0, 'id': 12893, 'job': 'Screenplay', 'name': 'Alec Sokolow', 'profile_path': '/v79vlRYi94BZUQnkkyznbGUZLjT.jpg'}, {'credit_id': '52fe4284c3a36847f8024f67', 'department': 'Production', 'gender': 1, 'id': 12894, 'job': 'Producer', 'name': 'Bonnie Arnold', 'profile_path': None}, {'credit_id': '52fe4284c3a36847f8024f6d', 'department': 'Production', 'gender': 0, 'id': 12895, 'job': 'Executive Producer', 'name': 'Ed Catmull', 'profile_path': None}, {'credit_id': '52fe4284c3a36847f8024f73', 'department': 'Production', 'gender': 2, 'id': 12896, 'job': 'Producer', 'name': 'Ralph Guggenheim', 'profile_path': None}, {'credit_id': '52fe4284c3a36847f8024f79', 'department': 'Production', 'gender': 2, 'id': 12897, 'job': 'Executive Producer', 'name': 'Steve Jobs', 'profile_path': '/mOMP3SwD5qWQSR0ldCIByd3guTV.jpg'}, {'credit_id': '52fe4284c3a36847f8024f8b', 'department': 'Editing', 'gender': 2, 'id': 8, 'job': 'Editor', 'name': 'Lee Unkrich', 'profile_path': '/bdTCCXjgOV3YyaNmLGYGOxFQMOc.jpg'}, {'credit_id': '52fe4284c3a36847f8024f91', 'department': 'Art', 'gender': 2, 'id': 7883, 'job': 'Art Direction', 'name': 'Ralph Eggleston', 'profile_path': '/uUfcGKDsKO1aROMpXRs67Hn6RvR.jpg'}, {'credit_id': '598331bf925141421201044b', 'department': 'Editing', 'gender': 2, 'id': 1168870, 'job': 'Editor', 'name': 'Robert Gordon', 'profile_path': None}, {'credit_id': '5892168cc3a36809660095f9', 'department': 'Sound', 'gender': 0, 'id': 1552883, 'job': 'Foley Editor', 'name': 'Mary Helen Leasman', 'profile_path': None}, {'credit_id': '5531824d9251415289000945', 'department': 'Visual Effects', 'gender': 0, 'id': 1453514, 'job': 'Animation', 'name': 'Kim Blanchette', 'profile_path': None}, {'credit_id': '589215969251412dcb009bf6', 'department': 'Sound', 'gender': 0, 'id': 1414182, 'job': 'ADR Editor', 'name': 'Marilyn McCoppen', 'profile_path': None}, {'credit_id': '589217099251412dc500a018', 'department': 'Sound', 'gender': 2, 'id': 7885, 'job': 'Orchestrator', 'name': 'Randy Newman', 'profile_path': '/w0JzfoiM25nrnxYOzosPHRq6mlE.jpg'}, {'credit_id': '5693e6b29251417b0e0000e3', 'department': 'Editing', 'gender': 0, 'id': 1429549, 'job': 'Color Timer', 'name': 'Dale E. Grahn', 'profile_path': None}, {'credit_id': '572e2522c3a36869e6001a9c', 'department': 'Visual Effects', 'gender': 0, 'id': 7949, 'job': 'CG Painter', 'name': 'Robin Cooper', 'profile_path': None}, {'credit_id': '574f12309251415ca1000012', 'department': 'Writing', 'gender': 2, 'id': 7879, 'job': 'Original Story', 'name': 'John Lasseter', 'profile_path': '/7EdqiNbr4FRjIhKHyPPdFfEEEFG.jpg'}, {'credit_id': '574f1240c3a3682e7300001c', 'department': 'Writing', 'gender': 2, 'id': 12890, 'job': 'Original Story', 'name': 'Pete Docter', 'profile_path': '/r6ngPgnReA3RHmKjmSoVsc6Awjp.jpg'}, {'credit_id': '574f12519251415c92000015', 'department': 'Writing', 'gender': 0, 'id': 7911, 'job': 'Original Story', 'name': 'Joe Ranft', 'profile_path': '/f1BoWC2JbCcfP1e5hKfGsxkHzVU.jpg'}, {'credit_id': '574f12cec3a3682e82000022', 'department': 'Crew', 'gender': 0, 'id': 1629419, 'job': 'Post Production Supervisor', 'name': 'Patsy Bouge', 'profile_path': None}, {'credit_id': '574f14f19251415ca1000082', 'department': 'Art', 'gender': 0, 'id': 7961, 'job': 'Sculptor', 'name': 'Norm DeCarlo', 'profile_path': None}, {'credit_id': '5751ae4bc3a3683772002b7f', 'department': 'Visual Effects', 'gender': 2, 'id': 12905, 'job': 'Animation Director', 'name': 'Ash Brannon', 'profile_path': '/6ueWgPEEBHvS3De2BHYQnYjRTig.jpg'}, {'credit_id': '5891edbe9251412dc5007cd6', 'department': 'Sound', 'gender': 2, 'id': 7885, 'job': 'Music', 'name': 'Randy Newman', 'profile_path': '/w0JzfoiM25nrnxYOzosPHRq6mlE.jpg'}, {'credit_id': '589213d39251412dc8009832', 'department': 'Directing', 'gender': 0, 'id': 1748707, 'job': 'Layout', 'name': 'Roman Figun', 'profile_path': None}, {'credit_id': '5892173dc3a3680968009351', 'department': 'Sound', 'gender': 2, 'id': 4949, 'job': 'Orchestrator', 'name': 'Don Davis', 'profile_path': None}, {'credit_id': '589217cec3a3686b0a0052ba', 'department': 'Sound', 'gender': 0, 'id': 1372885, 'job': 'Music Editor', 'name': 'James Flamberg', 'profile_path': None}, {'credit_id': '58921831c3a3686348004a64', 'department': 'Editing', 'gender': 0, 'id': 1739962, 'job': 'Negative Cutter', 'name': 'Mary Beth Smith', 'profile_path': None}, {'credit_id': '58921838c3a36809700096c0', 'department': 'Editing', 'gender': 0, 'id': 1748513, 'job': 'Negative Cutter', 'name': 'Rick Mackay', 'profile_path': None}, {'credit_id': '589218429251412dd1009d1b', 'department': 'Art', 'gender': 0, 'id': 1458006, 'job': 'Title Designer', 'name': 'Susan Bradley', 'profile_path': None}, {'credit_id': '5891ed99c3a3680966007670', 'department': 'Crew', 'gender': 0, 'id': 1748557, 'job': 'Supervising Technical Director', 'name': 'William Reeves', 'profile_path': None}, {'credit_id': '5891edcec3a3686b0a002eb2', 'department': 'Sound', 'gender': 2, 'id': 7885, 'job': 'Songs', 'name': 'Randy Newman', 'profile_path': '/w0JzfoiM25nrnxYOzosPHRq6mlE.jpg'}, {'credit_id': '5891edf9c3a36809700075e6', 'department': 'Writing', 'gender': 2, 'id': 7, 'job': 'Original Story', 'name': 'Andrew Stanton', 'profile_path': '/pvQWsu0qc8JFQhMVJkTHuexUAa1.jpg'}, {'credit_id': '58920f0b9251412dd7009104', 'department': 'Crew', 'gender': 2, 'id': 12890, 'job': 'Supervising Animator', 'name': 'Pete Docter', 'profile_path': '/r6ngPgnReA3RHmKjmSoVsc6Awjp.jpg'}, {'credit_id': '58920f1fc3a3680977009021', 'department': 'Sound', 'gender': 2, 'id': 2216, 'job': 'Sound Designer', 'name': 'Gary Rydstrom', 'profile_path': '/jZpr1nVfO7lldWI0YtmP1FGw7Rj.jpg'}, {'credit_id': '58920f389251412dd700912d', 'department': 'Production', 'gender': 0, 'id': 12909, 'job': 'Production Supervisor', 'name': 'Karen Robert Jackson', 'profile_path': None}, {'credit_id': '58920fbd9251412dcb00969c', 'department': 'Crew', 'gender': 0, 'id': 953331, 'job': 'Executive Music Producer', 'name': 'Chris Montan', 'profile_path': None}, {'credit_id': '589210069251412dd7009219', 'department': 'Visual Effects', 'gender': 0, 'id': 7893, 'job': 'Animation Director', 'name': 'Rich Quade', 'profile_path': None}, {'credit_id': '589210329251412dcd00943b', 'department': 'Visual Effects', 'gender': 0, 'id': 8025, 'job': 'Animation', 'name': 'Michael Berenstein', 'profile_path': None}, {'credit_id': '5892103bc3a368096a009180', 'department': 'Visual Effects', 'gender': 0, 'id': 78009, 'job': 'Animation', 'name': 'Colin Brady', 'profile_path': None}, {'credit_id': '5892105dc3a3680968008db2', 'department': 'Visual Effects', 'gender': 0, 'id': 1748682, 'job': 'Animation', 'name': 'Davey Crockett Feiten', 'profile_path': None}, {'credit_id': '589210669251412dcd009466', 'department': 'Visual Effects', 'gender': 0, 'id': 1454030, 'job': 'Animation', 'name': 'Angie Glocka', 'profile_path': None}, {'credit_id': '5892107c9251412dd1009613', 'department': 'Visual Effects', 'gender': 0, 'id': 1748683, 'job': 'Animation', 'name': 'Rex Grignon', 'profile_path': None}, {'credit_id': '5892108ac3a3680973008d3f', 'department': 'Visual Effects', 'gender': 0, 'id': 1748684, 'job': 'Animation', 'name': 'Tom K. Gurney', 'profile_path': None}, {'credit_id': '58921093c3a3686348004477', 'department': 'Visual Effects', 'gender': 2, 'id': 8029, 'job': 'Animation', 'name': 'Jimmy Hayward', 'profile_path': '/lTDRpudEY7BDwTefXbXzMlmb0ui.jpg'}, {'credit_id': '5892109b9251412dcd0094b0', 'department': 'Visual Effects', 'gender': 0, 'id': 1426773, 'job': 'Animation', 'name': 'Hal T. Hickel', 'profile_path': None}, {'credit_id': '589210a29251412dc5009a29', 'department': 'Visual Effects', 'gender': 0, 'id': 8035, 'job': 'Animation', 'name': 'Karen Kiser', 'profile_path': None}, {'credit_id': '589210ccc3a3680977009191', 'department': 'Visual Effects', 'gender': 0, 'id': 1748688, 'job': 'Animation', 'name': 'Anthony B. LaMolinara', 'profile_path': None}, {'credit_id': '589210d7c3a3686b0a004c1f', 'department': 'Visual Effects', 'gender': 0, 'id': 587314, 'job': 'Animation', 'name': 'Guionne Leroy', 'profile_path': None}, {'credit_id': '589210e1c3a36809770091a7', 'department': 'Visual Effects', 'gender': 2, 'id': 7918, 'job': 'Animation', 'name': 'Bud Luckey', 'profile_path': '/pcCh7G19FKMNijmPQg1PMH1btic.jpg'}, {'credit_id': '589210ee9251412dc200978a', 'department': 'Visual Effects', 'gender': 0, 'id': 1748689, 'job': 'Animation', 'name': 'Les Major', 'profile_path': None}, {'credit_id': '589210fa9251412dc8009595', 'department': 'Visual Effects', 'gender': 2, 'id': 7892, 'job': 'Animation', 'name': 'Glenn McQueen', 'profile_path': None}, {'credit_id': '589211029251412dc8009598', 'department': 'Visual Effects', 'gender': 0, 'id': 555795, 'job': 'Animation', 'name': 'Mark Oftedal', 'profile_path': None}, {'credit_id': '5892110b9251412dc800959d', 'department': 'Visual Effects', 'gender': 2, 'id': 7882, 'job': 'Animation', 'name': 'Jeff Pidgeon', 'profile_path': '/yLddkg5HcgbJg00cS13GVBnP0HY.jpg'}, {'credit_id': '58921113c3a36863480044e4', 'department': 'Visual Effects', 'gender': 0, 'id': 8017, 'job': 'Animation', 'name': 'Jeff Pratt', 'profile_path': None}, {'credit_id': '5892111c9251412dcb0097e9', 'department': 'Visual Effects', 'gender': 0, 'id': 1184140, 'job': 'Animation', 'name': 'Steve Rabatich', 'profile_path': None}, {'credit_id': '58921123c3a36809700090f6', 'department': 'Visual Effects', 'gender': 0, 'id': 8049, 'job': 'Animation', 'name': 'Roger Rose', 'profile_path': None}, {'credit_id': '5892112b9251412dcb0097fb', 'department': 'Visual Effects', 'gender': 0, 'id': 1509559, 'job': 'Animation', 'name': 'Steve Segal', 'profile_path': None}, {'credit_id': '589211349251412dc80095c3', 'department': 'Visual Effects', 'gender': 0, 'id': 1748691, 'job': 'Animation', 'name': 'Doug Sheppeck', 'profile_path': None}, {'credit_id': '5892113cc3a3680970009106', 'department': 'Visual Effects', 'gender': 0, 'id': 8050, 'job': 'Animation', 'name': 'Alan Sperling', 'profile_path': None}, {'credit_id': '58921148c3a3686b0a004c99', 'department': 'Visual Effects', 'gender': 0, 'id': 8010, 'job': 'Animation', 'name': 'Doug Sweetland', 'profile_path': None}, {'credit_id': '58921150c3a3680966009125', 'department': 'Visual Effects', 'gender': 0, 'id': 8044, 'job': 'Animation', 'name': 'David Tart', 'profile_path': None}, {'credit_id': '589211629251412dc5009b00', 'department': 'Visual Effects', 'gender': 0, 'id': 1454034, 'job': 'Animation', 'name': 'Ken Willard', 'profile_path': None}, {'credit_id': '589211c1c3a3686b0a004d28', 'department': 'Visual Effects', 'gender': 0, 'id': 7887, 'job': 'Visual Effects Supervisor', 'name': 'Thomas Porter', 'profile_path': None}, {'credit_id': '589211d4c3a3680968008ed9', 'department': 'Visual Effects', 'gender': 0, 'id': 1406878, 'job': 'Visual Effects', 'name': 'Mark Thomas Henne', 'profile_path': None}, {'credit_id': '589211f59251412dd4008e65', 'department': 'Visual Effects', 'gender': 0, 'id': 1748698, 'job': 'Visual Effects', 'name': 'Oren Jacob', 'profile_path': None}, {'credit_id': '58921242c3a368096a00939b', 'department': 'Visual Effects', 'gender': 0, 'id': 1748699, 'job': 'Visual Effects', 'name': 'Darwyn Peachey', 'profile_path': None}, {'credit_id': '5892124b9251412dc5009bd2', 'department': 'Visual Effects', 'gender': 0, 'id': 1748701, 'job': 'Visual Effects', 'name': 'Mitch Prater', 'profile_path': None}, {'credit_id': '58921264c3a3686b0a004dbf', 'department': 'Visual Effects', 'gender': 0, 'id': 1748703, 'job': 'Visual Effects', 'name': 'Brian M. Rosen', 'profile_path': None}, {'credit_id': '589212709251412dcd009676', 'department': 'Lighting', 'gender': 1, 'id': 12912, 'job': 'Lighting Supervisor', 'name': 'Sharon Calahan', 'profile_path': None}, {'credit_id': '5892127fc3a3686b0a004de5', 'department': 'Lighting', 'gender': 0, 'id': 7899, 'job': 'Lighting Supervisor', 'name': 'Galyn Susman', 'profile_path': None}, {'credit_id': '589212cdc3a3680970009268', 'department': 'Visual Effects', 'gender': 0, 'id': 12915, 'job': 'CG Painter', 'name': 'William Cone', 'profile_path': None}, {'credit_id': '5892130f9251412dc8009791', 'department': 'Art', 'gender': 0, 'id': 1748705, 'job': 'Sculptor', 'name': 'Shelley Daniels Lekven', 'profile_path': None}, {'credit_id': '5892131c9251412dd4008f4c', 'department': 'Visual Effects', 'gender': 2, 'id': 7889, 'job': 'Character Designer', 'name': 'Bob Pauley', 'profile_path': None}, {'credit_id': '589213249251412dd100987b', 'department': 'Visual Effects', 'gender': 2, 'id': 7918, 'job': 'Character Designer', 'name': 'Bud Luckey', 'profile_path': '/pcCh7G19FKMNijmPQg1PMH1btic.jpg'}, {'credit_id': '5892132b9251412dc80097b1', 'department': 'Visual Effects', 'gender': 2, 'id': 7, 'job': 'Character Designer', 'name': 'Andrew Stanton', 'profile_path': '/pvQWsu0qc8JFQhMVJkTHuexUAa1.jpg'}, {'credit_id': '58921332c3a368634800467b', 'department': 'Visual Effects', 'gender': 0, 'id': 12915, 'job': 'Character Designer', 'name': 'William Cone', 'profile_path': None}, {'credit_id': '5892135f9251412dd4008f90', 'department': 'Visual Effects', 'gender': 0, 'id': 1748706, 'job': 'Character Designer', 'name': 'Steve Johnson', 'profile_path': None}, {'credit_id': '58921384c3a3680973008fd4', 'department': 'Visual Effects', 'gender': 0, 'id': 1176752, 'job': 'Character Designer', 'name': 'Dan Haskett', 'profile_path': None}, {'credit_id': '5892138e9251412dc20099fc', 'department': 'Visual Effects', 'gender': 0, 'id': 1088034, 'job': 'Character Designer', 'name': 'Tom Holloway', 'profile_path': '/a0r0T2usTBpgMI5aZbRBDW1fTl8.jpg'}, {'credit_id': '58921395c3a368097700942f', 'department': 'Visual Effects', 'gender': 0, 'id': 1447465, 'job': 'Character Designer', 'name': 'Jean Gillmore', 'profile_path': None}, {'credit_id': '589213e2c3a3680973009026', 'department': 'Directing', 'gender': 0, 'id': 1748709, 'job': 'Layout', 'name': 'Desirée Mourad', 'profile_path': None}, {'credit_id': '589214099251412dc5009d57', 'department': 'Art', 'gender': 0, 'id': 1748710, 'job': 'Set Dresser', 'name': \"Kelly O'Connell\", 'profile_path': None}, {'credit_id': '58921411c3a3686b0a004f70', 'department': 'Art', 'gender': 0, 'id': 1443471, 'job': 'Set Dresser', 'name': 'Sonoko Konishi', 'profile_path': None}, {'credit_id': '58921434c3a368096a00956e', 'department': 'Art', 'gender': 0, 'id': 1748711, 'job': 'Set Dresser', 'name': 'Ann M. Rockwell', 'profile_path': None}, {'credit_id': '5892144ac3a36809680090de', 'department': 'Editing', 'gender': 0, 'id': 1748712, 'job': 'Editorial Manager', 'name': 'Julie M. McDonald', 'profile_path': None}, {'credit_id': '58921479c3a368096800910f', 'department': 'Editing', 'gender': 0, 'id': 1589729, 'job': 'Assistant Editor', 'name': 'Robin Lee', 'profile_path': None}, {'credit_id': '5892148b9251412dd10099cc', 'department': 'Editing', 'gender': 0, 'id': 1748716, 'job': 'Assistant Editor', 'name': 'Tom Freeman', 'profile_path': None}, {'credit_id': '589214959251412dcb009b1f', 'department': 'Editing', 'gender': 0, 'id': 1748717, 'job': 'Assistant Editor', 'name': 'Ada Cochavi', 'profile_path': None}, {'credit_id': '5892149ec3a3686348004798', 'department': 'Editing', 'gender': 0, 'id': 1336438, 'job': 'Assistant Editor', 'name': 'Dana Mulligan', 'profile_path': None}, {'credit_id': '589214adc3a368096a0095db', 'department': 'Editing', 'gender': 0, 'id': 1748718, 'job': 'Editorial Coordinator', 'name': 'Deirdre Morrison', 'profile_path': None}, {'credit_id': '589214c7c3a368097700952b', 'department': 'Production', 'gender': 0, 'id': 1748719, 'job': 'Production Coordinator', 'name': 'Lori Lombardo', 'profile_path': None}, {'credit_id': '589214cec3a368096a009603', 'department': 'Production', 'gender': 0, 'id': 1748720, 'job': 'Production Coordinator', 'name': 'Ellen Devine', 'profile_path': None}, {'credit_id': '589214e39251412dc8009904', 'department': 'Crew', 'gender': 0, 'id': 1468014, 'job': 'Unit Publicist', 'name': 'Lauren Beth Strogoff', 'profile_path': None}, {'credit_id': '58921544c3a3686b0a00507d', 'department': 'Sound', 'gender': 2, 'id': 2216, 'job': 'Sound Re-Recording Mixer', 'name': 'Gary Rydstrom', 'profile_path': '/jZpr1nVfO7lldWI0YtmP1FGw7Rj.jpg'}, {'credit_id': '5892154c9251412dd1009a56', 'department': 'Sound', 'gender': 0, 'id': 1425978, 'job': 'Sound Re-Recording Mixer', 'name': 'Gary Summers', 'profile_path': None}, {'credit_id': '58921555c3a36809680091bd', 'department': 'Sound', 'gender': 2, 'id': 8276, 'job': 'Supervising Sound Editor', 'name': 'Tim Holland', 'profile_path': None}, {'credit_id': '589215c39251412dcb009c12', 'department': 'Sound', 'gender': 0, 'id': 7069, 'job': 'Sound Effects Editor', 'name': 'Pat Jackson', 'profile_path': None}, {'credit_id': '58921698c3a368096a009788', 'department': 'Crew', 'gender': 2, 'id': 15894, 'job': 'Sound Design Assistant', 'name': 'Tom Myers', 'profile_path': None}, {'credit_id': '589216a89251412dc2009ca4', 'department': 'Sound', 'gender': 0, 'id': 1414177, 'job': 'Assistant Sound Editor', 'name': 'J.R. Grubbs', 'profile_path': None}, {'credit_id': '589216c19251412dc2009cb9', 'department': 'Sound', 'gender': 1, 'id': 1748724, 'job': 'Assistant Sound Editor', 'name': 'Susan Sanford', 'profile_path': None}, {'credit_id': '589216ccc3a3680973009274', 'department': 'Sound', 'gender': 0, 'id': 1748725, 'job': 'Assistant Sound Editor', 'name': 'Susan Popovic', 'profile_path': None}, {'credit_id': '589216d79251412dc8009aa0', 'department': 'Sound', 'gender': 0, 'id': 8067, 'job': 'Assistant Sound Editor', 'name': 'Dan Engstrom', 'profile_path': None}, {'credit_id': '589216e49251412dcd009a4f', 'department': 'Production', 'gender': 1, 'id': 7902, 'job': 'Casting Consultant', 'name': 'Ruth Lambert', 'profile_path': None}, {'credit_id': '589216f39251412dc2009cf3', 'department': 'Production', 'gender': 0, 'id': 84493, 'job': 'ADR Voice Casting', 'name': 'Mickie McGowan', 'profile_path': '/k7TjJBfINsg8vLQxJwos6XObAD6.jpg'}]   \n",
       "\n",
       "     year  \n",
       "0  [1995]  "
      ]
     },
     "execution_count": 31,
     "metadata": {},
     "output_type": "execute_result"
    }
   ],
   "source": [
    "movies_df_join.head(1)"
   ]
  },
  {
   "attachments": {},
   "cell_type": "markdown",
   "metadata": {},
   "source": [
    "creating a function \"convert(text)\" to extract \"name value\" from the list of dictionaries both from genres and keywords"
   ]
  },
  {
   "cell_type": "code",
   "execution_count": 32,
   "metadata": {},
   "outputs": [],
   "source": [
    "import ast"
   ]
  },
  {
   "cell_type": "code",
   "execution_count": 33,
   "metadata": {},
   "outputs": [],
   "source": [
    "def convert(text):\n",
    "    L = []\n",
    "    for i in ast.literal_eval(text):\n",
    "        L.append(i['name']) \n",
    "    return L "
   ]
  },
  {
   "attachments": {},
   "cell_type": "markdown",
   "metadata": {},
   "source": [
    "now applying the function over both the column genres and keywords with apply function"
   ]
  },
  {
   "cell_type": "code",
   "execution_count": 34,
   "metadata": {},
   "outputs": [],
   "source": [
    "movies_df_join['genres'] = movies_df_join['genres'].apply(convert)\n"
   ]
  },
  {
   "cell_type": "code",
   "execution_count": 35,
   "metadata": {},
   "outputs": [],
   "source": [
    "movies_df_join['keywords'] = movies_df_join['keywords'].apply(convert)\n"
   ]
  },
  {
   "attachments": {},
   "cell_type": "markdown",
   "metadata": {},
   "source": [
    "creating a function \"top_3_cast(text)\" to extract \"top 3 name values\" or top 3 casts of the movie from the list of dictionaries of \"cast\""
   ]
  },
  {
   "cell_type": "code",
   "execution_count": 36,
   "metadata": {},
   "outputs": [],
   "source": [
    "#top 3 starring cast\n",
    "def top_3_cast(text):\n",
    "    L = []\n",
    "    counter = 0\n",
    "    for i in ast.literal_eval(text):\n",
    "        if counter < 3:\n",
    "            L.append(i['name'])\n",
    "        counter+=1\n",
    "    return L"
   ]
  },
  {
   "cell_type": "code",
   "execution_count": 37,
   "metadata": {},
   "outputs": [
    {
     "data": {
      "text/plain": [
       "0        [Tom Hanks, Tim Allen, Don Rickles]                \n",
       "1        [Robin Williams, Jonathan Hyde, Kirsten Dunst]     \n",
       "2        [Walter Matthau, Jack Lemmon, Ann-Margret]         \n",
       "3        [Whitney Houston, Angela Bassett, Loretta Devine]  \n",
       "4        [Steve Martin, Diane Keaton, Martin Short]         \n",
       "                            ...                             \n",
       "45315    [Leila Hatami, Kourosh Tahami, Elham Korda]        \n",
       "45316    [Angel Aquino, Perry Dizon, Hazel Orencio]         \n",
       "45317    [Erika Eleniak, Adam Baldwin, Julie du Page]       \n",
       "45318    [Iwan Mosschuchin, Nathalie Lissenko, Pavel Pavlov]\n",
       "45319    []                                                 \n",
       "Name: cast, Length: 45320, dtype: object"
      ]
     },
     "execution_count": 37,
     "metadata": {},
     "output_type": "execute_result"
    }
   ],
   "source": [
    "movies_df_join['cast'] = movies_df_join['cast'].apply(top_3_cast)\n",
    "movies_df_join['cast'] "
   ]
  },
  {
   "attachments": {},
   "cell_type": "markdown",
   "metadata": {},
   "source": [
    "creating a function \"fetch_director(text)\" to extract \"director name\" from the list of dictionaries of crew"
   ]
  },
  {
   "cell_type": "code",
   "execution_count": 38,
   "metadata": {},
   "outputs": [],
   "source": [
    "def fetch_director(text):\n",
    "    L = []\n",
    "    for i in ast.literal_eval(text):\n",
    "        if i['job'] == 'Director':\n",
    "            L.append(i['name'])\n",
    "    return L "
   ]
  },
  {
   "cell_type": "code",
   "execution_count": 39,
   "metadata": {},
   "outputs": [],
   "source": [
    "movies_df_join['crew'] = movies_df_join['crew'].apply(fetch_director)"
   ]
  },
  {
   "cell_type": "code",
   "execution_count": 40,
   "metadata": {},
   "outputs": [
    {
     "data": {
      "text/html": [
       "<div>\n",
       "<style scoped>\n",
       "    .dataframe tbody tr th:only-of-type {\n",
       "        vertical-align: middle;\n",
       "    }\n",
       "\n",
       "    .dataframe tbody tr th {\n",
       "        vertical-align: top;\n",
       "    }\n",
       "\n",
       "    .dataframe thead th {\n",
       "        text-align: right;\n",
       "    }\n",
       "</style>\n",
       "<table border=\"1\" class=\"dataframe\">\n",
       "  <thead>\n",
       "    <tr style=\"text-align: right;\">\n",
       "      <th></th>\n",
       "      <th>id</th>\n",
       "      <th>title</th>\n",
       "      <th>overview</th>\n",
       "      <th>genres</th>\n",
       "      <th>keywords</th>\n",
       "      <th>cast</th>\n",
       "      <th>crew</th>\n",
       "      <th>year</th>\n",
       "    </tr>\n",
       "  </thead>\n",
       "  <tbody>\n",
       "    <tr>\n",
       "      <th>0</th>\n",
       "      <td>862</td>\n",
       "      <td>Toy Story</td>\n",
       "      <td>Led by Woody, Andy's toys live happily in his room until Andy's birthday brings Buzz Lightyear onto the scene. Afraid of losing his place in Andy's heart, Woody plots against Buzz. But when circumstances separate Buzz and Woody from their owner, the duo eventually learns to put aside their differences.</td>\n",
       "      <td>[Animation, Comedy, Family]</td>\n",
       "      <td>[jealousy, toy, boy, friendship, friends, rivalry, boy next door, new toy, toy comes to life]</td>\n",
       "      <td>[Tom Hanks, Tim Allen, Don Rickles]</td>\n",
       "      <td>[John Lasseter]</td>\n",
       "      <td>[1995]</td>\n",
       "    </tr>\n",
       "    <tr>\n",
       "      <th>1</th>\n",
       "      <td>8844</td>\n",
       "      <td>Jumanji</td>\n",
       "      <td>When siblings Judy and Peter discover an enchanted board game that opens the door to a magical world, they unwittingly invite Alan -- an adult who's been trapped inside the game for 26 years -- into their living room. Alan's only hope for freedom is to finish the game, which proves risky as all three find themselves running from giant rhinoceroses, evil monkeys and other terrifying creatures.</td>\n",
       "      <td>[Adventure, Fantasy, Family]</td>\n",
       "      <td>[board game, disappearance, based on children's book, new home, recluse, giant insect]</td>\n",
       "      <td>[Robin Williams, Jonathan Hyde, Kirsten Dunst]</td>\n",
       "      <td>[Joe Johnston]</td>\n",
       "      <td>[1995]</td>\n",
       "    </tr>\n",
       "    <tr>\n",
       "      <th>2</th>\n",
       "      <td>15602</td>\n",
       "      <td>Grumpier Old Men</td>\n",
       "      <td>A family wedding reignites the ancient feud between next-door neighbors and fishing buddies John and Max. Meanwhile, a sultry Italian divorcée opens a restaurant at the local bait shop, alarming the locals who worry she'll scare the fish away. But she's less interested in seafood than she is in cooking up a hot time with Max.</td>\n",
       "      <td>[Romance, Comedy]</td>\n",
       "      <td>[fishing, best friend, duringcreditsstinger, old men]</td>\n",
       "      <td>[Walter Matthau, Jack Lemmon, Ann-Margret]</td>\n",
       "      <td>[Howard Deutch]</td>\n",
       "      <td>[1995]</td>\n",
       "    </tr>\n",
       "    <tr>\n",
       "      <th>3</th>\n",
       "      <td>31357</td>\n",
       "      <td>Waiting to Exhale</td>\n",
       "      <td>Cheated on, mistreated and stepped on, the women are holding their breath, waiting for the elusive \"good man\" to break a string of less-than-stellar lovers. Friends and confidants Vannah, Bernie, Glo and Robin talk it all out, determined to find a better way to breathe.</td>\n",
       "      <td>[Comedy, Drama, Romance]</td>\n",
       "      <td>[based on novel, interracial relationship, single mother, divorce, chick flick]</td>\n",
       "      <td>[Whitney Houston, Angela Bassett, Loretta Devine]</td>\n",
       "      <td>[Forest Whitaker]</td>\n",
       "      <td>[1995]</td>\n",
       "    </tr>\n",
       "    <tr>\n",
       "      <th>4</th>\n",
       "      <td>11862</td>\n",
       "      <td>Father of the Bride Part II</td>\n",
       "      <td>Just when George Banks has recovered from his daughter's wedding, he receives the news that she's pregnant ... and that George's wife, Nina, is expecting too. He was planning on selling their home, but that's a plan that -- like George -- will have to change with the arrival of both a grandchild and a kid of his own.</td>\n",
       "      <td>[Comedy]</td>\n",
       "      <td>[baby, midlife crisis, confidence, aging, daughter, mother daughter relationship, pregnancy, contraception, gynecologist]</td>\n",
       "      <td>[Steve Martin, Diane Keaton, Martin Short]</td>\n",
       "      <td>[Charles Shyer]</td>\n",
       "      <td>[1995]</td>\n",
       "    </tr>\n",
       "  </tbody>\n",
       "</table>\n",
       "</div>"
      ],
      "text/plain": [
       "      id                        title  \\\n",
       "0  862    Toy Story                     \n",
       "1  8844   Jumanji                       \n",
       "2  15602  Grumpier Old Men              \n",
       "3  31357  Waiting to Exhale             \n",
       "4  11862  Father of the Bride Part II   \n",
       "\n",
       "                                                                                                                                                                                                                                                                                                                                                                                                      overview  \\\n",
       "0  Led by Woody, Andy's toys live happily in his room until Andy's birthday brings Buzz Lightyear onto the scene. Afraid of losing his place in Andy's heart, Woody plots against Buzz. But when circumstances separate Buzz and Woody from their owner, the duo eventually learns to put aside their differences.                                                                                               \n",
       "1  When siblings Judy and Peter discover an enchanted board game that opens the door to a magical world, they unwittingly invite Alan -- an adult who's been trapped inside the game for 26 years -- into their living room. Alan's only hope for freedom is to finish the game, which proves risky as all three find themselves running from giant rhinoceroses, evil monkeys and other terrifying creatures.   \n",
       "2  A family wedding reignites the ancient feud between next-door neighbors and fishing buddies John and Max. Meanwhile, a sultry Italian divorcée opens a restaurant at the local bait shop, alarming the locals who worry she'll scare the fish away. But she's less interested in seafood than she is in cooking up a hot time with Max.                                                                       \n",
       "3  Cheated on, mistreated and stepped on, the women are holding their breath, waiting for the elusive \"good man\" to break a string of less-than-stellar lovers. Friends and confidants Vannah, Bernie, Glo and Robin talk it all out, determined to find a better way to breathe.                                                                                                                                \n",
       "4  Just when George Banks has recovered from his daughter's wedding, he receives the news that she's pregnant ... and that George's wife, Nina, is expecting too. He was planning on selling their home, but that's a plan that -- like George -- will have to change with the arrival of both a grandchild and a kid of his own.                                                                                \n",
       "\n",
       "                         genres  \\\n",
       "0  [Animation, Comedy, Family]    \n",
       "1  [Adventure, Fantasy, Family]   \n",
       "2  [Romance, Comedy]              \n",
       "3  [Comedy, Drama, Romance]       \n",
       "4  [Comedy]                       \n",
       "\n",
       "                                                                                                                    keywords  \\\n",
       "0  [jealousy, toy, boy, friendship, friends, rivalry, boy next door, new toy, toy comes to life]                               \n",
       "1  [board game, disappearance, based on children's book, new home, recluse, giant insect]                                      \n",
       "2  [fishing, best friend, duringcreditsstinger, old men]                                                                       \n",
       "3  [based on novel, interracial relationship, single mother, divorce, chick flick]                                             \n",
       "4  [baby, midlife crisis, confidence, aging, daughter, mother daughter relationship, pregnancy, contraception, gynecologist]   \n",
       "\n",
       "                                                cast               crew  \\\n",
       "0  [Tom Hanks, Tim Allen, Don Rickles]                [John Lasseter]     \n",
       "1  [Robin Williams, Jonathan Hyde, Kirsten Dunst]     [Joe Johnston]      \n",
       "2  [Walter Matthau, Jack Lemmon, Ann-Margret]         [Howard Deutch]     \n",
       "3  [Whitney Houston, Angela Bassett, Loretta Devine]  [Forest Whitaker]   \n",
       "4  [Steve Martin, Diane Keaton, Martin Short]         [Charles Shyer]     \n",
       "\n",
       "     year  \n",
       "0  [1995]  \n",
       "1  [1995]  \n",
       "2  [1995]  \n",
       "3  [1995]  \n",
       "4  [1995]  "
      ]
     },
     "execution_count": 40,
     "metadata": {},
     "output_type": "execute_result"
    }
   ],
   "source": [
    "#checking our function how it looks now after applying the fucntions\n",
    "movies_df_join.head()"
   ]
  },
  {
   "attachments": {},
   "cell_type": "markdown",
   "metadata": {},
   "source": [
    "removing whitespace between name to treat it as a single entity as only first or last name can lead to confusion for the model"
   ]
  },
  {
   "cell_type": "code",
   "execution_count": 41,
   "metadata": {},
   "outputs": [],
   "source": [
    "def collapse(L):\n",
    "    L1 = []\n",
    "    for i in L:\n",
    "        L1.append(i.replace(\" \",\"\"))\n",
    "    return L1"
   ]
  },
  {
   "cell_type": "code",
   "execution_count": 42,
   "metadata": {},
   "outputs": [],
   "source": [
    "movies_df_join['genres'] = movies_df_join['genres'].apply(collapse)\n",
    "movies_df_join['keywords'] = movies_df_join['keywords'].apply(collapse)\n",
    "movies_df_join['cast'] = movies_df_join['cast'].apply(collapse)\n",
    "movies_df_join['crew'] = movies_df_join['crew'].apply(collapse)\n"
   ]
  },
  {
   "attachments": {},
   "cell_type": "markdown",
   "metadata": {},
   "source": [
    "splitting overview in a list"
   ]
  },
  {
   "cell_type": "code",
   "execution_count": 43,
   "metadata": {},
   "outputs": [],
   "source": [
    "movies_df_join['overview'] = movies_df_join['overview'].apply(lambda x:x.split())\n"
   ]
  },
  {
   "attachments": {},
   "cell_type": "markdown",
   "metadata": {},
   "source": [
    "joining all the columns in one column called tags to train the model"
   ]
  },
  {
   "cell_type": "code",
   "execution_count": 44,
   "metadata": {},
   "outputs": [
    {
     "data": {
      "text/html": [
       "<div>\n",
       "<style scoped>\n",
       "    .dataframe tbody tr th:only-of-type {\n",
       "        vertical-align: middle;\n",
       "    }\n",
       "\n",
       "    .dataframe tbody tr th {\n",
       "        vertical-align: top;\n",
       "    }\n",
       "\n",
       "    .dataframe thead th {\n",
       "        text-align: right;\n",
       "    }\n",
       "</style>\n",
       "<table border=\"1\" class=\"dataframe\">\n",
       "  <thead>\n",
       "    <tr style=\"text-align: right;\">\n",
       "      <th></th>\n",
       "      <th>id</th>\n",
       "      <th>title</th>\n",
       "      <th>overview</th>\n",
       "      <th>genres</th>\n",
       "      <th>keywords</th>\n",
       "      <th>cast</th>\n",
       "      <th>crew</th>\n",
       "      <th>year</th>\n",
       "      <th>tags</th>\n",
       "    </tr>\n",
       "  </thead>\n",
       "  <tbody>\n",
       "    <tr>\n",
       "      <th>0</th>\n",
       "      <td>862</td>\n",
       "      <td>Toy Story</td>\n",
       "      <td>[Led, by, Woody,, Andy's, toys, live, happily, in, his, room, until, Andy's, birthday, brings, Buzz, Lightyear, onto, the, scene., Afraid, of, losing, his, place, in, Andy's, heart,, Woody, plots, against, Buzz., But, when, circumstances, separate, Buzz, and, Woody, from, their, owner,, the, duo, eventually, learns, to, put, aside, their, differences.]</td>\n",
       "      <td>[Animation, Comedy, Family]</td>\n",
       "      <td>[jealousy, toy, boy, friendship, friends, rivalry, boynextdoor, newtoy, toycomestolife]</td>\n",
       "      <td>[TomHanks, TimAllen, DonRickles]</td>\n",
       "      <td>[JohnLasseter]</td>\n",
       "      <td>[1995]</td>\n",
       "      <td>[Led, by, Woody,, Andy's, toys, live, happily, in, his, room, until, Andy's, birthday, brings, Buzz, Lightyear, onto, the, scene., Afraid, of, losing, his, place, in, Andy's, heart,, Woody, plots, against, Buzz., But, when, circumstances, separate, Buzz, and, Woody, from, their, owner,, the, duo, eventually, learns, to, put, aside, their, differences., Animation, Comedy, Family, jealousy, toy, boy, friendship, friends, rivalry, boynextdoor, newtoy, toycomestolife, TomHanks, TimAllen, DonRickles, JohnLasseter, 1995]</td>\n",
       "    </tr>\n",
       "    <tr>\n",
       "      <th>1</th>\n",
       "      <td>8844</td>\n",
       "      <td>Jumanji</td>\n",
       "      <td>[When, siblings, Judy, and, Peter, discover, an, enchanted, board, game, that, opens, the, door, to, a, magical, world,, they, unwittingly, invite, Alan, --, an, adult, who's, been, trapped, inside, the, game, for, 26, years, --, into, their, living, room., Alan's, only, hope, for, freedom, is, to, finish, the, game,, which, proves, risky, as, all, three, find, themselves, running, from, giant, rhinoceroses,, evil, monkeys, and, other, terrifying, creatures.]</td>\n",
       "      <td>[Adventure, Fantasy, Family]</td>\n",
       "      <td>[boardgame, disappearance, basedonchildren'sbook, newhome, recluse, giantinsect]</td>\n",
       "      <td>[RobinWilliams, JonathanHyde, KirstenDunst]</td>\n",
       "      <td>[JoeJohnston]</td>\n",
       "      <td>[1995]</td>\n",
       "      <td>[When, siblings, Judy, and, Peter, discover, an, enchanted, board, game, that, opens, the, door, to, a, magical, world,, they, unwittingly, invite, Alan, --, an, adult, who's, been, trapped, inside, the, game, for, 26, years, --, into, their, living, room., Alan's, only, hope, for, freedom, is, to, finish, the, game,, which, proves, risky, as, all, three, find, themselves, running, from, giant, rhinoceroses,, evil, monkeys, and, other, terrifying, creatures., Adventure, Fantasy, Family, boardgame, disappearance, basedonchildren'sbook, newhome, recluse, giantinsect, RobinWilliams, JonathanHyde, KirstenDunst, JoeJohnston, 1995]</td>\n",
       "    </tr>\n",
       "    <tr>\n",
       "      <th>2</th>\n",
       "      <td>15602</td>\n",
       "      <td>Grumpier Old Men</td>\n",
       "      <td>[A, family, wedding, reignites, the, ancient, feud, between, next-door, neighbors, and, fishing, buddies, John, and, Max., Meanwhile,, a, sultry, Italian, divorcée, opens, a, restaurant, at, the, local, bait, shop,, alarming, the, locals, who, worry, she'll, scare, the, fish, away., But, she's, less, interested, in, seafood, than, she, is, in, cooking, up, a, hot, time, with, Max.]</td>\n",
       "      <td>[Romance, Comedy]</td>\n",
       "      <td>[fishing, bestfriend, duringcreditsstinger, oldmen]</td>\n",
       "      <td>[WalterMatthau, JackLemmon, Ann-Margret]</td>\n",
       "      <td>[HowardDeutch]</td>\n",
       "      <td>[1995]</td>\n",
       "      <td>[A, family, wedding, reignites, the, ancient, feud, between, next-door, neighbors, and, fishing, buddies, John, and, Max., Meanwhile,, a, sultry, Italian, divorcée, opens, a, restaurant, at, the, local, bait, shop,, alarming, the, locals, who, worry, she'll, scare, the, fish, away., But, she's, less, interested, in, seafood, than, she, is, in, cooking, up, a, hot, time, with, Max., Romance, Comedy, fishing, bestfriend, duringcreditsstinger, oldmen, WalterMatthau, JackLemmon, Ann-Margret, HowardDeutch, 1995]</td>\n",
       "    </tr>\n",
       "    <tr>\n",
       "      <th>3</th>\n",
       "      <td>31357</td>\n",
       "      <td>Waiting to Exhale</td>\n",
       "      <td>[Cheated, on,, mistreated, and, stepped, on,, the, women, are, holding, their, breath,, waiting, for, the, elusive, \"good, man\", to, break, a, string, of, less-than-stellar, lovers., Friends, and, confidants, Vannah,, Bernie,, Glo, and, Robin, talk, it, all, out,, determined, to, find, a, better, way, to, breathe.]</td>\n",
       "      <td>[Comedy, Drama, Romance]</td>\n",
       "      <td>[basedonnovel, interracialrelationship, singlemother, divorce, chickflick]</td>\n",
       "      <td>[WhitneyHouston, AngelaBassett, LorettaDevine]</td>\n",
       "      <td>[ForestWhitaker]</td>\n",
       "      <td>[1995]</td>\n",
       "      <td>[Cheated, on,, mistreated, and, stepped, on,, the, women, are, holding, their, breath,, waiting, for, the, elusive, \"good, man\", to, break, a, string, of, less-than-stellar, lovers., Friends, and, confidants, Vannah,, Bernie,, Glo, and, Robin, talk, it, all, out,, determined, to, find, a, better, way, to, breathe., Comedy, Drama, Romance, basedonnovel, interracialrelationship, singlemother, divorce, chickflick, WhitneyHouston, AngelaBassett, LorettaDevine, ForestWhitaker, 1995]</td>\n",
       "    </tr>\n",
       "    <tr>\n",
       "      <th>4</th>\n",
       "      <td>11862</td>\n",
       "      <td>Father of the Bride Part II</td>\n",
       "      <td>[Just, when, George, Banks, has, recovered, from, his, daughter's, wedding,, he, receives, the, news, that, she's, pregnant, ..., and, that, George's, wife,, Nina,, is, expecting, too., He, was, planning, on, selling, their, home,, but, that's, a, plan, that, --, like, George, --, will, have, to, change, with, the, arrival, of, both, a, grandchild, and, a, kid, of, his, own.]</td>\n",
       "      <td>[Comedy]</td>\n",
       "      <td>[baby, midlifecrisis, confidence, aging, daughter, motherdaughterrelationship, pregnancy, contraception, gynecologist]</td>\n",
       "      <td>[SteveMartin, DianeKeaton, MartinShort]</td>\n",
       "      <td>[CharlesShyer]</td>\n",
       "      <td>[1995]</td>\n",
       "      <td>[Just, when, George, Banks, has, recovered, from, his, daughter's, wedding,, he, receives, the, news, that, she's, pregnant, ..., and, that, George's, wife,, Nina,, is, expecting, too., He, was, planning, on, selling, their, home,, but, that's, a, plan, that, --, like, George, --, will, have, to, change, with, the, arrival, of, both, a, grandchild, and, a, kid, of, his, own., Comedy, baby, midlifecrisis, confidence, aging, daughter, motherdaughterrelationship, pregnancy, contraception, gynecologist, SteveMartin, DianeKeaton, MartinShort, CharlesShyer, 1995]</td>\n",
       "    </tr>\n",
       "  </tbody>\n",
       "</table>\n",
       "</div>"
      ],
      "text/plain": [
       "      id                        title  \\\n",
       "0  862    Toy Story                     \n",
       "1  8844   Jumanji                       \n",
       "2  15602  Grumpier Old Men              \n",
       "3  31357  Waiting to Exhale             \n",
       "4  11862  Father of the Bride Part II   \n",
       "\n",
       "                                                                                                                                                                                                                                                                                                                                                                                                                                                                          overview  \\\n",
       "0  [Led, by, Woody,, Andy's, toys, live, happily, in, his, room, until, Andy's, birthday, brings, Buzz, Lightyear, onto, the, scene., Afraid, of, losing, his, place, in, Andy's, heart,, Woody, plots, against, Buzz., But, when, circumstances, separate, Buzz, and, Woody, from, their, owner,, the, duo, eventually, learns, to, put, aside, their, differences.]                                                                                                                \n",
       "1  [When, siblings, Judy, and, Peter, discover, an, enchanted, board, game, that, opens, the, door, to, a, magical, world,, they, unwittingly, invite, Alan, --, an, adult, who's, been, trapped, inside, the, game, for, 26, years, --, into, their, living, room., Alan's, only, hope, for, freedom, is, to, finish, the, game,, which, proves, risky, as, all, three, find, themselves, running, from, giant, rhinoceroses,, evil, monkeys, and, other, terrifying, creatures.]   \n",
       "2  [A, family, wedding, reignites, the, ancient, feud, between, next-door, neighbors, and, fishing, buddies, John, and, Max., Meanwhile,, a, sultry, Italian, divorcée, opens, a, restaurant, at, the, local, bait, shop,, alarming, the, locals, who, worry, she'll, scare, the, fish, away., But, she's, less, interested, in, seafood, than, she, is, in, cooking, up, a, hot, time, with, Max.]                                                                                  \n",
       "3  [Cheated, on,, mistreated, and, stepped, on,, the, women, are, holding, their, breath,, waiting, for, the, elusive, \"good, man\", to, break, a, string, of, less-than-stellar, lovers., Friends, and, confidants, Vannah,, Bernie,, Glo, and, Robin, talk, it, all, out,, determined, to, find, a, better, way, to, breathe.]                                                                                                                                                      \n",
       "4  [Just, when, George, Banks, has, recovered, from, his, daughter's, wedding,, he, receives, the, news, that, she's, pregnant, ..., and, that, George's, wife,, Nina,, is, expecting, too., He, was, planning, on, selling, their, home,, but, that's, a, plan, that, --, like, George, --, will, have, to, change, with, the, arrival, of, both, a, grandchild, and, a, kid, of, his, own.]                                                                                        \n",
       "\n",
       "                         genres  \\\n",
       "0  [Animation, Comedy, Family]    \n",
       "1  [Adventure, Fantasy, Family]   \n",
       "2  [Romance, Comedy]              \n",
       "3  [Comedy, Drama, Romance]       \n",
       "4  [Comedy]                       \n",
       "\n",
       "                                                                                                                 keywords  \\\n",
       "0  [jealousy, toy, boy, friendship, friends, rivalry, boynextdoor, newtoy, toycomestolife]                                  \n",
       "1  [boardgame, disappearance, basedonchildren'sbook, newhome, recluse, giantinsect]                                         \n",
       "2  [fishing, bestfriend, duringcreditsstinger, oldmen]                                                                      \n",
       "3  [basedonnovel, interracialrelationship, singlemother, divorce, chickflick]                                               \n",
       "4  [baby, midlifecrisis, confidence, aging, daughter, motherdaughterrelationship, pregnancy, contraception, gynecologist]   \n",
       "\n",
       "                                             cast              crew    year  \\\n",
       "0  [TomHanks, TimAllen, DonRickles]                [JohnLasseter]    [1995]   \n",
       "1  [RobinWilliams, JonathanHyde, KirstenDunst]     [JoeJohnston]     [1995]   \n",
       "2  [WalterMatthau, JackLemmon, Ann-Margret]        [HowardDeutch]    [1995]   \n",
       "3  [WhitneyHouston, AngelaBassett, LorettaDevine]  [ForestWhitaker]  [1995]   \n",
       "4  [SteveMartin, DianeKeaton, MartinShort]         [CharlesShyer]    [1995]   \n",
       "\n",
       "                                                                                                                                                                                                                                                                                                                                                                                                                                                                                                                                                                                                                                                        tags  \n",
       "0  [Led, by, Woody,, Andy's, toys, live, happily, in, his, room, until, Andy's, birthday, brings, Buzz, Lightyear, onto, the, scene., Afraid, of, losing, his, place, in, Andy's, heart,, Woody, plots, against, Buzz., But, when, circumstances, separate, Buzz, and, Woody, from, their, owner,, the, duo, eventually, learns, to, put, aside, their, differences., Animation, Comedy, Family, jealousy, toy, boy, friendship, friends, rivalry, boynextdoor, newtoy, toycomestolife, TomHanks, TimAllen, DonRickles, JohnLasseter, 1995]                                                                                                                   \n",
       "1  [When, siblings, Judy, and, Peter, discover, an, enchanted, board, game, that, opens, the, door, to, a, magical, world,, they, unwittingly, invite, Alan, --, an, adult, who's, been, trapped, inside, the, game, for, 26, years, --, into, their, living, room., Alan's, only, hope, for, freedom, is, to, finish, the, game,, which, proves, risky, as, all, three, find, themselves, running, from, giant, rhinoceroses,, evil, monkeys, and, other, terrifying, creatures., Adventure, Fantasy, Family, boardgame, disappearance, basedonchildren'sbook, newhome, recluse, giantinsect, RobinWilliams, JonathanHyde, KirstenDunst, JoeJohnston, 1995]  \n",
       "2  [A, family, wedding, reignites, the, ancient, feud, between, next-door, neighbors, and, fishing, buddies, John, and, Max., Meanwhile,, a, sultry, Italian, divorcée, opens, a, restaurant, at, the, local, bait, shop,, alarming, the, locals, who, worry, she'll, scare, the, fish, away., But, she's, less, interested, in, seafood, than, she, is, in, cooking, up, a, hot, time, with, Max., Romance, Comedy, fishing, bestfriend, duringcreditsstinger, oldmen, WalterMatthau, JackLemmon, Ann-Margret, HowardDeutch, 1995]                                                                                                                           \n",
       "3  [Cheated, on,, mistreated, and, stepped, on,, the, women, are, holding, their, breath,, waiting, for, the, elusive, \"good, man\", to, break, a, string, of, less-than-stellar, lovers., Friends, and, confidants, Vannah,, Bernie,, Glo, and, Robin, talk, it, all, out,, determined, to, find, a, better, way, to, breathe., Comedy, Drama, Romance, basedonnovel, interracialrelationship, singlemother, divorce, chickflick, WhitneyHouston, AngelaBassett, LorettaDevine, ForestWhitaker, 1995]                                                                                                                                                         \n",
       "4  [Just, when, George, Banks, has, recovered, from, his, daughter's, wedding,, he, receives, the, news, that, she's, pregnant, ..., and, that, George's, wife,, Nina,, is, expecting, too., He, was, planning, on, selling, their, home,, but, that's, a, plan, that, --, like, George, --, will, have, to, change, with, the, arrival, of, both, a, grandchild, and, a, kid, of, his, own., Comedy, baby, midlifecrisis, confidence, aging, daughter, motherdaughterrelationship, pregnancy, contraception, gynecologist, SteveMartin, DianeKeaton, MartinShort, CharlesShyer, 1995]                                                                        "
      ]
     },
     "execution_count": 44,
     "metadata": {},
     "output_type": "execute_result"
    }
   ],
   "source": [
    "movies_df_join['tags'] = movies_df_join['overview'] + movies_df_join['genres'] + movies_df_join['keywords'] + movies_df_join['cast'] + movies_df_join['crew']  + movies_df_join['year']\n",
    "movies_df_join.head()"
   ]
  },
  {
   "cell_type": "code",
   "execution_count": 45,
   "metadata": {},
   "outputs": [
    {
     "data": {
      "text/html": [
       "<div>\n",
       "<style scoped>\n",
       "    .dataframe tbody tr th:only-of-type {\n",
       "        vertical-align: middle;\n",
       "    }\n",
       "\n",
       "    .dataframe tbody tr th {\n",
       "        vertical-align: top;\n",
       "    }\n",
       "\n",
       "    .dataframe thead th {\n",
       "        text-align: right;\n",
       "    }\n",
       "</style>\n",
       "<table border=\"1\" class=\"dataframe\">\n",
       "  <thead>\n",
       "    <tr style=\"text-align: right;\">\n",
       "      <th></th>\n",
       "      <th>id</th>\n",
       "      <th>title</th>\n",
       "      <th>genres</th>\n",
       "      <th>tags</th>\n",
       "    </tr>\n",
       "  </thead>\n",
       "  <tbody>\n",
       "    <tr>\n",
       "      <th>0</th>\n",
       "      <td>862</td>\n",
       "      <td>Toy Story</td>\n",
       "      <td>[Animation, Comedy, Family]</td>\n",
       "      <td>[Led, by, Woody,, Andy's, toys, live, happily, in, his, room, until, Andy's, birthday, brings, Buzz, Lightyear, onto, the, scene., Afraid, of, losing, his, place, in, Andy's, heart,, Woody, plots, against, Buzz., But, when, circumstances, separate, Buzz, and, Woody, from, their, owner,, the, duo, eventually, learns, to, put, aside, their, differences., Animation, Comedy, Family, jealousy, toy, boy, friendship, friends, rivalry, boynextdoor, newtoy, toycomestolife, TomHanks, TimAllen, DonRickles, JohnLasseter, 1995]</td>\n",
       "    </tr>\n",
       "    <tr>\n",
       "      <th>1</th>\n",
       "      <td>8844</td>\n",
       "      <td>Jumanji</td>\n",
       "      <td>[Adventure, Fantasy, Family]</td>\n",
       "      <td>[When, siblings, Judy, and, Peter, discover, an, enchanted, board, game, that, opens, the, door, to, a, magical, world,, they, unwittingly, invite, Alan, --, an, adult, who's, been, trapped, inside, the, game, for, 26, years, --, into, their, living, room., Alan's, only, hope, for, freedom, is, to, finish, the, game,, which, proves, risky, as, all, three, find, themselves, running, from, giant, rhinoceroses,, evil, monkeys, and, other, terrifying, creatures., Adventure, Fantasy, Family, boardgame, disappearance, basedonchildren'sbook, newhome, recluse, giantinsect, RobinWilliams, JonathanHyde, KirstenDunst, JoeJohnston, 1995]</td>\n",
       "    </tr>\n",
       "    <tr>\n",
       "      <th>2</th>\n",
       "      <td>15602</td>\n",
       "      <td>Grumpier Old Men</td>\n",
       "      <td>[Romance, Comedy]</td>\n",
       "      <td>[A, family, wedding, reignites, the, ancient, feud, between, next-door, neighbors, and, fishing, buddies, John, and, Max., Meanwhile,, a, sultry, Italian, divorcée, opens, a, restaurant, at, the, local, bait, shop,, alarming, the, locals, who, worry, she'll, scare, the, fish, away., But, she's, less, interested, in, seafood, than, she, is, in, cooking, up, a, hot, time, with, Max., Romance, Comedy, fishing, bestfriend, duringcreditsstinger, oldmen, WalterMatthau, JackLemmon, Ann-Margret, HowardDeutch, 1995]</td>\n",
       "    </tr>\n",
       "    <tr>\n",
       "      <th>3</th>\n",
       "      <td>31357</td>\n",
       "      <td>Waiting to Exhale</td>\n",
       "      <td>[Comedy, Drama, Romance]</td>\n",
       "      <td>[Cheated, on,, mistreated, and, stepped, on,, the, women, are, holding, their, breath,, waiting, for, the, elusive, \"good, man\", to, break, a, string, of, less-than-stellar, lovers., Friends, and, confidants, Vannah,, Bernie,, Glo, and, Robin, talk, it, all, out,, determined, to, find, a, better, way, to, breathe., Comedy, Drama, Romance, basedonnovel, interracialrelationship, singlemother, divorce, chickflick, WhitneyHouston, AngelaBassett, LorettaDevine, ForestWhitaker, 1995]</td>\n",
       "    </tr>\n",
       "    <tr>\n",
       "      <th>4</th>\n",
       "      <td>11862</td>\n",
       "      <td>Father of the Bride Part II</td>\n",
       "      <td>[Comedy]</td>\n",
       "      <td>[Just, when, George, Banks, has, recovered, from, his, daughter's, wedding,, he, receives, the, news, that, she's, pregnant, ..., and, that, George's, wife,, Nina,, is, expecting, too., He, was, planning, on, selling, their, home,, but, that's, a, plan, that, --, like, George, --, will, have, to, change, with, the, arrival, of, both, a, grandchild, and, a, kid, of, his, own., Comedy, baby, midlifecrisis, confidence, aging, daughter, motherdaughterrelationship, pregnancy, contraception, gynecologist, SteveMartin, DianeKeaton, MartinShort, CharlesShyer, 1995]</td>\n",
       "    </tr>\n",
       "  </tbody>\n",
       "</table>\n",
       "</div>"
      ],
      "text/plain": [
       "      id                        title                        genres  \\\n",
       "0  862    Toy Story                    [Animation, Comedy, Family]    \n",
       "1  8844   Jumanji                      [Adventure, Fantasy, Family]   \n",
       "2  15602  Grumpier Old Men             [Romance, Comedy]              \n",
       "3  31357  Waiting to Exhale            [Comedy, Drama, Romance]       \n",
       "4  11862  Father of the Bride Part II  [Comedy]                       \n",
       "\n",
       "                                                                                                                                                                                                                                                                                                                                                                                                                                                                                                                                                                                                                                                        tags  \n",
       "0  [Led, by, Woody,, Andy's, toys, live, happily, in, his, room, until, Andy's, birthday, brings, Buzz, Lightyear, onto, the, scene., Afraid, of, losing, his, place, in, Andy's, heart,, Woody, plots, against, Buzz., But, when, circumstances, separate, Buzz, and, Woody, from, their, owner,, the, duo, eventually, learns, to, put, aside, their, differences., Animation, Comedy, Family, jealousy, toy, boy, friendship, friends, rivalry, boynextdoor, newtoy, toycomestolife, TomHanks, TimAllen, DonRickles, JohnLasseter, 1995]                                                                                                                   \n",
       "1  [When, siblings, Judy, and, Peter, discover, an, enchanted, board, game, that, opens, the, door, to, a, magical, world,, they, unwittingly, invite, Alan, --, an, adult, who's, been, trapped, inside, the, game, for, 26, years, --, into, their, living, room., Alan's, only, hope, for, freedom, is, to, finish, the, game,, which, proves, risky, as, all, three, find, themselves, running, from, giant, rhinoceroses,, evil, monkeys, and, other, terrifying, creatures., Adventure, Fantasy, Family, boardgame, disappearance, basedonchildren'sbook, newhome, recluse, giantinsect, RobinWilliams, JonathanHyde, KirstenDunst, JoeJohnston, 1995]  \n",
       "2  [A, family, wedding, reignites, the, ancient, feud, between, next-door, neighbors, and, fishing, buddies, John, and, Max., Meanwhile,, a, sultry, Italian, divorcée, opens, a, restaurant, at, the, local, bait, shop,, alarming, the, locals, who, worry, she'll, scare, the, fish, away., But, she's, less, interested, in, seafood, than, she, is, in, cooking, up, a, hot, time, with, Max., Romance, Comedy, fishing, bestfriend, duringcreditsstinger, oldmen, WalterMatthau, JackLemmon, Ann-Margret, HowardDeutch, 1995]                                                                                                                           \n",
       "3  [Cheated, on,, mistreated, and, stepped, on,, the, women, are, holding, their, breath,, waiting, for, the, elusive, \"good, man\", to, break, a, string, of, less-than-stellar, lovers., Friends, and, confidants, Vannah,, Bernie,, Glo, and, Robin, talk, it, all, out,, determined, to, find, a, better, way, to, breathe., Comedy, Drama, Romance, basedonnovel, interracialrelationship, singlemother, divorce, chickflick, WhitneyHouston, AngelaBassett, LorettaDevine, ForestWhitaker, 1995]                                                                                                                                                         \n",
       "4  [Just, when, George, Banks, has, recovered, from, his, daughter's, wedding,, he, receives, the, news, that, she's, pregnant, ..., and, that, George's, wife,, Nina,, is, expecting, too., He, was, planning, on, selling, their, home,, but, that's, a, plan, that, --, like, George, --, will, have, to, change, with, the, arrival, of, both, a, grandchild, and, a, kid, of, his, own., Comedy, baby, midlifecrisis, confidence, aging, daughter, motherdaughterrelationship, pregnancy, contraception, gynecologist, SteveMartin, DianeKeaton, MartinShort, CharlesShyer, 1995]                                                                        "
      ]
     },
     "execution_count": 45,
     "metadata": {},
     "output_type": "execute_result"
    }
   ],
   "source": [
    "final_df = movies_df_join.drop(columns=['overview','keywords','cast','crew','year'])\n",
    "final_df.head()"
   ]
  },
  {
   "attachments": {},
   "cell_type": "markdown",
   "metadata": {},
   "source": [
    "## joining splitted list in a sentence like"
   ]
  },
  {
   "cell_type": "code",
   "execution_count": 46,
   "metadata": {},
   "outputs": [],
   "source": [
    "final_df['tags'] = final_df['tags'].apply(lambda x: \" \".join(x))\n",
    "final_df['genres'] = final_df['genres'].apply(lambda x: \" \".join(x))\n",
    "\n"
   ]
  },
  {
   "cell_type": "code",
   "execution_count": 47,
   "metadata": {},
   "outputs": [
    {
     "data": {
      "text/html": [
       "<div>\n",
       "<style scoped>\n",
       "    .dataframe tbody tr th:only-of-type {\n",
       "        vertical-align: middle;\n",
       "    }\n",
       "\n",
       "    .dataframe tbody tr th {\n",
       "        vertical-align: top;\n",
       "    }\n",
       "\n",
       "    .dataframe thead th {\n",
       "        text-align: right;\n",
       "    }\n",
       "</style>\n",
       "<table border=\"1\" class=\"dataframe\">\n",
       "  <thead>\n",
       "    <tr style=\"text-align: right;\">\n",
       "      <th></th>\n",
       "      <th>id</th>\n",
       "      <th>title</th>\n",
       "      <th>genres</th>\n",
       "      <th>tags</th>\n",
       "    </tr>\n",
       "  </thead>\n",
       "  <tbody>\n",
       "    <tr>\n",
       "      <th>0</th>\n",
       "      <td>862</td>\n",
       "      <td>Toy Story</td>\n",
       "      <td>Animation Comedy Family</td>\n",
       "      <td>led by woody, andy's toys live happily in his room until andy's birthday brings buzz lightyear onto the scene. afraid of losing his place in andy's heart, woody plots against buzz. but when circumstances separate buzz and woody from their owner, the duo eventually learns to put aside their differences. animation comedy family jealousy toy boy friendship friends rivalry boynextdoor newtoy toycomestolife tomhanks timallen donrickles johnlasseter 1995</td>\n",
       "    </tr>\n",
       "    <tr>\n",
       "      <th>1</th>\n",
       "      <td>8844</td>\n",
       "      <td>Jumanji</td>\n",
       "      <td>Adventure Fantasy Family</td>\n",
       "      <td>when siblings judy and peter discover an enchanted board game that opens the door to a magical world, they unwittingly invite alan -- an adult who's been trapped inside the game for 26 years -- into their living room. alan's only hope for freedom is to finish the game, which proves risky as all three find themselves running from giant rhinoceroses, evil monkeys and other terrifying creatures. adventure fantasy family boardgame disappearance basedonchildren'sbook newhome recluse giantinsect robinwilliams jonathanhyde kirstendunst joejohnston 1995</td>\n",
       "    </tr>\n",
       "    <tr>\n",
       "      <th>2</th>\n",
       "      <td>15602</td>\n",
       "      <td>Grumpier Old Men</td>\n",
       "      <td>Romance Comedy</td>\n",
       "      <td>a family wedding reignites the ancient feud between next-door neighbors and fishing buddies john and max. meanwhile, a sultry italian divorcée opens a restaurant at the local bait shop, alarming the locals who worry she'll scare the fish away. but she's less interested in seafood than she is in cooking up a hot time with max. romance comedy fishing bestfriend duringcreditsstinger oldmen waltermatthau jacklemmon ann-margret howarddeutch 1995</td>\n",
       "    </tr>\n",
       "    <tr>\n",
       "      <th>3</th>\n",
       "      <td>31357</td>\n",
       "      <td>Waiting to Exhale</td>\n",
       "      <td>Comedy Drama Romance</td>\n",
       "      <td>cheated on, mistreated and stepped on, the women are holding their breath, waiting for the elusive \"good man\" to break a string of less-than-stellar lovers. friends and confidants vannah, bernie, glo and robin talk it all out, determined to find a better way to breathe. comedy drama romance basedonnovel interracialrelationship singlemother divorce chickflick whitneyhouston angelabassett lorettadevine forestwhitaker 1995</td>\n",
       "    </tr>\n",
       "    <tr>\n",
       "      <th>4</th>\n",
       "      <td>11862</td>\n",
       "      <td>Father of the Bride Part II</td>\n",
       "      <td>Comedy</td>\n",
       "      <td>just when george banks has recovered from his daughter's wedding, he receives the news that she's pregnant ... and that george's wife, nina, is expecting too. he was planning on selling their home, but that's a plan that -- like george -- will have to change with the arrival of both a grandchild and a kid of his own. comedy baby midlifecrisis confidence aging daughter motherdaughterrelationship pregnancy contraception gynecologist stevemartin dianekeaton martinshort charlesshyer 1995</td>\n",
       "    </tr>\n",
       "  </tbody>\n",
       "</table>\n",
       "</div>"
      ],
      "text/plain": [
       "      id                        title                    genres  \\\n",
       "0  862    Toy Story                    Animation Comedy Family    \n",
       "1  8844   Jumanji                      Adventure Fantasy Family   \n",
       "2  15602  Grumpier Old Men             Romance Comedy             \n",
       "3  31357  Waiting to Exhale            Comedy Drama Romance       \n",
       "4  11862  Father of the Bride Part II  Comedy                     \n",
       "\n",
       "                                                                                                                                                                                                                                                                                                                                                                                                                                                                                                                                                                      tags  \n",
       "0  led by woody, andy's toys live happily in his room until andy's birthday brings buzz lightyear onto the scene. afraid of losing his place in andy's heart, woody plots against buzz. but when circumstances separate buzz and woody from their owner, the duo eventually learns to put aside their differences. animation comedy family jealousy toy boy friendship friends rivalry boynextdoor newtoy toycomestolife tomhanks timallen donrickles johnlasseter 1995                                                                                                     \n",
       "1  when siblings judy and peter discover an enchanted board game that opens the door to a magical world, they unwittingly invite alan -- an adult who's been trapped inside the game for 26 years -- into their living room. alan's only hope for freedom is to finish the game, which proves risky as all three find themselves running from giant rhinoceroses, evil monkeys and other terrifying creatures. adventure fantasy family boardgame disappearance basedonchildren'sbook newhome recluse giantinsect robinwilliams jonathanhyde kirstendunst joejohnston 1995  \n",
       "2  a family wedding reignites the ancient feud between next-door neighbors and fishing buddies john and max. meanwhile, a sultry italian divorcée opens a restaurant at the local bait shop, alarming the locals who worry she'll scare the fish away. but she's less interested in seafood than she is in cooking up a hot time with max. romance comedy fishing bestfriend duringcreditsstinger oldmen waltermatthau jacklemmon ann-margret howarddeutch 1995                                                                                                             \n",
       "3  cheated on, mistreated and stepped on, the women are holding their breath, waiting for the elusive \"good man\" to break a string of less-than-stellar lovers. friends and confidants vannah, bernie, glo and robin talk it all out, determined to find a better way to breathe. comedy drama romance basedonnovel interracialrelationship singlemother divorce chickflick whitneyhouston angelabassett lorettadevine forestwhitaker 1995                                                                                                                                  \n",
       "4  just when george banks has recovered from his daughter's wedding, he receives the news that she's pregnant ... and that george's wife, nina, is expecting too. he was planning on selling their home, but that's a plan that -- like george -- will have to change with the arrival of both a grandchild and a kid of his own. comedy baby midlifecrisis confidence aging daughter motherdaughterrelationship pregnancy contraception gynecologist stevemartin dianekeaton martinshort charlesshyer 1995                                                                 "
      ]
     },
     "execution_count": 47,
     "metadata": {},
     "output_type": "execute_result"
    }
   ],
   "source": [
    "final_df['tags'] = final_df['tags'].apply(lambda x: x.lower())\n",
    "final_df.head()\n"
   ]
  },
  {
   "attachments": {},
   "cell_type": "markdown",
   "metadata": {},
   "source": [
    "## stemming\n"
   ]
  },
  {
   "cell_type": "code",
   "execution_count": 48,
   "metadata": {},
   "outputs": [],
   "source": [
    "from nltk.stem.porter import PorterStemmer\n",
    "ps=PorterStemmer()"
   ]
  },
  {
   "cell_type": "code",
   "execution_count": 49,
   "metadata": {},
   "outputs": [],
   "source": [
    "def stem(text):\n",
    "    y=[]\n",
    "    for i in text.split():\n",
    "       y.append(ps.stem(i))\n",
    "       \n",
    "    return \" \".join(y)\n",
    "        "
   ]
  },
  {
   "cell_type": "code",
   "execution_count": 50,
   "metadata": {},
   "outputs": [],
   "source": [
    "final_df['tags_post_stem']=final_df['tags'].apply(stem)"
   ]
  },
  {
   "cell_type": "code",
   "execution_count": 51,
   "metadata": {},
   "outputs": [
    {
     "data": {
      "text/html": [
       "<div>\n",
       "<style scoped>\n",
       "    .dataframe tbody tr th:only-of-type {\n",
       "        vertical-align: middle;\n",
       "    }\n",
       "\n",
       "    .dataframe tbody tr th {\n",
       "        vertical-align: top;\n",
       "    }\n",
       "\n",
       "    .dataframe thead th {\n",
       "        text-align: right;\n",
       "    }\n",
       "</style>\n",
       "<table border=\"1\" class=\"dataframe\">\n",
       "  <thead>\n",
       "    <tr style=\"text-align: right;\">\n",
       "      <th></th>\n",
       "      <th>id</th>\n",
       "      <th>title</th>\n",
       "      <th>genres</th>\n",
       "      <th>tags</th>\n",
       "      <th>tags_post_stem</th>\n",
       "    </tr>\n",
       "  </thead>\n",
       "  <tbody>\n",
       "    <tr>\n",
       "      <th>0</th>\n",
       "      <td>862</td>\n",
       "      <td>Toy Story</td>\n",
       "      <td>Animation Comedy Family</td>\n",
       "      <td>led by woody, andy's toys live happily in his room until andy's birthday brings buzz lightyear onto the scene. afraid of losing his place in andy's heart, woody plots against buzz. but when circumstances separate buzz and woody from their owner, the duo eventually learns to put aside their differences. animation comedy family jealousy toy boy friendship friends rivalry boynextdoor newtoy toycomestolife tomhanks timallen donrickles johnlasseter 1995</td>\n",
       "      <td>led by woody, andy' toy live happili in hi room until andy' birthday bring buzz lightyear onto the scene. afraid of lose hi place in andy' heart, woodi plot against buzz. but when circumst separ buzz and woodi from their owner, the duo eventu learn to put asid their differences. anim comedi famili jealousi toy boy friendship friend rivalri boynextdoor newtoy toycomestolif tomhank timallen donrickl johnlasset 1995</td>\n",
       "    </tr>\n",
       "    <tr>\n",
       "      <th>1</th>\n",
       "      <td>8844</td>\n",
       "      <td>Jumanji</td>\n",
       "      <td>Adventure Fantasy Family</td>\n",
       "      <td>when siblings judy and peter discover an enchanted board game that opens the door to a magical world, they unwittingly invite alan -- an adult who's been trapped inside the game for 26 years -- into their living room. alan's only hope for freedom is to finish the game, which proves risky as all three find themselves running from giant rhinoceroses, evil monkeys and other terrifying creatures. adventure fantasy family boardgame disappearance basedonchildren'sbook newhome recluse giantinsect robinwilliams jonathanhyde kirstendunst joejohnston 1995</td>\n",
       "      <td>when sibl judi and peter discov an enchant board game that open the door to a magic world, they unwittingli invit alan -- an adult who' been trap insid the game for 26 year -- into their live room. alan' onli hope for freedom is to finish the game, which prove riski as all three find themselv run from giant rhinoceroses, evil monkey and other terrifi creatures. adventur fantasi famili boardgam disappear basedonchildren'sbook newhom reclus giantinsect robinwilliam jonathanhyd kirstendunst joejohnston 1995</td>\n",
       "    </tr>\n",
       "    <tr>\n",
       "      <th>2</th>\n",
       "      <td>15602</td>\n",
       "      <td>Grumpier Old Men</td>\n",
       "      <td>Romance Comedy</td>\n",
       "      <td>a family wedding reignites the ancient feud between next-door neighbors and fishing buddies john and max. meanwhile, a sultry italian divorcée opens a restaurant at the local bait shop, alarming the locals who worry she'll scare the fish away. but she's less interested in seafood than she is in cooking up a hot time with max. romance comedy fishing bestfriend duringcreditsstinger oldmen waltermatthau jacklemmon ann-margret howarddeutch 1995</td>\n",
       "      <td>a famili wed reignit the ancient feud between next-door neighbor and fish buddi john and max. meanwhile, a sultri italian divorcé open a restaur at the local bait shop, alarm the local who worri she'll scare the fish away. but she' less interest in seafood than she is in cook up a hot time with max. romanc comedi fish bestfriend duringcreditssting oldmen waltermatthau jacklemmon ann-margret howarddeutch 1995</td>\n",
       "    </tr>\n",
       "    <tr>\n",
       "      <th>3</th>\n",
       "      <td>31357</td>\n",
       "      <td>Waiting to Exhale</td>\n",
       "      <td>Comedy Drama Romance</td>\n",
       "      <td>cheated on, mistreated and stepped on, the women are holding their breath, waiting for the elusive \"good man\" to break a string of less-than-stellar lovers. friends and confidants vannah, bernie, glo and robin talk it all out, determined to find a better way to breathe. comedy drama romance basedonnovel interracialrelationship singlemother divorce chickflick whitneyhouston angelabassett lorettadevine forestwhitaker 1995</td>\n",
       "      <td>cheat on, mistreat and step on, the women are hold their breath, wait for the elus \"good man\" to break a string of less-than-stellar lovers. friend and confid vannah, bernie, glo and robin talk it all out, determin to find a better way to breathe. comedi drama romanc basedonnovel interracialrelationship singlemoth divorc chickflick whitneyhouston angelabassett lorettadevin forestwhitak 1995</td>\n",
       "    </tr>\n",
       "    <tr>\n",
       "      <th>4</th>\n",
       "      <td>11862</td>\n",
       "      <td>Father of the Bride Part II</td>\n",
       "      <td>Comedy</td>\n",
       "      <td>just when george banks has recovered from his daughter's wedding, he receives the news that she's pregnant ... and that george's wife, nina, is expecting too. he was planning on selling their home, but that's a plan that -- like george -- will have to change with the arrival of both a grandchild and a kid of his own. comedy baby midlifecrisis confidence aging daughter motherdaughterrelationship pregnancy contraception gynecologist stevemartin dianekeaton martinshort charlesshyer 1995</td>\n",
       "      <td>just when georg bank ha recov from hi daughter' wedding, he receiv the news that she' pregnant ... and that george' wife, nina, is expect too. he wa plan on sell their home, but that' a plan that -- like georg -- will have to chang with the arriv of both a grandchild and a kid of hi own. comedi babi midlifecrisi confid age daughter motherdaughterrelationship pregnanc contracept gynecologist stevemartin dianekeaton martinshort charlesshy 1995</td>\n",
       "    </tr>\n",
       "  </tbody>\n",
       "</table>\n",
       "</div>"
      ],
      "text/plain": [
       "      id                        title                    genres  \\\n",
       "0  862    Toy Story                    Animation Comedy Family    \n",
       "1  8844   Jumanji                      Adventure Fantasy Family   \n",
       "2  15602  Grumpier Old Men             Romance Comedy             \n",
       "3  31357  Waiting to Exhale            Comedy Drama Romance       \n",
       "4  11862  Father of the Bride Part II  Comedy                     \n",
       "\n",
       "                                                                                                                                                                                                                                                                                                                                                                                                                                                                                                                                                                      tags  \\\n",
       "0  led by woody, andy's toys live happily in his room until andy's birthday brings buzz lightyear onto the scene. afraid of losing his place in andy's heart, woody plots against buzz. but when circumstances separate buzz and woody from their owner, the duo eventually learns to put aside their differences. animation comedy family jealousy toy boy friendship friends rivalry boynextdoor newtoy toycomestolife tomhanks timallen donrickles johnlasseter 1995                                                                                                      \n",
       "1  when siblings judy and peter discover an enchanted board game that opens the door to a magical world, they unwittingly invite alan -- an adult who's been trapped inside the game for 26 years -- into their living room. alan's only hope for freedom is to finish the game, which proves risky as all three find themselves running from giant rhinoceroses, evil monkeys and other terrifying creatures. adventure fantasy family boardgame disappearance basedonchildren'sbook newhome recluse giantinsect robinwilliams jonathanhyde kirstendunst joejohnston 1995   \n",
       "2  a family wedding reignites the ancient feud between next-door neighbors and fishing buddies john and max. meanwhile, a sultry italian divorcée opens a restaurant at the local bait shop, alarming the locals who worry she'll scare the fish away. but she's less interested in seafood than she is in cooking up a hot time with max. romance comedy fishing bestfriend duringcreditsstinger oldmen waltermatthau jacklemmon ann-margret howarddeutch 1995                                                                                                              \n",
       "3  cheated on, mistreated and stepped on, the women are holding their breath, waiting for the elusive \"good man\" to break a string of less-than-stellar lovers. friends and confidants vannah, bernie, glo and robin talk it all out, determined to find a better way to breathe. comedy drama romance basedonnovel interracialrelationship singlemother divorce chickflick whitneyhouston angelabassett lorettadevine forestwhitaker 1995                                                                                                                                   \n",
       "4  just when george banks has recovered from his daughter's wedding, he receives the news that she's pregnant ... and that george's wife, nina, is expecting too. he was planning on selling their home, but that's a plan that -- like george -- will have to change with the arrival of both a grandchild and a kid of his own. comedy baby midlifecrisis confidence aging daughter motherdaughterrelationship pregnancy contraception gynecologist stevemartin dianekeaton martinshort charlesshyer 1995                                                                  \n",
       "\n",
       "                                                                                                                                                                                                                                                                                                                                                                                                                                                                                                                  tags_post_stem  \n",
       "0  led by woody, andy' toy live happili in hi room until andy' birthday bring buzz lightyear onto the scene. afraid of lose hi place in andy' heart, woodi plot against buzz. but when circumst separ buzz and woodi from their owner, the duo eventu learn to put asid their differences. anim comedi famili jealousi toy boy friendship friend rivalri boynextdoor newtoy toycomestolif tomhank timallen donrickl johnlasset 1995                                                                                               \n",
       "1  when sibl judi and peter discov an enchant board game that open the door to a magic world, they unwittingli invit alan -- an adult who' been trap insid the game for 26 year -- into their live room. alan' onli hope for freedom is to finish the game, which prove riski as all three find themselv run from giant rhinoceroses, evil monkey and other terrifi creatures. adventur fantasi famili boardgam disappear basedonchildren'sbook newhom reclus giantinsect robinwilliam jonathanhyd kirstendunst joejohnston 1995  \n",
       "2  a famili wed reignit the ancient feud between next-door neighbor and fish buddi john and max. meanwhile, a sultri italian divorcé open a restaur at the local bait shop, alarm the local who worri she'll scare the fish away. but she' less interest in seafood than she is in cook up a hot time with max. romanc comedi fish bestfriend duringcreditssting oldmen waltermatthau jacklemmon ann-margret howarddeutch 1995                                                                                                    \n",
       "3  cheat on, mistreat and step on, the women are hold their breath, wait for the elus \"good man\" to break a string of less-than-stellar lovers. friend and confid vannah, bernie, glo and robin talk it all out, determin to find a better way to breathe. comedi drama romanc basedonnovel interracialrelationship singlemoth divorc chickflick whitneyhouston angelabassett lorettadevin forestwhitak 1995                                                                                                                      \n",
       "4  just when georg bank ha recov from hi daughter' wedding, he receiv the news that she' pregnant ... and that george' wife, nina, is expect too. he wa plan on sell their home, but that' a plan that -- like georg -- will have to chang with the arriv of both a grandchild and a kid of hi own. comedi babi midlifecrisi confid age daughter motherdaughterrelationship pregnanc contracept gynecologist stevemartin dianekeaton martinshort charlesshy 1995                                                                  "
      ]
     },
     "execution_count": 51,
     "metadata": {},
     "output_type": "execute_result"
    }
   ],
   "source": [
    "final_df.head()"
   ]
  },
  {
   "cell_type": "code",
   "execution_count": 52,
   "metadata": {},
   "outputs": [
    {
     "data": {
      "text/plain": [
       "(45320, 5)"
      ]
     },
     "execution_count": 52,
     "metadata": {},
     "output_type": "execute_result"
    }
   ],
   "source": [
    "final_df.shape"
   ]
  },
  {
   "cell_type": "code",
   "execution_count": 53,
   "metadata": {},
   "outputs": [
    {
     "data": {
      "text/plain": [
       "Blackout                       13\n",
       "Cinderella                     13\n",
       "Hamlet                         9 \n",
       "Alice in Wonderland            8 \n",
       "Beauty and the Beast           8 \n",
       "                              .. \n",
       "Whoopee!                       1 \n",
       "Dr. Ehrlich's Magic Bullet     1 \n",
       "The House on Telegraph Hill    1 \n",
       "How About You...               1 \n",
       "Queerama                       1 \n",
       "Name: title, Length: 41217, dtype: int64"
      ]
     },
     "execution_count": 53,
     "metadata": {},
     "output_type": "execute_result"
    }
   ],
   "source": [
    "final_df.title.value_counts()"
   ]
  },
  {
   "attachments": {},
   "cell_type": "markdown",
   "metadata": {},
   "source": [
    "ngram range bigram, 2 words together"
   ]
  },
  {
   "cell_type": "code",
   "execution_count": 54,
   "metadata": {},
   "outputs": [
    {
     "data": {
      "text/plain": [
       "Drama                                     5016\n",
       "Comedy                                    3390\n",
       "Documentary                               2761\n",
       "                                          2231\n",
       "Drama Romance                             1319\n",
       "                                          ... \n",
       "Crime Adventure Action Comedy Thriller    1   \n",
       "Animation Horror Thriller                 1   \n",
       "Drama Action Comedy Thriller Foreign      1   \n",
       "ScienceFiction Action Adventure Comedy    1   \n",
       "Family Animation Romance Comedy           1   \n",
       "Name: genres, Length: 4039, dtype: int64"
      ]
     },
     "execution_count": 54,
     "metadata": {},
     "output_type": "execute_result"
    }
   ],
   "source": [
    "final_df.genres.value_counts()"
   ]
  },
  {
   "cell_type": "code",
   "execution_count": 55,
   "metadata": {},
   "outputs": [
    {
     "data": {
      "text/plain": [
       "recovering from a nail gun shot to the head and 13 months of coma, doctor pekka valinta starts to unravel the mystery of his past, still suffering from total amnesia. thriller mystery petterisummanen ismokallio eppusalminen jpsiili 2008                                                                                                                                                                                                                                                                                                                                                                                                                                                                                                                                                                                                                                                                                                                                                                                                                                                                  9\n",
       "the third film of frank capra's 'why we fight\" propaganda film series, dealing with the nazi conquest of western europe in 1940. documentary knoxmanning murrayalper generalbergeret frankcapra anatolelitvak 1943                                                                                                                                                                                                                                                                                                                                                                                                                                                                                                                                                                                                                                                                                                                                                                                                                                                                                            6\n",
       "since women are banned from soccer matches, iranian females masquerade as males so they can slip into tehran's stadium to see the game between iran and bahrain. the ones who are caught and arrested are taken to a holding area and guarded by soldiers. one sympathetic soldier agrees to watch the game through a peephole and recount the action to the impatient fans. drama comedy foreign simamobarak-shahi shayestehirani aydasadeqi jafarpanahi 2006                                                                                                                                                                                                                                                                                                                                                                                                                                                                                                                                                                                                                                                4\n",
       "all your favorite pokémon characters are back, and are joined for the first time by the legendary pokémon celebi and suicune, in this latest exciting pokémon adventure! in order to escape a greedy pokémon hunter, celebi must use the last of its energy to travel through time to the present day. celebi brings along sammy, a boy who had been trying to protect it. along with ash, pikachu, and the rest of the gang, sammy and celebi encounter an enemy far more advanced than the hunter left behind in the past. this new enemy possesses a pokéball called a “dark ball,” which transforms the pokémon it captures into evil and far stronger creatures. when celebi is captured, the fate of the entire forest is threatened. let pokémon 4ever transport you to a world of adventure as ash, suicune and the rest take action to save the day! adventure fantasy animation sciencefiction family sequel pokémon celebi veronicataylor rachaellillis maddieblaustein kunihikoyuyama jimmalone 2001                                                                                              4\n",
       "on the arabian peninsula in the 1930s, two warring leaders come face to face. the victorious nesib, emir of hobeika, lays down his peace terms to rival amar, sultan of salmaah. the two men agree that neither can lay claim to the area of no man’s land between them called the yellow belt. in return, nesib adopts amar’s two boys saleeh and auda as a guarantee against invasion. twelve years later, saleeh and auda have grown into young men. saleeh, the warrior, itches to escape his gilded cage and return to his father’s land. auda cares only for books and the pursuit of knowledge. one day, their adopted father nesib is visited by an american from texas. he tells the emir that his land is blessed with oil and promises him riches beyond his wildest imagination. nesib imagines a realm of infinite possibility, a kingdom with roads, schools and hospitals all paid for by the black gold beneath the barren sand. there is only one problem. the precious oil is located in the yellow belt. adventure drama markstrong antoniobanderas freidapinto jean-jacquesannaud 2011    4\n",
       "                                                                                                                                                                                                                                                                                                                                                                                                                                                                                                                                                                                                                                                                                                                                                                                                                                                                                                                                                                                                                                                                                                             ..\n",
       "a streetwise cop infiltrates a los angeles car-theft ring after a high-speed accident on the freeway reveals a violent turf war between two all-girl gangs. when lieutenant baynes (stephen bauer) assigns brandy martinez (melina lizette) the task of going undercover to gather evidence against notorious chop-shop owner mama (olivia brown), brandy befriends a former car thief named eva strong (kenyett action thriller carrace stevenbauer oliviabrown melinalizette davidbetances 2010                                                                                                                                                                                                                                                                                                                                                                                                                                                                                                                                                                                                             1\n",
       "a little nenets girl neko is taken against her will from her home to a boarding school in a remote russian village. forced to adapt to a foreign culture and new customs, neko rebels and decides to flee, hoping to get back to her family and old habits. womandirector anastasialapsui markkulehmuskallio 2010                                                                                                                                                                                                                                                                                                                                                                                                                                                                                                                                                                                                                                                                                                                                                                                             1\n",
       "the yes men fix the world is a screwball true story about two gonzo political activists who, posing as top executives of giant corporations, lie their way into big business conferences and pull off the world's most outrageous pranks. documentary andybichlbaum mikebonanno reggiewatts mikebonanno andybichlbaum kurtengfehr 2009                                                                                                                                                                                                                                                                                                                                                                                                                                                                                                                                                                                                                                                                                                                                                                        1\n",
       "mike bassett: england manager is an hilarious british comedy that stars ricky thomlinson. featuring cameos from barry venison, gabby yorath, atomic kitten and pele.when the england manager has a heart attack, footballs' top brass turn to mike bassett (basically no one else wanted the job). england lose mike's first two games in charge. his team struggles to a goal-less draw in the final qualifying match but, thanks to a fluke result elsewhere, england qualify for the finals in brazil.in south america things go from bad to worse. pressure is mounting for mike. an embarrassing drunken performance caught by a new photographer seals his fate as the most unpopular englishman ever.however, mike makes an impassioned plea for the country to get behind him - fans, press, players.... even his wife. can mike turn the tide and bring football home ? .. comedy sport rickytomlinson amandaredman philipjackson stevebarron 2001                                                                                                                                                   1\n",
       "50 years after decriminalisation of homosexuality in the uk, director daisy asquith mines the jewels of the bfi archive to take us into the relationships, desires, fears and expressions of gay men and women in the 20th century. daisyasquith 2017                                                                                                                                                                                                                                                                                                                                                                                                                                                                                                                                                                                                                                                                                                                                                                                                                                                         1\n",
       "Name: tags, Length: 44303, dtype: int64"
      ]
     },
     "execution_count": 55,
     "metadata": {},
     "output_type": "execute_result"
    }
   ],
   "source": [
    "final_df.tags.value_counts()"
   ]
  },
  {
   "cell_type": "code",
   "execution_count": 56,
   "metadata": {},
   "outputs": [],
   "source": [
    "final_df.to_csv('final_df_analysis.csv')"
   ]
  },
  {
   "cell_type": "markdown",
   "metadata": {},
   "source": [
    "\n",
    "PREPROCESSING DONE\n"
   ]
  },
  {
   "attachments": {},
   "cell_type": "markdown",
   "metadata": {},
   "source": [
    "## text to vectors"
   ]
  },
  {
   "attachments": {},
   "cell_type": "markdown",
   "metadata": {},
   "source": [
    "SEARCH ALGO tfidf_tags"
   ]
  },
  {
   "cell_type": "code",
   "execution_count": 57,
   "metadata": {},
   "outputs": [],
   "source": [
    "from sklearn.feature_extraction.text import TfidfVectorizer\n",
    "from nltk.corpus import stopwords\n",
    "stop = stopwords.words('english')\n",
    "\n",
    "# instantiate the vectorizer object\n",
    "vectorizer_title = TfidfVectorizer(ngram_range=(1,2),lowercase=True,stop_words=stop,max_features=41217)\n",
    "vectorizer_genres = TfidfVectorizer(ngram_range=(1,2),lowercase=True,stop_words=stop,max_features=4039)\n",
    "vectorizer_tags = TfidfVectorizer(ngram_range=(1,2),lowercase=True,stop_words=stop,max_features=44303)\n",
    "\n",
    "# convert the documents into a matrix\n",
    "tfidf_title=vectorizer_title.fit_transform(final_df[\"title\"])\n",
    "tfidf_genres=vectorizer_genres.fit_transform(final_df[\"genres\"])\n",
    "tfidf_tags=vectorizer_tags.fit_transform(final_df[\"tags_post_stem\"])\n"
   ]
  },
  {
   "cell_type": "code",
   "execution_count": 58,
   "metadata": {},
   "outputs": [
    {
     "data": {
      "text/plain": [
       "array(['00', '000', '000 black', ..., 'юленька', 'іван', 'іван сила'],\n",
       "      dtype=object)"
      ]
     },
     "execution_count": 58,
     "metadata": {},
     "output_type": "execute_result"
    }
   ],
   "source": [
    "vectorizer_title.get_feature_names_out()\n"
   ]
  },
  {
   "cell_type": "code",
   "execution_count": 59,
   "metadata": {},
   "outputs": [
    {
     "data": {
      "text/plain": [
       "41217"
      ]
     },
     "execution_count": 59,
     "metadata": {},
     "output_type": "execute_result"
    }
   ],
   "source": [
    "len(vectorizer_title.get_feature_names_out())"
   ]
  },
  {
   "cell_type": "code",
   "execution_count": 60,
   "metadata": {},
   "outputs": [
    {
     "data": {
      "text/plain": [
       "array(['action', 'action adventure', 'action animation', 'action comedy',\n",
       "       'action crime', 'action documentary', 'action drama',\n",
       "       'action family', 'action fantasy', 'action foreign',\n",
       "       'action history', 'action horror', 'action music',\n",
       "       'action mystery', 'action romance', 'action sciencefiction',\n",
       "       'action thriller', 'action tvmovie', 'action war',\n",
       "       'action western', 'adventure', 'adventure action',\n",
       "       'adventure animation', 'adventure comedy', 'adventure crime',\n",
       "       'adventure documentary', 'adventure drama', 'adventure family',\n",
       "       'adventure fantasy', 'adventure foreign', 'adventure history',\n",
       "       'adventure horror', 'adventure music', 'adventure mystery',\n",
       "       'adventure romance', 'adventure sciencefiction',\n",
       "       'adventure thriller', 'adventure tvmovie', 'adventure war',\n",
       "       'adventure western', 'animation', 'animation action',\n",
       "       'animation adventure', 'animation comedy', 'animation crime',\n",
       "       'animation documentary', 'animation drama', 'animation family',\n",
       "       'animation fantasy', 'animation foreign', 'animation history',\n",
       "       'animation horror', 'animation music', 'animation mystery',\n",
       "       'animation romance', 'animation sciencefiction',\n",
       "       'animation thriller', 'animation tvmovie', 'animation war',\n",
       "       'animation western', 'comedy', 'comedy action', 'comedy adventure',\n",
       "       'comedy animation', 'comedy crime', 'comedy documentary',\n",
       "       'comedy drama', 'comedy family', 'comedy fantasy',\n",
       "       'comedy foreign', 'comedy history', 'comedy horror',\n",
       "       'comedy music', 'comedy mystery', 'comedy romance',\n",
       "       'comedy sciencefiction', 'comedy thriller', 'comedy tvmovie',\n",
       "       'comedy war', 'comedy western', 'crime', 'crime action',\n",
       "       'crime adventure', 'crime animation', 'crime comedy',\n",
       "       'crime documentary', 'crime drama', 'crime family',\n",
       "       'crime fantasy', 'crime foreign', 'crime history', 'crime horror',\n",
       "       'crime music', 'crime mystery', 'crime romance',\n",
       "       'crime sciencefiction', 'crime thriller', 'crime tvmovie',\n",
       "       'crime war', 'crime western', 'documentary', 'documentary action',\n",
       "       'documentary adventure', 'documentary animation',\n",
       "       'documentary comedy', 'documentary crime', 'documentary drama',\n",
       "       'documentary family', 'documentary fantasy', 'documentary foreign',\n",
       "       'documentary history', 'documentary horror', 'documentary music',\n",
       "       'documentary mystery', 'documentary romance',\n",
       "       'documentary sciencefiction', 'documentary thriller',\n",
       "       'documentary tvmovie', 'documentary war', 'documentary western',\n",
       "       'drama', 'drama action', 'drama adventure', 'drama animation',\n",
       "       'drama comedy', 'drama crime', 'drama documentary', 'drama family',\n",
       "       'drama fantasy', 'drama foreign', 'drama history', 'drama horror',\n",
       "       'drama music', 'drama mystery', 'drama romance',\n",
       "       'drama sciencefiction', 'drama thriller', 'drama tvmovie',\n",
       "       'drama war', 'drama western', 'family', 'family action',\n",
       "       'family adventure', 'family animation', 'family comedy',\n",
       "       'family crime', 'family documentary', 'family drama',\n",
       "       'family fantasy', 'family foreign', 'family history',\n",
       "       'family horror', 'family music', 'family mystery',\n",
       "       'family romance', 'family sciencefiction', 'family thriller',\n",
       "       'family tvmovie', 'family war', 'family western', 'fantasy',\n",
       "       'fantasy action', 'fantasy adventure', 'fantasy animation',\n",
       "       'fantasy comedy', 'fantasy crime', 'fantasy documentary',\n",
       "       'fantasy drama', 'fantasy family', 'fantasy foreign',\n",
       "       'fantasy history', 'fantasy horror', 'fantasy music',\n",
       "       'fantasy mystery', 'fantasy romance', 'fantasy sciencefiction',\n",
       "       'fantasy thriller', 'fantasy tvmovie', 'fantasy war',\n",
       "       'fantasy western', 'foreign', 'foreign action',\n",
       "       'foreign adventure', 'foreign animation', 'foreign comedy',\n",
       "       'foreign crime', 'foreign documentary', 'foreign drama',\n",
       "       'foreign family', 'foreign fantasy', 'foreign history',\n",
       "       'foreign horror', 'foreign music', 'foreign mystery',\n",
       "       'foreign romance', 'foreign sciencefiction', 'foreign thriller',\n",
       "       'foreign tvmovie', 'foreign war', 'foreign western', 'history',\n",
       "       'history action', 'history adventure', 'history animation',\n",
       "       'history comedy', 'history crime', 'history documentary',\n",
       "       'history drama', 'history family', 'history foreign',\n",
       "       'history horror', 'history music', 'history mystery',\n",
       "       'history romance', 'history sciencefiction', 'history thriller',\n",
       "       'history tvmovie', 'history war', 'history western', 'horror',\n",
       "       'horror action', 'horror adventure', 'horror animation',\n",
       "       'horror comedy', 'horror crime', 'horror documentary',\n",
       "       'horror drama', 'horror family', 'horror fantasy',\n",
       "       'horror foreign', 'horror history', 'horror music',\n",
       "       'horror mystery', 'horror romance', 'horror sciencefiction',\n",
       "       'horror thriller', 'horror tvmovie', 'horror war',\n",
       "       'horror western', 'music', 'music action', 'music adventure',\n",
       "       'music animation', 'music comedy', 'music crime',\n",
       "       'music documentary', 'music drama', 'music family',\n",
       "       'music fantasy', 'music foreign', 'music history', 'music horror',\n",
       "       'music mystery', 'music romance', 'music sciencefiction',\n",
       "       'music thriller', 'music tvmovie', 'music war', 'music western',\n",
       "       'mystery', 'mystery action', 'mystery adventure',\n",
       "       'mystery animation', 'mystery comedy', 'mystery crime',\n",
       "       'mystery documentary', 'mystery drama', 'mystery family',\n",
       "       'mystery fantasy', 'mystery foreign', 'mystery history',\n",
       "       'mystery horror', 'mystery music', 'mystery romance',\n",
       "       'mystery sciencefiction', 'mystery thriller', 'mystery tvmovie',\n",
       "       'mystery war', 'mystery western', 'romance', 'romance action',\n",
       "       'romance adventure', 'romance animation', 'romance comedy',\n",
       "       'romance crime', 'romance documentary', 'romance drama',\n",
       "       'romance family', 'romance fantasy', 'romance foreign',\n",
       "       'romance history', 'romance horror', 'romance music',\n",
       "       'romance mystery', 'romance sciencefiction', 'romance thriller',\n",
       "       'romance tvmovie', 'romance war', 'romance western',\n",
       "       'sciencefiction', 'sciencefiction action',\n",
       "       'sciencefiction adventure', 'sciencefiction animation',\n",
       "       'sciencefiction comedy', 'sciencefiction crime',\n",
       "       'sciencefiction documentary', 'sciencefiction drama',\n",
       "       'sciencefiction family', 'sciencefiction fantasy',\n",
       "       'sciencefiction foreign', 'sciencefiction history',\n",
       "       'sciencefiction horror', 'sciencefiction music',\n",
       "       'sciencefiction mystery', 'sciencefiction romance',\n",
       "       'sciencefiction thriller', 'sciencefiction tvmovie',\n",
       "       'sciencefiction war', 'sciencefiction western', 'thriller',\n",
       "       'thriller action', 'thriller adventure', 'thriller animation',\n",
       "       'thriller comedy', 'thriller crime', 'thriller documentary',\n",
       "       'thriller drama', 'thriller family', 'thriller fantasy',\n",
       "       'thriller foreign', 'thriller history', 'thriller horror',\n",
       "       'thriller music', 'thriller mystery', 'thriller romance',\n",
       "       'thriller sciencefiction', 'thriller tvmovie', 'thriller war',\n",
       "       'thriller western', 'tvmovie', 'tvmovie action',\n",
       "       'tvmovie adventure', 'tvmovie animation', 'tvmovie comedy',\n",
       "       'tvmovie crime', 'tvmovie documentary', 'tvmovie drama',\n",
       "       'tvmovie family', 'tvmovie fantasy', 'tvmovie history',\n",
       "       'tvmovie horror', 'tvmovie music', 'tvmovie mystery',\n",
       "       'tvmovie romance', 'tvmovie sciencefiction', 'tvmovie thriller',\n",
       "       'tvmovie war', 'tvmovie western', 'war', 'war action',\n",
       "       'war adventure', 'war animation', 'war comedy', 'war crime',\n",
       "       'war documentary', 'war drama', 'war family', 'war fantasy',\n",
       "       'war foreign', 'war history', 'war horror', 'war music',\n",
       "       'war mystery', 'war romance', 'war sciencefiction', 'war thriller',\n",
       "       'war tvmovie', 'war western', 'western', 'western action',\n",
       "       'western adventure', 'western animation', 'western comedy',\n",
       "       'western crime', 'western documentary', 'western drama',\n",
       "       'western family', 'western foreign', 'western history',\n",
       "       'western horror', 'western music', 'western mystery',\n",
       "       'western romance', 'western sciencefiction', 'western thriller',\n",
       "       'western tvmovie', 'western war'], dtype=object)"
      ]
     },
     "execution_count": 60,
     "metadata": {},
     "output_type": "execute_result"
    }
   ],
   "source": [
    "vectorizer_genres.get_feature_names_out()"
   ]
  },
  {
   "cell_type": "code",
   "execution_count": 61,
   "metadata": {},
   "outputs": [
    {
     "data": {
      "text/plain": [
       "397"
      ]
     },
     "execution_count": 61,
     "metadata": {},
     "output_type": "execute_result"
    }
   ],
   "source": [
    "len(vectorizer_genres.get_feature_names_out())"
   ]
  },
  {
   "cell_type": "code",
   "execution_count": 62,
   "metadata": {},
   "outputs": [
    {
     "data": {
      "text/plain": [
       "array(['00', '000', '000 000', ..., 'он', 'эрикаэлениак', '松田龙平'],\n",
       "      dtype=object)"
      ]
     },
     "execution_count": 62,
     "metadata": {},
     "output_type": "execute_result"
    }
   ],
   "source": [
    "vectorizer_tags.get_feature_names_out()"
   ]
  },
  {
   "cell_type": "code",
   "execution_count": 63,
   "metadata": {},
   "outputs": [
    {
     "data": {
      "text/plain": [
       "44303"
      ]
     },
     "execution_count": 63,
     "metadata": {},
     "output_type": "execute_result"
    }
   ],
   "source": [
    "len(vectorizer_tags.get_feature_names_out())"
   ]
  },
  {
   "cell_type": "code",
   "execution_count": 64,
   "metadata": {},
   "outputs": [],
   "source": [
    "tfidf_title.toarray()\n"
   ]
  },
  {
   "cell_type": "code",
   "execution_count": 65,
   "metadata": {},
   "outputs": [
    {
     "data": {
      "text/plain": [
       "(45320, 41217)"
      ]
     },
     "execution_count": 65,
     "metadata": {},
     "output_type": "execute_result"
    }
   ],
   "source": [
    "tfidf_title.shape"
   ]
  },
  {
   "cell_type": "code",
   "execution_count": 66,
   "metadata": {},
   "outputs": [
    {
     "data": {
      "text/plain": [
       "array([[0.        , 0.        , 0.        , ..., 0.        , 0.        ,\n",
       "        0.        ],\n",
       "       [0.        , 0.        , 0.        , ..., 0.        , 0.        ,\n",
       "        0.        ],\n",
       "       [0.        , 0.        , 0.        , ..., 0.        , 0.        ,\n",
       "        0.        ],\n",
       "       ...,\n",
       "       [0.36617605, 0.        , 0.        , ..., 0.        , 0.        ,\n",
       "        0.        ],\n",
       "       [0.        , 0.        , 0.        , ..., 0.        , 0.        ,\n",
       "        0.        ],\n",
       "       [0.        , 0.        , 0.        , ..., 0.        , 0.        ,\n",
       "        0.        ]])"
      ]
     },
     "execution_count": 66,
     "metadata": {},
     "output_type": "execute_result"
    }
   ],
   "source": [
    "tfidf_genres.toarray()"
   ]
  },
  {
   "cell_type": "code",
   "execution_count": 67,
   "metadata": {},
   "outputs": [
    {
     "data": {
      "text/plain": [
       "(45320, 397)"
      ]
     },
     "execution_count": 67,
     "metadata": {},
     "output_type": "execute_result"
    }
   ],
   "source": [
    "tfidf_genres.shape"
   ]
  },
  {
   "cell_type": "code",
   "execution_count": 68,
   "metadata": {},
   "outputs": [],
   "source": [
    "tfidf_tags.toarray()"
   ]
  },
  {
   "cell_type": "code",
   "execution_count": 69,
   "metadata": {},
   "outputs": [
    {
     "data": {
      "text/plain": [
       "(45320, 44303)"
      ]
     },
     "execution_count": 69,
     "metadata": {},
     "output_type": "execute_result"
    }
   ],
   "source": [
    "tfidf_tags.shape"
   ]
  },
  {
   "attachments": {},
   "cell_type": "markdown",
   "metadata": {},
   "source": [
    "## cosine similarity"
   ]
  },
  {
   "cell_type": "code",
   "execution_count": 70,
   "metadata": {},
   "outputs": [],
   "source": [
    "from sklearn.metrics.pairwise import cosine_similarity\n"
   ]
  },
  {
   "cell_type": "code",
   "execution_count": 177,
   "metadata": {},
   "outputs": [],
   "source": [
    "#input tags matching with tags\n",
    "def search_tags(tags):\n",
    "    tags=tags.lower()\n",
    "    \n",
    "    l=[]\n",
    "    query_vector=vectorizer_tags.transform([tags])\n",
    "    similarity_algo=cosine_similarity(query_vector,tfidf_tags).flatten()\n",
    "\n",
    "    distances = sorted(list(enumerate(similarity_algo)),reverse=True,key = lambda x: x[1])\n",
    "    # distances = sorted(list(enumerate(similarity_algo)),reverse=True)\n",
    "    for i in distances[:5]:\n",
    "        l.append(i[0])\n",
    "\n",
    "    # return final_df['title'].iloc[l].tolist()\n",
    "    # return movies_ratings_df_join.iloc[l]   \n",
    "    return final_df.iloc[l][[\"id\",\"title\",\"genres\",\"tags\"]]\n",
    "\n",
    "   \n",
    "        "
   ]
  },
  {
   "cell_type": "code",
   "execution_count": 178,
   "metadata": {},
   "outputs": [],
   "source": [
    "#input genres matching with genres\n",
    "def search_genres(genres):\n",
    "    genres=genres.lower()\n",
    "    \n",
    "    l=[]\n",
    "    query_vector=vectorizer_genres.transform([genres])\n",
    "    similarity_algo=cosine_similarity(query_vector,tfidf_genres).flatten()\n",
    "\n",
    "    distances = sorted(list(enumerate(similarity_algo)),reverse=True,key = lambda x: x[1])\n",
    "    \n",
    "    for i in distances[:5]:\n",
    "        l.append(i[0])\n",
    "\n",
    "    return final_df.iloc[l][[\"id\",\"title\",\"genres\",\"tags\"]]\n",
    "\n",
    "   \n",
    "        "
   ]
  },
  {
   "cell_type": "code",
   "execution_count": 179,
   "metadata": {},
   "outputs": [],
   "source": [
    "#input title matching with title\n",
    "def search_title(title):\n",
    "    title=title.lower()\n",
    "    l=[]\n",
    "    query_vector=vectorizer_title.transform([title])\n",
    "    similarity_algo=cosine_similarity(query_vector,tfidf_title).flatten()\n",
    "\n",
    "    distances = sorted(list(enumerate(similarity_algo)),reverse=True,key = lambda x: x[1])\n",
    "    \n",
    "    for i in distances[:5]:\n",
    "        l.append(i[0])\n",
    "\n",
    "    return final_df.iloc[l][[\"id\",\"title\",\"genres\",\"tags\"]]\n",
    "\n",
    "   \n",
    "        "
   ]
  },
  {
   "cell_type": "code",
   "execution_count": 203,
   "metadata": {},
   "outputs": [
    {
     "data": {
      "text/html": [
       "<div>\n",
       "<style scoped>\n",
       "    .dataframe tbody tr th:only-of-type {\n",
       "        vertical-align: middle;\n",
       "    }\n",
       "\n",
       "    .dataframe tbody tr th {\n",
       "        vertical-align: top;\n",
       "    }\n",
       "\n",
       "    .dataframe thead th {\n",
       "        text-align: right;\n",
       "    }\n",
       "</style>\n",
       "<table border=\"1\" class=\"dataframe\">\n",
       "  <thead>\n",
       "    <tr style=\"text-align: right;\">\n",
       "      <th></th>\n",
       "      <th>id</th>\n",
       "      <th>title</th>\n",
       "      <th>genres</th>\n",
       "      <th>tags</th>\n",
       "    </tr>\n",
       "  </thead>\n",
       "  <tbody>\n",
       "    <tr>\n",
       "      <th>9252</th>\n",
       "      <td>10757</td>\n",
       "      <td>Kabhi Khushi Kabhie Gham</td>\n",
       "      <td>Comedy Drama</td>\n",
       "      <td>orthodox indian, raichand, would like his two sons to live together with him and his wife, and get married to girls' of his choice. one of his sons, rahul, is adopted, while rohan is his real son. rahul falls in love with a poor indian girl named anjali, and incurs the displeasure of raichand, they argue and fight, as a result rahul leaves the house, moves to britain, and settles down. raichand now focuses his attention on his real son, rohan, who has no plans to get married, but is determined to bring rahul and anjali back home so that they can be together again. will raichand permit rohan to have his way, or will he also ask him to leave the house? comedy drama fathersonrelationship loveofone'slife forbiddenlove reunion familyconflict familyplanning shahrukhkhan kajol amitabhbachchan karanjohar 2001</td>\n",
       "    </tr>\n",
       "    <tr>\n",
       "      <th>36813</th>\n",
       "      <td>345426</td>\n",
       "      <td>Khushi</td>\n",
       "      <td>Romance Drama Action</td>\n",
       "      <td>karan, born in calcutta, and khushi, born in the small village of chamoli, are destined to meet despite the distance between the two. karan wants to go canada to further her studies--but due to an accident that takes place, he is forced to continue his studies in mumbai university. khushi's father believes that for a girl the education that she has receives is enough and now she should stay with him and marry a boy who is ready to be his son-in-law. but khushi insists on pursuing her education in mumbai university. at the university karan's friend vicky and khushi's friend priya are in love, but are having relationship problems. karan and khushi decide to help vicky and priya come together, but end up making a romantic connection with each other. romance drama action kareenakapoor fardeenkhan amrishpuri s.j.surya 2003</td>\n",
       "    </tr>\n",
       "    <tr>\n",
       "      <th>23490</th>\n",
       "      <td>15419</td>\n",
       "      <td>Kabhi Haan Kabhi Naa</td>\n",
       "      <td>Comedy Drama Music</td>\n",
       "      <td>sunil belongs to a middle-class family, and is intent in pursuing his career with a music group, despite of his dad disapproval. sunil is also in love with anna, but anna does not really love him, but likes him as a friend. sunil is persistent, but instead anna openly declares her love for chris. in order to impress his dad, sunil forges his examination results, but then later confesses to his family, who receive this news in utter dismay. will this change sunil's ways? will anna change her mind about sunil or will she get married to chris? comedy drama music shahrukhkhan suchitrakrishnamoorthi deepaktijori kundanshah 1993</td>\n",
       "    </tr>\n",
       "    <tr>\n",
       "      <th>43581</th>\n",
       "      <td>14395</td>\n",
       "      <td>Kabhi Alvida Naa Kehna</td>\n",
       "      <td>Drama Romance</td>\n",
       "      <td>dev and maya are both married to different people. settled into a life of domestic ritual, and convinced that they are happy in their respective relationships, they still yearn for something deeper and more meaningful, which is precisely what they find in each other. drama romance adultery extramaritalaffair shahrukhkhan ranimukerji preityzinta karanjohar 2006</td>\n",
       "    </tr>\n",
       "    <tr>\n",
       "      <th>0</th>\n",
       "      <td>862</td>\n",
       "      <td>Toy Story</td>\n",
       "      <td>Animation Comedy Family</td>\n",
       "      <td>led by woody, andy's toys live happily in his room until andy's birthday brings buzz lightyear onto the scene. afraid of losing his place in andy's heart, woody plots against buzz. but when circumstances separate buzz and woody from their owner, the duo eventually learns to put aside their differences. animation comedy family jealousy toy boy friendship friends rivalry boynextdoor newtoy toycomestolife tomhanks timallen donrickles johnlasseter 1995</td>\n",
       "    </tr>\n",
       "  </tbody>\n",
       "</table>\n",
       "</div>"
      ],
      "text/plain": [
       "           id                     title                   genres  \\\n",
       "9252   10757   Kabhi Khushi Kabhie Gham  Comedy Drama              \n",
       "36813  345426  Khushi                    Romance Drama Action      \n",
       "23490  15419   Kabhi Haan Kabhi Naa      Comedy Drama Music        \n",
       "43581  14395   Kabhi Alvida Naa Kehna    Drama Romance             \n",
       "0      862     Toy Story                 Animation Comedy Family   \n",
       "\n",
       "                                                                                                                                                                                                                                                                                                                                                                                                                                                                                                                                                                                                                                                                                                                                                                                                                                                                tags  \n",
       "9252   orthodox indian, raichand, would like his two sons to live together with him and his wife, and get married to girls' of his choice. one of his sons, rahul, is adopted, while rohan is his real son. rahul falls in love with a poor indian girl named anjali, and incurs the displeasure of raichand, they argue and fight, as a result rahul leaves the house, moves to britain, and settles down. raichand now focuses his attention on his real son, rohan, who has no plans to get married, but is determined to bring rahul and anjali back home so that they can be together again. will raichand permit rohan to have his way, or will he also ask him to leave the house? comedy drama fathersonrelationship loveofone'slife forbiddenlove reunion familyconflict familyplanning shahrukhkhan kajol amitabhbachchan karanjohar 2001                   \n",
       "36813  karan, born in calcutta, and khushi, born in the small village of chamoli, are destined to meet despite the distance between the two. karan wants to go canada to further her studies--but due to an accident that takes place, he is forced to continue his studies in mumbai university. khushi's father believes that for a girl the education that she has receives is enough and now she should stay with him and marry a boy who is ready to be his son-in-law. but khushi insists on pursuing her education in mumbai university. at the university karan's friend vicky and khushi's friend priya are in love, but are having relationship problems. karan and khushi decide to help vicky and priya come together, but end up making a romantic connection with each other. romance drama action kareenakapoor fardeenkhan amrishpuri s.j.surya 2003  \n",
       "23490  sunil belongs to a middle-class family, and is intent in pursuing his career with a music group, despite of his dad disapproval. sunil is also in love with anna, but anna does not really love him, but likes him as a friend. sunil is persistent, but instead anna openly declares her love for chris. in order to impress his dad, sunil forges his examination results, but then later confesses to his family, who receive this news in utter dismay. will this change sunil's ways? will anna change her mind about sunil or will she get married to chris? comedy drama music shahrukhkhan suchitrakrishnamoorthi deepaktijori kundanshah 1993                                                                                                                                                                                                         \n",
       "43581  dev and maya are both married to different people. settled into a life of domestic ritual, and convinced that they are happy in their respective relationships, they still yearn for something deeper and more meaningful, which is precisely what they find in each other. drama romance adultery extramaritalaffair shahrukhkhan ranimukerji preityzinta karanjohar 2006                                                                                                                                                                                                                                                                                                                                                                                                                                                                                     \n",
       "0      led by woody, andy's toys live happily in his room until andy's birthday brings buzz lightyear onto the scene. afraid of losing his place in andy's heart, woody plots against buzz. but when circumstances separate buzz and woody from their owner, the duo eventually learns to put aside their differences. animation comedy family jealousy toy boy friendship friends rivalry boynextdoor newtoy toycomestolife tomhanks timallen donrickles johnlasseter 1995                                                                                                                                                                                                                                                                                                                                                                                           "
      ]
     },
     "execution_count": 203,
     "metadata": {},
     "output_type": "execute_result"
    }
   ],
   "source": [
    "search_title('Kabhi Khushi Kabhie Gham')"
   ]
  },
  {
   "cell_type": "code",
   "execution_count": 75,
   "metadata": {},
   "outputs": [],
   "source": [
    "similarity_algo=cosine_similarity(tfidf_tags)"
   ]
  },
  {
   "cell_type": "code",
   "execution_count": 83,
   "metadata": {},
   "outputs": [
    {
     "data": {
      "text/plain": [
       "array([1.        , 0.02321995, 0.01423045, ..., 0.        , 0.0119559 ,\n",
       "       0.        ])"
      ]
     },
     "execution_count": 83,
     "metadata": {},
     "output_type": "execute_result"
    }
   ],
   "source": [
    "similarity_algo[0]"
   ]
  },
  {
   "cell_type": "code",
   "execution_count": 181,
   "metadata": {},
   "outputs": [],
   "source": [
    "title='Kabhi Khushi Kabhie Gham'"
   ]
  },
  {
   "cell_type": "code",
   "execution_count": 183,
   "metadata": {},
   "outputs": [
    {
     "data": {
      "text/plain": [
       "array([0.0180215 , 0.00220158, 0.00119112, ..., 0.00375383, 0.03979121,\n",
       "       0.        ])"
      ]
     },
     "execution_count": 183,
     "metadata": {},
     "output_type": "execute_result"
    }
   ],
   "source": [
    "movie_index= final_df[final_df['title']==title].index[0]\n",
    "similarity=similarity_algo[movie_index]\n",
    "similarity"
   ]
  },
  {
   "cell_type": "code",
   "execution_count": 184,
   "metadata": {},
   "outputs": [
    {
     "data": {
      "text/plain": [
       "[(33796, 32.20625984816069),\n",
       " (9169, 29.463376977690643),\n",
       " (33895, 28.75888476886173),\n",
       " (33821, 27.321860755288117),\n",
       " (36912, 26.627149097765983)]"
      ]
     },
     "execution_count": 184,
     "metadata": {},
     "output_type": "execute_result"
    }
   ],
   "source": [
    "distances = sorted(list(enumerate(similarity*100)),reverse=True,key = lambda x: x[1])[1:6]\n",
    "\n",
    "distances"
   ]
  },
  {
   "cell_type": "code",
   "execution_count": 185,
   "metadata": {},
   "outputs": [
    {
     "data": {
      "text/plain": [
       "[33796, 9169, 33895, 33821, 36912]"
      ]
     },
     "execution_count": 185,
     "metadata": {},
     "output_type": "execute_result"
    }
   ],
   "source": [
    "l=[]\n",
    "for i in distances:\n",
    "        l.append(i[0])\n",
    "l"
   ]
  },
  {
   "cell_type": "code",
   "execution_count": 186,
   "metadata": {},
   "outputs": [
    {
     "data": {
      "text/html": [
       "<div>\n",
       "<style scoped>\n",
       "    .dataframe tbody tr th:only-of-type {\n",
       "        vertical-align: middle;\n",
       "    }\n",
       "\n",
       "    .dataframe tbody tr th {\n",
       "        vertical-align: top;\n",
       "    }\n",
       "\n",
       "    .dataframe thead th {\n",
       "        text-align: right;\n",
       "    }\n",
       "</style>\n",
       "<table border=\"1\" class=\"dataframe\">\n",
       "  <thead>\n",
       "    <tr style=\"text-align: right;\">\n",
       "      <th></th>\n",
       "      <th>id</th>\n",
       "      <th>title</th>\n",
       "      <th>genres</th>\n",
       "      <th>tags</th>\n",
       "    </tr>\n",
       "  </thead>\n",
       "  <tbody>\n",
       "    <tr>\n",
       "      <th>33796</th>\n",
       "      <td>21462</td>\n",
       "      <td>Masoom</td>\n",
       "      <td>Drama Family</td>\n",
       "      <td>d.k. malhotra lives a comfortable lifestyle with his wife, indu, and two school-going daughters, pinky and minni. he works in the office of an architect. one day while the family is relaxing, d.k. gets a phone call that results in him bringing home a young school-going boy by the name of rahul. indu is shocked to learn that rahul is d.k.'s son from another woman, bhavana, who is no more. d.k. does his best to make rahul comfortable, but fails. rahul also feels that indu does not really like him, though pinky and minni have taken to him in a big way. finally, d.k. decides to admit rahul in a boarding school in far off nainital. rahul reluctantly goes along with this new-found uncle/friend. it is when rahul is asked to put his papers together for school that rahul finds out that d.k. is his biological father. watch what happens when rahul disappears from d.k.'s house, and the impact this has on d.k., indu, and her two daughters. drama family bollywood naseeruddinshah shabanaazmi urmilamatondkar shekharkapur 1983</td>\n",
       "    </tr>\n",
       "    <tr>\n",
       "      <th>9169</th>\n",
       "      <td>11854</td>\n",
       "      <td>Kuch Kuch Hota Hai</td>\n",
       "      <td>Drama Romance</td>\n",
       "      <td>anjali is left heartbroken when her best friend and secret crush, rahul, falls in love with tina. years later, tina's young daughter tries to fulfil her mother's last wish of uniting rahul and anjali. drama romance soulmates platoniclove dyinganddeath approach terminalillness friendshipbracelet burschikos love bollywood fallinginlove unhappiness childhoodfriends shahrukhkhan kajol ranimukerji karanjohar 1998</td>\n",
       "    </tr>\n",
       "    <tr>\n",
       "      <th>33895</th>\n",
       "      <td>161227</td>\n",
       "      <td>Jaanam Samjha Karo</td>\n",
       "      <td></td>\n",
       "      <td>talented singer and dancer, chandni's life is dominated by three aunts, and a soft-spoken maternal grandmother. she meets with a womanizer named rahul, and falls in love with him. rahul treats her just like any of his other girlfriends, and decides to have an affair with her. rahul unexpectedly meets with his dadaji, who wants him to get married to chandni. in order to fool him, rahul asks chandni to pretend to be his wife, which she does. after dadaji leaves, will rahul and chandni go their separate ways, and will rahul return to the waiting arms of his many girlfriends? salmankhan urmilamatondkar jaspalbhatti andaleebsultanpuri 1999</td>\n",
       "    </tr>\n",
       "    <tr>\n",
       "      <th>33821</th>\n",
       "      <td>54814</td>\n",
       "      <td>Hum Hain Rahi Pyar Ke</td>\n",
       "      <td></td>\n",
       "      <td>rahul malhotra (aamir khan) is the manager of the heavily in debt family business. he is also the guardian of his dead sister's mischievous kids. rahul hires vaijayanti (juhi chawla) as governess. vaijayanti is a runaway from home as she does not want to marry the man her orthodox family has chosen for her. predictably, rahul and vaijayanti fall in love. maya (navneet nishan), a rich girl in love with rahul tries to ruin his family and his business, but all ends happily. aamirkhan juhichawla mastersharokh maheshbhatt 1993</td>\n",
       "    </tr>\n",
       "    <tr>\n",
       "      <th>36912</th>\n",
       "      <td>362812</td>\n",
       "      <td>Chaahat Ek Nasha...</td>\n",
       "      <td>Romance Drama</td>\n",
       "      <td>rashmi lives a wealthy lifestyle in india along with her widower dad, dr. sanjeev jaitly. she aspires to be a singer and dancer, and is encouraged by her friends and dad to take this up as a profession. she prepares her portfolio and approaches r.k. music co, which is run by rahul kapoor. rashmi is also an ardent fan of established singer/dancer, mallika arora, a client of rahul, and always sends her gifts and flowers on every possible occasion. when mallika fails to impress the public, rahul is advised to look for fresh talent, and he approaches rashmi, and together they release their first album which turns to be a major success. together they deliver many other hits and also fall in love with each other. sanjeev initially opposes their romance and eventual marriage as he feels that rahul and his celebrity lifestyle is not right for rashmi. he eventually gives in when rashmi insists on marrying rahul... romance drama aryanvaid manishakoirala preetijhangiani jayaprakashreddy suryaprakash 2005</td>\n",
       "    </tr>\n",
       "  </tbody>\n",
       "</table>\n",
       "</div>"
      ],
      "text/plain": [
       "           id                  title         genres  \\\n",
       "33796  21462   Masoom                 Drama Family    \n",
       "9169   11854   Kuch Kuch Hota Hai     Drama Romance   \n",
       "33895  161227  Jaanam Samjha Karo                     \n",
       "33821  54814   Hum Hain Rahi Pyar Ke                  \n",
       "36912  362812  Chaahat Ek Nasha...    Romance Drama   \n",
       "\n",
       "                                                                                                                                                                                                                                                                                                                                                                                                                                                                                                                                                                                                                                                                                                                                                                                                                                                                                                                                                                                                                                                                    tags  \n",
       "33796  d.k. malhotra lives a comfortable lifestyle with his wife, indu, and two school-going daughters, pinky and minni. he works in the office of an architect. one day while the family is relaxing, d.k. gets a phone call that results in him bringing home a young school-going boy by the name of rahul. indu is shocked to learn that rahul is d.k.'s son from another woman, bhavana, who is no more. d.k. does his best to make rahul comfortable, but fails. rahul also feels that indu does not really like him, though pinky and minni have taken to him in a big way. finally, d.k. decides to admit rahul in a boarding school in far off nainital. rahul reluctantly goes along with this new-found uncle/friend. it is when rahul is asked to put his papers together for school that rahul finds out that d.k. is his biological father. watch what happens when rahul disappears from d.k.'s house, and the impact this has on d.k., indu, and her two daughters. drama family bollywood naseeruddinshah shabanaazmi urmilamatondkar shekharkapur 1983  \n",
       "9169   anjali is left heartbroken when her best friend and secret crush, rahul, falls in love with tina. years later, tina's young daughter tries to fulfil her mother's last wish of uniting rahul and anjali. drama romance soulmates platoniclove dyinganddeath approach terminalillness friendshipbracelet burschikos love bollywood fallinginlove unhappiness childhoodfriends shahrukhkhan kajol ranimukerji karanjohar 1998                                                                                                                                                                                                                                                                                                                                                                                                                                                                                                                                                                                                                                        \n",
       "33895  talented singer and dancer, chandni's life is dominated by three aunts, and a soft-spoken maternal grandmother. she meets with a womanizer named rahul, and falls in love with him. rahul treats her just like any of his other girlfriends, and decides to have an affair with her. rahul unexpectedly meets with his dadaji, who wants him to get married to chandni. in order to fool him, rahul asks chandni to pretend to be his wife, which she does. after dadaji leaves, will rahul and chandni go their separate ways, and will rahul return to the waiting arms of his many girlfriends? salmankhan urmilamatondkar jaspalbhatti andaleebsultanpuri 1999                                                                                                                                                                                                                                                                                                                                                                                                 \n",
       "33821  rahul malhotra (aamir khan) is the manager of the heavily in debt family business. he is also the guardian of his dead sister's mischievous kids. rahul hires vaijayanti (juhi chawla) as governess. vaijayanti is a runaway from home as she does not want to marry the man her orthodox family has chosen for her. predictably, rahul and vaijayanti fall in love. maya (navneet nishan), a rich girl in love with rahul tries to ruin his family and his business, but all ends happily. aamirkhan juhichawla mastersharokh maheshbhatt 1993                                                                                                                                                                                                                                                                                                                                                                                                                                                                                                                    \n",
       "36912  rashmi lives a wealthy lifestyle in india along with her widower dad, dr. sanjeev jaitly. she aspires to be a singer and dancer, and is encouraged by her friends and dad to take this up as a profession. she prepares her portfolio and approaches r.k. music co, which is run by rahul kapoor. rashmi is also an ardent fan of established singer/dancer, mallika arora, a client of rahul, and always sends her gifts and flowers on every possible occasion. when mallika fails to impress the public, rahul is advised to look for fresh talent, and he approaches rashmi, and together they release their first album which turns to be a major success. together they deliver many other hits and also fall in love with each other. sanjeev initially opposes their romance and eventual marriage as he feels that rahul and his celebrity lifestyle is not right for rashmi. he eventually gives in when rashmi insists on marrying rahul... romance drama aryanvaid manishakoirala preetijhangiani jayaprakashreddy suryaprakash 2005                   "
      ]
     },
     "execution_count": 186,
     "metadata": {},
     "output_type": "execute_result"
    }
   ],
   "source": [
    "final_df.iloc[l][[\"id\",\"title\",\"genres\",\"tags\"]]"
   ]
  },
  {
   "cell_type": "code",
   "execution_count": 137,
   "metadata": {},
   "outputs": [],
   "source": [
    "#input title matching with title\n",
    "def search_title_tags(title):\n",
    "    l=[]\n",
    "    movie_index= final_df[final_df['title']==title].index[0]\n",
    "    \n",
    "    similarity=similarity_algo[movie_index]\n",
    "    \n",
    "    distances = sorted(list(enumerate(similarity)),reverse=True,key = lambda x: x[1])[1:6]\n",
    "    \n",
    "    for i in distances:\n",
    "        l.append(i[0])\n",
    "\n",
    "    return final_df.iloc[l][[\"id\",\"title\",\"genres\",\"tags\"]]\n",
    "\n",
    "   \n",
    "        "
   ]
  },
  {
   "cell_type": "code",
   "execution_count": 224,
   "metadata": {},
   "outputs": [
    {
     "data": {
      "text/html": [
       "<div>\n",
       "<style scoped>\n",
       "    .dataframe tbody tr th:only-of-type {\n",
       "        vertical-align: middle;\n",
       "    }\n",
       "\n",
       "    .dataframe tbody tr th {\n",
       "        vertical-align: top;\n",
       "    }\n",
       "\n",
       "    .dataframe thead th {\n",
       "        text-align: right;\n",
       "    }\n",
       "</style>\n",
       "<table border=\"1\" class=\"dataframe\">\n",
       "  <thead>\n",
       "    <tr style=\"text-align: right;\">\n",
       "      <th></th>\n",
       "      <th>id</th>\n",
       "      <th>title</th>\n",
       "      <th>genres</th>\n",
       "      <th>tags</th>\n",
       "    </tr>\n",
       "  </thead>\n",
       "  <tbody>\n",
       "    <tr>\n",
       "      <th>7505</th>\n",
       "      <td>5521</td>\n",
       "      <td>Finder's Fee</td>\n",
       "      <td>Drama Thriller</td>\n",
       "      <td>after finding a wallet in the street tepper calls the owner in order to return it. after making the call he discovers that the lottery ticket inside is a $6 million winner. to add to things his friends are on their way over for their weekly poker night &amp; the groups tradition is to bet their lottery ticket. drama thriller poker man lottery gain suspense independentfilm erikpalladino dashmihok carlypope jeffprobst 2001</td>\n",
       "    </tr>\n",
       "    <tr>\n",
       "      <th>44033</th>\n",
       "      <td>18457</td>\n",
       "      <td>Dead Weight</td>\n",
       "      <td>Comedy</td>\n",
       "      <td>prison guard reggio lets moltes have a weekly lottery ticket in exchange for his suave relationship advice. when moltes learns that he has a winning lottery ticket, he breaks out of jail to claim his money. however, reggio's girlfriend, pauline , has the ticket with her in africa. the action involves the odd couple teaming up to find the ticket while being chased by det. youssouf , along with the vengeful turk and the giant. comedy benoîtpoelvoorde gérardlanvin joségarcia alainberbérian frédéricforestier 2002</td>\n",
       "    </tr>\n",
       "    <tr>\n",
       "      <th>40993</th>\n",
       "      <td>403429</td>\n",
       "      <td>Two Lottery Tickets</td>\n",
       "      <td>Comedy</td>\n",
       "      <td>3 men from a provincial town who are in an urgent need for money so they decide to buy a lottery ticket. they win the lottery, but very soon, the ticket gets stolen. comedy lottery roadmovie mirceabanu dorianboguţă dragoșbucur paulnegoescu 2016</td>\n",
       "    </tr>\n",
       "    <tr>\n",
       "      <th>32320</th>\n",
       "      <td>71051</td>\n",
       "      <td>Sportloto-82</td>\n",
       "      <td>Comedy</td>\n",
       "      <td>adventurous comedy about a bunch of people hunting the winning lottery ticket. comedy algisarlauskas svetlanaamanova mikhailpugovkin leonidgayday 1982</td>\n",
       "    </tr>\n",
       "    <tr>\n",
       "      <th>2232</th>\n",
       "      <td>10162</td>\n",
       "      <td>Waking Ned</td>\n",
       "      <td>Comedy Romance</td>\n",
       "      <td>when a lottery winner dies of shock, his fellow townsfolk attempt to claim the money. comedy romance falseidentity beguilement lottery village jackpot independentfilm ireland ianbannen davidkelly fionnulaflanagan kirkjones 1998</td>\n",
       "    </tr>\n",
       "  </tbody>\n",
       "</table>\n",
       "</div>"
      ],
      "text/plain": [
       "           id                title          genres  \\\n",
       "7505   5521    Finder's Fee         Drama Thriller   \n",
       "44033  18457   Dead Weight          Comedy           \n",
       "40993  403429  Two Lottery Tickets  Comedy           \n",
       "32320  71051   Sportloto-82         Comedy           \n",
       "2232   10162   Waking Ned           Comedy Romance   \n",
       "\n",
       "                                                                                                                                                                                                                                                                                                                                                                                                                                                                                                                                     tags  \n",
       "7505   after finding a wallet in the street tepper calls the owner in order to return it. after making the call he discovers that the lottery ticket inside is a $6 million winner. to add to things his friends are on their way over for their weekly poker night & the groups tradition is to bet their lottery ticket. drama thriller poker man lottery gain suspense independentfilm erikpalladino dashmihok carlypope jeffprobst 2001                                                                                                \n",
       "44033  prison guard reggio lets moltes have a weekly lottery ticket in exchange for his suave relationship advice. when moltes learns that he has a winning lottery ticket, he breaks out of jail to claim his money. however, reggio's girlfriend, pauline , has the ticket with her in africa. the action involves the odd couple teaming up to find the ticket while being chased by det. youssouf , along with the vengeful turk and the giant. comedy benoîtpoelvoorde gérardlanvin joségarcia alainberbérian frédéricforestier 2002  \n",
       "40993  3 men from a provincial town who are in an urgent need for money so they decide to buy a lottery ticket. they win the lottery, but very soon, the ticket gets stolen. comedy lottery roadmovie mirceabanu dorianboguţă dragoșbucur paulnegoescu 2016                                                                                                                                                                                                                                                                                \n",
       "32320  adventurous comedy about a bunch of people hunting the winning lottery ticket. comedy algisarlauskas svetlanaamanova mikhailpugovkin leonidgayday 1982                                                                                                                                                                                                                                                                                                                                                                              \n",
       "2232   when a lottery winner dies of shock, his fellow townsfolk attempt to claim the money. comedy romance falseidentity beguilement lottery village jackpot independentfilm ireland ianbannen davidkelly fionnulaflanagan kirkjones 1998                                                                                                                                                                                                                                                                                                 "
      ]
     },
     "execution_count": 224,
     "metadata": {},
     "output_type": "execute_result"
    }
   ],
   "source": [
    "title='Malamaal Weekly'\n",
    "search_title_tags(title)"
   ]
  },
  {
   "cell_type": "code",
   "execution_count": 220,
   "metadata": {},
   "outputs": [
    {
     "data": {
      "text/html": [
       "<div>\n",
       "<style scoped>\n",
       "    .dataframe tbody tr th:only-of-type {\n",
       "        vertical-align: middle;\n",
       "    }\n",
       "\n",
       "    .dataframe tbody tr th {\n",
       "        vertical-align: top;\n",
       "    }\n",
       "\n",
       "    .dataframe thead th {\n",
       "        text-align: right;\n",
       "    }\n",
       "</style>\n",
       "<table border=\"1\" class=\"dataframe\">\n",
       "  <thead>\n",
       "    <tr style=\"text-align: right;\">\n",
       "      <th></th>\n",
       "      <th>id</th>\n",
       "      <th>title</th>\n",
       "      <th>genres</th>\n",
       "      <th>tags</th>\n",
       "    </tr>\n",
       "  </thead>\n",
       "  <tbody>\n",
       "    <tr>\n",
       "      <th>0</th>\n",
       "      <td>862</td>\n",
       "      <td>Toy Story</td>\n",
       "      <td>Animation Comedy Family</td>\n",
       "      <td>led by woody, andy's toys live happily in his room until andy's birthday brings buzz lightyear onto the scene. afraid of losing his place in andy's heart, woody plots against buzz. but when circumstances separate buzz and woody from their owner, the duo eventually learns to put aside their differences. animation comedy family jealousy toy boy friendship friends rivalry boynextdoor newtoy toycomestolife tomhanks timallen donrickles johnlasseter 1995</td>\n",
       "    </tr>\n",
       "    <tr>\n",
       "      <th>1</th>\n",
       "      <td>8844</td>\n",
       "      <td>Jumanji</td>\n",
       "      <td>Adventure Fantasy Family</td>\n",
       "      <td>when siblings judy and peter discover an enchanted board game that opens the door to a magical world, they unwittingly invite alan -- an adult who's been trapped inside the game for 26 years -- into their living room. alan's only hope for freedom is to finish the game, which proves risky as all three find themselves running from giant rhinoceroses, evil monkeys and other terrifying creatures. adventure fantasy family boardgame disappearance basedonchildren'sbook newhome recluse giantinsect robinwilliams jonathanhyde kirstendunst joejohnston 1995</td>\n",
       "    </tr>\n",
       "    <tr>\n",
       "      <th>2</th>\n",
       "      <td>15602</td>\n",
       "      <td>Grumpier Old Men</td>\n",
       "      <td>Romance Comedy</td>\n",
       "      <td>a family wedding reignites the ancient feud between next-door neighbors and fishing buddies john and max. meanwhile, a sultry italian divorcée opens a restaurant at the local bait shop, alarming the locals who worry she'll scare the fish away. but she's less interested in seafood than she is in cooking up a hot time with max. romance comedy fishing bestfriend duringcreditsstinger oldmen waltermatthau jacklemmon ann-margret howarddeutch 1995</td>\n",
       "    </tr>\n",
       "    <tr>\n",
       "      <th>3</th>\n",
       "      <td>31357</td>\n",
       "      <td>Waiting to Exhale</td>\n",
       "      <td>Comedy Drama Romance</td>\n",
       "      <td>cheated on, mistreated and stepped on, the women are holding their breath, waiting for the elusive \"good man\" to break a string of less-than-stellar lovers. friends and confidants vannah, bernie, glo and robin talk it all out, determined to find a better way to breathe. comedy drama romance basedonnovel interracialrelationship singlemother divorce chickflick whitneyhouston angelabassett lorettadevine forestwhitaker 1995</td>\n",
       "    </tr>\n",
       "    <tr>\n",
       "      <th>4</th>\n",
       "      <td>11862</td>\n",
       "      <td>Father of the Bride Part II</td>\n",
       "      <td>Comedy</td>\n",
       "      <td>just when george banks has recovered from his daughter's wedding, he receives the news that she's pregnant ... and that george's wife, nina, is expecting too. he was planning on selling their home, but that's a plan that -- like george -- will have to change with the arrival of both a grandchild and a kid of his own. comedy baby midlifecrisis confidence aging daughter motherdaughterrelationship pregnancy contraception gynecologist stevemartin dianekeaton martinshort charlesshyer 1995</td>\n",
       "    </tr>\n",
       "  </tbody>\n",
       "</table>\n",
       "</div>"
      ],
      "text/plain": [
       "      id                        title                    genres  \\\n",
       "0  862    Toy Story                    Animation Comedy Family    \n",
       "1  8844   Jumanji                      Adventure Fantasy Family   \n",
       "2  15602  Grumpier Old Men             Romance Comedy             \n",
       "3  31357  Waiting to Exhale            Comedy Drama Romance       \n",
       "4  11862  Father of the Bride Part II  Comedy                     \n",
       "\n",
       "                                                                                                                                                                                                                                                                                                                                                                                                                                                                                                                                                                      tags  \n",
       "0  led by woody, andy's toys live happily in his room until andy's birthday brings buzz lightyear onto the scene. afraid of losing his place in andy's heart, woody plots against buzz. but when circumstances separate buzz and woody from their owner, the duo eventually learns to put aside their differences. animation comedy family jealousy toy boy friendship friends rivalry boynextdoor newtoy toycomestolife tomhanks timallen donrickles johnlasseter 1995                                                                                                     \n",
       "1  when siblings judy and peter discover an enchanted board game that opens the door to a magical world, they unwittingly invite alan -- an adult who's been trapped inside the game for 26 years -- into their living room. alan's only hope for freedom is to finish the game, which proves risky as all three find themselves running from giant rhinoceroses, evil monkeys and other terrifying creatures. adventure fantasy family boardgame disappearance basedonchildren'sbook newhome recluse giantinsect robinwilliams jonathanhyde kirstendunst joejohnston 1995  \n",
       "2  a family wedding reignites the ancient feud between next-door neighbors and fishing buddies john and max. meanwhile, a sultry italian divorcée opens a restaurant at the local bait shop, alarming the locals who worry she'll scare the fish away. but she's less interested in seafood than she is in cooking up a hot time with max. romance comedy fishing bestfriend duringcreditsstinger oldmen waltermatthau jacklemmon ann-margret howarddeutch 1995                                                                                                             \n",
       "3  cheated on, mistreated and stepped on, the women are holding their breath, waiting for the elusive \"good man\" to break a string of less-than-stellar lovers. friends and confidants vannah, bernie, glo and robin talk it all out, determined to find a better way to breathe. comedy drama romance basedonnovel interracialrelationship singlemother divorce chickflick whitneyhouston angelabassett lorettadevine forestwhitaker 1995                                                                                                                                  \n",
       "4  just when george banks has recovered from his daughter's wedding, he receives the news that she's pregnant ... and that george's wife, nina, is expecting too. he was planning on selling their home, but that's a plan that -- like george -- will have to change with the arrival of both a grandchild and a kid of his own. comedy baby midlifecrisis confidence aging daughter motherdaughterrelationship pregnancy contraception gynecologist stevemartin dianekeaton martinshort charlesshyer 1995                                                                 "
      ]
     },
     "execution_count": 220,
     "metadata": {},
     "output_type": "execute_result"
    }
   ],
   "source": [
    "search_tags(\"Bajirao Mastani\")"
   ]
  },
  {
   "cell_type": "code",
   "execution_count": null,
   "metadata": {},
   "outputs": [
    {
     "data": {
      "text/html": [
       "<div>\n",
       "<style scoped>\n",
       "    .dataframe tbody tr th:only-of-type {\n",
       "        vertical-align: middle;\n",
       "    }\n",
       "\n",
       "    .dataframe tbody tr th {\n",
       "        vertical-align: top;\n",
       "    }\n",
       "\n",
       "    .dataframe thead th {\n",
       "        text-align: right;\n",
       "    }\n",
       "</style>\n",
       "<table border=\"1\" class=\"dataframe\">\n",
       "  <thead>\n",
       "    <tr style=\"text-align: right;\">\n",
       "      <th></th>\n",
       "      <th>id</th>\n",
       "      <th>title</th>\n",
       "      <th>genres</th>\n",
       "      <th>tags</th>\n",
       "    </tr>\n",
       "  </thead>\n",
       "  <tbody>\n",
       "    <tr>\n",
       "      <th>0</th>\n",
       "      <td>862</td>\n",
       "      <td>Toy Story</td>\n",
       "      <td>Animation Comedy Family</td>\n",
       "      <td>led by woody, andy's toys live happily in his room until andy's birthday brings buzz lightyear onto the scene. afraid of losing his place in andy's heart, woody plots against buzz. but when circumstances separate buzz and woody from their owner, the duo eventually learns to put aside their differences. animation comedy family jealousy toy boy friendship friends rivalry boynextdoor newtoy toycomestolife tomhanks timallen donrickles johnlasseter 1995</td>\n",
       "    </tr>\n",
       "    <tr>\n",
       "      <th>1</th>\n",
       "      <td>8844</td>\n",
       "      <td>Jumanji</td>\n",
       "      <td>Adventure Fantasy Family</td>\n",
       "      <td>when siblings judy and peter discover an enchanted board game that opens the door to a magical world, they unwittingly invite alan -- an adult who's been trapped inside the game for 26 years -- into their living room. alan's only hope for freedom is to finish the game, which proves risky as all three find themselves running from giant rhinoceroses, evil monkeys and other terrifying creatures. adventure fantasy family boardgame disappearance basedonchildren'sbook newhome recluse giantinsect robinwilliams jonathanhyde kirstendunst joejohnston 1995</td>\n",
       "    </tr>\n",
       "    <tr>\n",
       "      <th>2</th>\n",
       "      <td>15602</td>\n",
       "      <td>Grumpier Old Men</td>\n",
       "      <td>Romance Comedy</td>\n",
       "      <td>a family wedding reignites the ancient feud between next-door neighbors and fishing buddies john and max. meanwhile, a sultry italian divorcée opens a restaurant at the local bait shop, alarming the locals who worry she'll scare the fish away. but she's less interested in seafood than she is in cooking up a hot time with max. romance comedy fishing bestfriend duringcreditsstinger oldmen waltermatthau jacklemmon ann-margret howarddeutch 1995</td>\n",
       "    </tr>\n",
       "    <tr>\n",
       "      <th>3</th>\n",
       "      <td>31357</td>\n",
       "      <td>Waiting to Exhale</td>\n",
       "      <td>Comedy Drama Romance</td>\n",
       "      <td>cheated on, mistreated and stepped on, the women are holding their breath, waiting for the elusive \"good man\" to break a string of less-than-stellar lovers. friends and confidants vannah, bernie, glo and robin talk it all out, determined to find a better way to breathe. comedy drama romance basedonnovel interracialrelationship singlemother divorce chickflick whitneyhouston angelabassett lorettadevine forestwhitaker 1995</td>\n",
       "    </tr>\n",
       "    <tr>\n",
       "      <th>4</th>\n",
       "      <td>11862</td>\n",
       "      <td>Father of the Bride Part II</td>\n",
       "      <td>Comedy</td>\n",
       "      <td>just when george banks has recovered from his daughter's wedding, he receives the news that she's pregnant ... and that george's wife, nina, is expecting too. he was planning on selling their home, but that's a plan that -- like george -- will have to change with the arrival of both a grandchild and a kid of his own. comedy baby midlifecrisis confidence aging daughter motherdaughterrelationship pregnancy contraception gynecologist stevemartin dianekeaton martinshort charlesshyer 1995</td>\n",
       "    </tr>\n",
       "    <tr>\n",
       "      <th>5</th>\n",
       "      <td>949</td>\n",
       "      <td>Heat</td>\n",
       "      <td>Action Crime Drama Thriller</td>\n",
       "      <td>obsessive master thief, neil mccauley leads a top-notch crew on various insane heists throughout los angeles while a mentally unstable detective, vincent hanna pursues him without rest. each man recognizes and respects the ability and the dedication of the other even though they are aware their cat-and-mouse game may end in violence. action crime drama thriller robbery detective bank obsession chase shooting thief honor murder suspense heist betrayal money gang catandmouse criminalmastermind cultfilm ex-con heistmovie onelastjob loner bankjob neo-noir gunfight crimeepic alpacino robertdeniro valkilmer michaelmann 1995</td>\n",
       "    </tr>\n",
       "    <tr>\n",
       "      <th>6</th>\n",
       "      <td>11860</td>\n",
       "      <td>Sabrina</td>\n",
       "      <td>Comedy Romance</td>\n",
       "      <td>an ugly duckling having undergone a remarkable change, still harbors feelings for her crush: a carefree playboy, but not before his business-focused brother has something to say about it. comedy romance paris brotherbrotherrelationship chauffeur longisland fusion millionaire harrisonford juliaormond gregkinnear sydneypollack 1995</td>\n",
       "    </tr>\n",
       "    <tr>\n",
       "      <th>7</th>\n",
       "      <td>45325</td>\n",
       "      <td>Tom and Huck</td>\n",
       "      <td>Action Adventure Drama Family</td>\n",
       "      <td>a mischievous young boy, tom sawyer, witnesses a murder by the deadly injun joe. tom becomes friends with huckleberry finn, a boy with no future and no family. tom has to choose between honoring a friendship or honoring an oath because the town alcoholic is accused of the murder. tom and huck go through several adventures trying to retrieve evidence. action adventure drama family jonathantaylorthomas bradrenfro rachaelleighcook peterhewitt 1995</td>\n",
       "    </tr>\n",
       "    <tr>\n",
       "      <th>8</th>\n",
       "      <td>9091</td>\n",
       "      <td>Sudden Death</td>\n",
       "      <td>Action Adventure Thriller</td>\n",
       "      <td>international action superstar jean claude van damme teams with powers boothe in a tension-packed, suspense thriller, set against the back-drop of a stanley cup game.van damme portrays a father whose daughter is suddenly taken during a championship hockey game. with the captors demanding a billion dollars by game's end, van damme frantically sets a plan in motion to rescue his daughter and abort an impending explosion before the final buzzer... action adventure thriller terrorist hostage explosive vicepresident jean-claudevandamme powersboothe dorianharewood peterhyams 1995</td>\n",
       "    </tr>\n",
       "    <tr>\n",
       "      <th>9</th>\n",
       "      <td>710</td>\n",
       "      <td>GoldenEye</td>\n",
       "      <td>Adventure Action Thriller</td>\n",
       "      <td>james bond must unmask the mysterious head of the janus syndicate and prevent the leader from utilizing the goldeneye weapons system to inflict devastating revenge on britain. adventure action thriller cuba falselyaccused secretidentity computervirus secretbase secretintelligenceservice kgb satellite specialcar cossack electromagneticpulse timebomb st.petersburgrussia ejectionseat redarmy piercebrosnan seanbean izabellascorupco martincampbell 1995</td>\n",
       "    </tr>\n",
       "  </tbody>\n",
       "</table>\n",
       "</div>"
      ],
      "text/plain": [
       "      id                        title                         genres  \\\n",
       "0  862    Toy Story                    Animation Comedy Family         \n",
       "1  8844   Jumanji                      Adventure Fantasy Family        \n",
       "2  15602  Grumpier Old Men             Romance Comedy                  \n",
       "3  31357  Waiting to Exhale            Comedy Drama Romance            \n",
       "4  11862  Father of the Bride Part II  Comedy                          \n",
       "5  949    Heat                         Action Crime Drama Thriller     \n",
       "6  11860  Sabrina                      Comedy Romance                  \n",
       "7  45325  Tom and Huck                 Action Adventure Drama Family   \n",
       "8  9091   Sudden Death                 Action Adventure Thriller       \n",
       "9  710    GoldenEye                    Adventure Action Thriller       \n",
       "\n",
       "                                                                                                                                                                                                                                                                                                                                                                                                                                                                                                                                                                                                                                                tags  \n",
       "0  led by woody, andy's toys live happily in his room until andy's birthday brings buzz lightyear onto the scene. afraid of losing his place in andy's heart, woody plots against buzz. but when circumstances separate buzz and woody from their owner, the duo eventually learns to put aside their differences. animation comedy family jealousy toy boy friendship friends rivalry boynextdoor newtoy toycomestolife tomhanks timallen donrickles johnlasseter 1995                                                                                                                                                                               \n",
       "1  when siblings judy and peter discover an enchanted board game that opens the door to a magical world, they unwittingly invite alan -- an adult who's been trapped inside the game for 26 years -- into their living room. alan's only hope for freedom is to finish the game, which proves risky as all three find themselves running from giant rhinoceroses, evil monkeys and other terrifying creatures. adventure fantasy family boardgame disappearance basedonchildren'sbook newhome recluse giantinsect robinwilliams jonathanhyde kirstendunst joejohnston 1995                                                                            \n",
       "2  a family wedding reignites the ancient feud between next-door neighbors and fishing buddies john and max. meanwhile, a sultry italian divorcée opens a restaurant at the local bait shop, alarming the locals who worry she'll scare the fish away. but she's less interested in seafood than she is in cooking up a hot time with max. romance comedy fishing bestfriend duringcreditsstinger oldmen waltermatthau jacklemmon ann-margret howarddeutch 1995                                                                                                                                                                                       \n",
       "3  cheated on, mistreated and stepped on, the women are holding their breath, waiting for the elusive \"good man\" to break a string of less-than-stellar lovers. friends and confidants vannah, bernie, glo and robin talk it all out, determined to find a better way to breathe. comedy drama romance basedonnovel interracialrelationship singlemother divorce chickflick whitneyhouston angelabassett lorettadevine forestwhitaker 1995                                                                                                                                                                                                            \n",
       "4  just when george banks has recovered from his daughter's wedding, he receives the news that she's pregnant ... and that george's wife, nina, is expecting too. he was planning on selling their home, but that's a plan that -- like george -- will have to change with the arrival of both a grandchild and a kid of his own. comedy baby midlifecrisis confidence aging daughter motherdaughterrelationship pregnancy contraception gynecologist stevemartin dianekeaton martinshort charlesshyer 1995                                                                                                                                           \n",
       "5  obsessive master thief, neil mccauley leads a top-notch crew on various insane heists throughout los angeles while a mentally unstable detective, vincent hanna pursues him without rest. each man recognizes and respects the ability and the dedication of the other even though they are aware their cat-and-mouse game may end in violence. action crime drama thriller robbery detective bank obsession chase shooting thief honor murder suspense heist betrayal money gang catandmouse criminalmastermind cultfilm ex-con heistmovie onelastjob loner bankjob neo-noir gunfight crimeepic alpacino robertdeniro valkilmer michaelmann 1995  \n",
       "6  an ugly duckling having undergone a remarkable change, still harbors feelings for her crush: a carefree playboy, but not before his business-focused brother has something to say about it. comedy romance paris brotherbrotherrelationship chauffeur longisland fusion millionaire harrisonford juliaormond gregkinnear sydneypollack 1995                                                                                                                                                                                                                                                                                                        \n",
       "7  a mischievous young boy, tom sawyer, witnesses a murder by the deadly injun joe. tom becomes friends with huckleberry finn, a boy with no future and no family. tom has to choose between honoring a friendship or honoring an oath because the town alcoholic is accused of the murder. tom and huck go through several adventures trying to retrieve evidence. action adventure drama family jonathantaylorthomas bradrenfro rachaelleighcook peterhewitt 1995                                                                                                                                                                                   \n",
       "8  international action superstar jean claude van damme teams with powers boothe in a tension-packed, suspense thriller, set against the back-drop of a stanley cup game.van damme portrays a father whose daughter is suddenly taken during a championship hockey game. with the captors demanding a billion dollars by game's end, van damme frantically sets a plan in motion to rescue his daughter and abort an impending explosion before the final buzzer... action adventure thriller terrorist hostage explosive vicepresident jean-claudevandamme powersboothe dorianharewood peterhyams 1995                                               \n",
       "9  james bond must unmask the mysterious head of the janus syndicate and prevent the leader from utilizing the goldeneye weapons system to inflict devastating revenge on britain. adventure action thriller cuba falselyaccused secretidentity computervirus secretbase secretintelligenceservice kgb satellite specialcar cossack electromagneticpulse timebomb st.petersburgrussia ejectionseat redarmy piercebrosnan seanbean izabellascorupco martincampbell 1995                                                                                                                                                                                "
      ]
     },
     "execution_count": 273,
     "metadata": {},
     "output_type": "execute_result"
    }
   ],
   "source": [
    "search_tags(\"romance\")"
   ]
  },
  {
   "cell_type": "code",
   "execution_count": null,
   "metadata": {},
   "outputs": [
    {
     "data": {
      "text/html": [
       "<div>\n",
       "<style scoped>\n",
       "    .dataframe tbody tr th:only-of-type {\n",
       "        vertical-align: middle;\n",
       "    }\n",
       "\n",
       "    .dataframe tbody tr th {\n",
       "        vertical-align: top;\n",
       "    }\n",
       "\n",
       "    .dataframe thead th {\n",
       "        text-align: right;\n",
       "    }\n",
       "</style>\n",
       "<table border=\"1\" class=\"dataframe\">\n",
       "  <thead>\n",
       "    <tr style=\"text-align: right;\">\n",
       "      <th></th>\n",
       "      <th>id</th>\n",
       "      <th>title</th>\n",
       "      <th>genres</th>\n",
       "      <th>tags</th>\n",
       "    </tr>\n",
       "  </thead>\n",
       "  <tbody>\n",
       "    <tr>\n",
       "      <th>1324</th>\n",
       "      <td>621</td>\n",
       "      <td>Grease</td>\n",
       "      <td>Romance</td>\n",
       "      <td>australian good girl sandy and greaser danny fell in love over the summer. but when they unexpectedly discover they're now in the same high school, will they be able to rekindle their romance despite their eccentric friends? romance flyingcar streetgang running graduation musical rivalry basedonplayormusical gossip makeover automobileracing nostalgic greaser wolfwhistle schooldance animatedcredits peprally wrongsideofthetracks mooning schoolprincipal johntravolta olivianewton-john stockardchanning randalkleiser 1978</td>\n",
       "    </tr>\n",
       "    <tr>\n",
       "      <th>2998</th>\n",
       "      <td>78256</td>\n",
       "      <td>The End of the Affair</td>\n",
       "      <td>Romance</td>\n",
       "      <td>a civil servant's wife (deborah kerr) in wartime london vows to leave her injured lover (van johnson) if he recovers. romance speech party starcrossedlovers deborahkerr vanjohnson johnmills edwarddmytryk 1955</td>\n",
       "    </tr>\n",
       "    <tr>\n",
       "      <th>3321</th>\n",
       "      <td>13539</td>\n",
       "      <td>Here On Earth</td>\n",
       "      <td>Romance</td>\n",
       "      <td>a rich college kid is taught a lesson after a joy ride ends up destroying a country restaurant. romance carrace privateschool diner leeleesobieski chrisklein joshhartnett markpiznarski 2000</td>\n",
       "    </tr>\n",
       "    <tr>\n",
       "      <th>5132</th>\n",
       "      <td>116904</td>\n",
       "      <td>Bar Girls</td>\n",
       "      <td>Romance</td>\n",
       "      <td>the life and loves of gay women hanging out at a local tavern are examined in this slice of life film. romance nancyallisonwolfe lizad'agostino camilagriggs maritagiovanni 1994</td>\n",
       "    </tr>\n",
       "    <tr>\n",
       "      <th>6614</th>\n",
       "      <td>10934</td>\n",
       "      <td>Under the Tuscan Sun</td>\n",
       "      <td>Romance</td>\n",
       "      <td>after a rough divoce, frances, a 35 year old book editor from san francisco takes a tour of tuscany at the urgings of her friends. on a whim she buys bramasole, a run down villa in the tuscan countryside and begins to piece her life together starting with the villa and finds that life sometimes has unexpected ways of giving her everything she wanted. romance depression toscana recreation author divorce womandirector dianelane sandraoh lindsayduncan audreywells 2003</td>\n",
       "    </tr>\n",
       "    <tr>\n",
       "      <th>7306</th>\n",
       "      <td>17993</td>\n",
       "      <td>Henry &amp; June</td>\n",
       "      <td>Romance</td>\n",
       "      <td>while traveling in paris, author henry miller and his wife, june, meet anais nin, and sexual sparks fly as nin starts an affair with the openly bisexual june. when june is forced to return to the u.s., she gives nin her blessing to sleep with her husband. then, when june returns to france, an unexpected, and sometimes contentious, threesome forms. romance gayman lesbianinterest fredward umathurman mariademedeiros philipkaufman 1990</td>\n",
       "    </tr>\n",
       "    <tr>\n",
       "      <th>8152</th>\n",
       "      <td>84655</td>\n",
       "      <td>The Black Orchid</td>\n",
       "      <td>Romance</td>\n",
       "      <td>an aging widower fights family disapproval when he falls in love with a gangster's widow. romance sophialoren anthonyquinn petermarkrichman martinritt 1958</td>\n",
       "    </tr>\n",
       "    <tr>\n",
       "      <th>9223</th>\n",
       "      <td>20160</td>\n",
       "      <td>Restless</td>\n",
       "      <td>Romance</td>\n",
       "      <td>an old dog has a hard time learning new tricks in this drama set in turku. ari, a paramedic, is a chronic womanizer; he makes it a point of pride to never sleep with the same woman twice, and his nights are a long series of brazen one-night stands. but when ari meets tiina (laura malmivaara), something unexpected happens - he falls in love. for the first time, ari finds himself pursuing a long-term relationship, and he makes a genuine effort to remain faithful to her. but old habits die hard; tiina introduces ari to her circle of friends and temptation arises as he encounters hanna-riikka, a theology student, and ilona, who is soon to be married. despite ari's feelings for tiina, he begins having affairs with both hanna-riikka and ilona, leading to an unpleasant revelation on the day of ilona's nuptials. ~ mark deming, allrovi romance mikkonousiainen lauramalmivaara petterisummanen akulouhimies 2000</td>\n",
       "    </tr>\n",
       "    <tr>\n",
       "      <th>9795</th>\n",
       "      <td>85926</td>\n",
       "      <td>Strangers When We Meet</td>\n",
       "      <td>Romance</td>\n",
       "      <td>a suburban architect loves his wife but is bored with his marriage and with his work, so he takes up with the neglected, married beauty who lives down the street. romance infidelity marriage kirkdouglas kimnovak erniekovacs richardquine 1960</td>\n",
       "    </tr>\n",
       "    <tr>\n",
       "      <th>11106</th>\n",
       "      <td>76344</td>\n",
       "      <td>Two for the Seesaw</td>\n",
       "      <td>Romance</td>\n",
       "      <td>jerry ryan wanders aimlessly around new york after giving up his nebrascan law practice. his wife asks for a divorce. he meets gittel, a struggling dancer from greenwich village and they try to sort out their lives. an extended conversation piece with a static camera, but reflects the moral climate of the time. romance greenwichvillage robertmitchum shirleymaclaine edmonryan robertwise 1962</td>\n",
       "    </tr>\n",
       "  </tbody>\n",
       "</table>\n",
       "</div>"
      ],
      "text/plain": [
       "           id                   title   genres  \\\n",
       "1324   621     Grease                  Romance   \n",
       "2998   78256   The End of the Affair   Romance   \n",
       "3321   13539   Here On Earth           Romance   \n",
       "5132   116904  Bar Girls               Romance   \n",
       "6614   10934   Under the Tuscan Sun    Romance   \n",
       "7306   17993   Henry & June            Romance   \n",
       "8152   84655   The Black Orchid        Romance   \n",
       "9223   20160   Restless                Romance   \n",
       "9795   85926   Strangers When We Meet  Romance   \n",
       "11106  76344   Two for the Seesaw      Romance   \n",
       "\n",
       "                                                                                                                                                                                                                                                                                                                                                                                                                                                                                                                                                                                                                                                                                                                                                                                                                                                                                                                                                   tags  \n",
       "1324   australian good girl sandy and greaser danny fell in love over the summer. but when they unexpectedly discover they're now in the same high school, will they be able to rekindle their romance despite their eccentric friends? romance flyingcar streetgang running graduation musical rivalry basedonplayormusical gossip makeover automobileracing nostalgic greaser wolfwhistle schooldance animatedcredits peprally wrongsideofthetracks mooning schoolprincipal johntravolta olivianewton-john stockardchanning randalkleiser 1978                                                                                                                                                                                                                                                                                                                                                                                                         \n",
       "2998   a civil servant's wife (deborah kerr) in wartime london vows to leave her injured lover (van johnson) if he recovers. romance speech party starcrossedlovers deborahkerr vanjohnson johnmills edwarddmytryk 1955                                                                                                                                                                                                                                                                                                                                                                                                                                                                                                                                                                                                                                                                                                                                  \n",
       "3321   a rich college kid is taught a lesson after a joy ride ends up destroying a country restaurant. romance carrace privateschool diner leeleesobieski chrisklein joshhartnett markpiznarski 2000                                                                                                                                                                                                                                                                                                                                                                                                                                                                                                                                                                                                                                                                                                                                                     \n",
       "5132   the life and loves of gay women hanging out at a local tavern are examined in this slice of life film. romance nancyallisonwolfe lizad'agostino camilagriggs maritagiovanni 1994                                                                                                                                                                                                                                                                                                                                                                                                                                                                                                                                                                                                                                                                                                                                                                  \n",
       "6614   after a rough divoce, frances, a 35 year old book editor from san francisco takes a tour of tuscany at the urgings of her friends. on a whim she buys bramasole, a run down villa in the tuscan countryside and begins to piece her life together starting with the villa and finds that life sometimes has unexpected ways of giving her everything she wanted. romance depression toscana recreation author divorce womandirector dianelane sandraoh lindsayduncan audreywells 2003                                                                                                                                                                                                                                                                                                                                                                                                                                                             \n",
       "7306   while traveling in paris, author henry miller and his wife, june, meet anais nin, and sexual sparks fly as nin starts an affair with the openly bisexual june. when june is forced to return to the u.s., she gives nin her blessing to sleep with her husband. then, when june returns to france, an unexpected, and sometimes contentious, threesome forms. romance gayman lesbianinterest fredward umathurman mariademedeiros philipkaufman 1990                                                                                                                                                                                                                                                                                                                                                                                                                                                                                               \n",
       "8152   an aging widower fights family disapproval when he falls in love with a gangster's widow. romance sophialoren anthonyquinn petermarkrichman martinritt 1958                                                                                                                                                                                                                                                                                                                                                                                                                                                                                                                                                                                                                                                                                                                                                                                       \n",
       "9223   an old dog has a hard time learning new tricks in this drama set in turku. ari, a paramedic, is a chronic womanizer; he makes it a point of pride to never sleep with the same woman twice, and his nights are a long series of brazen one-night stands. but when ari meets tiina (laura malmivaara), something unexpected happens - he falls in love. for the first time, ari finds himself pursuing a long-term relationship, and he makes a genuine effort to remain faithful to her. but old habits die hard; tiina introduces ari to her circle of friends and temptation arises as he encounters hanna-riikka, a theology student, and ilona, who is soon to be married. despite ari's feelings for tiina, he begins having affairs with both hanna-riikka and ilona, leading to an unpleasant revelation on the day of ilona's nuptials. ~ mark deming, allrovi romance mikkonousiainen lauramalmivaara petterisummanen akulouhimies 2000  \n",
       "9795   a suburban architect loves his wife but is bored with his marriage and with his work, so he takes up with the neglected, married beauty who lives down the street. romance infidelity marriage kirkdouglas kimnovak erniekovacs richardquine 1960                                                                                                                                                                                                                                                                                                                                                                                                                                                                                                                                                                                                                                                                                                 \n",
       "11106  jerry ryan wanders aimlessly around new york after giving up his nebrascan law practice. his wife asks for a divorce. he meets gittel, a struggling dancer from greenwich village and they try to sort out their lives. an extended conversation piece with a static camera, but reflects the moral climate of the time. romance greenwichvillage robertmitchum shirleymaclaine edmonryan robertwise 1962                                                                                                                                                                                                                                                                                                                                                                                                                                                                                                                                         "
      ]
     },
     "execution_count": 274,
     "metadata": {},
     "output_type": "execute_result"
    }
   ],
   "source": [
    "search_genres(\"romance\")\n"
   ]
  },
  {
   "cell_type": "code",
   "execution_count": null,
   "metadata": {},
   "outputs": [
    {
     "data": {
      "text/html": [
       "<div>\n",
       "<style scoped>\n",
       "    .dataframe tbody tr th:only-of-type {\n",
       "        vertical-align: middle;\n",
       "    }\n",
       "\n",
       "    .dataframe tbody tr th {\n",
       "        vertical-align: top;\n",
       "    }\n",
       "\n",
       "    .dataframe thead th {\n",
       "        text-align: right;\n",
       "    }\n",
       "</style>\n",
       "<table border=\"1\" class=\"dataframe\">\n",
       "  <thead>\n",
       "    <tr style=\"text-align: right;\">\n",
       "      <th></th>\n",
       "      <th>id</th>\n",
       "      <th>title</th>\n",
       "      <th>genres</th>\n",
       "      <th>tags</th>\n",
       "    </tr>\n",
       "  </thead>\n",
       "  <tbody>\n",
       "    <tr>\n",
       "      <th>10550</th>\n",
       "      <td>674</td>\n",
       "      <td>Harry Potter and the Goblet of Fire</td>\n",
       "      <td>Adventure Fantasy Family</td>\n",
       "      <td>harry starts his fourth year at hogwarts, competes in the treacherous triwizard tournament and faces the evil lord voldemort. ron and hermione help harry manage the pressure – but voldemort lurks, awaiting his chance to destroy harry and all that he stands for. adventure fantasy family magic dyinganddeath broom sorcerer'sapprentice schoolofwitchcraft chosenone blackmagic boardingschool vision tournament teenager wizard teenagehero basedonyoungadultnovel danielradcliffe rupertgrint emmawatson mikenewell 2005</td>\n",
       "    </tr>\n",
       "    <tr>\n",
       "      <th>13887</th>\n",
       "      <td>767</td>\n",
       "      <td>Harry Potter and the Half-Blood Prince</td>\n",
       "      <td>Adventure Fantasy Family</td>\n",
       "      <td>as harry begins his sixth year at hogwarts, he discovers an old book marked as 'property of the half-blood prince', and begins to learn more about lord voldemort's dark past. adventure fantasy family witch magic broom schoolofwitchcraft wizardry apparition teenagecrush werewolf danielradcliffe rupertgrint emmawatson davidyates 2009</td>\n",
       "    </tr>\n",
       "    <tr>\n",
       "      <th>7725</th>\n",
       "      <td>673</td>\n",
       "      <td>Harry Potter and the Prisoner of Azkaban</td>\n",
       "      <td>Adventure Fantasy Family</td>\n",
       "      <td>harry, ron and hermione return to hogwarts for another magic-filled year. harry comes face to face with danger yet again, this time in the form of escaped convict, sirius black – and turns to sympathetic professor lupin for help. adventure fantasy family flying traitor magic cuttingthecord childhero broom sorcerer'sapprentice schoolofwitchcraft griffon blackmagic timetravel bestfriend werewolf dark muggle aftercreditsstinger danielradcliffe rupertgrint emmawatson alfonsocuarón 2004</td>\n",
       "    </tr>\n",
       "    <tr>\n",
       "      <th>5673</th>\n",
       "      <td>672</td>\n",
       "      <td>Harry Potter and the Chamber of Secrets</td>\n",
       "      <td>Adventure Fantasy Family</td>\n",
       "      <td>ignoring threats to his life, harry returns to hogwarts to investigate – aided by ron and hermione – a mysterious series of attacks. adventure fantasy family flyingcar witch magic cuttingthecord childhero broom sorcerer'sapprentice schoolofwitchcraft giantsnake blackmagic aftercreditsstinger danielradcliffe rupertgrint emmawatson chriscolumbus 2002</td>\n",
       "    </tr>\n",
       "    <tr>\n",
       "      <th>11923</th>\n",
       "      <td>675</td>\n",
       "      <td>Harry Potter and the Order of the Phoenix</td>\n",
       "      <td>Adventure Fantasy Family Mystery</td>\n",
       "      <td>returning for his fifth year of study at hogwarts, harry is stunned to find that his warnings about the return of lord voldemort have been ignored. left with no choice, harry takes matters into his own hands, training a small group of students – dubbed 'dumbledore's army' – to defend themselves against the dark arts. adventure fantasy family mystery prophecy witch lossoflover magic cuttingthecord childhero dyinganddeath broom sorcerer'sapprentice schoolofwitchcraft blackmagic deathofafriend sorcery occultism danielradcliffe rupertgrint emmawatson davidyates 2007</td>\n",
       "    </tr>\n",
       "    <tr>\n",
       "      <th>4756</th>\n",
       "      <td>671</td>\n",
       "      <td>Harry Potter and the Philosopher's Stone</td>\n",
       "      <td>Adventure Fantasy Family</td>\n",
       "      <td>harry potter has lived under the stairs at his aunt and uncle's house his whole life. but on his 11th birthday, he learns he's a powerful wizard -- with a place waiting for him at the hogwarts school of witchcraft and wizardry. as he learns to harness his newfound powers with the help of the school's kindly headmaster, harry uncovers the truth about his parents' deaths -- and about the villain who's to blame. adventure fantasy family witch christmasparty magic cuttingthecord halloween childhero broom chosenone frog fantasyworld basedonyoungadultnovel danielradcliffe rupertgrint emmawatson chriscolumbus 2001</td>\n",
       "    </tr>\n",
       "    <tr>\n",
       "      <th>16097</th>\n",
       "      <td>12444</td>\n",
       "      <td>Harry Potter and the Deathly Hallows: Part 1</td>\n",
       "      <td>Adventure Fantasy Family</td>\n",
       "      <td>harry, ron and hermione walk away from their last year at hogwarts to find and destroy the remaining horcruxes, putting an end to voldemort's bid for immortality. but with harry's beloved dumbledore dead and voldemort's unscrupulous death eaters on the loose, the world is more dangerous than ever. adventure fantasy family corruption isolation radio magic teleportation bravery tension attack werewolf danielradcliffe emmawatson rupertgrint davidyates 2010</td>\n",
       "    </tr>\n",
       "    <tr>\n",
       "      <th>17382</th>\n",
       "      <td>12445</td>\n",
       "      <td>Harry Potter and the Deathly Hallows: Part 2</td>\n",
       "      <td>Family Fantasy Adventure</td>\n",
       "      <td>harry, ron and hermione continue their quest to vanquish the evil voldemort once and for all. just as things begin to look hopeless for the young wizards, harry discovers a trio of magical objects that endow him with powers to rival voldemort's formidable skills. family fantasy adventure selfsacrifice magic frog sorcerer school wizard 3d danielradcliffe rupertgrint emmawatson davidyates 2011</td>\n",
       "    </tr>\n",
       "    <tr>\n",
       "      <th>3258</th>\n",
       "      <td>8989</td>\n",
       "      <td>Harry and the Hendersons</td>\n",
       "      <td>Comedy Family Fantasy</td>\n",
       "      <td>returning from a hunting trip in the forest, the henderson family's car hits an animal in the road. at first they fear it was a man, but when they examine the \"body\" they find it's a \"bigfoot\". they think it's dead so they decide to take it home (there could be some money in this). as you guessed, it isn't dead. far from being the ferocious monster they fear \"harry\" to be, he's a friendly giant. comedy family fantasy badsmell bigfoot vegetarian hamburger huntingtrip wildlife cryptozoology family familyholiday footprint frenchcanadian sasquatch johnlithgow melindadillon margaretlangrick williamdear 1987</td>\n",
       "    </tr>\n",
       "    <tr>\n",
       "      <th>27829</th>\n",
       "      <td>91767</td>\n",
       "      <td>Harry &amp; Son</td>\n",
       "      <td>Drama</td>\n",
       "      <td>widower harry keach is a construction worker who was raised to appreciate the importance of working for a living. he takes a dim view of his sensitive son howard's lackadaisical lifestyle and has a strained relationship with his daughter nina as he does not approve of her husband. when harry is fired from his job, his life changes drastically as he is made to focus on the relationships around him. drama petshop beer independentfilm writer widower childbirth paulnewman robbybenson ellenbarkin paulnewman 1984</td>\n",
       "    </tr>\n",
       "  </tbody>\n",
       "</table>\n",
       "</div>"
      ],
      "text/plain": [
       "          id                                         title  \\\n",
       "10550  674    Harry Potter and the Goblet of Fire            \n",
       "13887  767    Harry Potter and the Half-Blood Prince         \n",
       "7725   673    Harry Potter and the Prisoner of Azkaban       \n",
       "5673   672    Harry Potter and the Chamber of Secrets        \n",
       "11923  675    Harry Potter and the Order of the Phoenix      \n",
       "4756   671    Harry Potter and the Philosopher's Stone       \n",
       "16097  12444  Harry Potter and the Deathly Hallows: Part 1   \n",
       "17382  12445  Harry Potter and the Deathly Hallows: Part 2   \n",
       "3258   8989   Harry and the Hendersons                       \n",
       "27829  91767  Harry & Son                                    \n",
       "\n",
       "                                 genres  \\\n",
       "10550  Adventure Fantasy Family           \n",
       "13887  Adventure Fantasy Family           \n",
       "7725   Adventure Fantasy Family           \n",
       "5673   Adventure Fantasy Family           \n",
       "11923  Adventure Fantasy Family Mystery   \n",
       "4756   Adventure Fantasy Family           \n",
       "16097  Adventure Fantasy Family           \n",
       "17382  Family Fantasy Adventure           \n",
       "3258   Comedy Family Fantasy              \n",
       "27829  Drama                              \n",
       "\n",
       "                                                                                                                                                                                                                                                                                                                                                                                                                                                                                                                                                                                                                                         tags  \n",
       "10550  harry starts his fourth year at hogwarts, competes in the treacherous triwizard tournament and faces the evil lord voldemort. ron and hermione help harry manage the pressure – but voldemort lurks, awaiting his chance to destroy harry and all that he stands for. adventure fantasy family magic dyinganddeath broom sorcerer'sapprentice schoolofwitchcraft chosenone blackmagic boardingschool vision tournament teenager wizard teenagehero basedonyoungadultnovel danielradcliffe rupertgrint emmawatson mikenewell 2005                                                                                                        \n",
       "13887  as harry begins his sixth year at hogwarts, he discovers an old book marked as 'property of the half-blood prince', and begins to learn more about lord voldemort's dark past. adventure fantasy family witch magic broom schoolofwitchcraft wizardry apparition teenagecrush werewolf danielradcliffe rupertgrint emmawatson davidyates 2009                                                                                                                                                                                                                                                                                           \n",
       "7725   harry, ron and hermione return to hogwarts for another magic-filled year. harry comes face to face with danger yet again, this time in the form of escaped convict, sirius black – and turns to sympathetic professor lupin for help. adventure fantasy family flying traitor magic cuttingthecord childhero broom sorcerer'sapprentice schoolofwitchcraft griffon blackmagic timetravel bestfriend werewolf dark muggle aftercreditsstinger danielradcliffe rupertgrint emmawatson alfonsocuarón 2004                                                                                                                                  \n",
       "5673   ignoring threats to his life, harry returns to hogwarts to investigate – aided by ron and hermione – a mysterious series of attacks. adventure fantasy family flyingcar witch magic cuttingthecord childhero broom sorcerer'sapprentice schoolofwitchcraft giantsnake blackmagic aftercreditsstinger danielradcliffe rupertgrint emmawatson chriscolumbus 2002                                                                                                                                                                                                                                                                          \n",
       "11923  returning for his fifth year of study at hogwarts, harry is stunned to find that his warnings about the return of lord voldemort have been ignored. left with no choice, harry takes matters into his own hands, training a small group of students – dubbed 'dumbledore's army' – to defend themselves against the dark arts. adventure fantasy family mystery prophecy witch lossoflover magic cuttingthecord childhero dyinganddeath broom sorcerer'sapprentice schoolofwitchcraft blackmagic deathofafriend sorcery occultism danielradcliffe rupertgrint emmawatson davidyates 2007                                                \n",
       "4756   harry potter has lived under the stairs at his aunt and uncle's house his whole life. but on his 11th birthday, he learns he's a powerful wizard -- with a place waiting for him at the hogwarts school of witchcraft and wizardry. as he learns to harness his newfound powers with the help of the school's kindly headmaster, harry uncovers the truth about his parents' deaths -- and about the villain who's to blame. adventure fantasy family witch christmasparty magic cuttingthecord halloween childhero broom chosenone frog fantasyworld basedonyoungadultnovel danielradcliffe rupertgrint emmawatson chriscolumbus 2001  \n",
       "16097  harry, ron and hermione walk away from their last year at hogwarts to find and destroy the remaining horcruxes, putting an end to voldemort's bid for immortality. but with harry's beloved dumbledore dead and voldemort's unscrupulous death eaters on the loose, the world is more dangerous than ever. adventure fantasy family corruption isolation radio magic teleportation bravery tension attack werewolf danielradcliffe emmawatson rupertgrint davidyates 2010                                                                                                                                                               \n",
       "17382  harry, ron and hermione continue their quest to vanquish the evil voldemort once and for all. just as things begin to look hopeless for the young wizards, harry discovers a trio of magical objects that endow him with powers to rival voldemort's formidable skills. family fantasy adventure selfsacrifice magic frog sorcerer school wizard 3d danielradcliffe rupertgrint emmawatson davidyates 2011                                                                                                                                                                                                                              \n",
       "3258   returning from a hunting trip in the forest, the henderson family's car hits an animal in the road. at first they fear it was a man, but when they examine the \"body\" they find it's a \"bigfoot\". they think it's dead so they decide to take it home (there could be some money in this). as you guessed, it isn't dead. far from being the ferocious monster they fear \"harry\" to be, he's a friendly giant. comedy family fantasy badsmell bigfoot vegetarian hamburger huntingtrip wildlife cryptozoology family familyholiday footprint frenchcanadian sasquatch johnlithgow melindadillon margaretlangrick williamdear 1987       \n",
       "27829  widower harry keach is a construction worker who was raised to appreciate the importance of working for a living. he takes a dim view of his sensitive son howard's lackadaisical lifestyle and has a strained relationship with his daughter nina as he does not approve of her husband. when harry is fired from his job, his life changes drastically as he is made to focus on the relationships around him. drama petshop beer independentfilm writer widower childbirth paulnewman robbybenson ellenbarkin paulnewman 1984                                                                                                        "
      ]
     },
     "execution_count": 275,
     "metadata": {},
     "output_type": "execute_result"
    }
   ],
   "source": [
    "search_title(\"Harry Potter\")"
   ]
  },
  {
   "cell_type": "code",
   "execution_count": null,
   "metadata": {},
   "outputs": [
    {
     "ename": "MemoryError",
     "evalue": "",
     "output_type": "error",
     "traceback": [
      "\u001b[1;31m---------------------------------------------------------------------------\u001b[0m",
      "\u001b[1;31mMemoryError\u001b[0m                               Traceback (most recent call last)",
      "Cell \u001b[1;32mIn[276], line 3\u001b[0m\n\u001b[0;32m      1\u001b[0m \u001b[39m# ratings_df_raw=pd.read_csv('MovRec_Dataset/ratings.csv', low_memory=False)\u001b[39;00m\n\u001b[1;32m----> 3\u001b[0m ratings_df_raw\u001b[39m=\u001b[39mpd\u001b[39m.\u001b[39;49mread_csv(\u001b[39m'\u001b[39;49m\u001b[39mhttps://movrec.s3.amazonaws.com/MovRec_Dataset/ratings.csv\u001b[39;49m\u001b[39m'\u001b[39;49m, low_memory\u001b[39m=\u001b[39;49m\u001b[39mFalse\u001b[39;49;00m)\n",
      "File \u001b[1;32mc:\\Users\\91955\\AppData\\Local\\Programs\\Python\\Python311\\Lib\\site-packages\\pandas\\util\\_decorators.py:211\u001b[0m, in \u001b[0;36mdeprecate_kwarg.<locals>._deprecate_kwarg.<locals>.wrapper\u001b[1;34m(*args, **kwargs)\u001b[0m\n\u001b[0;32m    209\u001b[0m     \u001b[39melse\u001b[39;00m:\n\u001b[0;32m    210\u001b[0m         kwargs[new_arg_name] \u001b[39m=\u001b[39m new_arg_value\n\u001b[1;32m--> 211\u001b[0m \u001b[39mreturn\u001b[39;00m func(\u001b[39m*\u001b[39;49margs, \u001b[39m*\u001b[39;49m\u001b[39m*\u001b[39;49mkwargs)\n",
      "File \u001b[1;32mc:\\Users\\91955\\AppData\\Local\\Programs\\Python\\Python311\\Lib\\site-packages\\pandas\\util\\_decorators.py:331\u001b[0m, in \u001b[0;36mdeprecate_nonkeyword_arguments.<locals>.decorate.<locals>.wrapper\u001b[1;34m(*args, **kwargs)\u001b[0m\n\u001b[0;32m    325\u001b[0m \u001b[39mif\u001b[39;00m \u001b[39mlen\u001b[39m(args) \u001b[39m>\u001b[39m num_allow_args:\n\u001b[0;32m    326\u001b[0m     warnings\u001b[39m.\u001b[39mwarn(\n\u001b[0;32m    327\u001b[0m         msg\u001b[39m.\u001b[39mformat(arguments\u001b[39m=\u001b[39m_format_argument_list(allow_args)),\n\u001b[0;32m    328\u001b[0m         \u001b[39mFutureWarning\u001b[39;00m,\n\u001b[0;32m    329\u001b[0m         stacklevel\u001b[39m=\u001b[39mfind_stack_level(),\n\u001b[0;32m    330\u001b[0m     )\n\u001b[1;32m--> 331\u001b[0m \u001b[39mreturn\u001b[39;00m func(\u001b[39m*\u001b[39;49margs, \u001b[39m*\u001b[39;49m\u001b[39m*\u001b[39;49mkwargs)\n",
      "File \u001b[1;32mc:\\Users\\91955\\AppData\\Local\\Programs\\Python\\Python311\\Lib\\site-packages\\pandas\\io\\parsers\\readers.py:950\u001b[0m, in \u001b[0;36mread_csv\u001b[1;34m(filepath_or_buffer, sep, delimiter, header, names, index_col, usecols, squeeze, prefix, mangle_dupe_cols, dtype, engine, converters, true_values, false_values, skipinitialspace, skiprows, skipfooter, nrows, na_values, keep_default_na, na_filter, verbose, skip_blank_lines, parse_dates, infer_datetime_format, keep_date_col, date_parser, dayfirst, cache_dates, iterator, chunksize, compression, thousands, decimal, lineterminator, quotechar, quoting, doublequote, escapechar, comment, encoding, encoding_errors, dialect, error_bad_lines, warn_bad_lines, on_bad_lines, delim_whitespace, low_memory, memory_map, float_precision, storage_options)\u001b[0m\n\u001b[0;32m    935\u001b[0m kwds_defaults \u001b[39m=\u001b[39m _refine_defaults_read(\n\u001b[0;32m    936\u001b[0m     dialect,\n\u001b[0;32m    937\u001b[0m     delimiter,\n\u001b[1;32m   (...)\u001b[0m\n\u001b[0;32m    946\u001b[0m     defaults\u001b[39m=\u001b[39m{\u001b[39m\"\u001b[39m\u001b[39mdelimiter\u001b[39m\u001b[39m\"\u001b[39m: \u001b[39m\"\u001b[39m\u001b[39m,\u001b[39m\u001b[39m\"\u001b[39m},\n\u001b[0;32m    947\u001b[0m )\n\u001b[0;32m    948\u001b[0m kwds\u001b[39m.\u001b[39mupdate(kwds_defaults)\n\u001b[1;32m--> 950\u001b[0m \u001b[39mreturn\u001b[39;00m _read(filepath_or_buffer, kwds)\n",
      "File \u001b[1;32mc:\\Users\\91955\\AppData\\Local\\Programs\\Python\\Python311\\Lib\\site-packages\\pandas\\io\\parsers\\readers.py:605\u001b[0m, in \u001b[0;36m_read\u001b[1;34m(filepath_or_buffer, kwds)\u001b[0m\n\u001b[0;32m    602\u001b[0m _validate_names(kwds\u001b[39m.\u001b[39mget(\u001b[39m\"\u001b[39m\u001b[39mnames\u001b[39m\u001b[39m\"\u001b[39m, \u001b[39mNone\u001b[39;00m))\n\u001b[0;32m    604\u001b[0m \u001b[39m# Create the parser.\u001b[39;00m\n\u001b[1;32m--> 605\u001b[0m parser \u001b[39m=\u001b[39m TextFileReader(filepath_or_buffer, \u001b[39m*\u001b[39;49m\u001b[39m*\u001b[39;49mkwds)\n\u001b[0;32m    607\u001b[0m \u001b[39mif\u001b[39;00m chunksize \u001b[39mor\u001b[39;00m iterator:\n\u001b[0;32m    608\u001b[0m     \u001b[39mreturn\u001b[39;00m parser\n",
      "File \u001b[1;32mc:\\Users\\91955\\AppData\\Local\\Programs\\Python\\Python311\\Lib\\site-packages\\pandas\\io\\parsers\\readers.py:1442\u001b[0m, in \u001b[0;36mTextFileReader.__init__\u001b[1;34m(self, f, engine, **kwds)\u001b[0m\n\u001b[0;32m   1439\u001b[0m     \u001b[39mself\u001b[39m\u001b[39m.\u001b[39moptions[\u001b[39m\"\u001b[39m\u001b[39mhas_index_names\u001b[39m\u001b[39m\"\u001b[39m] \u001b[39m=\u001b[39m kwds[\u001b[39m\"\u001b[39m\u001b[39mhas_index_names\u001b[39m\u001b[39m\"\u001b[39m]\n\u001b[0;32m   1441\u001b[0m \u001b[39mself\u001b[39m\u001b[39m.\u001b[39mhandles: IOHandles \u001b[39m|\u001b[39m \u001b[39mNone\u001b[39;00m \u001b[39m=\u001b[39m \u001b[39mNone\u001b[39;00m\n\u001b[1;32m-> 1442\u001b[0m \u001b[39mself\u001b[39m\u001b[39m.\u001b[39m_engine \u001b[39m=\u001b[39m \u001b[39mself\u001b[39;49m\u001b[39m.\u001b[39;49m_make_engine(f, \u001b[39mself\u001b[39;49m\u001b[39m.\u001b[39;49mengine)\n",
      "File \u001b[1;32mc:\\Users\\91955\\AppData\\Local\\Programs\\Python\\Python311\\Lib\\site-packages\\pandas\\io\\parsers\\readers.py:1735\u001b[0m, in \u001b[0;36mTextFileReader._make_engine\u001b[1;34m(self, f, engine)\u001b[0m\n\u001b[0;32m   1733\u001b[0m     \u001b[39mif\u001b[39;00m \u001b[39m\"\u001b[39m\u001b[39mb\u001b[39m\u001b[39m\"\u001b[39m \u001b[39mnot\u001b[39;00m \u001b[39min\u001b[39;00m mode:\n\u001b[0;32m   1734\u001b[0m         mode \u001b[39m+\u001b[39m\u001b[39m=\u001b[39m \u001b[39m\"\u001b[39m\u001b[39mb\u001b[39m\u001b[39m\"\u001b[39m\n\u001b[1;32m-> 1735\u001b[0m \u001b[39mself\u001b[39m\u001b[39m.\u001b[39mhandles \u001b[39m=\u001b[39m get_handle(\n\u001b[0;32m   1736\u001b[0m     f,\n\u001b[0;32m   1737\u001b[0m     mode,\n\u001b[0;32m   1738\u001b[0m     encoding\u001b[39m=\u001b[39;49m\u001b[39mself\u001b[39;49m\u001b[39m.\u001b[39;49moptions\u001b[39m.\u001b[39;49mget(\u001b[39m\"\u001b[39;49m\u001b[39mencoding\u001b[39;49m\u001b[39m\"\u001b[39;49m, \u001b[39mNone\u001b[39;49;00m),\n\u001b[0;32m   1739\u001b[0m     compression\u001b[39m=\u001b[39;49m\u001b[39mself\u001b[39;49m\u001b[39m.\u001b[39;49moptions\u001b[39m.\u001b[39;49mget(\u001b[39m\"\u001b[39;49m\u001b[39mcompression\u001b[39;49m\u001b[39m\"\u001b[39;49m, \u001b[39mNone\u001b[39;49;00m),\n\u001b[0;32m   1740\u001b[0m     memory_map\u001b[39m=\u001b[39;49m\u001b[39mself\u001b[39;49m\u001b[39m.\u001b[39;49moptions\u001b[39m.\u001b[39;49mget(\u001b[39m\"\u001b[39;49m\u001b[39mmemory_map\u001b[39;49m\u001b[39m\"\u001b[39;49m, \u001b[39mFalse\u001b[39;49;00m),\n\u001b[0;32m   1741\u001b[0m     is_text\u001b[39m=\u001b[39;49mis_text,\n\u001b[0;32m   1742\u001b[0m     errors\u001b[39m=\u001b[39;49m\u001b[39mself\u001b[39;49m\u001b[39m.\u001b[39;49moptions\u001b[39m.\u001b[39;49mget(\u001b[39m\"\u001b[39;49m\u001b[39mencoding_errors\u001b[39;49m\u001b[39m\"\u001b[39;49m, \u001b[39m\"\u001b[39;49m\u001b[39mstrict\u001b[39;49m\u001b[39m\"\u001b[39;49m),\n\u001b[0;32m   1743\u001b[0m     storage_options\u001b[39m=\u001b[39;49m\u001b[39mself\u001b[39;49m\u001b[39m.\u001b[39;49moptions\u001b[39m.\u001b[39;49mget(\u001b[39m\"\u001b[39;49m\u001b[39mstorage_options\u001b[39;49m\u001b[39m\"\u001b[39;49m, \u001b[39mNone\u001b[39;49;00m),\n\u001b[0;32m   1744\u001b[0m )\n\u001b[0;32m   1745\u001b[0m \u001b[39massert\u001b[39;00m \u001b[39mself\u001b[39m\u001b[39m.\u001b[39mhandles \u001b[39mis\u001b[39;00m \u001b[39mnot\u001b[39;00m \u001b[39mNone\u001b[39;00m\n\u001b[0;32m   1746\u001b[0m f \u001b[39m=\u001b[39m \u001b[39mself\u001b[39m\u001b[39m.\u001b[39mhandles\u001b[39m.\u001b[39mhandle\n",
      "File \u001b[1;32mc:\\Users\\91955\\AppData\\Local\\Programs\\Python\\Python311\\Lib\\site-packages\\pandas\\io\\common.py:713\u001b[0m, in \u001b[0;36mget_handle\u001b[1;34m(path_or_buf, mode, encoding, compression, memory_map, is_text, errors, storage_options)\u001b[0m\n\u001b[0;32m    710\u001b[0m     codecs\u001b[39m.\u001b[39mlookup_error(errors)\n\u001b[0;32m    712\u001b[0m \u001b[39m# open URLs\u001b[39;00m\n\u001b[1;32m--> 713\u001b[0m ioargs \u001b[39m=\u001b[39m _get_filepath_or_buffer(\n\u001b[0;32m    714\u001b[0m     path_or_buf,\n\u001b[0;32m    715\u001b[0m     encoding\u001b[39m=\u001b[39;49mencoding,\n\u001b[0;32m    716\u001b[0m     compression\u001b[39m=\u001b[39;49mcompression,\n\u001b[0;32m    717\u001b[0m     mode\u001b[39m=\u001b[39;49mmode,\n\u001b[0;32m    718\u001b[0m     storage_options\u001b[39m=\u001b[39;49mstorage_options,\n\u001b[0;32m    719\u001b[0m )\n\u001b[0;32m    721\u001b[0m handle \u001b[39m=\u001b[39m ioargs\u001b[39m.\u001b[39mfilepath_or_buffer\n\u001b[0;32m    722\u001b[0m handles: \u001b[39mlist\u001b[39m[BaseBuffer]\n",
      "File \u001b[1;32mc:\\Users\\91955\\AppData\\Local\\Programs\\Python\\Python311\\Lib\\site-packages\\pandas\\io\\common.py:368\u001b[0m, in \u001b[0;36m_get_filepath_or_buffer\u001b[1;34m(filepath_or_buffer, encoding, compression, mode, storage_options)\u001b[0m\n\u001b[0;32m    365\u001b[0m         \u001b[39mif\u001b[39;00m content_encoding \u001b[39m==\u001b[39m \u001b[39m\"\u001b[39m\u001b[39mgzip\u001b[39m\u001b[39m\"\u001b[39m:\n\u001b[0;32m    366\u001b[0m             \u001b[39m# Override compression based on Content-Encoding header\u001b[39;00m\n\u001b[0;32m    367\u001b[0m             compression \u001b[39m=\u001b[39m {\u001b[39m\"\u001b[39m\u001b[39mmethod\u001b[39m\u001b[39m\"\u001b[39m: \u001b[39m\"\u001b[39m\u001b[39mgzip\u001b[39m\u001b[39m\"\u001b[39m}\n\u001b[1;32m--> 368\u001b[0m         reader \u001b[39m=\u001b[39m BytesIO(req\u001b[39m.\u001b[39;49mread())\n\u001b[0;32m    369\u001b[0m     \u001b[39mreturn\u001b[39;00m IOArgs(\n\u001b[0;32m    370\u001b[0m         filepath_or_buffer\u001b[39m=\u001b[39mreader,\n\u001b[0;32m    371\u001b[0m         encoding\u001b[39m=\u001b[39mencoding,\n\u001b[1;32m   (...)\u001b[0m\n\u001b[0;32m    374\u001b[0m         mode\u001b[39m=\u001b[39mfsspec_mode,\n\u001b[0;32m    375\u001b[0m     )\n\u001b[0;32m    377\u001b[0m \u001b[39mif\u001b[39;00m is_fsspec_url(filepath_or_buffer):\n",
      "File \u001b[1;32mc:\\Users\\91955\\AppData\\Local\\Programs\\Python\\Python311\\Lib\\http\\client.py:481\u001b[0m, in \u001b[0;36mHTTPResponse.read\u001b[1;34m(self, amt)\u001b[0m\n\u001b[0;32m    479\u001b[0m \u001b[39melse\u001b[39;00m:\n\u001b[0;32m    480\u001b[0m     \u001b[39mtry\u001b[39;00m:\n\u001b[1;32m--> 481\u001b[0m         s \u001b[39m=\u001b[39m \u001b[39mself\u001b[39;49m\u001b[39m.\u001b[39;49m_safe_read(\u001b[39mself\u001b[39;49m\u001b[39m.\u001b[39;49mlength)\n\u001b[0;32m    482\u001b[0m     \u001b[39mexcept\u001b[39;00m IncompleteRead:\n\u001b[0;32m    483\u001b[0m         \u001b[39mself\u001b[39m\u001b[39m.\u001b[39m_close_conn()\n",
      "File \u001b[1;32mc:\\Users\\91955\\AppData\\Local\\Programs\\Python\\Python311\\Lib\\http\\client.py:630\u001b[0m, in \u001b[0;36mHTTPResponse._safe_read\u001b[1;34m(self, amt)\u001b[0m\n\u001b[0;32m    623\u001b[0m \u001b[39mdef\u001b[39;00m \u001b[39m_safe_read\u001b[39m(\u001b[39mself\u001b[39m, amt):\n\u001b[0;32m    624\u001b[0m     \u001b[39m\"\"\"Read the number of bytes requested.\u001b[39;00m\n\u001b[0;32m    625\u001b[0m \n\u001b[0;32m    626\u001b[0m \u001b[39m    This function should be used when <amt> bytes \"should\" be present for\u001b[39;00m\n\u001b[0;32m    627\u001b[0m \u001b[39m    reading. If the bytes are truly not available (due to EOF), then the\u001b[39;00m\n\u001b[0;32m    628\u001b[0m \u001b[39m    IncompleteRead exception can be used to detect the problem.\u001b[39;00m\n\u001b[0;32m    629\u001b[0m \u001b[39m    \"\"\"\u001b[39;00m\n\u001b[1;32m--> 630\u001b[0m     data \u001b[39m=\u001b[39m \u001b[39mself\u001b[39m\u001b[39m.\u001b[39mfp\u001b[39m.\u001b[39mread(amt)\n\u001b[0;32m    631\u001b[0m     \u001b[39mif\u001b[39;00m \u001b[39mlen\u001b[39m(data) \u001b[39m<\u001b[39m amt:\n\u001b[0;32m    632\u001b[0m         \u001b[39mraise\u001b[39;00m IncompleteRead(data, amt\u001b[39m-\u001b[39m\u001b[39mlen\u001b[39m(data))\n",
      "\u001b[1;31mMemoryError\u001b[0m: "
     ]
    }
   ],
   "source": [
    "\n",
    "# ratings_df_raw=pd.read_csv('MovRec_Dataset/ratings.csv', low_memory=False)\n",
    "\n",
    "ratings_df_raw=pd.read_csv('https://movrec.s3.amazonaws.com/MovRec_Dataset/ratings.csv', low_memory=False)\n",
    "\n"
   ]
  },
  {
   "attachments": {},
   "cell_type": "markdown",
   "metadata": {},
   "source": [
    "## Finding Users Liked Same Movie\n"
   ]
  },
  {
   "cell_type": "code",
   "execution_count": null,
   "metadata": {},
   "outputs": [
    {
     "data": {
      "text/html": [
       "<div>\n",
       "<style scoped>\n",
       "    .dataframe tbody tr th:only-of-type {\n",
       "        vertical-align: middle;\n",
       "    }\n",
       "\n",
       "    .dataframe tbody tr th {\n",
       "        vertical-align: top;\n",
       "    }\n",
       "\n",
       "    .dataframe thead th {\n",
       "        text-align: right;\n",
       "    }\n",
       "</style>\n",
       "<table border=\"1\" class=\"dataframe\">\n",
       "  <thead>\n",
       "    <tr style=\"text-align: right;\">\n",
       "      <th></th>\n",
       "      <th>userId</th>\n",
       "      <th>movieId</th>\n",
       "      <th>rating</th>\n",
       "      <th>timestamp</th>\n",
       "    </tr>\n",
       "  </thead>\n",
       "  <tbody>\n",
       "    <tr>\n",
       "      <th>0</th>\n",
       "      <td>1</td>\n",
       "      <td>110</td>\n",
       "      <td>1.0</td>\n",
       "      <td>1425941529</td>\n",
       "    </tr>\n",
       "    <tr>\n",
       "      <th>1</th>\n",
       "      <td>1</td>\n",
       "      <td>147</td>\n",
       "      <td>4.5</td>\n",
       "      <td>1425942435</td>\n",
       "    </tr>\n",
       "    <tr>\n",
       "      <th>2</th>\n",
       "      <td>1</td>\n",
       "      <td>858</td>\n",
       "      <td>5.0</td>\n",
       "      <td>1425941523</td>\n",
       "    </tr>\n",
       "    <tr>\n",
       "      <th>3</th>\n",
       "      <td>1</td>\n",
       "      <td>1221</td>\n",
       "      <td>5.0</td>\n",
       "      <td>1425941546</td>\n",
       "    </tr>\n",
       "    <tr>\n",
       "      <th>4</th>\n",
       "      <td>1</td>\n",
       "      <td>1246</td>\n",
       "      <td>5.0</td>\n",
       "      <td>1425941556</td>\n",
       "    </tr>\n",
       "  </tbody>\n",
       "</table>\n",
       "</div>"
      ],
      "text/plain": [
       "   userId  movieId  rating   timestamp\n",
       "0  1       110      1.0     1425941529\n",
       "1  1       147      4.5     1425942435\n",
       "2  1       858      5.0     1425941523\n",
       "3  1       1221     5.0     1425941546\n",
       "4  1       1246     5.0     1425941556"
      ]
     },
     "execution_count": 80,
     "metadata": {},
     "output_type": "execute_result"
    }
   ],
   "source": [
    "ratings_df_raw.head()"
   ]
  },
  {
   "cell_type": "code",
   "execution_count": null,
   "metadata": {},
   "outputs": [
    {
     "data": {
      "text/plain": [
       "(26024289, 4)"
      ]
     },
     "execution_count": 81,
     "metadata": {},
     "output_type": "execute_result"
    }
   ],
   "source": [
    "ratings_df_raw.shape"
   ]
  },
  {
   "cell_type": "code",
   "execution_count": null,
   "metadata": {},
   "outputs": [
    {
     "data": {
      "text/plain": [
       "(11369230, 9)"
      ]
     },
     "execution_count": 82,
     "metadata": {},
     "output_type": "execute_result"
    }
   ],
   "source": [
    "#as \"id\" was not the common column name in both the dataframes although the data was same, we need to mention the both the name as per the dataframe in order to join\n",
    "movies_ratings_df_join=final_df.merge(ratings_df_raw, left_on='id',right_on='movieId')\n",
    "movies_ratings_df_join.shape"
   ]
  },
  {
   "attachments": {},
   "cell_type": "markdown",
   "metadata": {},
   "source": [
    "we can see the last 5 rows with same movie titles but the userId is different as different user have rated the same movie"
   ]
  },
  {
   "cell_type": "code",
   "execution_count": null,
   "metadata": {},
   "outputs": [
    {
     "data": {
      "text/html": [
       "<div>\n",
       "<style scoped>\n",
       "    .dataframe tbody tr th:only-of-type {\n",
       "        vertical-align: middle;\n",
       "    }\n",
       "\n",
       "    .dataframe tbody tr th {\n",
       "        vertical-align: top;\n",
       "    }\n",
       "\n",
       "    .dataframe thead th {\n",
       "        text-align: right;\n",
       "    }\n",
       "</style>\n",
       "<table border=\"1\" class=\"dataframe\">\n",
       "  <thead>\n",
       "    <tr style=\"text-align: right;\">\n",
       "      <th></th>\n",
       "      <th>id</th>\n",
       "      <th>title</th>\n",
       "      <th>genres</th>\n",
       "      <th>tags</th>\n",
       "      <th>tags_post_stem</th>\n",
       "      <th>userId</th>\n",
       "      <th>movieId</th>\n",
       "      <th>rating</th>\n",
       "      <th>timestamp</th>\n",
       "    </tr>\n",
       "  </thead>\n",
       "  <tbody>\n",
       "    <tr>\n",
       "      <th>11369225</th>\n",
       "      <td>111109</td>\n",
       "      <td>Century of Birthing</td>\n",
       "      <td>Drama</td>\n",
       "      <td>an artist struggles to finish his work while a storyline about a cult plays in his head. drama artist play pinoy angelaquino perrydizon hazelorencio lavdiaz 2011</td>\n",
       "      <td>an artist struggl to finish hi work while a storylin about a cult play in hi head. drama artist play pinoy angelaquino perrydizon hazelorencio lavdiaz 2011</td>\n",
       "      <td>33940</td>\n",
       "      <td>111109</td>\n",
       "      <td>2.5</td>\n",
       "      <td>1405878785</td>\n",
       "    </tr>\n",
       "    <tr>\n",
       "      <th>11369226</th>\n",
       "      <td>111109</td>\n",
       "      <td>Century of Birthing</td>\n",
       "      <td>Drama</td>\n",
       "      <td>an artist struggles to finish his work while a storyline about a cult plays in his head. drama artist play pinoy angelaquino perrydizon hazelorencio lavdiaz 2011</td>\n",
       "      <td>an artist struggl to finish hi work while a storylin about a cult play in hi head. drama artist play pinoy angelaquino perrydizon hazelorencio lavdiaz 2011</td>\n",
       "      <td>172224</td>\n",
       "      <td>111109</td>\n",
       "      <td>3.0</td>\n",
       "      <td>1399502972</td>\n",
       "    </tr>\n",
       "    <tr>\n",
       "      <th>11369227</th>\n",
       "      <td>111109</td>\n",
       "      <td>Century of Birthing</td>\n",
       "      <td>Drama</td>\n",
       "      <td>an artist struggles to finish his work while a storyline about a cult plays in his head. drama artist play pinoy angelaquino perrydizon hazelorencio lavdiaz 2011</td>\n",
       "      <td>an artist struggl to finish hi work while a storylin about a cult play in hi head. drama artist play pinoy angelaquino perrydizon hazelorencio lavdiaz 2011</td>\n",
       "      <td>210792</td>\n",
       "      <td>111109</td>\n",
       "      <td>3.0</td>\n",
       "      <td>1467090449</td>\n",
       "    </tr>\n",
       "    <tr>\n",
       "      <th>11369228</th>\n",
       "      <td>111109</td>\n",
       "      <td>Century of Birthing</td>\n",
       "      <td>Drama</td>\n",
       "      <td>an artist struggles to finish his work while a storyline about a cult plays in his head. drama artist play pinoy angelaquino perrydizon hazelorencio lavdiaz 2011</td>\n",
       "      <td>an artist struggl to finish hi work while a storylin about a cult play in hi head. drama artist play pinoy angelaquino perrydizon hazelorencio lavdiaz 2011</td>\n",
       "      <td>225396</td>\n",
       "      <td>111109</td>\n",
       "      <td>3.5</td>\n",
       "      <td>1399302912</td>\n",
       "    </tr>\n",
       "    <tr>\n",
       "      <th>11369229</th>\n",
       "      <td>111109</td>\n",
       "      <td>Century of Birthing</td>\n",
       "      <td>Drama</td>\n",
       "      <td>an artist struggles to finish his work while a storyline about a cult plays in his head. drama artist play pinoy angelaquino perrydizon hazelorencio lavdiaz 2011</td>\n",
       "      <td>an artist struggl to finish hi work while a storylin about a cult play in hi head. drama artist play pinoy angelaquino perrydizon hazelorencio lavdiaz 2011</td>\n",
       "      <td>269593</td>\n",
       "      <td>111109</td>\n",
       "      <td>0.5</td>\n",
       "      <td>1471835519</td>\n",
       "    </tr>\n",
       "  </tbody>\n",
       "</table>\n",
       "</div>"
      ],
      "text/plain": [
       "              id                title genres  \\\n",
       "11369225  111109  Century of Birthing  Drama   \n",
       "11369226  111109  Century of Birthing  Drama   \n",
       "11369227  111109  Century of Birthing  Drama   \n",
       "11369228  111109  Century of Birthing  Drama   \n",
       "11369229  111109  Century of Birthing  Drama   \n",
       "\n",
       "                                                                                                                                                                       tags  \\\n",
       "11369225  an artist struggles to finish his work while a storyline about a cult plays in his head. drama artist play pinoy angelaquino perrydizon hazelorencio lavdiaz 2011   \n",
       "11369226  an artist struggles to finish his work while a storyline about a cult plays in his head. drama artist play pinoy angelaquino perrydizon hazelorencio lavdiaz 2011   \n",
       "11369227  an artist struggles to finish his work while a storyline about a cult plays in his head. drama artist play pinoy angelaquino perrydizon hazelorencio lavdiaz 2011   \n",
       "11369228  an artist struggles to finish his work while a storyline about a cult plays in his head. drama artist play pinoy angelaquino perrydizon hazelorencio lavdiaz 2011   \n",
       "11369229  an artist struggles to finish his work while a storyline about a cult plays in his head. drama artist play pinoy angelaquino perrydizon hazelorencio lavdiaz 2011   \n",
       "\n",
       "                                                                                                                                                       tags_post_stem  \\\n",
       "11369225  an artist struggl to finish hi work while a storylin about a cult play in hi head. drama artist play pinoy angelaquino perrydizon hazelorencio lavdiaz 2011   \n",
       "11369226  an artist struggl to finish hi work while a storylin about a cult play in hi head. drama artist play pinoy angelaquino perrydizon hazelorencio lavdiaz 2011   \n",
       "11369227  an artist struggl to finish hi work while a storylin about a cult play in hi head. drama artist play pinoy angelaquino perrydizon hazelorencio lavdiaz 2011   \n",
       "11369228  an artist struggl to finish hi work while a storylin about a cult play in hi head. drama artist play pinoy angelaquino perrydizon hazelorencio lavdiaz 2011   \n",
       "11369229  an artist struggl to finish hi work while a storylin about a cult play in hi head. drama artist play pinoy angelaquino perrydizon hazelorencio lavdiaz 2011   \n",
       "\n",
       "          userId  movieId  rating   timestamp  \n",
       "11369225  33940   111109   2.5     1405878785  \n",
       "11369226  172224  111109   3.0     1399502972  \n",
       "11369227  210792  111109   3.0     1467090449  \n",
       "11369228  225396  111109   3.5     1399302912  \n",
       "11369229  269593  111109   0.5     1471835519  "
      ]
     },
     "execution_count": 83,
     "metadata": {},
     "output_type": "execute_result"
    }
   ],
   "source": [
    "movies_ratings_df_join.tail()"
   ]
  },
  {
   "cell_type": "code",
   "execution_count": null,
   "metadata": {},
   "outputs": [
    {
     "data": {
      "text/plain": [
       "The Million Dollar Hotel              91082\n",
       "Terminator 3: Rise of the Machines    87901\n",
       "Solaris                               84318\n",
       "The 39 Steps                          77045\n",
       "Monsoon Wedding                       74355\n",
       "                                      ...  \n",
       "Phil Spector                          1    \n",
       "The Call                              1    \n",
       "A Thousand Cuts                       1    \n",
       "I Will Buy You                        1    \n",
       "Shanghai Calling                      1    \n",
       "Name: title, Length: 7238, dtype: int64"
      ]
     },
     "execution_count": 84,
     "metadata": {},
     "output_type": "execute_result"
    }
   ],
   "source": [
    "movies_ratings_df_join.title.value_counts()"
   ]
  },
  {
   "cell_type": "code",
   "execution_count": null,
   "metadata": {},
   "outputs": [
    {
     "data": {
      "text/plain": [
       "7238"
      ]
     },
     "execution_count": 85,
     "metadata": {},
     "output_type": "execute_result"
    }
   ],
   "source": [
    "len(movies_ratings_df_join.title.unique())"
   ]
  },
  {
   "attachments": {},
   "cell_type": "markdown",
   "metadata": {},
   "source": [
    "### Let us assume a user, X liked a movie M, let us find out who all are the users (UX) who liked the same movie M to find our niche (UX).\n",
    "### now let us check what are the other movies M2,M3 which the same users (UX) like.\n",
    "### now let us check who are the other users UY who liked those movies M2, M3.\n",
    "### if those users YU, also like the same movie M2, as of our niche UX, may be those movies M2 are liked by everyone in general, so to avoid bias\n",
    "### we will consider the least like movies M3, by other niche UY so that we can be very specific in our niche that those movies M3 would be the best to recommendation to the user X\n"
   ]
  },
  {
   "attachments": {},
   "cell_type": "markdown",
   "metadata": {},
   "source": [
    "Let us assume user X, likes Toy Story, which we have found from the viewing history/rating/watch time/no. of times watched etc."
   ]
  },
  {
   "cell_type": "code",
   "execution_count": null,
   "metadata": {},
   "outputs": [],
   "source": [
    "title='Toy Story'"
   ]
  },
  {
   "attachments": {},
   "cell_type": "markdown",
   "metadata": {},
   "source": [
    "now finding the similar users UX like X, who also liked Toy Story and gave 4+ rating"
   ]
  },
  {
   "cell_type": "code",
   "execution_count": null,
   "metadata": {},
   "outputs": [
    {
     "name": "stdout",
     "output_type": "stream",
     "text": [
      "199\n"
     ]
    },
    {
     "data": {
      "text/plain": [
       "array([  2103,   6177,   6525,   8659,   9328,   9682,  13839,  15235,\n",
       "        16287,  17210,  17211,  17325,  17489,  17545,  17765,  18274,\n",
       "        18595,  19404,  21664,  23635,  27685,  28528,  28866,  29515,\n",
       "        29611,  33067,  33296,  34876,  35190,  35808,  36342,  39216,\n",
       "        39409,  39760,  40363,  41468,  42550,  42746,  43681,  44470,\n",
       "        45264,  46200,  47253,  50057,  51615,  51943,  52672,  52794,\n",
       "        54069,  56306,  60313,  66311,  66423,  66622,  67102,  68112,\n",
       "        69979,  70766,  71266,  71832,  72206,  73948,  75133,  75357,\n",
       "        75580,  76690,  77635,  81267,  81491,  82385,  83777,  84981,\n",
       "        88615,  90789,  91516,  95090,  95885,  98243,  99478, 100309,\n",
       "       100542, 101330, 101914, 108287, 108416, 111040, 112373, 112843,\n",
       "       114034, 117252, 118990, 123841, 127879, 128297, 128620, 128979,\n",
       "       129725, 130237, 131439, 132221, 134237, 134366, 135979, 137233,\n",
       "       138710, 139886, 141711, 141725, 142142, 142905, 143161, 143998,\n",
       "       145605, 148698, 148739, 149429, 150337, 151013, 151593, 152170,\n",
       "       152492, 153180, 158452, 159826, 160411, 161050, 162306, 162611,\n",
       "       164185, 166612, 168923, 170243, 170931, 171017, 172204, 173922,\n",
       "       175355, 176667, 176807, 176920, 177018, 180980, 182422, 183224,\n",
       "       184936, 186004, 186075, 190314, 192397, 196070, 196760, 197318,\n",
       "       201088, 201940, 202331, 203864, 210002, 210701, 217537, 218656,\n",
       "       221431, 222515, 222609, 222616, 223261, 227101, 227753, 230528,\n",
       "       230576, 230834, 230960, 233428, 234387, 235161, 236025, 237555,\n",
       "       239701, 239837, 240297, 241867, 243198, 244212, 245643, 246584,\n",
       "       247445, 248538, 250082, 251432, 251540, 253996, 254977, 255537,\n",
       "       257473, 259650, 266243, 267543, 268336, 270422, 270654],\n",
       "      dtype=int64)"
      ]
     },
     "execution_count": 87,
     "metadata": {},
     "output_type": "execute_result"
    }
   ],
   "source": [
    "similar_users=movies_ratings_df_join[(movies_ratings_df_join[\"title\"] == title ) & (movies_ratings_df_join['rating']>=4)]['userId'].unique()\n",
    "print(len(similar_users))\n",
    "similar_users    \n",
    "    "
   ]
  },
  {
   "attachments": {},
   "cell_type": "markdown",
   "metadata": {},
   "source": [
    "now checking what are the other movies which the above similar users also liked and gave 4+ rating"
   ]
  },
  {
   "cell_type": "code",
   "execution_count": null,
   "metadata": {},
   "outputs": [
    {
     "data": {
      "text/plain": [
       "['Toy Story',\n",
       " 'Jumanji',\n",
       " 'Heat',\n",
       " 'Cutthroat Island',\n",
       " 'Casino',\n",
       " 'Sense and Sensibility',\n",
       " 'Four Rooms',\n",
       " 'Get Shorty',\n",
       " 'Leaving Las Vegas',\n",
       " 'The City of Lost Children',\n",
       " 'Twelve Monkeys',\n",
       " 'Dead Man Walking',\n",
       " 'To Die For',\n",
       " 'Se7en',\n",
       " \"Mr. Holland's Opus\",\n",
       " 'From Dusk Till Dawn',\n",
       " \"Things to Do in Denver When You're Dead\",\n",
       " \"Antonia's Line\",\n",
       " 'Angels and Insects',\n",
       " 'Unforgettable',\n",
       " 'The Bridges of Madison County',\n",
       " 'Braveheart',\n",
       " 'Taxi Driver',\n",
       " 'Flirting with Disaster',\n",
       " 'Apollo 13',\n",
       " 'Batman Forever',\n",
       " 'Belle de Jour',\n",
       " 'Beyond Rangoon',\n",
       " 'Crumb',\n",
       " 'Desperado',\n",
       " 'Devil in a Blue Dress',\n",
       " 'Die Hard: With a Vengeance',\n",
       " 'Lord of Illusions',\n",
       " 'Mallrats',\n",
       " 'The Net',\n",
       " 'Safe',\n",
       " 'Strange Days',\n",
       " 'Under Siege 2: Dark Territory',\n",
       " 'Bushwhacked',\n",
       " 'Before Sunrise',\n",
       " 'Clerks',\n",
       " 'Don Juan DeMarco',\n",
       " 'Disclosure',\n",
       " 'Drop Zone',\n",
       " 'Ed Wood',\n",
       " 'Heavenly Creatures',\n",
       " 'Interview with the Vampire',\n",
       " 'Star Wars',\n",
       " 'Legends of the Fall',\n",
       " \"Mary Shelley's Frankenstein\",\n",
       " 'Milk Money',\n",
       " 'Nell',\n",
       " 'Natural Born Killers',\n",
       " 'Once Were Warriors',\n",
       " 'Outbreak',\n",
       " 'Leon: The Professional',\n",
       " 'Pulp Fiction',\n",
       " 'Prêt-à-Porter',\n",
       " 'Three Colors: Red',\n",
       " 'Three Colors: Blue',\n",
       " 'The Shawshank Redemption',\n",
       " 'Star Trek: Generations',\n",
       " \"What's Eating Gilbert Grape\",\n",
       " 'While You Were Sleeping',\n",
       " \"Muriel's Wedding\",\n",
       " 'Ace Ventura: Pet Detective',\n",
       " 'The Adventures of Priscilla, Queen of the Desert',\n",
       " 'The Flintstones',\n",
       " 'Forrest Gump',\n",
       " 'Four Weddings and a Funeral',\n",
       " 'The Lion King',\n",
       " 'Little Buddha',\n",
       " 'The Mask',\n",
       " 'Reality Bites',\n",
       " 'Faster, Pussycat! Kill! Kill!',\n",
       " 'Highlander: The Final Dimension',\n",
       " 'In the Mouth of Madness',\n",
       " 'Addams Family Values',\n",
       " 'Beverly Hills Cop III',\n",
       " 'Blown Away',\n",
       " 'Cabin Boy',\n",
       " 'Color of Night',\n",
       " 'Fatal Instinct',\n",
       " 'The Fugitive',\n",
       " 'The Getaway',\n",
       " 'Guilty as Sin',\n",
       " 'Hard Target',\n",
       " 'Live Nude Girls',\n",
       " 'The House of the Spirits',\n",
       " 'In the Name of the Father',\n",
       " 'Judgment Night',\n",
       " 'Jurassic Park',\n",
       " 'Killing Zoe',\n",
       " 'M. Butterfly',\n",
       " 'Executive Decision',\n",
       " 'Mrs. Doubtfire',\n",
       " 'The Piano',\n",
       " 'Poetic Justice',\n",
       " 'The Remains of the Day',\n",
       " 'Romeo Is Bleeding',\n",
       " \"Schindler's List\",\n",
       " 'Short Cuts',\n",
       " 'Sleepless in Seattle',\n",
       " 'Sliver',\n",
       " 'Blade Runner',\n",
       " 'True Romance',\n",
       " 'The Celluloid Closet',\n",
       " 'Home Alone',\n",
       " 'Terminator 2: Judgment Day',\n",
       " 'Dances with Wolves',\n",
       " 'Batman',\n",
       " 'The Silence of the Lambs',\n",
       " 'Snow White and the Seven Dwarfs',\n",
       " 'Pretty Woman',\n",
       " 'One Fine Day',\n",
       " 'Fargo',\n",
       " 'Primal Fear',\n",
       " 'Jack & Sarah',\n",
       " 'Mission: Impossible',\n",
       " 'DragonHeart',\n",
       " 'Pather Panchali',\n",
       " 'The World of Apu',\n",
       " 'Space Jam',\n",
       " 'Some Folks Call It a Sling Blade',\n",
       " 'Faces',\n",
       " 'The Truth About Cats & Dogs',\n",
       " 'Dead Man',\n",
       " 'The Haunted World of Edward D. Wood, Jr.',\n",
       " 'Twister',\n",
       " 'A Close Shave',\n",
       " 'Force of Evil',\n",
       " 'Dr. Strangelove or: How I Learned to Stop Worrying and Love the Bomb',\n",
       " 'Jack',\n",
       " 'Trainspotting',\n",
       " 'Independence Day',\n",
       " 'An Unforgettable Summer',\n",
       " 'A Time to Kill',\n",
       " 'La Collectionneuse',\n",
       " 'The First Wives Club',\n",
       " 'Ransom',\n",
       " 'The Spitfire Grill',\n",
       " 'Basquiat',\n",
       " 'The Godfather',\n",
       " 'Maybe... Maybe Not',\n",
       " 'Bogus',\n",
       " 'The Philadelphia Story',\n",
       " 'An American in Paris',\n",
       " \"Breakfast at Tiffany's\",\n",
       " 'Vertigo',\n",
       " 'Rear Window',\n",
       " 'It Happened One Night',\n",
       " 'North by Northwest',\n",
       " 'The Apartment',\n",
       " 'Some Like It Hot',\n",
       " 'Charade',\n",
       " 'Casablanca',\n",
       " 'The Maltese Falcon',\n",
       " 'Sabrina',\n",
       " 'Roman Holiday',\n",
       " 'Meet Me in St. Louis',\n",
       " 'The Wizard of Oz',\n",
       " 'Sunset Boulevard',\n",
       " 'Citizen Kane',\n",
       " '2001: A Space Odyssey',\n",
       " 'All About Eve',\n",
       " 'Rebecca',\n",
       " 'Notorious',\n",
       " 'Spellbound',\n",
       " 'To Catch a Thief',\n",
       " 'Ninotchka',\n",
       " 'Laura',\n",
       " 'Lost Horizon',\n",
       " 'To Be or Not to Be',\n",
       " 'East of Eden',\n",
       " 'The Thin Man',\n",
       " 'Around the World in Eighty Days',\n",
       " \"It's a Wonderful Life\",\n",
       " 'Mr. Smith Goes to Washington',\n",
       " 'Bringing Up Baby',\n",
       " 'The 39 Steps',\n",
       " 'The African Queen',\n",
       " 'Cat on a Hot Tin Roof',\n",
       " 'Michael Collins',\n",
       " 'Infinity',\n",
       " 'The Chamber',\n",
       " '20,000 Leagues Under the Sea',\n",
       " 'Cool Runnings',\n",
       " 'Mary Poppins',\n",
       " 'Die Hard',\n",
       " 'Romeo + Juliet',\n",
       " 'Sleepers',\n",
       " 'Murder, My Sweet',\n",
       " 'Willy Wonka & the Chocolate Factory',\n",
       " 'A Fish Called Wanda',\n",
       " 'Life of Brian',\n",
       " 'Bonnie and Clyde',\n",
       " 'Dial M for Murder',\n",
       " 'Dirty Dancing',\n",
       " 'Reservoir Dogs',\n",
       " \"Weekend at Bernie's\",\n",
       " 'Basic Instinct',\n",
       " 'E.T. the Extra-Terrestrial',\n",
       " 'A Christmas Carol',\n",
       " 'Days of Thunder',\n",
       " 'A Streetcar Named Desire',\n",
       " 'Children of the Corn IV: The Gathering',\n",
       " 'The Fog',\n",
       " 'Escape from New York',\n",
       " 'Jean de Florette',\n",
       " 'Manon of the Spring',\n",
       " 'Johnny 100 Pesos',\n",
       " 'Monty Python and the Holy Grail',\n",
       " 'The Wrong Trousers',\n",
       " 'The Return of Martin Guerre',\n",
       " 'The Tin Drum',\n",
       " 'The Ruling Class',\n",
       " 'Delicatessen',\n",
       " 'The Double Life of Veronique',\n",
       " 'Sex, Lies, and Videotape',\n",
       " 'Tie Me Up! Tie Me Down!',\n",
       " 'Paris is Burning',\n",
       " \"One Flew Over the Cuckoo's Nest\",\n",
       " 'The Empire Strikes Back',\n",
       " 'The Princess Bride',\n",
       " 'Raiders of the Lost Ark',\n",
       " 'Brazil',\n",
       " 'The Good, the Bad and the Ugly',\n",
       " '12 Angry Men',\n",
       " 'Lawrence of Arabia',\n",
       " 'A Clockwork Orange',\n",
       " 'To Kill a Mockingbird',\n",
       " 'Apocalypse Now',\n",
       " 'Once Upon a Time in the West',\n",
       " 'Return of the Jedi',\n",
       " 'Wings of Desire',\n",
       " 'The Third Man',\n",
       " 'GoodFellas',\n",
       " 'Alien',\n",
       " 'Army of Darkness',\n",
       " 'The Big Blue',\n",
       " 'Psycho',\n",
       " 'The Blues Brothers',\n",
       " 'The Godfather: Part II',\n",
       " 'Full Metal Jacket',\n",
       " 'Amadeus',\n",
       " 'The Quiet Man',\n",
       " 'Annie Hall',\n",
       " 'Stalker',\n",
       " 'Harold and Maude',\n",
       " 'The Seventh Seal',\n",
       " 'The Terminator',\n",
       " 'Braindead',\n",
       " 'Manhattan',\n",
       " \"Miller's Crossing\",\n",
       " 'Dead Poets Society',\n",
       " 'Touch of Evil',\n",
       " '8½',\n",
       " 'Chinatown',\n",
       " 'The Day the Earth Stood Still',\n",
       " 'The Treasure of the Sierra Madre',\n",
       " 'Duck Soup',\n",
       " 'The Shining',\n",
       " 'Stand by Me',\n",
       " 'M',\n",
       " 'Evil Dead II',\n",
       " 'The Great Escape',\n",
       " 'Groundhog Day',\n",
       " 'The Manchurian Candidate',\n",
       " 'Arsenic and Old Lace',\n",
       " 'Back to the Future',\n",
       " 'Fried Green Tomatoes',\n",
       " 'Down by Law',\n",
       " 'Akira',\n",
       " 'Cool Hand Luke',\n",
       " 'Young Frankenstein',\n",
       " 'Night on Earth',\n",
       " 'The Great Dictator',\n",
       " 'Fantasia',\n",
       " 'High Noon',\n",
       " 'The Big Sleep',\n",
       " 'Heathers',\n",
       " 'Ben-Hur',\n",
       " 'Indiana Jones and the Last Crusade',\n",
       " 'Gandhi',\n",
       " 'Forbidden Planet',\n",
       " 'Field of Dreams',\n",
       " 'The Man Who Would Be King',\n",
       " 'When Harry Met Sally...',\n",
       " 'The Birds',\n",
       " 'The Blob',\n",
       " 'Bride of Frankenstein',\n",
       " 'Carrie',\n",
       " 'Cat People',\n",
       " 'A Nightmare on Elm Street',\n",
       " 'Nosferatu',\n",
       " 'The Omen',\n",
       " 'Breaking the Waves',\n",
       " 'Nightwatch',\n",
       " 'Star Trek: First Contact',\n",
       " 'Die Hard 2',\n",
       " 'Star Trek: The Motion Picture',\n",
       " 'Star Trek VI: The Undiscovered Country',\n",
       " 'Star Trek V: The Final Frontier',\n",
       " 'Star Trek II: The Wrath of Khan',\n",
       " 'Star Trek III: The Search for Spock',\n",
       " 'Star Trek IV: The Voyage Home',\n",
       " 'Batman Returns',\n",
       " 'Grease',\n",
       " 'Adrenalin: Fear the Rush',\n",
       " 'Mars Attacks!',\n",
       " 'Raising Arizona',\n",
       " 'Sneakers',\n",
       " 'Beavis and Butt-Head Do America',\n",
       " 'Scream',\n",
       " 'Michael',\n",
       " 'Turbulence',\n",
       " 'Angel Baby',\n",
       " 'Metro',\n",
       " 'Benny & Joon',\n",
       " 'Kolya',\n",
       " 'Fools Rush In',\n",
       " 'Absolute Power',\n",
       " 'Lost Highway',\n",
       " 'Love Jones',\n",
       " 'Crash',\n",
       " 'Liar Liar',\n",
       " \"The Devil's Own\",\n",
       " 'Austin Powers: International Man of Mystery',\n",
       " 'Breakdown',\n",
       " 'The Fifth Element',\n",
       " 'Nowhere',\n",
       " 'Addicted to Love',\n",
       " 'The Lost World: Jurassic Park',\n",
       " 'Shiloh',\n",
       " 'Con Air',\n",
       " 'The Pillow Book',\n",
       " 'Speed 2: Cruise Control',\n",
       " 'Batman & Robin',\n",
       " \"My Best Friend's Wedding\",\n",
       " 'Contempt',\n",
       " 'Face/Off',\n",
       " 'Mimic',\n",
       " 'One Eight Seven',\n",
       " 'The Hunt for Red October',\n",
       " 'My Own Private Idaho',\n",
       " 'L.A. Confidential',\n",
       " 'The Game',\n",
       " 'Chasing Amy',\n",
       " 'I Know What You Did Last Summer',\n",
       " 'Gattaca',\n",
       " 'Swept from the Sea',\n",
       " 'Bean',\n",
       " 'Boogie Nights',\n",
       " 'Incognito',\n",
       " 'Starship Troopers',\n",
       " 'The Jackal',\n",
       " 'Deconstructing Harry',\n",
       " 'Good Will Hunting',\n",
       " 'Midnight in the Garden of Good and Evil',\n",
       " 'MouseHunt',\n",
       " 'Scream 2',\n",
       " 'Titanic',\n",
       " 'Tomorrow Never Dies',\n",
       " 'The Horse Whisperer',\n",
       " 'Jackie Brown',\n",
       " 'Wag the Dog',\n",
       " 'B. Monkey',\n",
       " 'Palmetto',\n",
       " 'As Good as It Gets',\n",
       " 'Twilight',\n",
       " 'Welcome to Woop Woop',\n",
       " 'Wild Things',\n",
       " 'Two Girls and a Guy',\n",
       " 'Lost in Space',\n",
       " 'Mercury Rising',\n",
       " 'City of Angels',\n",
       " 'Live Flesh',\n",
       " 'Prince Valiant',\n",
       " 'Les Misérables',\n",
       " 'Deep Impact',\n",
       " 'Godzilla',\n",
       " 'A Perfect Murder',\n",
       " 'Beyond Silence',\n",
       " 'Six Days Seven Nights',\n",
       " 'The X Files',\n",
       " 'Doctor Dolittle',\n",
       " 'Out of Sight',\n",
       " 'Armageddon',\n",
       " 'Lethal Weapon 4',\n",
       " 'Pi',\n",
       " \"There's Something About Mary\",\n",
       " 'West Side Story',\n",
       " 'Tom Jones',\n",
       " 'A Man for All Seasons',\n",
       " 'The French Connection',\n",
       " 'Rocky',\n",
       " 'Out of Africa',\n",
       " 'The Last Emperor',\n",
       " 'Rain Man',\n",
       " 'Klute',\n",
       " 'The Breakfast Club',\n",
       " 'Friday the 13th',\n",
       " 'Halloween',\n",
       " 'Poltergeist',\n",
       " 'Lethal Weapon',\n",
       " 'Lethal Weapon 2',\n",
       " 'Lethal Weapon 3',\n",
       " 'Gremlins',\n",
       " 'Gremlins 2: The New Batch',\n",
       " 'Metropolis',\n",
       " 'Back to the Future Part II',\n",
       " 'Back to the Future Part III',\n",
       " 'The Poseidon Adventure',\n",
       " 'Seven Samurai',\n",
       " 'Dangerous Liaisons',\n",
       " 'Dune',\n",
       " 'The Godfather: Part III',\n",
       " 'The Rapture',\n",
       " 'Saving Private Ryan',\n",
       " 'Roger & Me',\n",
       " 'Out of the Past',\n",
       " 'Doctor Zhivago',\n",
       " 'Blue Velvet',\n",
       " 'Tron',\n",
       " 'L.A. Story',\n",
       " 'The Jerk',\n",
       " 'The Outsiders',\n",
       " 'Indiana Jones and the Temple of Doom',\n",
       " 'The Lord of the Rings',\n",
       " 'The Addams Family',\n",
       " 'An American Tail',\n",
       " \"Rosemary's Baby\",\n",
       " 'Attack of the Killer Tomatoes!',\n",
       " 'Beetlejuice',\n",
       " 'Rope',\n",
       " 'Family Plot',\n",
       " 'Frenzy',\n",
       " 'Topaz',\n",
       " 'Torn Curtain',\n",
       " 'Marnie',\n",
       " 'The Man Who Knew Too Much',\n",
       " 'Strangers on a Train',\n",
       " '54',\n",
       " 'Willow',\n",
       " 'The Untouchables',\n",
       " 'Under Capricorn',\n",
       " 'The Lady Vanishes',\n",
       " 'Young and Innocent',\n",
       " 'Secret Agent',\n",
       " 'Murder!',\n",
       " 'Blackmail',\n",
       " 'The Lodger: A Story of the London Fog',\n",
       " 'Cube',\n",
       " 'Grandview, U.S.A.',\n",
       " 'Working Girl',\n",
       " 'Married to the Mob',\n",
       " 'Say Anything...',\n",
       " \"We're No Angels\",\n",
       " 'A Few Good Men',\n",
       " 'Indecent Proposal',\n",
       " 'Rush Hour',\n",
       " 'Ronin',\n",
       " 'The Thing',\n",
       " 'Edward Scissorhands',\n",
       " 'Antz',\n",
       " 'Nashville',\n",
       " 'Love Is the Devil: Study for a Portrait of Francis Bacon',\n",
       " 'The Inheritors',\n",
       " '2010',\n",
       " 'The Elephant Man',\n",
       " 'Pleasantville',\n",
       " 'Life Is Beautiful',\n",
       " 'Orgazmo',\n",
       " 'American History X',\n",
       " 'Gods and Monsters',\n",
       " 'Elizabeth',\n",
       " 'Meet Joe Black',\n",
       " 'Savior',\n",
       " 'The Celebration',\n",
       " 'Pink Flamingos',\n",
       " 'King Kong vs. Godzilla',\n",
       " 'King Kong',\n",
       " 'A View to a Kill',\n",
       " 'Star Trek: Insurrection',\n",
       " 'Shakespeare in Love',\n",
       " 'Pale Rider',\n",
       " 'Rambo: First Blood Part II',\n",
       " 'First Blood',\n",
       " 'Rambo III',\n",
       " 'Rocky II',\n",
       " 'Rocky III',\n",
       " 'Rocky IV',\n",
       " 'Rocky V',\n",
       " 'The Karate Kid',\n",
       " \"National Lampoon's Christmas Vacation\",\n",
       " 'The Hi-Lo Country',\n",
       " 'The Gate',\n",
       " 'Armed and Dangerous',\n",
       " 'The Name of the Rose',\n",
       " 'Dry Cleaning',\n",
       " 'My Name Is Joe',\n",
       " 'Payback',\n",
       " 'Office Space',\n",
       " 'Just the Ticket',\n",
       " 'Pet Sematary',\n",
       " \"Airport '77\",\n",
       " 'Planet of the Apes',\n",
       " 'Beneath the Planet of the Apes',\n",
       " 'Conquest of the Planet of the Apes',\n",
       " 'Escape from the Planet of the Apes',\n",
       " 'Cruel Intentions',\n",
       " 'Lock, Stock and Two Smoking Barrels',\n",
       " 'I Stand Alone',\n",
       " 'Forces of Nature',\n",
       " 'The Matrix',\n",
       " '10 Things I Hate About You',\n",
       " 'The Out-of-Towners',\n",
       " 'Lovers of the Arctic Circle',\n",
       " 'The Joyriders',\n",
       " 'Open Your Eyes',\n",
       " 'eXistenZ',\n",
       " 'Entrapment',\n",
       " 'Idle Hands',\n",
       " 'Mildred Pierce',\n",
       " 'Edge of Seventeen',\n",
       " 'Star Wars: Episode I - The Phantom Menace',\n",
       " 'The Saragossa Manuscript',\n",
       " 'Superman',\n",
       " 'Dracula',\n",
       " 'House of Dracula',\n",
       " 'House of Frankenstein',\n",
       " 'Frankenstein',\n",
       " 'Son of Frankenstein',\n",
       " 'The Ghost of Frankenstein',\n",
       " 'Frankenstein Meets the Wolf Man',\n",
       " 'The Curse of Frankenstein',\n",
       " 'The War of the Worlds',\n",
       " 'Notting Hill',\n",
       " 'The Thirteenth Floor',\n",
       " \"The General's Daughter\",\n",
       " 'Run Lola Run',\n",
       " 'Arachnophobia',\n",
       " 'Wild Wild West',\n",
       " 'Les Amants du Pont-Neuf',\n",
       " 'American Pie',\n",
       " 'Arlington Road',\n",
       " 'The Blair Witch Project',\n",
       " 'Eyes Wide Shut',\n",
       " 'Ghostbusters II',\n",
       " 'Inspector Gadget',\n",
       " 'Trick',\n",
       " 'Deep Blue Sea',\n",
       " 'Runaway Bride',\n",
       " 'The Killing',\n",
       " 'Lolita',\n",
       " 'Barry Lyndon',\n",
       " 'The 400 Blows',\n",
       " 'The Color Purple',\n",
       " 'Ménage',\n",
       " 'Light of Day',\n",
       " 'Frances',\n",
       " 'The Sixth Sense',\n",
       " 'The Thomas Crown Affair',\n",
       " 'Airplane!',\n",
       " 'Airplane II: The Sequel',\n",
       " 'Big',\n",
       " 'A Christmas Story',\n",
       " 'The 13th Warrior',\n",
       " \"The Astronaut's Wife\",\n",
       " 'The Very Thought of You',\n",
       " 'I Woke Up Early The Day I Died',\n",
       " 'Black Cat, White Cat',\n",
       " 'Only Angels Have Wings',\n",
       " 'American Beauty',\n",
       " \"A Hard Day's Night\",\n",
       " 'Sommersby',\n",
       " 'Jakob the Liar',\n",
       " \"Boys Don't Cry\",\n",
       " 'Total Recall',\n",
       " 'Children of Paradise',\n",
       " \"Hang 'em High\",\n",
       " \"Citizen's Band\",\n",
       " 'Brief Encounter',\n",
       " 'The Fire Within',\n",
       " 'The Lady Eve',\n",
       " 'Flashdance',\n",
       " 'Indochine',\n",
       " 'The Dirty Dozen',\n",
       " 'Goldfinger',\n",
       " 'A Fistful of Dollars',\n",
       " 'Home Alone 2: Lost in New York',\n",
       " 'Fight Club',\n",
       " 'Fever Pitch',\n",
       " 'The Straight Story',\n",
       " 'RoboCop',\n",
       " 'Who Framed Roger Rabbit',\n",
       " 'Licence to Kill',\n",
       " 'Live and Let Die',\n",
       " 'Thunderball',\n",
       " 'Being John Malkovich',\n",
       " 'Princess Mononoke',\n",
       " 'Train of Life',\n",
       " 'The Bachelor',\n",
       " 'Re-Animator',\n",
       " 'Drugstore Cowboy',\n",
       " 'The General',\n",
       " 'Spaceballs',\n",
       " 'Trading Places',\n",
       " 'Irma la Douce',\n",
       " 'Sleepy Hollow',\n",
       " 'All About My Mother',\n",
       " 'Babes in Toyland',\n",
       " 'Maurice',\n",
       " 'The Grapes of Wrath',\n",
       " 'A River Runs Through It',\n",
       " 'Midnight Run',\n",
       " 'Backdraft',\n",
       " 'The Fisher King',\n",
       " 'A Bay of Blood',\n",
       " 'The Green Mile',\n",
       " 'The Cider House Rules',\n",
       " 'Anna and the King',\n",
       " 'Magnolia',\n",
       " 'The Falcon and the Snowman',\n",
       " 'Man on the Moon',\n",
       " 'Galaxy Quest',\n",
       " 'The Talented Mr. Ripley',\n",
       " 'Stalag 17',\n",
       " 'Pacific Heights',\n",
       " 'Malcolm X',\n",
       " 'Sister Act',\n",
       " 'Sister Act 2: Back in the Habit',\n",
       " 'Alive',\n",
       " \"Wayne's World\",\n",
       " \"Wayne's World 2\",\n",
       " 'The Bodyguard',\n",
       " 'Twin Peaks: Fire Walk with Me',\n",
       " 'Scream 3',\n",
       " 'The Beach',\n",
       " 'To Sir, with Love',\n",
       " 'Pitch Black',\n",
       " 'The Whole Nine Yards',\n",
       " 'City Lights',\n",
       " 'Reindeer Games',\n",
       " 'The Next Best Thing',\n",
       " 'Ghost Dog: The Way of the Samurai',\n",
       " 'My Tutor',\n",
       " 'Mission to Mars',\n",
       " 'Hoosiers',\n",
       " 'Bull Durham',\n",
       " 'Dog Day Afternoon',\n",
       " 'American Graffiti',\n",
       " 'The Searchers',\n",
       " 'JFK',\n",
       " 'Harry and the Hendersons',\n",
       " 'Blind Date',\n",
       " 'The Bear',\n",
       " 'Mirror',\n",
       " 'Thelma & Louise',\n",
       " 'Do the Right Thing',\n",
       " 'Jungle Fever',\n",
       " \"Coogan's Bluff\",\n",
       " 'Double Indemnity',\n",
       " 'Cool as Ice',\n",
       " 'Teenage Mutant Ninja Turtles',\n",
       " 'Teenage Mutant Ninja Turtles III',\n",
       " 'Red Dawn',\n",
       " 'Good Morning, Vietnam',\n",
       " \"Guess Who's Coming to Dinner\",\n",
       " 'Romeo Must Die',\n",
       " 'Modern Times',\n",
       " 'Solar Crisis',\n",
       " 'The Hustler',\n",
       " 'Close Encounters of the Third Kind',\n",
       " \"Jacob's Ladder\",\n",
       " 'Ladyhawke',\n",
       " 'High Fidelity',\n",
       " 'El Dorado',\n",
       " 'Hook',\n",
       " 'Max Dugan Returns',\n",
       " 'Solaris',\n",
       " 'Return to Me',\n",
       " 'Bell, Book and Candle',\n",
       " 'Parenthood',\n",
       " 'Predator',\n",
       " 'American Psycho',\n",
       " 'Keeping the Faith',\n",
       " 'U-571',\n",
       " 'The Virgin Suicides',\n",
       " 'The Flintstones in Viva Rock Vegas',\n",
       " 'The Idiots',\n",
       " 'Two Moon Junction',\n",
       " 'Breathless',\n",
       " 'The Nibelungs, Tale 1: Siegfried',\n",
       " 'Roustabout',\n",
       " 'Mission: Impossible II',\n",
       " 'Shanghai Noon',\n",
       " 'The Gold Rush',\n",
       " 'Lisa and the Devil',\n",
       " \"On Her Majesty's Secret Service\",\n",
       " 'The Spy Who Loved Me',\n",
       " 'Moonraker',\n",
       " 'Cléo from 5 to 7',\n",
       " 'The Endless Summer',\n",
       " 'Romeo and Juliet',\n",
       " 'Eraserhead',\n",
       " 'The Man with the Golden Arm',\n",
       " 'For a Few Dollars More',\n",
       " \"Prizzi's Honor\",\n",
       " 'Flatliners',\n",
       " \"Class of Nuke 'Em High\",\n",
       " 'Predator 2',\n",
       " 'The Running Man',\n",
       " 'Mad Max 2: The Road Warrior',\n",
       " 'Bird on a Wire',\n",
       " 'Angel Heart',\n",
       " 'Shaft',\n",
       " 'The Conversation',\n",
       " 'The Sugarland Express',\n",
       " 'Trouble in Paradise',\n",
       " 'Big Trouble in Little China',\n",
       " 'Badlands',\n",
       " 'Titan A.E.',\n",
       " 'Me, Myself & Irene',\n",
       " 'The Patriot',\n",
       " 'The Perfect Storm',\n",
       " 'Asylum',\n",
       " 'Project Moon Base',\n",
       " 'Shaft in Africa',\n",
       " \"Shaft's Big Score!\",\n",
       " 'The Kid',\n",
       " 'Scary Movie',\n",
       " 'Shower',\n",
       " 'Blow-Up',\n",
       " 'Footloose',\n",
       " 'The Wisdom of Crocodiles',\n",
       " 'Anatomy of a Murder',\n",
       " 'Saving Grace',\n",
       " 'Aimee & Jaguar',\n",
       " 'Shane',\n",
       " 'X: The Unknown',\n",
       " 'Bring It On',\n",
       " 'The Way of the Gun',\n",
       " 'Almost Famous',\n",
       " 'Dancer in the Dark',\n",
       " 'Hellraiser',\n",
       " 'Stranger Than Paradise',\n",
       " 'Voyage to the Bottom of the Sea',\n",
       " 'Fantastic Voyage',\n",
       " 'Abbott and Costello Meet Frankenstein',\n",
       " 'The Bank Dick',\n",
       " 'Get Carter',\n",
       " 'Meet the Parents',\n",
       " 'The Contender',\n",
       " 'The Time Machine',\n",
       " 'Billy Elliot',\n",
       " \"Charlie's Angels\",\n",
       " 'The Legend of Bagger Vance',\n",
       " 'Red Planet',\n",
       " 'Diamonds Are Forever',\n",
       " 'Crouching Tiger, Hidden Dragon',\n",
       " 'The Bounty',\n",
       " 'Planes, Trains and Automobiles',\n",
       " 'The Living Daylights',\n",
       " 'The Transformers: The Movie',\n",
       " 'Born on the Fourth of July',\n",
       " 'Snatch',\n",
       " 'Chocolat',\n",
       " 'Finding Forrester',\n",
       " 'The Gift',\n",
       " 'Before Night Falls',\n",
       " 'The Family Man',\n",
       " 'Miss Congeniality',\n",
       " 'Traffic',\n",
       " 'Breakheart Pass',\n",
       " 'The Pledge',\n",
       " 'Prelude to a Kiss',\n",
       " 'The Wedding Planner',\n",
       " 'Best Seller',\n",
       " 'Beverly Hills Cop II',\n",
       " 'Beverly Hills Cop',\n",
       " 'The Evil Dead',\n",
       " 'The Fourth Protocol',\n",
       " 'Jaws: The Revenge',\n",
       " 'The Lost Boys',\n",
       " 'Maid to Order',\n",
       " 'Making Mr. Right',\n",
       " 'In the Mood for Love',\n",
       " 'The Million Dollar Hotel',\n",
       " 'Sweet November',\n",
       " 'The Mexican',\n",
       " '15 Minutes',\n",
       " 'Avalon',\n",
       " 'The Fortune Cookie',\n",
       " 'The Greatest Story Ever Told',\n",
       " 'Harley Davidson and the Marlboro Man',\n",
       " 'Mermaids',\n",
       " 'Enemy at the Gates',\n",
       " 'Memento',\n",
       " 'The Tailor of Panama',\n",
       " 'Amores perros',\n",
       " 'Along Came a Spider',\n",
       " 'Just Visiting',\n",
       " \"Bridget Jones's Diary\",\n",
       " 'The Visit',\n",
       " 'Scarface',\n",
       " \"One Night at McCool's\",\n",
       " 'The Mummy Returns',\n",
       " 'Under the Sand',\n",
       " 'Krull',\n",
       " 'The Lost World',\n",
       " 'Frankie and Johnny',\n",
       " 'Rififi',\n",
       " 'Shrek',\n",
       " 'Moulin Rouge!',\n",
       " 'Pearl Harbor',\n",
       " 'City Slickers',\n",
       " 'Mississippi Burning',\n",
       " 'The Magnificent Seven',\n",
       " 'Rio Bravo',\n",
       " 'Semi-Tough',\n",
       " 'Point Break',\n",
       " 'Gentlemen Prefer Blondes',\n",
       " 'Kiss of the Dragon',\n",
       " 'Scary Movie 2',\n",
       " 'Baise-moi',\n",
       " 'The Last Laugh',\n",
       " 'The Garden of the Finzi-Continis',\n",
       " 'Sweet Smell of Success',\n",
       " 'Obsession',\n",
       " 'Final Fantasy: The Spirits Within',\n",
       " 'Apartment Zero',\n",
       " 'Ariel',\n",
       " 'Critters',\n",
       " 'Crossing Delancey',\n",
       " 'Elvira, Mistress of the Dark',\n",
       " 'Ernest Saves Christmas',\n",
       " 'The Great Outdoors',\n",
       " 'Bagdad Cafe',\n",
       " 'Short Circuit',\n",
       " 'The Vanishing',\n",
       " 'They Live',\n",
       " \"Bill & Ted's Excellent Adventure\",\n",
       " 'Black Rain',\n",
       " 'Chances Are',\n",
       " 'Earth Girls Are Easy',\n",
       " 'Fat Man and Little Boy',\n",
       " 'Gleaming the Cube',\n",
       " 'Johnny Handsome',\n",
       " 'Jesus of Montreal',\n",
       " 'Millennium',\n",
       " 'Jurassic Park III',\n",
       " 'Brother',\n",
       " 'Ghost World',\n",
       " 'Bread and Tulips',\n",
       " 'Wet Hot American Summer',\n",
       " 'Uncle Buck',\n",
       " \"Vampire's Kiss\",\n",
       " 'The War of the Roses',\n",
       " 'The Wizard',\n",
       " \"Weekend at Bernie's II\",\n",
       " 'The Cotton Club',\n",
       " 'Original Sin',\n",
       " 'La Cage aux folles',\n",
       " 'The Wild Child',\n",
       " 'American Pie 2',\n",
       " 'The Others',\n",
       " \"Captain Corelli's Mandolin\",\n",
       " 'The Curse of the Jade Scorpion',\n",
       " 'Jay and Silent Bob Strike Back',\n",
       " 'Together',\n",
       " 'The Glass House',\n",
       " 'Big Trouble',\n",
       " 'Training Day',\n",
       " 'Pocketful of Miracles',\n",
       " 'The Shop on Main Street',\n",
       " 'The Party',\n",
       " 'The Last Metro',\n",
       " 'Fat Girl',\n",
       " 'Mulholland Drive',\n",
       " 'Dirty Harry',\n",
       " 'The Last Castle',\n",
       " 'Bangkok Dangerous',\n",
       " 'K-PAX',\n",
       " 'Donnie Darko',\n",
       " 'Monsters, Inc.',\n",
       " \"Harry Potter and the Philosopher's Stone\",\n",
       " 'Spy Game',\n",
       " \"The Devil's Backbone\",\n",
       " 'In the Bedroom',\n",
       " 'Fame',\n",
       " 'Flash Gordon',\n",
       " 'The Angry Red Planet',\n",
       " \"At the Earth's Core\",\n",
       " \"Ocean's Eleven\",\n",
       " 'Behind Enemy Lines',\n",
       " 'The Incredible Shrinking Man',\n",
       " 'And Then There Were None',\n",
       " 'Amélie',\n",
       " 'Vanilla Sky',\n",
       " \"Bill & Ted's Bogus Journey\",\n",
       " 'The Lord of the Rings: The Fellowship of the Ring',\n",
       " 'A Beautiful Mind',\n",
       " 'Black Hawk Down',\n",
       " 'Gosford Park',\n",
       " \"Monster's Ball\",\n",
       " 'The Shipping News',\n",
       " 'Murder by Death',\n",
       " 'Brotherhood of the Wolf',\n",
       " 'Wuthering Heights',\n",
       " 'Dragonslayer',\n",
       " 'Impostor',\n",
       " '48 Hrs.',\n",
       " 'Italian for Beginners',\n",
       " 'Birthday Girl',\n",
       " 'Get Out Your Handkerchiefs',\n",
       " 'Going Places',\n",
       " 'Cows',\n",
       " \"Don't Look Now\",\n",
       " 'Sleuth',\n",
       " 'Monsoon Wedding',\n",
       " 'Wild Strawberries',\n",
       " '40 Days and 40 Nights',\n",
       " 'Trouble Every Day',\n",
       " 'Zombie Flesh Eaters',\n",
       " 'The Magnificent Ambersons',\n",
       " 'Eaten Alive!',\n",
       " 'Death Watch',\n",
       " 'Pepi, Luci, Bom',\n",
       " 'Ice Age',\n",
       " 'Y Tu Mamá También',\n",
       " \"Teheran '43\",\n",
       " 'Sorority Boys',\n",
       " 'The Piano Teacher',\n",
       " 'Very Annie Mary',\n",
       " 'The Wrong Guys',\n",
       " 'Rashomon',\n",
       " 'Changing Lanes',\n",
       " 'Human Nature',\n",
       " 'Joe Versus the Volcano',\n",
       " 'Rome, Open City',\n",
       " 'Dogtown and Z-Boys',\n",
       " 'The Lady and the Duke',\n",
       " 'Big Bad Mama',\n",
       " 'Beyond the Darkness',\n",
       " 'About a Boy',\n",
       " 'Star Wars: Episode II - Attack of the Clones',\n",
       " 'The Believer',\n",
       " 'Enough',\n",
       " 'Insomnia',\n",
       " 'CQ',\n",
       " 'River of No Return',\n",
       " 'Zombie Holocaust',\n",
       " 'Bad Company',\n",
       " 'The Bourne Identity',\n",
       " '5 Card Stud',\n",
       " 'Minority Report',\n",
       " 'Mr. Deeds',\n",
       " 'Men in Black II',\n",
       " 'The Powerpuff Girls Movie',\n",
       " 'Road to Perdition',\n",
       " 'Z',\n",
       " 'Sex and Lucia',\n",
       " 'Eight Legged Freaks',\n",
       " 'K-19: The Widowmaker',\n",
       " 'Austin Powers in Goldmember',\n",
       " 'Nosferatu the Vampyre',\n",
       " 'Red Beard',\n",
       " 'Signs',\n",
       " 'xXx',\n",
       " '24 Hour Party People',\n",
       " 'Read My Lips',\n",
       " 'The Revenge of Frankenstein',\n",
       " 'The Transporter',\n",
       " 'Shock Waves',\n",
       " 'The Wanderers',\n",
       " 'The Ladykillers',\n",
       " 'The Experiment',\n",
       " '8 Women',\n",
       " 'Spirited Away',\n",
       " 'Wasabi',\n",
       " 'Bloody Sunday',\n",
       " 'Mothra vs. Godzilla',\n",
       " 'Seance on a Wet Afternoon',\n",
       " 'Shamus',\n",
       " 'The Rules of Attraction',\n",
       " 'Bowling for Columbine',\n",
       " 'On Guard',\n",
       " 'The 51st State',\n",
       " 'The Ring',\n",
       " 'Tom Horn',\n",
       " 'The Chosen',\n",
       " 'Man of Iron',\n",
       " 'The Inquisitor',\n",
       " 'Lili Marleen',\n",
       " 'The Professional',\n",
       " 'Frida',\n",
       " 'Exodus',\n",
       " '8 Mile',\n",
       " 'Harry Potter and the Chamber of Secrets',\n",
       " ...]"
      ]
     },
     "execution_count": 88,
     "metadata": {},
     "output_type": "execute_result"
    }
   ],
   "source": [
    "\n",
    "similar_user_recs=movies_ratings_df_join[(movies_ratings_df_join['userId'].isin(similar_users)) & (movies_ratings_df_join['rating']>=4)]['title']\n",
    "similar_user_recs.unique().tolist()\n",
    "\n",
    "\n",
    "    "
   ]
  },
  {
   "attachments": {},
   "cell_type": "markdown",
   "metadata": {},
   "source": [
    "checking how many such movies are there"
   ]
  },
  {
   "cell_type": "code",
   "execution_count": null,
   "metadata": {},
   "outputs": [
    {
     "data": {
      "text/plain": [
       "2626"
      ]
     },
     "execution_count": 89,
     "metadata": {},
     "output_type": "execute_result"
    }
   ],
   "source": [
    "len(similar_user_recs.unique().tolist())"
   ]
  },
  {
   "attachments": {},
   "cell_type": "markdown",
   "metadata": {},
   "source": [
    "checking the popular movies M1,M2,M3.. from the above list, which are popular in our similar users niche audience "
   ]
  },
  {
   "cell_type": "code",
   "execution_count": null,
   "metadata": {},
   "outputs": [
    {
     "data": {
      "text/plain": [
       "Toy Story                  199\n",
       "Men in Black II            142\n",
       "The Thomas Crown Affair    136\n",
       "Dawn of the Dead           131\n",
       "Once Were Warriors         116\n",
       "                          ... \n",
       "Shooter                    1  \n",
       "Dreamland                  1  \n",
       "Philanthropy               1  \n",
       "Perfect Stranger           1  \n",
       "The One-Man Band           1  \n",
       "Name: title, Length: 2626, dtype: int64"
      ]
     },
     "execution_count": 90,
     "metadata": {},
     "output_type": "execute_result"
    }
   ],
   "source": [
    "similar_user_recs.value_counts()"
   ]
  },
  {
   "attachments": {},
   "cell_type": "markdown",
   "metadata": {},
   "source": [
    "converting the count in % for an ease of understanding"
   ]
  },
  {
   "cell_type": "code",
   "execution_count": null,
   "metadata": {},
   "outputs": [
    {
     "data": {
      "text/plain": [
       "Toy Story                  100.000000\n",
       "Men in Black II            71.356784 \n",
       "The Thomas Crown Affair    68.341709 \n",
       "Dawn of the Dead           65.829146 \n",
       "Once Were Warriors         58.291457 \n",
       "                             ...     \n",
       "Shooter                    0.502513  \n",
       "Dreamland                  0.502513  \n",
       "Philanthropy               0.502513  \n",
       "Perfect Stranger           0.502513  \n",
       "The One-Man Band           0.502513  \n",
       "Name: title, Length: 2626, dtype: float64"
      ]
     },
     "execution_count": 91,
     "metadata": {},
     "output_type": "execute_result"
    }
   ],
   "source": [
    "similar_user_recs_per=similar_user_recs.value_counts()*100 / len(similar_users)\n",
    "similar_user_recs_per    "
   ]
  },
  {
   "attachments": {},
   "cell_type": "markdown",
   "metadata": {},
   "source": [
    "narrowing down 2626 movies by filtering those movies which are at least like by more than 10% of our similar users niche audience, which came to 435"
   ]
  },
  {
   "cell_type": "code",
   "execution_count": null,
   "metadata": {},
   "outputs": [
    {
     "data": {
      "text/plain": [
       "Toy Story                  100.000000\n",
       "Men in Black II            71.356784 \n",
       "The Thomas Crown Affair    68.341709 \n",
       "Dawn of the Dead           65.829146 \n",
       "Once Were Warriors         58.291457 \n",
       "                             ...     \n",
       "Syriana                    10.050251 \n",
       "The Sicilian Clan          10.050251 \n",
       "Closer                     10.050251 \n",
       "Ask the Dust               10.050251 \n",
       "Rush Hour                  10.050251 \n",
       "Name: title, Length: 435, dtype: float64"
      ]
     },
     "execution_count": 92,
     "metadata": {},
     "output_type": "execute_result"
    }
   ],
   "source": [
    "# movies those were liked more than 10% audience\n",
    "similar_user_recs_per_filter =similar_user_recs_per[similar_user_recs_per>10]\n",
    "similar_user_recs_per_filter    \n",
    "    "
   ]
  },
  {
   "attachments": {},
   "cell_type": "markdown",
   "metadata": {},
   "source": [
    "now finding those users, UY who have liked the above 435 movies and gave 4+ ratings"
   ]
  },
  {
   "cell_type": "code",
   "execution_count": null,
   "metadata": {},
   "outputs": [
    {
     "data": {
      "text/html": [
       "<div>\n",
       "<style scoped>\n",
       "    .dataframe tbody tr th:only-of-type {\n",
       "        vertical-align: middle;\n",
       "    }\n",
       "\n",
       "    .dataframe tbody tr th {\n",
       "        vertical-align: top;\n",
       "    }\n",
       "\n",
       "    .dataframe thead th {\n",
       "        text-align: right;\n",
       "    }\n",
       "</style>\n",
       "<table border=\"1\" class=\"dataframe\">\n",
       "  <thead>\n",
       "    <tr style=\"text-align: right;\">\n",
       "      <th></th>\n",
       "      <th>id</th>\n",
       "      <th>title</th>\n",
       "      <th>genres</th>\n",
       "      <th>tags</th>\n",
       "      <th>tags_post_stem</th>\n",
       "      <th>userId</th>\n",
       "      <th>movieId</th>\n",
       "      <th>rating</th>\n",
       "      <th>timestamp</th>\n",
       "    </tr>\n",
       "  </thead>\n",
       "  <tbody>\n",
       "    <tr>\n",
       "      <th>1</th>\n",
       "      <td>862</td>\n",
       "      <td>Toy Story</td>\n",
       "      <td>Animation Comedy Family</td>\n",
       "      <td>led by woody, andy's toys live happily in his room until andy's birthday brings buzz lightyear onto the scene. afraid of losing his place in andy's heart, woody plots against buzz. but when circumstances separate buzz and woody from their owner, the duo eventually learns to put aside their differences. animation comedy family jealousy toy boy friendship friends rivalry boynextdoor newtoy toycomestolife tomhanks timallen donrickles johnlasseter 1995</td>\n",
       "      <td>led by woody, andy' toy live happili in hi room until andy' birthday bring buzz lightyear onto the scene. afraid of lose hi place in andy' heart, woodi plot against buzz. but when circumst separ buzz and woodi from their owner, the duo eventu learn to put asid their differences. anim comedi famili jealousi toy boy friendship friend rivalri boynextdoor newtoy toycomestolif tomhank timallen donrickl johnlasset 1995</td>\n",
       "      <td>2103</td>\n",
       "      <td>862</td>\n",
       "      <td>5.0</td>\n",
       "      <td>946044912</td>\n",
       "    </tr>\n",
       "    <tr>\n",
       "      <th>3</th>\n",
       "      <td>862</td>\n",
       "      <td>Toy Story</td>\n",
       "      <td>Animation Comedy Family</td>\n",
       "      <td>led by woody, andy's toys live happily in his room until andy's birthday brings buzz lightyear onto the scene. afraid of losing his place in andy's heart, woody plots against buzz. but when circumstances separate buzz and woody from their owner, the duo eventually learns to put aside their differences. animation comedy family jealousy toy boy friendship friends rivalry boynextdoor newtoy toycomestolife tomhanks timallen donrickles johnlasseter 1995</td>\n",
       "      <td>led by woody, andy' toy live happili in hi room until andy' birthday bring buzz lightyear onto the scene. afraid of lose hi place in andy' heart, woodi plot against buzz. but when circumst separ buzz and woodi from their owner, the duo eventu learn to put asid their differences. anim comedi famili jealousi toy boy friendship friend rivalri boynextdoor newtoy toycomestolif tomhank timallen donrickl johnlasset 1995</td>\n",
       "      <td>6177</td>\n",
       "      <td>862</td>\n",
       "      <td>4.0</td>\n",
       "      <td>859415226</td>\n",
       "    </tr>\n",
       "    <tr>\n",
       "      <th>4</th>\n",
       "      <td>862</td>\n",
       "      <td>Toy Story</td>\n",
       "      <td>Animation Comedy Family</td>\n",
       "      <td>led by woody, andy's toys live happily in his room until andy's birthday brings buzz lightyear onto the scene. afraid of losing his place in andy's heart, woody plots against buzz. but when circumstances separate buzz and woody from their owner, the duo eventually learns to put aside their differences. animation comedy family jealousy toy boy friendship friends rivalry boynextdoor newtoy toycomestolife tomhanks timallen donrickles johnlasseter 1995</td>\n",
       "      <td>led by woody, andy' toy live happili in hi room until andy' birthday bring buzz lightyear onto the scene. afraid of lose hi place in andy' heart, woodi plot against buzz. but when circumst separ buzz and woodi from their owner, the duo eventu learn to put asid their differences. anim comedi famili jealousi toy boy friendship friend rivalri boynextdoor newtoy toycomestolif tomhank timallen donrickl johnlasset 1995</td>\n",
       "      <td>6525</td>\n",
       "      <td>862</td>\n",
       "      <td>4.0</td>\n",
       "      <td>857388995</td>\n",
       "    </tr>\n",
       "    <tr>\n",
       "      <th>7</th>\n",
       "      <td>862</td>\n",
       "      <td>Toy Story</td>\n",
       "      <td>Animation Comedy Family</td>\n",
       "      <td>led by woody, andy's toys live happily in his room until andy's birthday brings buzz lightyear onto the scene. afraid of losing his place in andy's heart, woody plots against buzz. but when circumstances separate buzz and woody from their owner, the duo eventually learns to put aside their differences. animation comedy family jealousy toy boy friendship friends rivalry boynextdoor newtoy toycomestolife tomhanks timallen donrickles johnlasseter 1995</td>\n",
       "      <td>led by woody, andy' toy live happili in hi room until andy' birthday bring buzz lightyear onto the scene. afraid of lose hi place in andy' heart, woodi plot against buzz. but when circumst separ buzz and woodi from their owner, the duo eventu learn to put asid their differences. anim comedi famili jealousi toy boy friendship friend rivalri boynextdoor newtoy toycomestolif tomhank timallen donrickl johnlasset 1995</td>\n",
       "      <td>8659</td>\n",
       "      <td>862</td>\n",
       "      <td>4.0</td>\n",
       "      <td>997143296</td>\n",
       "    </tr>\n",
       "    <tr>\n",
       "      <th>8</th>\n",
       "      <td>862</td>\n",
       "      <td>Toy Story</td>\n",
       "      <td>Animation Comedy Family</td>\n",
       "      <td>led by woody, andy's toys live happily in his room until andy's birthday brings buzz lightyear onto the scene. afraid of losing his place in andy's heart, woody plots against buzz. but when circumstances separate buzz and woody from their owner, the duo eventually learns to put aside their differences. animation comedy family jealousy toy boy friendship friends rivalry boynextdoor newtoy toycomestolife tomhanks timallen donrickles johnlasseter 1995</td>\n",
       "      <td>led by woody, andy' toy live happili in hi room until andy' birthday bring buzz lightyear onto the scene. afraid of lose hi place in andy' heart, woodi plot against buzz. but when circumst separ buzz and woodi from their owner, the duo eventu learn to put asid their differences. anim comedi famili jealousi toy boy friendship friend rivalri boynextdoor newtoy toycomestolif tomhank timallen donrickl johnlasset 1995</td>\n",
       "      <td>9328</td>\n",
       "      <td>862</td>\n",
       "      <td>4.0</td>\n",
       "      <td>1037486302</td>\n",
       "    </tr>\n",
       "    <tr>\n",
       "      <th>...</th>\n",
       "      <td>...</td>\n",
       "      <td>...</td>\n",
       "      <td>...</td>\n",
       "      <td>...</td>\n",
       "      <td>...</td>\n",
       "      <td>...</td>\n",
       "      <td>...</td>\n",
       "      <td>...</td>\n",
       "      <td>...</td>\n",
       "    </tr>\n",
       "    <tr>\n",
       "      <th>11367614</th>\n",
       "      <td>3104</td>\n",
       "      <td>Frankenstein Created Woman</td>\n",
       "      <td>Horror ScienceFiction</td>\n",
       "      <td>a deformed tormented girl drowns herself after her lover is framed for murder and guillotined. baron frankenstein, experimenting with the transfer of souls, places the boy's soul into her body, bringing christina back to life. driven by revenge, she carries out a violent retribution on those responsible for both deaths. horror sciencefiction frankenstein hammerhorror petercushing susandenberg thorleywalters terencefisher 1967</td>\n",
       "      <td>a deform torment girl drown herself after her lover is frame for murder and guillotined. baron frankenstein, experi with the transfer of souls, place the boy' soul into her body, bring christina back to life. driven by revenge, she carri out a violent retribut on those respons for both deaths. horror sciencefict frankenstein hammerhorror petercush susandenberg thorleywalt terencefish 1967</td>\n",
       "      <td>270548</td>\n",
       "      <td>3104</td>\n",
       "      <td>4.0</td>\n",
       "      <td>1112153954</td>\n",
       "    </tr>\n",
       "    <tr>\n",
       "      <th>11367616</th>\n",
       "      <td>3104</td>\n",
       "      <td>Frankenstein Created Woman</td>\n",
       "      <td>Horror ScienceFiction</td>\n",
       "      <td>a deformed tormented girl drowns herself after her lover is framed for murder and guillotined. baron frankenstein, experimenting with the transfer of souls, places the boy's soul into her body, bringing christina back to life. driven by revenge, she carries out a violent retribution on those responsible for both deaths. horror sciencefiction frankenstein hammerhorror petercushing susandenberg thorleywalters terencefisher 1967</td>\n",
       "      <td>a deform torment girl drown herself after her lover is frame for murder and guillotined. baron frankenstein, experi with the transfer of souls, place the boy' soul into her body, bring christina back to life. driven by revenge, she carri out a violent retribut on those respons for both deaths. horror sciencefict frankenstein hammerhorror petercush susandenberg thorleywalt terencefish 1967</td>\n",
       "      <td>270654</td>\n",
       "      <td>3104</td>\n",
       "      <td>4.0</td>\n",
       "      <td>977262838</td>\n",
       "    </tr>\n",
       "    <tr>\n",
       "      <th>11367619</th>\n",
       "      <td>3104</td>\n",
       "      <td>Frankenstein Created Woman</td>\n",
       "      <td>Horror ScienceFiction</td>\n",
       "      <td>a deformed tormented girl drowns herself after her lover is framed for murder and guillotined. baron frankenstein, experimenting with the transfer of souls, places the boy's soul into her body, bringing christina back to life. driven by revenge, she carries out a violent retribution on those responsible for both deaths. horror sciencefiction frankenstein hammerhorror petercushing susandenberg thorleywalters terencefisher 1967</td>\n",
       "      <td>a deform torment girl drown herself after her lover is frame for murder and guillotined. baron frankenstein, experi with the transfer of souls, place the boy' soul into her body, bring christina back to life. driven by revenge, she carri out a violent retribut on those respons for both deaths. horror sciencefict frankenstein hammerhorror petercush susandenberg thorleywalt terencefish 1967</td>\n",
       "      <td>270731</td>\n",
       "      <td>3104</td>\n",
       "      <td>4.0</td>\n",
       "      <td>959088560</td>\n",
       "    </tr>\n",
       "    <tr>\n",
       "      <th>11367621</th>\n",
       "      <td>3104</td>\n",
       "      <td>Frankenstein Created Woman</td>\n",
       "      <td>Horror ScienceFiction</td>\n",
       "      <td>a deformed tormented girl drowns herself after her lover is framed for murder and guillotined. baron frankenstein, experimenting with the transfer of souls, places the boy's soul into her body, bringing christina back to life. driven by revenge, she carries out a violent retribution on those responsible for both deaths. horror sciencefiction frankenstein hammerhorror petercushing susandenberg thorleywalters terencefisher 1967</td>\n",
       "      <td>a deform torment girl drown herself after her lover is frame for murder and guillotined. baron frankenstein, experi with the transfer of souls, place the boy' soul into her body, bring christina back to life. driven by revenge, she carri out a violent retribut on those respons for both deaths. horror sciencefict frankenstein hammerhorror petercush susandenberg thorleywalt terencefish 1967</td>\n",
       "      <td>270776</td>\n",
       "      <td>3104</td>\n",
       "      <td>5.0</td>\n",
       "      <td>974739774</td>\n",
       "    </tr>\n",
       "    <tr>\n",
       "      <th>11367622</th>\n",
       "      <td>3104</td>\n",
       "      <td>Frankenstein Created Woman</td>\n",
       "      <td>Horror ScienceFiction</td>\n",
       "      <td>a deformed tormented girl drowns herself after her lover is framed for murder and guillotined. baron frankenstein, experimenting with the transfer of souls, places the boy's soul into her body, bringing christina back to life. driven by revenge, she carries out a violent retribution on those responsible for both deaths. horror sciencefiction frankenstein hammerhorror petercushing susandenberg thorleywalters terencefisher 1967</td>\n",
       "      <td>a deform torment girl drown herself after her lover is frame for murder and guillotined. baron frankenstein, experi with the transfer of souls, place the boy' soul into her body, bring christina back to life. driven by revenge, she carri out a violent retribut on those respons for both deaths. horror sciencefict frankenstein hammerhorror petercush susandenberg thorleywalt terencefish 1967</td>\n",
       "      <td>270827</td>\n",
       "      <td>3104</td>\n",
       "      <td>4.0</td>\n",
       "      <td>957917480</td>\n",
       "    </tr>\n",
       "  </tbody>\n",
       "</table>\n",
       "<p>3637219 rows × 9 columns</p>\n",
       "</div>"
      ],
      "text/plain": [
       "            id                       title                   genres  \\\n",
       "1         862   Toy Story                   Animation Comedy Family   \n",
       "3         862   Toy Story                   Animation Comedy Family   \n",
       "4         862   Toy Story                   Animation Comedy Family   \n",
       "7         862   Toy Story                   Animation Comedy Family   \n",
       "8         862   Toy Story                   Animation Comedy Family   \n",
       "...       ...         ...                                       ...   \n",
       "11367614  3104  Frankenstein Created Woman  Horror ScienceFiction     \n",
       "11367616  3104  Frankenstein Created Woman  Horror ScienceFiction     \n",
       "11367619  3104  Frankenstein Created Woman  Horror ScienceFiction     \n",
       "11367621  3104  Frankenstein Created Woman  Horror ScienceFiction     \n",
       "11367622  3104  Frankenstein Created Woman  Horror ScienceFiction     \n",
       "\n",
       "                                                                                                                                                                                                                                                                                                                                                                                                                                                                          tags  \\\n",
       "1         led by woody, andy's toys live happily in his room until andy's birthday brings buzz lightyear onto the scene. afraid of losing his place in andy's heart, woody plots against buzz. but when circumstances separate buzz and woody from their owner, the duo eventually learns to put aside their differences. animation comedy family jealousy toy boy friendship friends rivalry boynextdoor newtoy toycomestolife tomhanks timallen donrickles johnlasseter 1995   \n",
       "3         led by woody, andy's toys live happily in his room until andy's birthday brings buzz lightyear onto the scene. afraid of losing his place in andy's heart, woody plots against buzz. but when circumstances separate buzz and woody from their owner, the duo eventually learns to put aside their differences. animation comedy family jealousy toy boy friendship friends rivalry boynextdoor newtoy toycomestolife tomhanks timallen donrickles johnlasseter 1995   \n",
       "4         led by woody, andy's toys live happily in his room until andy's birthday brings buzz lightyear onto the scene. afraid of losing his place in andy's heart, woody plots against buzz. but when circumstances separate buzz and woody from their owner, the duo eventually learns to put aside their differences. animation comedy family jealousy toy boy friendship friends rivalry boynextdoor newtoy toycomestolife tomhanks timallen donrickles johnlasseter 1995   \n",
       "7         led by woody, andy's toys live happily in his room until andy's birthday brings buzz lightyear onto the scene. afraid of losing his place in andy's heart, woody plots against buzz. but when circumstances separate buzz and woody from their owner, the duo eventually learns to put aside their differences. animation comedy family jealousy toy boy friendship friends rivalry boynextdoor newtoy toycomestolife tomhanks timallen donrickles johnlasseter 1995   \n",
       "8         led by woody, andy's toys live happily in his room until andy's birthday brings buzz lightyear onto the scene. afraid of losing his place in andy's heart, woody plots against buzz. but when circumstances separate buzz and woody from their owner, the duo eventually learns to put aside their differences. animation comedy family jealousy toy boy friendship friends rivalry boynextdoor newtoy toycomestolife tomhanks timallen donrickles johnlasseter 1995   \n",
       "...                                                                                                                                                                                                                                                                                                                                                                                                                                                                        ...   \n",
       "11367614  a deformed tormented girl drowns herself after her lover is framed for murder and guillotined. baron frankenstein, experimenting with the transfer of souls, places the boy's soul into her body, bringing christina back to life. driven by revenge, she carries out a violent retribution on those responsible for both deaths. horror sciencefiction frankenstein hammerhorror petercushing susandenberg thorleywalters terencefisher 1967                          \n",
       "11367616  a deformed tormented girl drowns herself after her lover is framed for murder and guillotined. baron frankenstein, experimenting with the transfer of souls, places the boy's soul into her body, bringing christina back to life. driven by revenge, she carries out a violent retribution on those responsible for both deaths. horror sciencefiction frankenstein hammerhorror petercushing susandenberg thorleywalters terencefisher 1967                          \n",
       "11367619  a deformed tormented girl drowns herself after her lover is framed for murder and guillotined. baron frankenstein, experimenting with the transfer of souls, places the boy's soul into her body, bringing christina back to life. driven by revenge, she carries out a violent retribution on those responsible for both deaths. horror sciencefiction frankenstein hammerhorror petercushing susandenberg thorleywalters terencefisher 1967                          \n",
       "11367621  a deformed tormented girl drowns herself after her lover is framed for murder and guillotined. baron frankenstein, experimenting with the transfer of souls, places the boy's soul into her body, bringing christina back to life. driven by revenge, she carries out a violent retribution on those responsible for both deaths. horror sciencefiction frankenstein hammerhorror petercushing susandenberg thorleywalters terencefisher 1967                          \n",
       "11367622  a deformed tormented girl drowns herself after her lover is framed for murder and guillotined. baron frankenstein, experimenting with the transfer of souls, places the boy's soul into her body, bringing christina back to life. driven by revenge, she carries out a violent retribution on those responsible for both deaths. horror sciencefiction frankenstein hammerhorror petercushing susandenberg thorleywalters terencefisher 1967                          \n",
       "\n",
       "                                                                                                                                                                                                                                                                                                                                                                                                                            tags_post_stem  \\\n",
       "1         led by woody, andy' toy live happili in hi room until andy' birthday bring buzz lightyear onto the scene. afraid of lose hi place in andy' heart, woodi plot against buzz. but when circumst separ buzz and woodi from their owner, the duo eventu learn to put asid their differences. anim comedi famili jealousi toy boy friendship friend rivalri boynextdoor newtoy toycomestolif tomhank timallen donrickl johnlasset 1995   \n",
       "3         led by woody, andy' toy live happili in hi room until andy' birthday bring buzz lightyear onto the scene. afraid of lose hi place in andy' heart, woodi plot against buzz. but when circumst separ buzz and woodi from their owner, the duo eventu learn to put asid their differences. anim comedi famili jealousi toy boy friendship friend rivalri boynextdoor newtoy toycomestolif tomhank timallen donrickl johnlasset 1995   \n",
       "4         led by woody, andy' toy live happili in hi room until andy' birthday bring buzz lightyear onto the scene. afraid of lose hi place in andy' heart, woodi plot against buzz. but when circumst separ buzz and woodi from their owner, the duo eventu learn to put asid their differences. anim comedi famili jealousi toy boy friendship friend rivalri boynextdoor newtoy toycomestolif tomhank timallen donrickl johnlasset 1995   \n",
       "7         led by woody, andy' toy live happili in hi room until andy' birthday bring buzz lightyear onto the scene. afraid of lose hi place in andy' heart, woodi plot against buzz. but when circumst separ buzz and woodi from their owner, the duo eventu learn to put asid their differences. anim comedi famili jealousi toy boy friendship friend rivalri boynextdoor newtoy toycomestolif tomhank timallen donrickl johnlasset 1995   \n",
       "8         led by woody, andy' toy live happili in hi room until andy' birthday bring buzz lightyear onto the scene. afraid of lose hi place in andy' heart, woodi plot against buzz. but when circumst separ buzz and woodi from their owner, the duo eventu learn to put asid their differences. anim comedi famili jealousi toy boy friendship friend rivalri boynextdoor newtoy toycomestolif tomhank timallen donrickl johnlasset 1995   \n",
       "...                                                                                                                                                                                                                                                                                                                                                                                                                                    ...   \n",
       "11367614  a deform torment girl drown herself after her lover is frame for murder and guillotined. baron frankenstein, experi with the transfer of souls, place the boy' soul into her body, bring christina back to life. driven by revenge, she carri out a violent retribut on those respons for both deaths. horror sciencefict frankenstein hammerhorror petercush susandenberg thorleywalt terencefish 1967                            \n",
       "11367616  a deform torment girl drown herself after her lover is frame for murder and guillotined. baron frankenstein, experi with the transfer of souls, place the boy' soul into her body, bring christina back to life. driven by revenge, she carri out a violent retribut on those respons for both deaths. horror sciencefict frankenstein hammerhorror petercush susandenberg thorleywalt terencefish 1967                            \n",
       "11367619  a deform torment girl drown herself after her lover is frame for murder and guillotined. baron frankenstein, experi with the transfer of souls, place the boy' soul into her body, bring christina back to life. driven by revenge, she carri out a violent retribut on those respons for both deaths. horror sciencefict frankenstein hammerhorror petercush susandenberg thorleywalt terencefish 1967                            \n",
       "11367621  a deform torment girl drown herself after her lover is frame for murder and guillotined. baron frankenstein, experi with the transfer of souls, place the boy' soul into her body, bring christina back to life. driven by revenge, she carri out a violent retribut on those respons for both deaths. horror sciencefict frankenstein hammerhorror petercush susandenberg thorleywalt terencefish 1967                            \n",
       "11367622  a deform torment girl drown herself after her lover is frame for murder and guillotined. baron frankenstein, experi with the transfer of souls, place the boy' soul into her body, bring christina back to life. driven by revenge, she carri out a violent retribut on those respons for both deaths. horror sciencefict frankenstein hammerhorror petercush susandenberg thorleywalt terencefish 1967                            \n",
       "\n",
       "          userId  movieId  rating   timestamp  \n",
       "1         2103    862      5.0     946044912   \n",
       "3         6177    862      4.0     859415226   \n",
       "4         6525    862      4.0     857388995   \n",
       "7         8659    862      4.0     997143296   \n",
       "8         9328    862      4.0     1037486302  \n",
       "...        ...    ...      ...            ...  \n",
       "11367614  270548  3104     4.0     1112153954  \n",
       "11367616  270654  3104     4.0     977262838   \n",
       "11367619  270731  3104     4.0     959088560   \n",
       "11367621  270776  3104     5.0     974739774   \n",
       "11367622  270827  3104     4.0     957917480   \n",
       "\n",
       "[3637219 rows x 9 columns]"
      ]
     },
     "execution_count": 93,
     "metadata": {},
     "output_type": "execute_result"
    }
   ],
   "source": [
    "all_users= movies_ratings_df_join[(movies_ratings_df_join['title'].isin(similar_user_recs_per_filter.index)) & (movies_ratings_df_join['rating']>=4)]\n",
    "all_users   "
   ]
  },
  {
   "attachments": {},
   "cell_type": "markdown",
   "metadata": {},
   "source": [
    "in the above output, movie repeats because different users can give ratings to the same movie"
   ]
  },
  {
   "attachments": {},
   "cell_type": "markdown",
   "metadata": {},
   "source": [
    "#counting unique users\n",
    "len(all_users['userId'].unique())"
   ]
  },
  {
   "attachments": {},
   "cell_type": "markdown",
   "metadata": {},
   "source": [
    "extracting popular movies from this audience, UY"
   ]
  },
  {
   "cell_type": "code",
   "execution_count": null,
   "metadata": {},
   "outputs": [
    {
     "data": {
      "text/plain": [
       "The Million Dollar Hotel              33.347067\n",
       "Terminator 3: Rise of the Machines    28.646324\n",
       "Solaris                               27.699532\n",
       "The 39 Steps                          24.712851\n",
       "Once Were Warriors                    23.122393\n",
       "                                        ...    \n",
       "Breathless                            0.151352 \n",
       "Night and Fog                         0.132853 \n",
       "Pan's Labyrinth                       0.111832 \n",
       "WarGames                              0.083664 \n",
       "Toy Story                             0.083664 \n",
       "Name: title, Length: 435, dtype: float64"
      ]
     },
     "execution_count": 94,
     "metadata": {},
     "output_type": "execute_result"
    }
   ],
   "source": [
    "all_users_rec=all_users['title'].value_counts()*100/len(all_users['userId'].unique())\n",
    "all_users_rec    \n",
    "    "
   ]
  },
  {
   "attachments": {},
   "cell_type": "markdown",
   "metadata": {},
   "source": [
    "comparing the similar niche audience (UA) popularity score vs overall audience (UMA)"
   ]
  },
  {
   "cell_type": "code",
   "execution_count": null,
   "metadata": {},
   "outputs": [
    {
     "data": {
      "text/html": [
       "<div>\n",
       "<style scoped>\n",
       "    .dataframe tbody tr th:only-of-type {\n",
       "        vertical-align: middle;\n",
       "    }\n",
       "\n",
       "    .dataframe tbody tr th {\n",
       "        vertical-align: top;\n",
       "    }\n",
       "\n",
       "    .dataframe thead th {\n",
       "        text-align: right;\n",
       "    }\n",
       "</style>\n",
       "<table border=\"1\" class=\"dataframe\">\n",
       "  <thead>\n",
       "    <tr style=\"text-align: right;\">\n",
       "      <th></th>\n",
       "      <th>title</th>\n",
       "      <th>title</th>\n",
       "    </tr>\n",
       "  </thead>\n",
       "  <tbody>\n",
       "    <tr>\n",
       "      <th>Toy Story</th>\n",
       "      <td>100.000000</td>\n",
       "      <td>0.083664</td>\n",
       "    </tr>\n",
       "    <tr>\n",
       "      <th>Men in Black II</th>\n",
       "      <td>71.356784</td>\n",
       "      <td>16.724825</td>\n",
       "    </tr>\n",
       "    <tr>\n",
       "      <th>The Thomas Crown Affair</th>\n",
       "      <td>68.341709</td>\n",
       "      <td>14.541992</td>\n",
       "    </tr>\n",
       "    <tr>\n",
       "      <th>Dawn of the Dead</th>\n",
       "      <td>65.829146</td>\n",
       "      <td>15.110403</td>\n",
       "    </tr>\n",
       "    <tr>\n",
       "      <th>Once Were Warriors</th>\n",
       "      <td>58.291457</td>\n",
       "      <td>23.122393</td>\n",
       "    </tr>\n",
       "    <tr>\n",
       "      <th>...</th>\n",
       "      <td>...</td>\n",
       "      <td>...</td>\n",
       "    </tr>\n",
       "    <tr>\n",
       "      <th>Syriana</th>\n",
       "      <td>10.050251</td>\n",
       "      <td>4.594797</td>\n",
       "    </tr>\n",
       "    <tr>\n",
       "      <th>The Sicilian Clan</th>\n",
       "      <td>10.050251</td>\n",
       "      <td>2.025175</td>\n",
       "    </tr>\n",
       "    <tr>\n",
       "      <th>Closer</th>\n",
       "      <td>10.050251</td>\n",
       "      <td>3.002657</td>\n",
       "    </tr>\n",
       "    <tr>\n",
       "      <th>Ask the Dust</th>\n",
       "      <td>10.050251</td>\n",
       "      <td>2.224455</td>\n",
       "    </tr>\n",
       "    <tr>\n",
       "      <th>Rush Hour</th>\n",
       "      <td>10.050251</td>\n",
       "      <td>1.889378</td>\n",
       "    </tr>\n",
       "  </tbody>\n",
       "</table>\n",
       "<p>435 rows × 2 columns</p>\n",
       "</div>"
      ],
      "text/plain": [
       "                              title      title\n",
       "Toy Story                100.000000  0.083664 \n",
       "Men in Black II          71.356784   16.724825\n",
       "The Thomas Crown Affair  68.341709   14.541992\n",
       "Dawn of the Dead         65.829146   15.110403\n",
       "Once Were Warriors       58.291457   23.122393\n",
       "...                            ...         ...\n",
       "Syriana                  10.050251   4.594797 \n",
       "The Sicilian Clan        10.050251   2.025175 \n",
       "Closer                   10.050251   3.002657 \n",
       "Ask the Dust             10.050251   2.224455 \n",
       "Rush Hour                10.050251   1.889378 \n",
       "\n",
       "[435 rows x 2 columns]"
      ]
     },
     "execution_count": 95,
     "metadata": {},
     "output_type": "execute_result"
    }
   ],
   "source": [
    "rec_per=pd.concat([similar_user_recs_per_filter, all_users_rec],axis=1)\n",
    "rec_per    "
   ]
  },
  {
   "cell_type": "code",
   "execution_count": null,
   "metadata": {},
   "outputs": [
    {
     "data": {
      "text/plain": [
       "Index(['similar%', 'all_avg%'], dtype='object')"
      ]
     },
     "execution_count": 96,
     "metadata": {},
     "output_type": "execute_result"
    }
   ],
   "source": [
    "rec_per.columns=['similar%','all_avg%']\n",
    "    \n",
    "rec_per.columns    "
   ]
  },
  {
   "attachments": {},
   "cell_type": "markdown",
   "metadata": {},
   "source": [
    "calculating similarity score by taking ratio of similar user to all user and then sorting in descending order in the next step"
   ]
  },
  {
   "cell_type": "code",
   "execution_count": null,
   "metadata": {},
   "outputs": [
    {
     "data": {
      "text/plain": [
       "Toy Story                  1195.256281\n",
       "Men in Black II            4.266519   \n",
       "The Thomas Crown Affair    4.699611   \n",
       "Dawn of the Dead           4.356545   \n",
       "Once Were Warriors         2.520996   \n",
       "                             ...      \n",
       "Syriana                    2.187311   \n",
       "The Sicilian Clan          4.962658   \n",
       "Closer                     3.347119   \n",
       "Ask the Dust               4.518073   \n",
       "Rush Hour                  5.319343   \n",
       "Name: score, Length: 435, dtype: float64"
      ]
     },
     "execution_count": 97,
     "metadata": {},
     "output_type": "execute_result"
    }
   ],
   "source": [
    "rec_per['score']=rec_per['similar%']/rec_per['all_avg%']\n",
    "rec_per['score']   "
   ]
  },
  {
   "attachments": {},
   "cell_type": "markdown",
   "metadata": {},
   "source": [
    "which gives us different result which are not biased "
   ]
  },
  {
   "cell_type": "code",
   "execution_count": null,
   "metadata": {},
   "outputs": [
    {
     "data": {
      "text/html": [
       "<div>\n",
       "<style scoped>\n",
       "    .dataframe tbody tr th:only-of-type {\n",
       "        vertical-align: middle;\n",
       "    }\n",
       "\n",
       "    .dataframe tbody tr th {\n",
       "        vertical-align: top;\n",
       "    }\n",
       "\n",
       "    .dataframe thead th {\n",
       "        text-align: right;\n",
       "    }\n",
       "</style>\n",
       "<table border=\"1\" class=\"dataframe\">\n",
       "  <thead>\n",
       "    <tr style=\"text-align: right;\">\n",
       "      <th></th>\n",
       "      <th>similar%</th>\n",
       "      <th>all_avg%</th>\n",
       "      <th>score</th>\n",
       "    </tr>\n",
       "  </thead>\n",
       "  <tbody>\n",
       "    <tr>\n",
       "      <th>Toy Story</th>\n",
       "      <td>100.000000</td>\n",
       "      <td>0.083664</td>\n",
       "      <td>1195.256281</td>\n",
       "    </tr>\n",
       "    <tr>\n",
       "      <th>WarGames</th>\n",
       "      <td>11.055276</td>\n",
       "      <td>0.083664</td>\n",
       "      <td>132.138885</td>\n",
       "    </tr>\n",
       "    <tr>\n",
       "      <th>Before Sunset</th>\n",
       "      <td>15.075377</td>\n",
       "      <td>0.155977</td>\n",
       "      <td>96.651451</td>\n",
       "    </tr>\n",
       "    <tr>\n",
       "      <th>Pan's Labyrinth</th>\n",
       "      <td>10.050251</td>\n",
       "      <td>0.111832</td>\n",
       "      <td>89.868893</td>\n",
       "    </tr>\n",
       "    <tr>\n",
       "      <th>Night and Fog</th>\n",
       "      <td>10.552764</td>\n",
       "      <td>0.132853</td>\n",
       "      <td>79.431588</td>\n",
       "    </tr>\n",
       "    <tr>\n",
       "      <th>...</th>\n",
       "      <td>...</td>\n",
       "      <td>...</td>\n",
       "      <td>...</td>\n",
       "    </tr>\n",
       "    <tr>\n",
       "      <th>Three Colors: Red</th>\n",
       "      <td>26.130653</td>\n",
       "      <td>19.685020</td>\n",
       "      <td>1.327439</td>\n",
       "    </tr>\n",
       "    <tr>\n",
       "      <th>And Then There Were None</th>\n",
       "      <td>11.055276</td>\n",
       "      <td>9.064308</td>\n",
       "      <td>1.219649</td>\n",
       "    </tr>\n",
       "    <tr>\n",
       "      <th>5 Card Stud</th>\n",
       "      <td>17.587940</td>\n",
       "      <td>17.916302</td>\n",
       "      <td>0.981672</td>\n",
       "    </tr>\n",
       "    <tr>\n",
       "      <th>License to Wed</th>\n",
       "      <td>18.592965</td>\n",
       "      <td>20.178595</td>\n",
       "      <td>0.921420</td>\n",
       "    </tr>\n",
       "    <tr>\n",
       "      <th>The Tunnel</th>\n",
       "      <td>10.552764</td>\n",
       "      <td>13.023006</td>\n",
       "      <td>0.810317</td>\n",
       "    </tr>\n",
       "  </tbody>\n",
       "</table>\n",
       "<p>435 rows × 3 columns</p>\n",
       "</div>"
      ],
      "text/plain": [
       "                            similar%   all_avg%        score\n",
       "Toy Story                 100.000000  0.083664   1195.256281\n",
       "WarGames                  11.055276   0.083664   132.138885 \n",
       "Before Sunset             15.075377   0.155977   96.651451  \n",
       "Pan's Labyrinth           10.050251   0.111832   89.868893  \n",
       "Night and Fog             10.552764   0.132853   79.431588  \n",
       "...                             ...        ...         ...  \n",
       "Three Colors: Red         26.130653   19.685020  1.327439   \n",
       "And Then There Were None  11.055276   9.064308   1.219649   \n",
       "5 Card Stud               17.587940   17.916302  0.981672   \n",
       "License to Wed            18.592965   20.178595  0.921420   \n",
       "The Tunnel                10.552764   13.023006  0.810317   \n",
       "\n",
       "[435 rows x 3 columns]"
      ]
     },
     "execution_count": 98,
     "metadata": {},
     "output_type": "execute_result"
    }
   ],
   "source": [
    " rec_per=rec_per.sort_values(\"score\" , ascending=False)\n",
    " rec_per"
   ]
  },
  {
   "attachments": {},
   "cell_type": "markdown",
   "metadata": {},
   "source": [
    "all the code now in a single function now"
   ]
  },
  {
   "cell_type": "code",
   "execution_count": null,
   "metadata": {},
   "outputs": [],
   "source": [
    "def find_similar_movies_by_tags(title):\n",
    "    similar_users=movies_ratings_df_join[(movies_ratings_df_join[\"title\"] == title ) & (movies_ratings_df_join['rating']>=4)]['userId'].unique()\n",
    "    similar_user_recs=movies_ratings_df_join[(movies_ratings_df_join['userId'].isin(similar_users)) & (movies_ratings_df_join['rating']>=4)]['title']\n",
    "    \n",
    "    similar_user_recs_per=similar_user_recs.value_counts()*100/ len(similar_users)\n",
    "    similar_user_recs_per_filter =similar_user_recs_per[similar_user_recs_per>10]\n",
    "    \n",
    "    all_users= movies_ratings_df_join[(movies_ratings_df_join['title'].isin(similar_user_recs_per_filter.index)) & (movies_ratings_df_join['rating']>=4)]\n",
    "    all_users_rec=all_users['title'].value_counts()*100/len(all_users['userId'].unique())\n",
    "    \n",
    "    rec_per=pd.concat([similar_user_recs_per_filter, all_users_rec],axis=1)\n",
    "    rec_per.columns=['similar%','all_avg%']\n",
    "    \n",
    "    rec_per['score']=rec_per['similar%']/rec_per['all_avg%']\n",
    "    rec_per=rec_per.sort_values(\"score\" , ascending=False)\n",
    "    \n",
    "    return rec_per.merge(final_df, left_index=True,right_on=\"title\",how='left')[[\"id\",\"title\",\"genres\",\"score\",\"tags\"]][:5]\n",
    "    \n",
    "    "
   ]
  },
  {
   "cell_type": "code",
   "execution_count": null,
   "metadata": {},
   "outputs": [],
   "source": [
    "tags='Sci-fi'"
   ]
  },
  {
   "cell_type": "code",
   "execution_count": null,
   "metadata": {},
   "outputs": [],
   "source": [
    "def rs_tags(tags):\n",
    "    tags_=search_tags(tags).title[search_tags(tags).title.index[0]]\n",
    "    \n",
    "    return tags_"
   ]
  },
  {
   "cell_type": "code",
   "execution_count": null,
   "metadata": {},
   "outputs": [
    {
     "data": {
      "text/plain": [
       "'Third Guest'"
      ]
     },
     "execution_count": 102,
     "metadata": {},
     "output_type": "execute_result"
    }
   ],
   "source": [
    "\n",
    "rs_tags(tags)\n"
   ]
  },
  {
   "cell_type": "code",
   "execution_count": null,
   "metadata": {},
   "outputs": [
    {
     "data": {
      "text/html": [
       "<div>\n",
       "<style scoped>\n",
       "    .dataframe tbody tr th:only-of-type {\n",
       "        vertical-align: middle;\n",
       "    }\n",
       "\n",
       "    .dataframe tbody tr th {\n",
       "        vertical-align: top;\n",
       "    }\n",
       "\n",
       "    .dataframe thead th {\n",
       "        text-align: right;\n",
       "    }\n",
       "</style>\n",
       "<table border=\"1\" class=\"dataframe\">\n",
       "  <thead>\n",
       "    <tr style=\"text-align: right;\">\n",
       "      <th></th>\n",
       "      <th>id</th>\n",
       "      <th>title</th>\n",
       "      <th>genres</th>\n",
       "      <th>score</th>\n",
       "      <th>tags</th>\n",
       "    </tr>\n",
       "  </thead>\n",
       "  <tbody>\n",
       "    <tr>\n",
       "      <th>0</th>\n",
       "      <td>862</td>\n",
       "      <td>Toy Story</td>\n",
       "      <td>Animation Comedy Family</td>\n",
       "      <td>1195.256281</td>\n",
       "      <td>led by woody, andy's toys live happily in his room until andy's birthday brings buzz lightyear onto the scene. afraid of losing his place in andy's heart, woody plots against buzz. but when circumstances separate buzz and woody from their owner, the duo eventually learns to put aside their differences. animation comedy family jealousy toy boy friendship friends rivalry boynextdoor newtoy toycomestolife tomhanks timallen donrickles johnlasseter 1995</td>\n",
       "    </tr>\n",
       "    <tr>\n",
       "      <th>6825</th>\n",
       "      <td>860</td>\n",
       "      <td>WarGames</td>\n",
       "      <td>Thriller ScienceFiction</td>\n",
       "      <td>132.138885</td>\n",
       "      <td>high school student david lightman (matthew broderick) has a talent for hacking. but while trying to hack into a computer system to play unreleased video games, he unwittingly taps into the defense department's war computer and initiates a confrontation of global proportions! together with his girlfriend (ally sheedy) and a wizardly computer genius (john wood), david must race against time to outwit his opponent...and prevent a nuclear armageddon. thriller sciencefiction videogame artificialintelligence fbi coldwar hacker prosecution norad government computer nuclearthreat matthewbroderick dabneycoleman allysheedy johnbadham 1983</td>\n",
       "    </tr>\n",
       "    <tr>\n",
       "      <th>7911</th>\n",
       "      <td>80</td>\n",
       "      <td>Before Sunset</td>\n",
       "      <td>Drama Romance</td>\n",
       "      <td>96.651451</td>\n",
       "      <td>nine years ago two strangers met by chance and spent a night in vienna that ended before sunrise. they are about to meet for the first time since. now they have one afternoon to find out if they belong together. drama romance paris journalist dialogue talking soulmates walking bookshop loveofone'slife author ethanhawke juliedelpy vernondobtcheff richardlinklater 2004</td>\n",
       "    </tr>\n",
       "    <tr>\n",
       "      <th>11304</th>\n",
       "      <td>1417</td>\n",
       "      <td>Pan's Labyrinth</td>\n",
       "      <td>Fantasy Drama War</td>\n",
       "      <td>89.868893</td>\n",
       "      <td>living with her tyrannical stepfather in a new home with her pregnant mother, 10-year-old ofelia feels alone until she explores a decaying labyrinth guarded by a mysterious faun who claims to know her destiny. if she wishes to return to her real father, ofelia must complete three terrifying tasks. fantasy drama war spain resistance servant antihero fairy fairytale francoregime army princess love woods king hiding labyrinth mythological ivanabaquero maribelverdú sergilópez guillermodeltoro 2006</td>\n",
       "    </tr>\n",
       "    <tr>\n",
       "      <th>8504</th>\n",
       "      <td>803</td>\n",
       "      <td>Night and Fog</td>\n",
       "      <td>History Documentary War</td>\n",
       "      <td>79.431588</td>\n",
       "      <td>the documentary film from french director resnais set ten years after the second world war depicts the problems of auschwitz with shocking images from the concentration camps. history documentary war germany destructionofacivilization polen worldwarii prisonersofwar auschwitz nazis independentfilm nazigermany torture crime michelbouquet reinhardheydrich heinrichhimmler alainresnais 1955</td>\n",
       "    </tr>\n",
       "  </tbody>\n",
       "</table>\n",
       "</div>"
      ],
      "text/plain": [
       "         id            title                   genres        score  \\\n",
       "0      862   Toy Story        Animation Comedy Family  1195.256281   \n",
       "6825   860   WarGames         Thriller ScienceFiction  132.138885    \n",
       "7911   80    Before Sunset    Drama Romance            96.651451     \n",
       "11304  1417  Pan's Labyrinth  Fantasy Drama War        89.868893     \n",
       "8504   803   Night and Fog    History Documentary War  79.431588     \n",
       "\n",
       "                                                                                                                                                                                                                                                                                                                                                                                                                                                                                                                                                                                                                                                                tags  \n",
       "0      led by woody, andy's toys live happily in his room until andy's birthday brings buzz lightyear onto the scene. afraid of losing his place in andy's heart, woody plots against buzz. but when circumstances separate buzz and woody from their owner, the duo eventually learns to put aside their differences. animation comedy family jealousy toy boy friendship friends rivalry boynextdoor newtoy toycomestolife tomhanks timallen donrickles johnlasseter 1995                                                                                                                                                                                           \n",
       "6825   high school student david lightman (matthew broderick) has a talent for hacking. but while trying to hack into a computer system to play unreleased video games, he unwittingly taps into the defense department's war computer and initiates a confrontation of global proportions! together with his girlfriend (ally sheedy) and a wizardly computer genius (john wood), david must race against time to outwit his opponent...and prevent a nuclear armageddon. thriller sciencefiction videogame artificialintelligence fbi coldwar hacker prosecution norad government computer nuclearthreat matthewbroderick dabneycoleman allysheedy johnbadham 1983  \n",
       "7911   nine years ago two strangers met by chance and spent a night in vienna that ended before sunrise. they are about to meet for the first time since. now they have one afternoon to find out if they belong together. drama romance paris journalist dialogue talking soulmates walking bookshop loveofone'slife author ethanhawke juliedelpy vernondobtcheff richardlinklater 2004                                                                                                                                                                                                                                                                              \n",
       "11304  living with her tyrannical stepfather in a new home with her pregnant mother, 10-year-old ofelia feels alone until she explores a decaying labyrinth guarded by a mysterious faun who claims to know her destiny. if she wishes to return to her real father, ofelia must complete three terrifying tasks. fantasy drama war spain resistance servant antihero fairy fairytale francoregime army princess love woods king hiding labyrinth mythological ivanabaquero maribelverdú sergilópez guillermodeltoro 2006                                                                                                                                             \n",
       "8504   the documentary film from french director resnais set ten years after the second world war depicts the problems of auschwitz with shocking images from the concentration camps. history documentary war germany destructionofacivilization polen worldwarii prisonersofwar auschwitz nazis independentfilm nazigermany torture crime michelbouquet reinhardheydrich heinrichhimmler alainresnais 1955                                                                                                                                                                                                                                                          "
      ]
     },
     "execution_count": 103,
     "metadata": {},
     "output_type": "execute_result"
    }
   ],
   "source": [
    "find_similar_movies_by_tags('Toy Story')"
   ]
  },
  {
   "cell_type": "code",
   "execution_count": null,
   "metadata": {},
   "outputs": [
    {
     "data": {
      "text/html": [
       "<div>\n",
       "<style scoped>\n",
       "    .dataframe tbody tr th:only-of-type {\n",
       "        vertical-align: middle;\n",
       "    }\n",
       "\n",
       "    .dataframe tbody tr th {\n",
       "        vertical-align: top;\n",
       "    }\n",
       "\n",
       "    .dataframe thead th {\n",
       "        text-align: right;\n",
       "    }\n",
       "</style>\n",
       "<table border=\"1\" class=\"dataframe\">\n",
       "  <thead>\n",
       "    <tr style=\"text-align: right;\">\n",
       "      <th></th>\n",
       "      <th>id</th>\n",
       "      <th>title</th>\n",
       "      <th>genres</th>\n",
       "      <th>score</th>\n",
       "      <th>tags</th>\n",
       "    </tr>\n",
       "  </thead>\n",
       "  <tbody>\n",
       "  </tbody>\n",
       "</table>\n",
       "</div>"
      ],
      "text/plain": [
       "Empty DataFrame\n",
       "Columns: [id, title, genres, score, tags]\n",
       "Index: []"
      ]
     },
     "execution_count": 104,
     "metadata": {},
     "output_type": "execute_result"
    }
   ],
   "source": [
    "find_similar_movies_by_tags(rs_tags(tags))"
   ]
  },
  {
   "cell_type": "code",
   "execution_count": null,
   "metadata": {},
   "outputs": [
    {
     "data": {
      "text/html": [
       "<div>\n",
       "<style scoped>\n",
       "    .dataframe tbody tr th:only-of-type {\n",
       "        vertical-align: middle;\n",
       "    }\n",
       "\n",
       "    .dataframe tbody tr th {\n",
       "        vertical-align: top;\n",
       "    }\n",
       "\n",
       "    .dataframe thead th {\n",
       "        text-align: right;\n",
       "    }\n",
       "</style>\n",
       "<table border=\"1\" class=\"dataframe\">\n",
       "  <thead>\n",
       "    <tr style=\"text-align: right;\">\n",
       "      <th></th>\n",
       "      <th>id</th>\n",
       "      <th>title</th>\n",
       "      <th>genres</th>\n",
       "      <th>tags</th>\n",
       "    </tr>\n",
       "  </thead>\n",
       "  <tbody>\n",
       "    <tr>\n",
       "      <th>42431</th>\n",
       "      <td>437122</td>\n",
       "      <td>Third Guest</td>\n",
       "      <td>Drama ScienceFiction</td>\n",
       "      <td>sci-fi end of the world drama drama sciencefiction elenaharding garylind fraserwatson 2016</td>\n",
       "    </tr>\n",
       "    <tr>\n",
       "      <th>5248</th>\n",
       "      <td>27834</td>\n",
       "      <td>CQ</td>\n",
       "      <td>Comedy Drama ScienceFiction</td>\n",
       "      <td>a young filmmaker in 1960s paris juggles directing a cheesy sci-fi debacle, directing his own personal art film, coping with his crumbling relationship with his girlfriend, and a new-found infatuation with the sci-fi film's starlet. comedy drama sciencefiction jeremydavies angelalindvall élodiebouchez romancoppola 2001</td>\n",
       "    </tr>\n",
       "    <tr>\n",
       "      <th>3047</th>\n",
       "      <td>926</td>\n",
       "      <td>Galaxy Quest</td>\n",
       "      <td>Comedy Family ScienceFiction</td>\n",
       "      <td>the stars of a 1970s sci-fi show - now scraping a living through re-runs and sci-fi conventions - are beamed aboard an alien spacecraft. believing the cast's heroic on-screen dramas are historical documents of real-life adventures, the band of aliens turn to the ailing celebrities for help in their quest to overcome the oppressive regime in their solar system. comedy family sciencefiction spacebattle spaceship spoof fictionaltvshow timallen sigourneyweaver alanrickman deanparisot 1999</td>\n",
       "    </tr>\n",
       "    <tr>\n",
       "      <th>45285</th>\n",
       "      <td>222872</td>\n",
       "      <td>Starquest II</td>\n",
       "      <td>Thriller ScienceFiction</td>\n",
       "      <td>sci-fi thriller directed by fred gallo. thriller sciencefiction spacecraft alien adambaldwin robertenglund duanedavis fredgallo 1996</td>\n",
       "    </tr>\n",
       "    <tr>\n",
       "      <th>9441</th>\n",
       "      <td>11049</td>\n",
       "      <td>Interstella 5555: The 5tory of the 5ecret 5tar 5ystem</td>\n",
       "      <td>ScienceFiction Music Animation</td>\n",
       "      <td>a sci-fi anime house-musical movie collaboration between daft punk--and their music--and designer leiji matsumoto. during the recording of their discovery album and using the themes of sci-fi celebrity, decadence and space travel, daft punk--with help from cedric hervet--wrote the story and inspired seasoned japanese animators to symbiotically create this stunning space musical. sciencefiction music animation spaceman musical recordproducer space rescue musicband romanthony kazuhisatakenôchi 2003</td>\n",
       "    </tr>\n",
       "    <tr>\n",
       "      <th>28069</th>\n",
       "      <td>326591</td>\n",
       "      <td>Hollywood between Paranoia and Sci-Fi. The Power of Myth</td>\n",
       "      <td>Documentary</td>\n",
       "      <td>gives insight into the creators mindset and how they culled from real life events to create some of the biggest sci fi films of all time. documentary sciencefiction womandirector sci-fifan jamescameron rolandemmerich georgelucas juliakuperberg clarakuperberg 2011</td>\n",
       "    </tr>\n",
       "    <tr>\n",
       "      <th>40306</th>\n",
       "      <td>316784</td>\n",
       "      <td>The Black Hole</td>\n",
       "      <td>Thriller ScienceFiction</td>\n",
       "      <td>a sci-fi/thriller centered on a high school violinist who witnesses the collapse of space and time. thriller sciencefiction blackhole malcolmmcdowell deancain aaronperilo markstevengrove 2015</td>\n",
       "    </tr>\n",
       "    <tr>\n",
       "      <th>34181</th>\n",
       "      <td>238307</td>\n",
       "      <td>The Isle of Lost Ships</td>\n",
       "      <td>Drama ScienceFiction Music Adventure Romance</td>\n",
       "      <td>a musical partially based on a sci-fi novel \"the isle of lost ships\" by aleksandr belyaev. drama sciencefiction music adventure romance larisabelogurova gediminasstorpirštis konstantinraykin yevgeniginzburg raufmamedov 1987</td>\n",
       "    </tr>\n",
       "    <tr>\n",
       "      <th>24911</th>\n",
       "      <td>45167</td>\n",
       "      <td>Pumzi</td>\n",
       "      <td>ScienceFiction Drama</td>\n",
       "      <td>a sci-fi film about futuristic africa, 35 years after world war iii, 'the water war'. sciencefiction drama womandirector chantelleburger kudzanimoswela wanurikahiu 2009</td>\n",
       "    </tr>\n",
       "    <tr>\n",
       "      <th>43812</th>\n",
       "      <td>14543</td>\n",
       "      <td>The Matrix Revisited</td>\n",
       "      <td>Documentary</td>\n",
       "      <td>the film goes behind the scenes of the 1999 sci-fi movie the matrix. documentary behindthescenes fanculture visualeffect keanureeves hugoweaving laurencefishburne joshoreck 2001</td>\n",
       "    </tr>\n",
       "  </tbody>\n",
       "</table>\n",
       "</div>"
      ],
      "text/plain": [
       "           id                                                     title  \\\n",
       "42431  437122  Third Guest                                                \n",
       "5248   27834   CQ                                                         \n",
       "3047   926     Galaxy Quest                                               \n",
       "45285  222872  Starquest II                                               \n",
       "9441   11049   Interstella 5555: The 5tory of the 5ecret 5tar 5ystem      \n",
       "28069  326591  Hollywood between Paranoia and Sci-Fi. The Power of Myth   \n",
       "40306  316784  The Black Hole                                             \n",
       "34181  238307  The Isle of Lost Ships                                     \n",
       "24911  45167   Pumzi                                                      \n",
       "43812  14543   The Matrix Revisited                                       \n",
       "\n",
       "                                             genres  \\\n",
       "42431  Drama ScienceFiction                           \n",
       "5248   Comedy Drama ScienceFiction                    \n",
       "3047   Comedy Family ScienceFiction                   \n",
       "45285  Thriller ScienceFiction                        \n",
       "9441   ScienceFiction Music Animation                 \n",
       "28069  Documentary                                    \n",
       "40306  Thriller ScienceFiction                        \n",
       "34181  Drama ScienceFiction Music Adventure Romance   \n",
       "24911  ScienceFiction Drama                           \n",
       "43812  Documentary                                    \n",
       "\n",
       "                                                                                                                                                                                                                                                                                                                                                                                                                                                                                                                        tags  \n",
       "42431  sci-fi end of the world drama drama sciencefiction elenaharding garylind fraserwatson 2016                                                                                                                                                                                                                                                                                                                                                                                                                             \n",
       "5248   a young filmmaker in 1960s paris juggles directing a cheesy sci-fi debacle, directing his own personal art film, coping with his crumbling relationship with his girlfriend, and a new-found infatuation with the sci-fi film's starlet. comedy drama sciencefiction jeremydavies angelalindvall élodiebouchez romancoppola 2001                                                                                                                                                                                       \n",
       "3047   the stars of a 1970s sci-fi show - now scraping a living through re-runs and sci-fi conventions - are beamed aboard an alien spacecraft. believing the cast's heroic on-screen dramas are historical documents of real-life adventures, the band of aliens turn to the ailing celebrities for help in their quest to overcome the oppressive regime in their solar system. comedy family sciencefiction spacebattle spaceship spoof fictionaltvshow timallen sigourneyweaver alanrickman deanparisot 1999              \n",
       "45285  sci-fi thriller directed by fred gallo. thriller sciencefiction spacecraft alien adambaldwin robertenglund duanedavis fredgallo 1996                                                                                                                                                                                                                                                                                                                                                                                   \n",
       "9441   a sci-fi anime house-musical movie collaboration between daft punk--and their music--and designer leiji matsumoto. during the recording of their discovery album and using the themes of sci-fi celebrity, decadence and space travel, daft punk--with help from cedric hervet--wrote the story and inspired seasoned japanese animators to symbiotically create this stunning space musical. sciencefiction music animation spaceman musical recordproducer space rescue musicband romanthony kazuhisatakenôchi 2003  \n",
       "28069  gives insight into the creators mindset and how they culled from real life events to create some of the biggest sci fi films of all time. documentary sciencefiction womandirector sci-fifan jamescameron rolandemmerich georgelucas juliakuperberg clarakuperberg 2011                                                                                                                                                                                                                                                \n",
       "40306  a sci-fi/thriller centered on a high school violinist who witnesses the collapse of space and time. thriller sciencefiction blackhole malcolmmcdowell deancain aaronperilo markstevengrove 2015                                                                                                                                                                                                                                                                                                                        \n",
       "34181  a musical partially based on a sci-fi novel \"the isle of lost ships\" by aleksandr belyaev. drama sciencefiction music adventure romance larisabelogurova gediminasstorpirštis konstantinraykin yevgeniginzburg raufmamedov 1987                                                                                                                                                                                                                                                                                        \n",
       "24911  a sci-fi film about futuristic africa, 35 years after world war iii, 'the water war'. sciencefiction drama womandirector chantelleburger kudzanimoswela wanurikahiu 2009                                                                                                                                                                                                                                                                                                                                               \n",
       "43812  the film goes behind the scenes of the 1999 sci-fi movie the matrix. documentary behindthescenes fanculture visualeffect keanureeves hugoweaving laurencefishburne joshoreck 2001                                                                                                                                                                                                                                                                                                                                      "
      ]
     },
     "execution_count": 105,
     "metadata": {},
     "output_type": "execute_result"
    }
   ],
   "source": [
    "search_tags(tags)"
   ]
  },
  {
   "cell_type": "code",
   "execution_count": null,
   "metadata": {},
   "outputs": [
    {
     "data": {
      "text/html": [
       "<div>\n",
       "<style scoped>\n",
       "    .dataframe tbody tr th:only-of-type {\n",
       "        vertical-align: middle;\n",
       "    }\n",
       "\n",
       "    .dataframe tbody tr th {\n",
       "        vertical-align: top;\n",
       "    }\n",
       "\n",
       "    .dataframe thead th {\n",
       "        text-align: right;\n",
       "    }\n",
       "</style>\n",
       "<table border=\"1\" class=\"dataframe\">\n",
       "  <thead>\n",
       "    <tr style=\"text-align: right;\">\n",
       "      <th></th>\n",
       "      <th>id</th>\n",
       "      <th>title</th>\n",
       "      <th>genres</th>\n",
       "      <th>tags</th>\n",
       "    </tr>\n",
       "  </thead>\n",
       "  <tbody>\n",
       "    <tr>\n",
       "      <th>42431</th>\n",
       "      <td>437122</td>\n",
       "      <td>Third Guest</td>\n",
       "      <td>Drama ScienceFiction</td>\n",
       "      <td>sci-fi end of the world drama drama sciencefiction elenaharding garylind fraserwatson 2016</td>\n",
       "    </tr>\n",
       "    <tr>\n",
       "      <th>23860</th>\n",
       "      <td>241848</td>\n",
       "      <td>The Guest</td>\n",
       "      <td>Mystery Thriller Action</td>\n",
       "      <td>a soldier introduces himself to the peterson family, claiming to be a friend of their son who died in action. after the young man is welcomed into their home, a series of accidental deaths seem to be connected to his presence. mystery thriller action bar halloween highschool iraqwarveteran murder diner mumblegore danstevens maikamonroe sheilakelley adamwingard 2014</td>\n",
       "    </tr>\n",
       "    <tr>\n",
       "      <th>31709</th>\n",
       "      <td>130374</td>\n",
       "      <td>Guest Wife</td>\n",
       "      <td>Comedy Romance</td>\n",
       "      <td>christopher price, a small-town bank executive, continues to be loyal to and idolize his boyhood friend, joseph jefferson parker, a famous war correspondent. but chris's wife, mary, is none to fond of joe and tired of her husband's idolizing. on the eve of the price's second-honeymoon trip to new york city, joe arrives and tells chris that he needs someone to pose as his wife in order to fool his boss in nyc, who thinks joe got married to an overseas woman while on an assignment. chris pushes mary into posing as joe's wife. in new york, this leads to many complications and misunderstandings, with mary finally deciding to teach chris and joe a lesson by making them believe she is in love with joe. comedy romance smalltown trip warcorrespondent boyhoodfriend claudettecolbert donameche dickforan samwood 1945</td>\n",
       "    </tr>\n",
       "    <tr>\n",
       "      <th>42041</th>\n",
       "      <td>411088</td>\n",
       "      <td>The Invisible Guest</td>\n",
       "      <td>Mystery Crime Thriller</td>\n",
       "      <td>\"the invisible guest” turns on a young businessman who wakes up in a hotel room locked from the inside with the dead body of his lover next to him. he hires a prestigious lawyer, and over one night they work together to clarify what happened in a frenetic race against time. mystery crime thriller judge suspect interrogation falseaccusationofmurder unreliablenarrator confessionofcrime uncovertruth accusation mariocasas josécoronado bárbaralennie oriolpaulo 2016</td>\n",
       "    </tr>\n",
       "    <tr>\n",
       "      <th>22164</th>\n",
       "      <td>20894</td>\n",
       "      <td>Guest from the Future</td>\n",
       "      <td>Family ScienceFiction Adventure</td>\n",
       "      <td>6-grader kolya gerasimov discovers a time machine in a basement of an old house in moscow and gets transferred into the 21st century. there he is allowed to look around. accidentally, kolya witnesses two space pirates who arrive from saturn and later try to steal a device called a \"mielophone\" (which can read thoughts) from alisa seleznyova - a girl that performs experiments with this device and animals. kolya manages to save the device from the pirates and brings it back to the 20th century. but both pirates and alisa get there too. alisa knows where kolya studies but doesn't know what he looks like. pirates saw kolya, but don't know anything about him. written by boris shafir family sciencefiction adventure natalyaguseva alekseifomkin vyacheslavnevinnyy pavelarsyonov 1984</td>\n",
       "    </tr>\n",
       "    <tr>\n",
       "      <th>22949</th>\n",
       "      <td>42802</td>\n",
       "      <td>The Dinner Guest</td>\n",
       "      <td>Comedy</td>\n",
       "      <td>fifty years old, three years past of unemployment, benefits decreasing very quickly... gerard is at the end of the rope when a position is offered him in indonesia. to win the favor of his new employer, gerard invites him to dinner at home. fatal error ! terrified at the idea of not being up to par, his wife colette begs alexandre, their neighbor to help. communication guru, alexander accepts the challenge and gives a makeover to the couple in twenty-four hours. apartment, decoration, lifestyle, dinner menu, uniforms, culture... everything ! comedy danielauteuil valérielemercier thierrylhermitte laurentbouhnik 2007</td>\n",
       "    </tr>\n",
       "    <tr>\n",
       "      <th>28364</th>\n",
       "      <td>42288</td>\n",
       "      <td>Guest in the House</td>\n",
       "      <td>Drama Thriller</td>\n",
       "      <td>evelyn (anne baxter), an emotionally vulnerable and unstable woman, stays at the home of her doctor dan proctor (scott mckay). there she meets and falls in love with his brother, douglas (ralph bellamy), who is happily married to ann (ruth warrick). evelyn then sets forth to break up the happy marriage and win the love of douglas -- with tragic results. drama thriller suspense annebaxter ralphbellamy alinemacmahon johnbrahm 1944</td>\n",
       "    </tr>\n",
       "    <tr>\n",
       "      <th>31386</th>\n",
       "      <td>117618</td>\n",
       "      <td>The Guest House</td>\n",
       "      <td>Romance</td>\n",
       "      <td>before leaving for college, a recently dumped goth girl's life changes forever when she falls in love with a smart and professional college grad who is staying in the family's guest house. romance love lesbian losangeles girl gothic ruthreynolds madelinemerrit tommccafferty michaelbaumgarten 2012</td>\n",
       "    </tr>\n",
       "    <tr>\n",
       "      <th>37341</th>\n",
       "      <td>34144</td>\n",
       "      <td>Dear Guest, When Will You Leave?</td>\n",
       "      <td>Comedy Foreign</td>\n",
       "      <td>atithi tum kab jaoge? is the story of puneet and munmun, a happily married couple living in mumbai whose lives take an interesting turn when a distant relative, chachaji turns up unannounced at their doorstep from a far off village. the guest overstays his welcome so much so that the exasperated couple come up with various ploys to hasten his departure to hilarious results. comedy foreign ajaydevgn sanjaymishra pareshrawal ashwanidhir 2010</td>\n",
       "    </tr>\n",
       "    <tr>\n",
       "      <th>18047</th>\n",
       "      <td>121462</td>\n",
       "      <td>My Mother and Her Guest</td>\n",
       "      <td>Drama</td>\n",
       "      <td>a single mother takes on a boarder, with intriguing results. drama singlemother dokum-bong kimjin-kyu haneun-jin shinsang-ok 1961</td>\n",
       "    </tr>\n",
       "  </tbody>\n",
       "</table>\n",
       "</div>"
      ],
      "text/plain": [
       "           id                             title  \\\n",
       "42431  437122  Third Guest                        \n",
       "23860  241848  The Guest                          \n",
       "31709  130374  Guest Wife                         \n",
       "42041  411088  The Invisible Guest                \n",
       "22164  20894   Guest from the Future              \n",
       "22949  42802   The Dinner Guest                   \n",
       "28364  42288   Guest in the House                 \n",
       "31386  117618  The Guest House                    \n",
       "37341  34144   Dear Guest, When Will You Leave?   \n",
       "18047  121462  My Mother and Her Guest            \n",
       "\n",
       "                                genres  \\\n",
       "42431  Drama ScienceFiction              \n",
       "23860  Mystery Thriller Action           \n",
       "31709  Comedy Romance                    \n",
       "42041  Mystery Crime Thriller            \n",
       "22164  Family ScienceFiction Adventure   \n",
       "22949  Comedy                            \n",
       "28364  Drama Thriller                    \n",
       "31386  Romance                           \n",
       "37341  Comedy Foreign                    \n",
       "18047  Drama                             \n",
       "\n",
       "                                                                                                                                                                                                                                                                                                                                                                                                                                                                                                                                                                                                                                                                                                                                                                                                                                                   tags  \n",
       "42431  sci-fi end of the world drama drama sciencefiction elenaharding garylind fraserwatson 2016                                                                                                                                                                                                                                                                                                                                                                                                                                                                                                                                                                                                                                                                                                                                                        \n",
       "23860  a soldier introduces himself to the peterson family, claiming to be a friend of their son who died in action. after the young man is welcomed into their home, a series of accidental deaths seem to be connected to his presence. mystery thriller action bar halloween highschool iraqwarveteran murder diner mumblegore danstevens maikamonroe sheilakelley adamwingard 2014                                                                                                                                                                                                                                                                                                                                                                                                                                                                   \n",
       "31709  christopher price, a small-town bank executive, continues to be loyal to and idolize his boyhood friend, joseph jefferson parker, a famous war correspondent. but chris's wife, mary, is none to fond of joe and tired of her husband's idolizing. on the eve of the price's second-honeymoon trip to new york city, joe arrives and tells chris that he needs someone to pose as his wife in order to fool his boss in nyc, who thinks joe got married to an overseas woman while on an assignment. chris pushes mary into posing as joe's wife. in new york, this leads to many complications and misunderstandings, with mary finally deciding to teach chris and joe a lesson by making them believe she is in love with joe. comedy romance smalltown trip warcorrespondent boyhoodfriend claudettecolbert donameche dickforan samwood 1945  \n",
       "42041  \"the invisible guest” turns on a young businessman who wakes up in a hotel room locked from the inside with the dead body of his lover next to him. he hires a prestigious lawyer, and over one night they work together to clarify what happened in a frenetic race against time. mystery crime thriller judge suspect interrogation falseaccusationofmurder unreliablenarrator confessionofcrime uncovertruth accusation mariocasas josécoronado bárbaralennie oriolpaulo 2016                                                                                                                                                                                                                                                                                                                                                                  \n",
       "22164  6-grader kolya gerasimov discovers a time machine in a basement of an old house in moscow and gets transferred into the 21st century. there he is allowed to look around. accidentally, kolya witnesses two space pirates who arrive from saturn and later try to steal a device called a \"mielophone\" (which can read thoughts) from alisa seleznyova - a girl that performs experiments with this device and animals. kolya manages to save the device from the pirates and brings it back to the 20th century. but both pirates and alisa get there too. alisa knows where kolya studies but doesn't know what he looks like. pirates saw kolya, but don't know anything about him. written by boris shafir family sciencefiction adventure natalyaguseva alekseifomkin vyacheslavnevinnyy pavelarsyonov 1984                                  \n",
       "22949  fifty years old, three years past of unemployment, benefits decreasing very quickly... gerard is at the end of the rope when a position is offered him in indonesia. to win the favor of his new employer, gerard invites him to dinner at home. fatal error ! terrified at the idea of not being up to par, his wife colette begs alexandre, their neighbor to help. communication guru, alexander accepts the challenge and gives a makeover to the couple in twenty-four hours. apartment, decoration, lifestyle, dinner menu, uniforms, culture... everything ! comedy danielauteuil valérielemercier thierrylhermitte laurentbouhnik 2007                                                                                                                                                                                                    \n",
       "28364  evelyn (anne baxter), an emotionally vulnerable and unstable woman, stays at the home of her doctor dan proctor (scott mckay). there she meets and falls in love with his brother, douglas (ralph bellamy), who is happily married to ann (ruth warrick). evelyn then sets forth to break up the happy marriage and win the love of douglas -- with tragic results. drama thriller suspense annebaxter ralphbellamy alinemacmahon johnbrahm 1944                                                                                                                                                                                                                                                                                                                                                                                                  \n",
       "31386  before leaving for college, a recently dumped goth girl's life changes forever when she falls in love with a smart and professional college grad who is staying in the family's guest house. romance love lesbian losangeles girl gothic ruthreynolds madelinemerrit tommccafferty michaelbaumgarten 2012                                                                                                                                                                                                                                                                                                                                                                                                                                                                                                                                         \n",
       "37341  atithi tum kab jaoge? is the story of puneet and munmun, a happily married couple living in mumbai whose lives take an interesting turn when a distant relative, chachaji turns up unannounced at their doorstep from a far off village. the guest overstays his welcome so much so that the exasperated couple come up with various ploys to hasten his departure to hilarious results. comedy foreign ajaydevgn sanjaymishra pareshrawal ashwanidhir 2010                                                                                                                                                                                                                                                                                                                                                                                       \n",
       "18047  a single mother takes on a boarder, with intriguing results. drama singlemother dokum-bong kimjin-kyu haneun-jin shinsang-ok 1961                                                                                                                                                                                                                                                                                                                                                                                                                                                                                                                                                                                                                                                                                                                 "
      ]
     },
     "execution_count": 106,
     "metadata": {},
     "output_type": "execute_result"
    }
   ],
   "source": [
    "search_title(rs_tags(tags))"
   ]
  }
 ],
 "metadata": {
  "kernelspec": {
   "display_name": "Python 3",
   "language": "python",
   "name": "python3"
  },
  "language_info": {
   "codemirror_mode": {
    "name": "ipython",
    "version": 3
   },
   "file_extension": ".py",
   "mimetype": "text/x-python",
   "name": "python",
   "nbconvert_exporter": "python",
   "pygments_lexer": "ipython3",
   "version": "3.11.1"
  },
  "orig_nbformat": 4,
  "vscode": {
   "interpreter": {
    "hash": "f8e0ed4d07a0fca47f4c8a4afdc4329b41378e755792e01da35ca017a4863710"
   }
  }
 },
 "nbformat": 4,
 "nbformat_minor": 2
}
